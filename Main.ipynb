{
 "cells": [
  {
   "cell_type": "markdown",
   "id": "fc29573a-2ecd-4fde-8a63-4f27e0df9f8f",
   "metadata": {},
   "source": [
    "---\n",
    "<a id=\"inicio\"></a>\n",
    "# Proyecto de Ciencias de Datos sobre Restaurantes y Bares:\n",
    "---"
   ]
  },
  {
   "cell_type": "markdown",
   "id": "931bc823-145b-408b-9322-a758a74c813b",
   "metadata": {},
   "source": [
    "***Comencemos*** importando las bibliotecas necesarias y el archivo **data_process** donde se procesan los datos clave, este archivo contiene la logica para cargar todos los jsons y aplanar los datos para poder convertirlos en un DataFrame."
   ]
  },
  {
   "cell_type": "code",
   "execution_count": 1,
   "id": "8b74f9b4-37ba-40bd-a01d-6d63ed822202",
   "metadata": {},
   "outputs": [],
   "source": [
    "import pandas as pd\n",
    "import numpy as np\n",
    "import plotly.express as px\n",
    "from data_process import load_datas, flatten_data\n",
    "from map_loaders import plot_havana_map, map_geojson_show"
   ]
  },
  {
   "cell_type": "markdown",
   "id": "a14a2ed9-ee67-47e5-85c1-875be08c458d",
   "metadata": {},
   "source": [
    "Ahora, extraeremos los jsons y los obtenemos como una lista de diccionarios llamada *'json_datas'*, posteriormente tomaremos esta lista de elementos y aplanamos sus datos usando el metodo *flatten_data* para luego convertir los datos planos a un objeto de tipo ***DataFrame***."
   ]
  },
  {
   "cell_type": "code",
   "execution_count": 2,
   "id": "8b595f59-80a4-4d4d-bb77-8260f75b19ef",
   "metadata": {},
   "outputs": [
    {
     "name": "stdout",
     "output_type": "stream",
     "text": [
      "228\n"
     ]
    }
   ],
   "source": [
    "json_datas = load_datas('db')        # Cargamos la lista de diccionarios que corresponden a cada json\n",
    "flat_data = flatten_data(json_datas) # Convertimos los diccionarios a una nueva lista adaptada para poder convertirla en el DataFrame\n",
    "df = pd.DataFrame(flat_data)         # Simplemente convertimos los datos ya aplanados a un objeto DataFrame"
   ]
  },
  {
   "cell_type": "markdown",
   "id": "128d1493-1769-46ae-88fe-358348b547cc",
   "metadata": {},
   "source": [
    "Entonces ya que tenemos los datos principales listos, podremos observar la informacion obtenida como una lista ordenada. Esta tabla es solo demostrativa, no se pretende mostrar nada especial con ella, asi que simplemente puede ignorarla y saltar al siguiente *marco*."
   ]
  },
  {
   "cell_type": "code",
   "execution_count": 3,
   "id": "11ac5c97-f5bd-446e-a058-b57f9c52a705",
   "metadata": {
    "scrolled": true
   },
   "outputs": [
    {
     "data": {
      "text/html": [
       "<div>\n",
       "<style scoped>\n",
       "    .dataframe tbody tr th:only-of-type {\n",
       "        vertical-align: middle;\n",
       "    }\n",
       "\n",
       "    .dataframe tbody tr th {\n",
       "        vertical-align: top;\n",
       "    }\n",
       "\n",
       "    .dataframe thead th {\n",
       "        text-align: right;\n",
       "    }\n",
       "</style>\n",
       "<table border=\"1\" class=\"dataframe\">\n",
       "  <thead>\n",
       "    <tr style=\"text-align: right;\">\n",
       "      <th></th>\n",
       "      <th>name</th>\n",
       "      <th>phone</th>\n",
       "      <th>email</th>\n",
       "      <th>web</th>\n",
       "      <th>est_type</th>\n",
       "      <th>bus_type</th>\n",
       "      <th>cuisine</th>\n",
       "      <th>cap</th>\n",
       "      <th>promo</th>\n",
       "      <th>rating</th>\n",
       "      <th>reviews</th>\n",
       "      <th>level</th>\n",
       "      <th>fb</th>\n",
       "      <th>ig</th>\n",
       "      <th>tw</th>\n",
       "      <th>menu_breakfast</th>\n",
       "      <th>menu_appetizer</th>\n",
       "      <th>menu_starters</th>\n",
       "      <th>menu_mains</th>\n",
       "      <th>menu_pizza</th>\n",
       "      <th>menu_pasta</th>\n",
       "      <th>menu_seafood</th>\n",
       "      <th>menu_sandwich</th>\n",
       "      <th>menu_sides</th>\n",
       "      <th>menu_salads</th>\n",
       "      <th>menu_soups</th>\n",
       "      <th>menu_desserts</th>\n",
       "      <th>menu_cocktails</th>\n",
       "      <th>menu_wines</th>\n",
       "      <th>menu_alcoholic_drinks</th>\n",
       "      <th>menu_non_alcoholic_drinks</th>\n",
       "      <th>menu_infusions</th>\n",
       "      <th>menu_water</th>\n",
       "      <th>menu_others</th>\n",
       "      <th>hours_open</th>\n",
       "      <th>hours_close</th>\n",
       "      <th>hours_days</th>\n",
       "      <th>reservation_qantity</th>\n",
       "      <th>delivery_qantity</th>\n",
       "      <th>delivery_takeaway</th>\n",
       "      <th>payment_qantity</th>\n",
       "      <th>payment_cash</th>\n",
       "      <th>payment_card</th>\n",
       "      <th>payment_transfer</th>\n",
       "      <th>payment_others</th>\n",
       "      <th>amenities_qantity</th>\n",
       "      <th>loc_street</th>\n",
       "      <th>loc_council</th>\n",
       "      <th>loc_municipe</th>\n",
       "      <th>loc_province</th>\n",
       "      <th>loc_zip</th>\n",
       "      <th>loc_country</th>\n",
       "      <th>delivery_others</th>\n",
       "      <th>reservation_others</th>\n",
       "      <th>delivery_home</th>\n",
       "      <th>reservation_phone</th>\n",
       "      <th>amenities_pet_friendly</th>\n",
       "      <th>amenities_outdoor</th>\n",
       "      <th>loc_x</th>\n",
       "      <th>loc_y</th>\n",
       "      <th>menu_coffee</th>\n",
       "      <th>menu_juices</th>\n",
       "      <th>menu_smoothie</th>\n",
       "      <th>menu_ice_cream_shake</th>\n",
       "      <th>reservation_online</th>\n",
       "      <th>amenities_live_music</th>\n",
       "      <th>amenities_wifi</th>\n",
       "    </tr>\n",
       "  </thead>\n",
       "  <tbody>\n",
       "    <tr>\n",
       "      <th>0</th>\n",
       "      <td>28 y Mar</td>\n",
       "      <td>72125013</td>\n",
       "      <td>None</td>\n",
       "      <td>None</td>\n",
       "      <td>restaurant</td>\n",
       "      <td>private</td>\n",
       "      <td>cuban</td>\n",
       "      <td>12</td>\n",
       "      <td>False</td>\n",
       "      <td>4.5</td>\n",
       "      <td>75</td>\n",
       "      <td>medium</td>\n",
       "      <td>28 y Mar Restaurante</td>\n",
       "      <td>@28_y_mar_restaurante</td>\n",
       "      <td>None</td>\n",
       "      <td>10</td>\n",
       "      <td>26</td>\n",
       "      <td>0</td>\n",
       "      <td>7</td>\n",
       "      <td>0</td>\n",
       "      <td>3</td>\n",
       "      <td>0</td>\n",
       "      <td>0</td>\n",
       "      <td>19</td>\n",
       "      <td>4</td>\n",
       "      <td>0</td>\n",
       "      <td>0</td>\n",
       "      <td>0</td>\n",
       "      <td>0</td>\n",
       "      <td>1</td>\n",
       "      <td>10</td>\n",
       "      <td>12</td>\n",
       "      <td>6</td>\n",
       "      <td>0</td>\n",
       "      <td>08:30</td>\n",
       "      <td>24:00</td>\n",
       "      <td>[mon, tue, wed, thu, fri, sat, sun]</td>\n",
       "      <td>0</td>\n",
       "      <td>1</td>\n",
       "      <td>NaN</td>\n",
       "      <td>2</td>\n",
       "      <td>cash</td>\n",
       "      <td>NaN</td>\n",
       "      <td>transfer</td>\n",
       "      <td>NaN</td>\n",
       "      <td>0</td>\n",
       "      <td>None</td>\n",
       "      <td>None</td>\n",
       "      <td>Playa</td>\n",
       "      <td>La Habana</td>\n",
       "      <td>None</td>\n",
       "      <td>Cuba</td>\n",
       "      <td>NaN</td>\n",
       "      <td>NaN</td>\n",
       "      <td>home</td>\n",
       "      <td>NaN</td>\n",
       "      <td>NaN</td>\n",
       "      <td>NaN</td>\n",
       "      <td>23.123617</td>\n",
       "      <td>-82.427105</td>\n",
       "      <td>NaN</td>\n",
       "      <td>NaN</td>\n",
       "      <td>NaN</td>\n",
       "      <td>NaN</td>\n",
       "      <td>NaN</td>\n",
       "      <td>NaN</td>\n",
       "      <td>NaN</td>\n",
       "    </tr>\n",
       "    <tr>\n",
       "      <th>1</th>\n",
       "      <td>Abuelo D'Oro</td>\n",
       "      <td>76472100</td>\n",
       "      <td>None</td>\n",
       "      <td>https://es.restaurantguru.com/El-abuelo-de-oro...</td>\n",
       "      <td>restaurant</td>\n",
       "      <td>private</td>\n",
       "      <td>cuban</td>\n",
       "      <td>12</td>\n",
       "      <td>False</td>\n",
       "      <td>4.5</td>\n",
       "      <td>75</td>\n",
       "      <td>medium</td>\n",
       "      <td>https://www.facebook.com/AbueloDOro?utm_source...</td>\n",
       "      <td>@abuelo_de_oro_cuba</td>\n",
       "      <td>None</td>\n",
       "      <td>0</td>\n",
       "      <td>10</td>\n",
       "      <td>0</td>\n",
       "      <td>19</td>\n",
       "      <td>6</td>\n",
       "      <td>2</td>\n",
       "      <td>5</td>\n",
       "      <td>2</td>\n",
       "      <td>0</td>\n",
       "      <td>0</td>\n",
       "      <td>0</td>\n",
       "      <td>0</td>\n",
       "      <td>0</td>\n",
       "      <td>0</td>\n",
       "      <td>0</td>\n",
       "      <td>0</td>\n",
       "      <td>0</td>\n",
       "      <td>0</td>\n",
       "      <td>0</td>\n",
       "      <td>12:00</td>\n",
       "      <td>24:00</td>\n",
       "      <td>[mon, tue, wed, thu, fri, sat, sun]</td>\n",
       "      <td>0</td>\n",
       "      <td>1</td>\n",
       "      <td>NaN</td>\n",
       "      <td>3</td>\n",
       "      <td>cash</td>\n",
       "      <td>card</td>\n",
       "      <td>transfer</td>\n",
       "      <td>NaN</td>\n",
       "      <td>0</td>\n",
       "      <td>Calzada Aldabo % 12 y 13</td>\n",
       "      <td>Aldabo</td>\n",
       "      <td>Boyeros</td>\n",
       "      <td>La Habana</td>\n",
       "      <td>None</td>\n",
       "      <td>Cuba</td>\n",
       "      <td>NaN</td>\n",
       "      <td>NaN</td>\n",
       "      <td>home</td>\n",
       "      <td>NaN</td>\n",
       "      <td>NaN</td>\n",
       "      <td>NaN</td>\n",
       "      <td>NaN</td>\n",
       "      <td>NaN</td>\n",
       "      <td>NaN</td>\n",
       "      <td>NaN</td>\n",
       "      <td>NaN</td>\n",
       "      <td>NaN</td>\n",
       "      <td>NaN</td>\n",
       "      <td>NaN</td>\n",
       "      <td>NaN</td>\n",
       "    </tr>\n",
       "    <tr>\n",
       "      <th>2</th>\n",
       "      <td>Aires de Cojimar</td>\n",
       "      <td>58385050</td>\n",
       "      <td>None</td>\n",
       "      <td>None</td>\n",
       "      <td>restaurant</td>\n",
       "      <td>private</td>\n",
       "      <td>others</td>\n",
       "      <td>15</td>\n",
       "      <td>False</td>\n",
       "      <td>4.4</td>\n",
       "      <td>75</td>\n",
       "      <td>medium</td>\n",
       "      <td>https://www.facebook.com/Aires de Cojimar</td>\n",
       "      <td>https://www.instagram.com/aires_decojimar</td>\n",
       "      <td>None</td>\n",
       "      <td>0</td>\n",
       "      <td>0</td>\n",
       "      <td>12</td>\n",
       "      <td>23</td>\n",
       "      <td>0</td>\n",
       "      <td>0</td>\n",
       "      <td>0</td>\n",
       "      <td>0</td>\n",
       "      <td>1</td>\n",
       "      <td>0</td>\n",
       "      <td>5</td>\n",
       "      <td>1</td>\n",
       "      <td>0</td>\n",
       "      <td>0</td>\n",
       "      <td>0</td>\n",
       "      <td>0</td>\n",
       "      <td>0</td>\n",
       "      <td>0</td>\n",
       "      <td>0</td>\n",
       "      <td>12:00</td>\n",
       "      <td>00:00</td>\n",
       "      <td>[mon, tue, wed, thu, fri, sat, sun]</td>\n",
       "      <td>0</td>\n",
       "      <td>0</td>\n",
       "      <td>NaN</td>\n",
       "      <td>2</td>\n",
       "      <td>cash</td>\n",
       "      <td>card</td>\n",
       "      <td>NaN</td>\n",
       "      <td>NaN</td>\n",
       "      <td>0</td>\n",
       "      <td>Pezuela #3e05 entre RUA y Espartero</td>\n",
       "      <td>Cojimar</td>\n",
       "      <td>Habana del Este</td>\n",
       "      <td>La Habana</td>\n",
       "      <td>None</td>\n",
       "      <td>Cuba</td>\n",
       "      <td>NaN</td>\n",
       "      <td>NaN</td>\n",
       "      <td>NaN</td>\n",
       "      <td>NaN</td>\n",
       "      <td>NaN</td>\n",
       "      <td>NaN</td>\n",
       "      <td>NaN</td>\n",
       "      <td>NaN</td>\n",
       "      <td>NaN</td>\n",
       "      <td>NaN</td>\n",
       "      <td>NaN</td>\n",
       "      <td>NaN</td>\n",
       "      <td>NaN</td>\n",
       "      <td>NaN</td>\n",
       "      <td>NaN</td>\n",
       "    </tr>\n",
       "    <tr>\n",
       "      <th>3</th>\n",
       "      <td>Al Campestre</td>\n",
       "      <td>53236469</td>\n",
       "      <td>None</td>\n",
       "      <td>None</td>\n",
       "      <td>restaurant</td>\n",
       "      <td>private</td>\n",
       "      <td>others</td>\n",
       "      <td>70</td>\n",
       "      <td>False</td>\n",
       "      <td>3.4</td>\n",
       "      <td>75</td>\n",
       "      <td>medium</td>\n",
       "      <td>Alcampestre.</td>\n",
       "      <td>alcampestre</td>\n",
       "      <td>None</td>\n",
       "      <td>0</td>\n",
       "      <td>0</td>\n",
       "      <td>17</td>\n",
       "      <td>16</td>\n",
       "      <td>3</td>\n",
       "      <td>8</td>\n",
       "      <td>9</td>\n",
       "      <td>0</td>\n",
       "      <td>20</td>\n",
       "      <td>0</td>\n",
       "      <td>0</td>\n",
       "      <td>8</td>\n",
       "      <td>15</td>\n",
       "      <td>0</td>\n",
       "      <td>0</td>\n",
       "      <td>1</td>\n",
       "      <td>0</td>\n",
       "      <td>0</td>\n",
       "      <td>0</td>\n",
       "      <td>09:00</td>\n",
       "      <td>23:00</td>\n",
       "      <td>[mon, tue, wed, thu, fri, sat, sun]</td>\n",
       "      <td>1</td>\n",
       "      <td>2</td>\n",
       "      <td>takeaway</td>\n",
       "      <td>3</td>\n",
       "      <td>cash</td>\n",
       "      <td>card</td>\n",
       "      <td>NaN</td>\n",
       "      <td>others</td>\n",
       "      <td>0</td>\n",
       "      <td>El Intermitente, Via  Blanca, Alamar</td>\n",
       "      <td>None</td>\n",
       "      <td>Habana del Este</td>\n",
       "      <td>La Habana</td>\n",
       "      <td>None</td>\n",
       "      <td>Cuba</td>\n",
       "      <td>NaN</td>\n",
       "      <td>NaN</td>\n",
       "      <td>home</td>\n",
       "      <td>phone</td>\n",
       "      <td>NaN</td>\n",
       "      <td>NaN</td>\n",
       "      <td>NaN</td>\n",
       "      <td>NaN</td>\n",
       "      <td>NaN</td>\n",
       "      <td>NaN</td>\n",
       "      <td>NaN</td>\n",
       "      <td>NaN</td>\n",
       "      <td>NaN</td>\n",
       "      <td>NaN</td>\n",
       "      <td>NaN</td>\n",
       "    </tr>\n",
       "    <tr>\n",
       "      <th>4</th>\n",
       "      <td>Allegro</td>\n",
       "      <td>7661010</td>\n",
       "      <td>None</td>\n",
       "      <td>None</td>\n",
       "      <td>restaurant</td>\n",
       "      <td>state</td>\n",
       "      <td>italian</td>\n",
       "      <td>20</td>\n",
       "      <td>False</td>\n",
       "      <td>4.0</td>\n",
       "      <td>75</td>\n",
       "      <td>medium</td>\n",
       "      <td>None</td>\n",
       "      <td>None</td>\n",
       "      <td>None</td>\n",
       "      <td>0</td>\n",
       "      <td>0</td>\n",
       "      <td>3</td>\n",
       "      <td>3</td>\n",
       "      <td>4</td>\n",
       "      <td>0</td>\n",
       "      <td>0</td>\n",
       "      <td>0</td>\n",
       "      <td>0</td>\n",
       "      <td>0</td>\n",
       "      <td>0</td>\n",
       "      <td>0</td>\n",
       "      <td>0</td>\n",
       "      <td>0</td>\n",
       "      <td>0</td>\n",
       "      <td>0</td>\n",
       "      <td>0</td>\n",
       "      <td>0</td>\n",
       "      <td>0</td>\n",
       "      <td>12:00</td>\n",
       "      <td>21:00</td>\n",
       "      <td>[mon, tue, wed, thu, fri, sat, sun]</td>\n",
       "      <td>1</td>\n",
       "      <td>1</td>\n",
       "      <td>NaN</td>\n",
       "      <td>2</td>\n",
       "      <td>cash</td>\n",
       "      <td>card</td>\n",
       "      <td>NaN</td>\n",
       "      <td>NaN</td>\n",
       "      <td>0</td>\n",
       "      <td>Paseo de la Villa, Villa Panamericana</td>\n",
       "      <td>None</td>\n",
       "      <td>Habana del Este</td>\n",
       "      <td>La Habana</td>\n",
       "      <td>None</td>\n",
       "      <td>Cuba</td>\n",
       "      <td>others</td>\n",
       "      <td>others</td>\n",
       "      <td>NaN</td>\n",
       "      <td>NaN</td>\n",
       "      <td>NaN</td>\n",
       "      <td>NaN</td>\n",
       "      <td>NaN</td>\n",
       "      <td>NaN</td>\n",
       "      <td>NaN</td>\n",
       "      <td>NaN</td>\n",
       "      <td>NaN</td>\n",
       "      <td>NaN</td>\n",
       "      <td>NaN</td>\n",
       "      <td>NaN</td>\n",
       "      <td>NaN</td>\n",
       "    </tr>\n",
       "    <tr>\n",
       "      <th>...</th>\n",
       "      <td>...</td>\n",
       "      <td>...</td>\n",
       "      <td>...</td>\n",
       "      <td>...</td>\n",
       "      <td>...</td>\n",
       "      <td>...</td>\n",
       "      <td>...</td>\n",
       "      <td>...</td>\n",
       "      <td>...</td>\n",
       "      <td>...</td>\n",
       "      <td>...</td>\n",
       "      <td>...</td>\n",
       "      <td>...</td>\n",
       "      <td>...</td>\n",
       "      <td>...</td>\n",
       "      <td>...</td>\n",
       "      <td>...</td>\n",
       "      <td>...</td>\n",
       "      <td>...</td>\n",
       "      <td>...</td>\n",
       "      <td>...</td>\n",
       "      <td>...</td>\n",
       "      <td>...</td>\n",
       "      <td>...</td>\n",
       "      <td>...</td>\n",
       "      <td>...</td>\n",
       "      <td>...</td>\n",
       "      <td>...</td>\n",
       "      <td>...</td>\n",
       "      <td>...</td>\n",
       "      <td>...</td>\n",
       "      <td>...</td>\n",
       "      <td>...</td>\n",
       "      <td>...</td>\n",
       "      <td>...</td>\n",
       "      <td>...</td>\n",
       "      <td>...</td>\n",
       "      <td>...</td>\n",
       "      <td>...</td>\n",
       "      <td>...</td>\n",
       "      <td>...</td>\n",
       "      <td>...</td>\n",
       "      <td>...</td>\n",
       "      <td>...</td>\n",
       "      <td>...</td>\n",
       "      <td>...</td>\n",
       "      <td>...</td>\n",
       "      <td>...</td>\n",
       "      <td>...</td>\n",
       "      <td>...</td>\n",
       "      <td>...</td>\n",
       "      <td>...</td>\n",
       "      <td>...</td>\n",
       "      <td>...</td>\n",
       "      <td>...</td>\n",
       "      <td>...</td>\n",
       "      <td>...</td>\n",
       "      <td>...</td>\n",
       "      <td>...</td>\n",
       "      <td>...</td>\n",
       "      <td>...</td>\n",
       "      <td>...</td>\n",
       "      <td>...</td>\n",
       "      <td>...</td>\n",
       "      <td>...</td>\n",
       "      <td>...</td>\n",
       "      <td>...</td>\n",
       "    </tr>\n",
       "    <tr>\n",
       "      <th>223</th>\n",
       "      <td>Villanueva</td>\n",
       "      <td>76834508</td>\n",
       "      <td>None</td>\n",
       "      <td>None</td>\n",
       "      <td>restaurant</td>\n",
       "      <td>private</td>\n",
       "      <td>cuban</td>\n",
       "      <td>12</td>\n",
       "      <td>False</td>\n",
       "      <td>4.4</td>\n",
       "      <td>75</td>\n",
       "      <td>medium</td>\n",
       "      <td>None</td>\n",
       "      <td>None</td>\n",
       "      <td>None</td>\n",
       "      <td>0</td>\n",
       "      <td>51</td>\n",
       "      <td>0</td>\n",
       "      <td>128</td>\n",
       "      <td>32</td>\n",
       "      <td>21</td>\n",
       "      <td>47</td>\n",
       "      <td>14</td>\n",
       "      <td>56</td>\n",
       "      <td>0</td>\n",
       "      <td>16</td>\n",
       "      <td>8</td>\n",
       "      <td>1</td>\n",
       "      <td>0</td>\n",
       "      <td>4</td>\n",
       "      <td>10</td>\n",
       "      <td>4</td>\n",
       "      <td>3</td>\n",
       "      <td>0</td>\n",
       "      <td>09:00</td>\n",
       "      <td>23:30</td>\n",
       "      <td>[mon, tue, wed, thu, fri, sat, sun]</td>\n",
       "      <td>0</td>\n",
       "      <td>2</td>\n",
       "      <td>takeaway</td>\n",
       "      <td>4</td>\n",
       "      <td>cash</td>\n",
       "      <td>card</td>\n",
       "      <td>transfer</td>\n",
       "      <td>others</td>\n",
       "      <td>0</td>\n",
       "      <td>182 # 39 511 e/ 395 y 397</td>\n",
       "      <td>Santiago de las Vegas</td>\n",
       "      <td>Boyeros</td>\n",
       "      <td>La Habana</td>\n",
       "      <td>None</td>\n",
       "      <td>Cuba</td>\n",
       "      <td>NaN</td>\n",
       "      <td>NaN</td>\n",
       "      <td>home</td>\n",
       "      <td>NaN</td>\n",
       "      <td>NaN</td>\n",
       "      <td>NaN</td>\n",
       "      <td>NaN</td>\n",
       "      <td>NaN</td>\n",
       "      <td>NaN</td>\n",
       "      <td>NaN</td>\n",
       "      <td>NaN</td>\n",
       "      <td>NaN</td>\n",
       "      <td>NaN</td>\n",
       "      <td>NaN</td>\n",
       "      <td>NaN</td>\n",
       "    </tr>\n",
       "    <tr>\n",
       "      <th>224</th>\n",
       "      <td>Villarino</td>\n",
       "      <td>72077867</td>\n",
       "      <td>None</td>\n",
       "      <td>http://linktr.ee/restaurantevillarino</td>\n",
       "      <td>bar</td>\n",
       "      <td>private</td>\n",
       "      <td>cuban</td>\n",
       "      <td>12</td>\n",
       "      <td>False</td>\n",
       "      <td>5.0</td>\n",
       "      <td>0</td>\n",
       "      <td>medium</td>\n",
       "      <td>Restaurante Club Villarino</td>\n",
       "      <td>@villarino.restaurantehabana</td>\n",
       "      <td>None</td>\n",
       "      <td>0</td>\n",
       "      <td>7</td>\n",
       "      <td>0</td>\n",
       "      <td>4</td>\n",
       "      <td>13</td>\n",
       "      <td>5</td>\n",
       "      <td>0</td>\n",
       "      <td>0</td>\n",
       "      <td>0</td>\n",
       "      <td>0</td>\n",
       "      <td>0</td>\n",
       "      <td>0</td>\n",
       "      <td>2</td>\n",
       "      <td>1</td>\n",
       "      <td>2</td>\n",
       "      <td>8</td>\n",
       "      <td>0</td>\n",
       "      <td>2</td>\n",
       "      <td>0</td>\n",
       "      <td>12:00</td>\n",
       "      <td>22:00</td>\n",
       "      <td>[mon, tue, wed, thu, fri, sat, sun]</td>\n",
       "      <td>1</td>\n",
       "      <td>2</td>\n",
       "      <td>takeaway</td>\n",
       "      <td>2</td>\n",
       "      <td>cash</td>\n",
       "      <td>NaN</td>\n",
       "      <td>transfer</td>\n",
       "      <td>NaN</td>\n",
       "      <td>0</td>\n",
       "      <td>None</td>\n",
       "      <td>None</td>\n",
       "      <td>Playa</td>\n",
       "      <td>La Habana</td>\n",
       "      <td>None</td>\n",
       "      <td>Cuba</td>\n",
       "      <td>NaN</td>\n",
       "      <td>NaN</td>\n",
       "      <td>home</td>\n",
       "      <td>phone</td>\n",
       "      <td>NaN</td>\n",
       "      <td>NaN</td>\n",
       "      <td>23.103419</td>\n",
       "      <td>-82.418346</td>\n",
       "      <td>NaN</td>\n",
       "      <td>NaN</td>\n",
       "      <td>NaN</td>\n",
       "      <td>NaN</td>\n",
       "      <td>NaN</td>\n",
       "      <td>NaN</td>\n",
       "      <td>NaN</td>\n",
       "    </tr>\n",
       "    <tr>\n",
       "      <th>225</th>\n",
       "      <td>Vita Nuova</td>\n",
       "      <td>78329774</td>\n",
       "      <td>None</td>\n",
       "      <td>None</td>\n",
       "      <td>bar</td>\n",
       "      <td>private</td>\n",
       "      <td>italian</td>\n",
       "      <td>40</td>\n",
       "      <td>False</td>\n",
       "      <td>4.6</td>\n",
       "      <td>75</td>\n",
       "      <td>medium</td>\n",
       "      <td>None</td>\n",
       "      <td>None</td>\n",
       "      <td>None</td>\n",
       "      <td>0</td>\n",
       "      <td>0</td>\n",
       "      <td>15</td>\n",
       "      <td>26</td>\n",
       "      <td>9</td>\n",
       "      <td>9</td>\n",
       "      <td>0</td>\n",
       "      <td>14</td>\n",
       "      <td>6</td>\n",
       "      <td>1</td>\n",
       "      <td>4</td>\n",
       "      <td>7</td>\n",
       "      <td>36</td>\n",
       "      <td>11</td>\n",
       "      <td>33</td>\n",
       "      <td>8</td>\n",
       "      <td>10</td>\n",
       "      <td>3</td>\n",
       "      <td>0</td>\n",
       "      <td>11:00</td>\n",
       "      <td>00:00</td>\n",
       "      <td>[mon, tue, wed, thu, fri, sat, sun]</td>\n",
       "      <td>1</td>\n",
       "      <td>0</td>\n",
       "      <td>NaN</td>\n",
       "      <td>2</td>\n",
       "      <td>cash</td>\n",
       "      <td>NaN</td>\n",
       "      <td>transfer</td>\n",
       "      <td>NaN</td>\n",
       "      <td>1</td>\n",
       "      <td>Calle L esquina 21, Vedado</td>\n",
       "      <td>None</td>\n",
       "      <td>Plaza de la Revolucion</td>\n",
       "      <td>La Habana</td>\n",
       "      <td>None</td>\n",
       "      <td>Cuba</td>\n",
       "      <td>NaN</td>\n",
       "      <td>NaN</td>\n",
       "      <td>NaN</td>\n",
       "      <td>phone</td>\n",
       "      <td>NaN</td>\n",
       "      <td>NaN</td>\n",
       "      <td>NaN</td>\n",
       "      <td>NaN</td>\n",
       "      <td>NaN</td>\n",
       "      <td>NaN</td>\n",
       "      <td>NaN</td>\n",
       "      <td>NaN</td>\n",
       "      <td>NaN</td>\n",
       "      <td>NaN</td>\n",
       "      <td>wifi</td>\n",
       "    </tr>\n",
       "    <tr>\n",
       "      <th>226</th>\n",
       "      <td>Wapa</td>\n",
       "      <td>78314553</td>\n",
       "      <td>info@wapacafeteria.com</td>\n",
       "      <td>None</td>\n",
       "      <td>restaurant</td>\n",
       "      <td>private</td>\n",
       "      <td>cuban</td>\n",
       "      <td>12</td>\n",
       "      <td>False</td>\n",
       "      <td>4.5</td>\n",
       "      <td>75</td>\n",
       "      <td>high</td>\n",
       "      <td>https://www.facebook.com/Wapa537/?locale=es_LA</td>\n",
       "      <td>https://www.instagram.com/wapa537/?hl=es</td>\n",
       "      <td>None</td>\n",
       "      <td>7</td>\n",
       "      <td>15</td>\n",
       "      <td>0</td>\n",
       "      <td>4</td>\n",
       "      <td>0</td>\n",
       "      <td>0</td>\n",
       "      <td>0</td>\n",
       "      <td>0</td>\n",
       "      <td>0</td>\n",
       "      <td>0</td>\n",
       "      <td>0</td>\n",
       "      <td>9</td>\n",
       "      <td>13</td>\n",
       "      <td>1</td>\n",
       "      <td>2</td>\n",
       "      <td>4</td>\n",
       "      <td>12</td>\n",
       "      <td>0</td>\n",
       "      <td>0</td>\n",
       "      <td>09:00</td>\n",
       "      <td>23:00</td>\n",
       "      <td>[mon, tue, wed, thu, fri, sat, sun]</td>\n",
       "      <td>0</td>\n",
       "      <td>2</td>\n",
       "      <td>takeaway</td>\n",
       "      <td>1</td>\n",
       "      <td>cash</td>\n",
       "      <td>NaN</td>\n",
       "      <td>NaN</td>\n",
       "      <td>NaN</td>\n",
       "      <td>0</td>\n",
       "      <td>Calle 4 entre 15 y 17, Vedado</td>\n",
       "      <td>None</td>\n",
       "      <td>Plaza de la Revolucion</td>\n",
       "      <td>La Habana</td>\n",
       "      <td>None</td>\n",
       "      <td>Cuba</td>\n",
       "      <td>NaN</td>\n",
       "      <td>NaN</td>\n",
       "      <td>home</td>\n",
       "      <td>NaN</td>\n",
       "      <td>NaN</td>\n",
       "      <td>NaN</td>\n",
       "      <td>NaN</td>\n",
       "      <td>NaN</td>\n",
       "      <td>NaN</td>\n",
       "      <td>NaN</td>\n",
       "      <td>NaN</td>\n",
       "      <td>NaN</td>\n",
       "      <td>NaN</td>\n",
       "      <td>NaN</td>\n",
       "      <td>NaN</td>\n",
       "    </tr>\n",
       "    <tr>\n",
       "      <th>227</th>\n",
       "      <td>Yesterday Havana</td>\n",
       "      <td>76930649</td>\n",
       "      <td>None</td>\n",
       "      <td>None</td>\n",
       "      <td>restaurant</td>\n",
       "      <td>private</td>\n",
       "      <td>others</td>\n",
       "      <td>12</td>\n",
       "      <td>False</td>\n",
       "      <td>4.5</td>\n",
       "      <td>75</td>\n",
       "      <td>medium</td>\n",
       "      <td>None</td>\n",
       "      <td>None</td>\n",
       "      <td>None</td>\n",
       "      <td>0</td>\n",
       "      <td>0</td>\n",
       "      <td>15</td>\n",
       "      <td>22</td>\n",
       "      <td>0</td>\n",
       "      <td>0</td>\n",
       "      <td>10</td>\n",
       "      <td>0</td>\n",
       "      <td>0</td>\n",
       "      <td>1</td>\n",
       "      <td>2</td>\n",
       "      <td>0</td>\n",
       "      <td>0</td>\n",
       "      <td>0</td>\n",
       "      <td>0</td>\n",
       "      <td>0</td>\n",
       "      <td>0</td>\n",
       "      <td>0</td>\n",
       "      <td>0</td>\n",
       "      <td>None</td>\n",
       "      <td>None</td>\n",
       "      <td>None</td>\n",
       "      <td>0</td>\n",
       "      <td>1</td>\n",
       "      <td>NaN</td>\n",
       "      <td>2</td>\n",
       "      <td>cash</td>\n",
       "      <td>NaN</td>\n",
       "      <td>transfer</td>\n",
       "      <td>NaN</td>\n",
       "      <td>1</td>\n",
       "      <td>Rita % Blanchi y Calzada de Guines</td>\n",
       "      <td>None</td>\n",
       "      <td>San Miguel del Padron</td>\n",
       "      <td>La Habana</td>\n",
       "      <td>None</td>\n",
       "      <td>Cuba</td>\n",
       "      <td>NaN</td>\n",
       "      <td>NaN</td>\n",
       "      <td>home</td>\n",
       "      <td>NaN</td>\n",
       "      <td>NaN</td>\n",
       "      <td>NaN</td>\n",
       "      <td>NaN</td>\n",
       "      <td>NaN</td>\n",
       "      <td>NaN</td>\n",
       "      <td>NaN</td>\n",
       "      <td>NaN</td>\n",
       "      <td>NaN</td>\n",
       "      <td>NaN</td>\n",
       "      <td>NaN</td>\n",
       "      <td>wifi</td>\n",
       "    </tr>\n",
       "  </tbody>\n",
       "</table>\n",
       "<p>228 rows × 67 columns</p>\n",
       "</div>"
      ],
      "text/plain": [
       "                 name     phone                   email  \\\n",
       "0            28 y Mar  72125013                    None   \n",
       "1        Abuelo D'Oro  76472100                    None   \n",
       "2    Aires de Cojimar  58385050                    None   \n",
       "3        Al Campestre  53236469                    None   \n",
       "4             Allegro   7661010                    None   \n",
       "..                ...       ...                     ...   \n",
       "223        Villanueva  76834508                    None   \n",
       "224         Villarino  72077867                    None   \n",
       "225        Vita Nuova  78329774                    None   \n",
       "226              Wapa  78314553  info@wapacafeteria.com   \n",
       "227  Yesterday Havana  76930649                    None   \n",
       "\n",
       "                                                   web    est_type bus_type  \\\n",
       "0                                                 None  restaurant  private   \n",
       "1    https://es.restaurantguru.com/El-abuelo-de-oro...  restaurant  private   \n",
       "2                                                 None  restaurant  private   \n",
       "3                                                 None  restaurant  private   \n",
       "4                                                 None  restaurant    state   \n",
       "..                                                 ...         ...      ...   \n",
       "223                                               None  restaurant  private   \n",
       "224              http://linktr.ee/restaurantevillarino         bar  private   \n",
       "225                                               None         bar  private   \n",
       "226                                               None  restaurant  private   \n",
       "227                                               None  restaurant  private   \n",
       "\n",
       "     cuisine  cap  promo  rating  reviews   level  \\\n",
       "0      cuban   12  False     4.5       75  medium   \n",
       "1      cuban   12  False     4.5       75  medium   \n",
       "2     others   15  False     4.4       75  medium   \n",
       "3     others   70  False     3.4       75  medium   \n",
       "4    italian   20  False     4.0       75  medium   \n",
       "..       ...  ...    ...     ...      ...     ...   \n",
       "223    cuban   12  False     4.4       75  medium   \n",
       "224    cuban   12  False     5.0        0  medium   \n",
       "225  italian   40  False     4.6       75  medium   \n",
       "226    cuban   12  False     4.5       75    high   \n",
       "227   others   12  False     4.5       75  medium   \n",
       "\n",
       "                                                    fb  \\\n",
       "0                                 28 y Mar Restaurante   \n",
       "1    https://www.facebook.com/AbueloDOro?utm_source...   \n",
       "2            https://www.facebook.com/Aires de Cojimar   \n",
       "3                                         Alcampestre.   \n",
       "4                                                 None   \n",
       "..                                                 ...   \n",
       "223                                               None   \n",
       "224                         Restaurante Club Villarino   \n",
       "225                                               None   \n",
       "226     https://www.facebook.com/Wapa537/?locale=es_LA   \n",
       "227                                               None   \n",
       "\n",
       "                                            ig    tw  menu_breakfast  \\\n",
       "0                        @28_y_mar_restaurante  None              10   \n",
       "1                          @abuelo_de_oro_cuba  None               0   \n",
       "2    https://www.instagram.com/aires_decojimar  None               0   \n",
       "3                                  alcampestre  None               0   \n",
       "4                                         None  None               0   \n",
       "..                                         ...   ...             ...   \n",
       "223                                       None  None               0   \n",
       "224               @villarino.restaurantehabana  None               0   \n",
       "225                                       None  None               0   \n",
       "226   https://www.instagram.com/wapa537/?hl=es  None               7   \n",
       "227                                       None  None               0   \n",
       "\n",
       "     menu_appetizer  menu_starters  menu_mains  menu_pizza  menu_pasta  \\\n",
       "0                26              0           7           0           3   \n",
       "1                10              0          19           6           2   \n",
       "2                 0             12          23           0           0   \n",
       "3                 0             17          16           3           8   \n",
       "4                 0              3           3           4           0   \n",
       "..              ...            ...         ...         ...         ...   \n",
       "223              51              0         128          32          21   \n",
       "224               7              0           4          13           5   \n",
       "225               0             15          26           9           9   \n",
       "226              15              0           4           0           0   \n",
       "227               0             15          22           0           0   \n",
       "\n",
       "     menu_seafood  menu_sandwich  menu_sides  menu_salads  menu_soups  \\\n",
       "0               0              0          19            4           0   \n",
       "1               5              2           0            0           0   \n",
       "2               0              0           1            0           5   \n",
       "3               9              0          20            0           0   \n",
       "4               0              0           0            0           0   \n",
       "..            ...            ...         ...          ...         ...   \n",
       "223            47             14          56            0          16   \n",
       "224             0              0           0            0           0   \n",
       "225             0             14           6            1           4   \n",
       "226             0              0           0            0           0   \n",
       "227            10              0           0            1           2   \n",
       "\n",
       "     menu_desserts  menu_cocktails  menu_wines  menu_alcoholic_drinks  \\\n",
       "0                0               0           0                      1   \n",
       "1                0               0           0                      0   \n",
       "2                1               0           0                      0   \n",
       "3                8              15           0                      0   \n",
       "4                0               0           0                      0   \n",
       "..             ...             ...         ...                    ...   \n",
       "223              8               1           0                      4   \n",
       "224              0               2           1                      2   \n",
       "225              7              36          11                     33   \n",
       "226              9              13           1                      2   \n",
       "227              0               0           0                      0   \n",
       "\n",
       "     menu_non_alcoholic_drinks  menu_infusions  menu_water  menu_others  \\\n",
       "0                           10              12           6            0   \n",
       "1                            0               0           0            0   \n",
       "2                            0               0           0            0   \n",
       "3                            1               0           0            0   \n",
       "4                            0               0           0            0   \n",
       "..                         ...             ...         ...          ...   \n",
       "223                         10               4           3            0   \n",
       "224                          8               0           2            0   \n",
       "225                          8              10           3            0   \n",
       "226                          4              12           0            0   \n",
       "227                          0               0           0            0   \n",
       "\n",
       "    hours_open hours_close                           hours_days  \\\n",
       "0        08:30       24:00  [mon, tue, wed, thu, fri, sat, sun]   \n",
       "1        12:00       24:00  [mon, tue, wed, thu, fri, sat, sun]   \n",
       "2        12:00       00:00  [mon, tue, wed, thu, fri, sat, sun]   \n",
       "3        09:00       23:00  [mon, tue, wed, thu, fri, sat, sun]   \n",
       "4        12:00       21:00  [mon, tue, wed, thu, fri, sat, sun]   \n",
       "..         ...         ...                                  ...   \n",
       "223      09:00       23:30  [mon, tue, wed, thu, fri, sat, sun]   \n",
       "224      12:00       22:00  [mon, tue, wed, thu, fri, sat, sun]   \n",
       "225      11:00       00:00  [mon, tue, wed, thu, fri, sat, sun]   \n",
       "226      09:00       23:00  [mon, tue, wed, thu, fri, sat, sun]   \n",
       "227       None        None                                 None   \n",
       "\n",
       "     reservation_qantity  delivery_qantity delivery_takeaway  payment_qantity  \\\n",
       "0                      0                 1               NaN                2   \n",
       "1                      0                 1               NaN                3   \n",
       "2                      0                 0               NaN                2   \n",
       "3                      1                 2          takeaway                3   \n",
       "4                      1                 1               NaN                2   \n",
       "..                   ...               ...               ...              ...   \n",
       "223                    0                 2          takeaway                4   \n",
       "224                    1                 2          takeaway                2   \n",
       "225                    1                 0               NaN                2   \n",
       "226                    0                 2          takeaway                1   \n",
       "227                    0                 1               NaN                2   \n",
       "\n",
       "    payment_cash payment_card payment_transfer payment_others  \\\n",
       "0           cash          NaN         transfer            NaN   \n",
       "1           cash         card         transfer            NaN   \n",
       "2           cash         card              NaN            NaN   \n",
       "3           cash         card              NaN         others   \n",
       "4           cash         card              NaN            NaN   \n",
       "..           ...          ...              ...            ...   \n",
       "223         cash         card         transfer         others   \n",
       "224         cash          NaN         transfer            NaN   \n",
       "225         cash          NaN         transfer            NaN   \n",
       "226         cash          NaN              NaN            NaN   \n",
       "227         cash          NaN         transfer            NaN   \n",
       "\n",
       "     amenities_qantity                             loc_street  \\\n",
       "0                    0                                   None   \n",
       "1                    0               Calzada Aldabo % 12 y 13   \n",
       "2                    0    Pezuela #3e05 entre RUA y Espartero   \n",
       "3                    0   El Intermitente, Via  Blanca, Alamar   \n",
       "4                    0  Paseo de la Villa, Villa Panamericana   \n",
       "..                 ...                                    ...   \n",
       "223                  0              182 # 39 511 e/ 395 y 397   \n",
       "224                  0                                   None   \n",
       "225                  1             Calle L esquina 21, Vedado   \n",
       "226                  0          Calle 4 entre 15 y 17, Vedado   \n",
       "227                  1     Rita % Blanchi y Calzada de Guines   \n",
       "\n",
       "               loc_council            loc_municipe loc_province loc_zip  \\\n",
       "0                     None                   Playa    La Habana    None   \n",
       "1                   Aldabo                 Boyeros    La Habana    None   \n",
       "2                  Cojimar         Habana del Este    La Habana    None   \n",
       "3                     None         Habana del Este    La Habana    None   \n",
       "4                     None         Habana del Este    La Habana    None   \n",
       "..                     ...                     ...          ...     ...   \n",
       "223  Santiago de las Vegas                 Boyeros    La Habana    None   \n",
       "224                   None                   Playa    La Habana    None   \n",
       "225                   None  Plaza de la Revolucion    La Habana    None   \n",
       "226                   None  Plaza de la Revolucion    La Habana    None   \n",
       "227                   None   San Miguel del Padron    La Habana    None   \n",
       "\n",
       "    loc_country delivery_others reservation_others delivery_home  \\\n",
       "0          Cuba             NaN                NaN          home   \n",
       "1          Cuba             NaN                NaN          home   \n",
       "2          Cuba             NaN                NaN           NaN   \n",
       "3          Cuba             NaN                NaN          home   \n",
       "4          Cuba          others             others           NaN   \n",
       "..          ...             ...                ...           ...   \n",
       "223        Cuba             NaN                NaN          home   \n",
       "224        Cuba             NaN                NaN          home   \n",
       "225        Cuba             NaN                NaN           NaN   \n",
       "226        Cuba             NaN                NaN          home   \n",
       "227        Cuba             NaN                NaN          home   \n",
       "\n",
       "    reservation_phone amenities_pet_friendly amenities_outdoor      loc_x  \\\n",
       "0                 NaN                    NaN               NaN  23.123617   \n",
       "1                 NaN                    NaN               NaN        NaN   \n",
       "2                 NaN                    NaN               NaN        NaN   \n",
       "3               phone                    NaN               NaN        NaN   \n",
       "4                 NaN                    NaN               NaN        NaN   \n",
       "..                ...                    ...               ...        ...   \n",
       "223               NaN                    NaN               NaN        NaN   \n",
       "224             phone                    NaN               NaN  23.103419   \n",
       "225             phone                    NaN               NaN        NaN   \n",
       "226               NaN                    NaN               NaN        NaN   \n",
       "227               NaN                    NaN               NaN        NaN   \n",
       "\n",
       "         loc_y  menu_coffee  menu_juices  menu_smoothie  menu_ice_cream_shake  \\\n",
       "0   -82.427105          NaN          NaN            NaN                   NaN   \n",
       "1          NaN          NaN          NaN            NaN                   NaN   \n",
       "2          NaN          NaN          NaN            NaN                   NaN   \n",
       "3          NaN          NaN          NaN            NaN                   NaN   \n",
       "4          NaN          NaN          NaN            NaN                   NaN   \n",
       "..         ...          ...          ...            ...                   ...   \n",
       "223        NaN          NaN          NaN            NaN                   NaN   \n",
       "224 -82.418346          NaN          NaN            NaN                   NaN   \n",
       "225        NaN          NaN          NaN            NaN                   NaN   \n",
       "226        NaN          NaN          NaN            NaN                   NaN   \n",
       "227        NaN          NaN          NaN            NaN                   NaN   \n",
       "\n",
       "    reservation_online amenities_live_music amenities_wifi  \n",
       "0                  NaN                  NaN            NaN  \n",
       "1                  NaN                  NaN            NaN  \n",
       "2                  NaN                  NaN            NaN  \n",
       "3                  NaN                  NaN            NaN  \n",
       "4                  NaN                  NaN            NaN  \n",
       "..                 ...                  ...            ...  \n",
       "223                NaN                  NaN            NaN  \n",
       "224                NaN                  NaN            NaN  \n",
       "225                NaN                  NaN           wifi  \n",
       "226                NaN                  NaN            NaN  \n",
       "227                NaN                  NaN           wifi  \n",
       "\n",
       "[228 rows x 67 columns]"
      ]
     },
     "execution_count": 3,
     "metadata": {},
     "output_type": "execute_result"
    }
   ],
   "source": [
    "#pd.set_option('display.max_rows', None)    #Esto es para que se pueda visualizar todas las filas de la tabla\n",
    "pd.set_option('display.max_columns', None) #Esto es para que se pueda visualizar todas las columnas de la tabla\n",
    "df.sort_values('name').reset_index(drop=True)   #Mostramos la lista completa de locales, si no quiere verla(supongo que no) Solamente ocultela."
   ]
  },
  {
   "cell_type": "markdown",
   "id": "f89f9a87-fe6e-42a0-987e-e960725d3850",
   "metadata": {},
   "source": [
    "---\n",
    "\n",
    "Pero, Observar datos en una tabla resulta poco atractivo, asi que mejor visualicemos la ubicación de los locales en un mapa con información básica, util si deseas tener una nocion basica de su ubicación y otros datos de interés."
   ]
  },
  {
   "cell_type": "code",
   "execution_count": 4,
   "id": "b0fa9bd0-83a5-4b63-aa5c-ccbabba807b7",
   "metadata": {},
   "outputs": [
    {
     "data": {
      "application/vnd.plotly.v1+json": {
       "config": {
        "plotlyServerURL": "https://plot.ly"
       },
       "data": [
        {
         "customdata": [
          [
           "bar",
           "others",
           null,
           5,
           12,
           null,
           "Centro Habana",
           23.140032524116656,
           -82.37801794949878
          ],
          [
           "bar",
           "others",
           "78602134",
           4.5,
           12,
           null,
           "Centro Habana",
           23.137430101331596,
           -82.35973216484062
          ],
          [
           "restaurant",
           "cuban",
           null,
           5,
           12,
           null,
           "Centro Habana",
           23.143218246225477,
           -82.37817617833404
          ],
          [
           "bar",
           "cuban",
           null,
           3.4,
           12,
           null,
           "Centro Habana",
           23.136606572526283,
           -82.36299826271366
          ],
          [
           "restaurant",
           "cuban",
           null,
           5,
           12,
           null,
           "Centro Habana",
           23.136810792066857,
           -82.36139565096036
          ],
          [
           "restaurant",
           "italian",
           null,
           3.1,
           12,
           null,
           "Centro Habana",
           23.13389533564469,
           -82.37685653415737
          ],
          [
           "bar",
           "cuban",
           null,
           5,
           12,
           null,
           "Centro Habana",
           23.13385424944992,
           -82.36160649338726
          ],
          [
           "bar",
           "cuban",
           null,
           3.5,
           12,
           null,
           "Centro Habana",
           23.141509790555908,
           -82.374230422513
          ],
          [
           "bar",
           "cuban",
           null,
           5,
           12,
           null,
           "Centro Habana",
           23.136227081972006,
           -82.36206873376179
          ],
          [
           "restaurant",
           "cuban",
           "78634580",
           4.5,
           12,
           null,
           "Centro Habana",
           23.13605979859447,
           -82.36264764949895
          ],
          [
           "restaurant",
           "others",
           null,
           4.5,
           12,
           null,
           "Centro Habana",
           23.131235737365408,
           -82.37630082066377
          ],
          [
           "restaurant",
           "italian",
           null,
           4.5,
           12,
           null,
           "Centro Habana",
           23.135420733511385,
           -82.37831753600521
          ],
          [
           "bar",
           "mexican",
           null,
           4.4,
           12,
           null,
           "Centro Habana",
           23.139644726614794,
           -82.3755633828391
          ],
          [
           "restaurant",
           "cuban",
           "78661823",
           4.5,
           12,
           null,
           "Centro Habana",
           23.135543401312233,
           -82.3644565648407
          ],
          [
           "restaurant",
           "italian",
           "78671790",
           4.4,
           12,
           null,
           "Centro Habana",
           23.134370150762123,
           -82.3682591198702
          ],
          [
           "restaurant",
           "italian",
           null,
           4.5,
           12,
           null,
           "Centro Habana",
           23.13771148492377,
           -82.36400171839173
          ],
          [
           "bar",
           "italian",
           null,
           5,
           12,
           null,
           "Centro Habana",
           23.136930631399565,
           -82.36181409182808
          ],
          [
           "restaurant",
           "cuban",
           "78614325",
           5,
           12,
           null,
           "Centro Habana",
           23.137414091589683,
           -82.36092696447452
          ],
          [
           "restaurant",
           "cuban",
           null,
           4.2,
           12,
           null,
           "Centro Habana",
           23.13412923367649,
           -82.37826298998031
          ],
          [
           "restaurant",
           "others",
           null,
           4.5,
           12,
           null,
           "Centro Habana",
           23.11380465355718,
           -82.36663315102301
          ],
          [
           "bar",
           "cuban",
           null,
           5,
           12,
           null,
           "Centro Habana",
           23.13799192742151,
           -82.36028647833432
          ],
          [
           "restaurant",
           "cuban",
           "78737259",
           4.6,
           12,
           null,
           "Centro Habana",
           23.1401557660662,
           -82.37586279184762
          ],
          [
           "restaurant",
           "cuban",
           "72125013",
           4.5,
           12,
           null,
           "Playa",
           23.12361712886297,
           -82.4271050650417
          ],
          [
           "bar",
           "italian",
           null,
           5,
           12,
           null,
           "Playa",
           23.118857756567763,
           -82.42952136001638
          ],
          [
           "restaurant",
           "cuban",
           null,
           4,
           12,
           null,
           "Playa",
           23.12046138313826,
           -82.41683832082161
          ],
          [
           "restaurant",
           "cuban",
           "72033634",
           3.5,
           12,
           null,
           "Playa",
           23.113345376993024,
           -82.43984071467096
          ],
          [
           "restaurant",
           "cuban",
           null,
           4.5,
           12,
           null,
           "Playa",
           23.118089959620736,
           -82.4323885782618
          ],
          [
           "restaurant",
           "others",
           null,
           4.5,
           12,
           null,
           "Playa",
           23.115259266660882,
           -82.43418842082183
          ],
          [
           "restaurant",
           "cuban",
           "72090437",
           4,
           12,
           null,
           "Playa",
           23.11433698105626,
           -82.41322840010747
          ],
          [
           "bar",
           "others",
           null,
           5,
           12,
           null,
           "Playa",
           23.11556412986255,
           -82.43678182320103
          ],
          [
           "restaurant",
           "cuban",
           "72038222",
           3.5,
           12,
           null,
           "Playa",
           23.08636901084588,
           -82.4625362784828
          ],
          [
           "restaurant",
           "cuban",
           "72024530",
           4,
           12,
           null,
           "Playa",
           23.124905240397386,
           -82.42134057564077
          ],
          [
           "bar",
           "cuban",
           null,
           5,
           12,
           null,
           "Playa",
           23.120002043016232,
           -82.41824799824474
          ],
          [
           "restaurant",
           "others",
           null,
           4,
           12,
           null,
           "Playa",
           23.10836341952027,
           -82.43424715134823
          ],
          [
           "restaurant",
           "cuban",
           null,
           4.5,
           12,
           null,
           "Playa",
           23.111808672085502,
           -82.44090092922819
          ],
          [
           "restaurant",
           "italian",
           null,
           3.7,
           12,
           null,
           "Playa",
           23.102013500945667,
           -82.43068481917766
          ],
          [
           "bar",
           "cuban",
           null,
           4.9,
           12,
           null,
           "Playa",
           23.130053196144022,
           -82.41351684242505
          ],
          [
           "restaurant",
           "mexican",
           "72022803",
           4.5,
           12,
           null,
           "Playa",
           23.105644168847277,
           -82.44212999530603
          ],
          [
           "bar",
           "others",
           "72057278",
           5,
           12,
           null,
           "Playa",
           23.113948715307984,
           -82.42577878487478
          ],
          [
           "bar",
           "others",
           null,
           3.8,
           12,
           null,
           "Playa",
           23.114066413722455,
           -82.43957767341712
          ],
          [
           "bar",
           "others",
           null,
           5,
           12,
           null,
           "Playa",
           23.121788587624902,
           -82.4257877361619
          ],
          [
           "bar",
           "cuban",
           null,
           3.5,
           12,
           null,
           "Playa",
           23.117726284857962,
           -82.4422860238811
          ],
          [
           "restaurant",
           "italian",
           null,
           5,
           12,
           null,
           "Playa",
           23.120752030449403,
           -82.43046798998091
          ],
          [
           "restaurant",
           "others",
           null,
           3.3,
           12,
           null,
           "Playa",
           23.11213749973173,
           -82.41048087665507
          ],
          [
           "restaurant",
           "cuban",
           "72038315",
           4.5,
           12,
           null,
           "Playa",
           23.11917180897718,
           -82.41453997132663
          ],
          [
           "restaurant",
           "others",
           null,
           5,
           12,
           null,
           "Playa",
           23.117985952744846,
           -82.41582832900848
          ],
          [
           "bar",
           "others",
           null,
           4.3,
           12,
           null,
           "Playa",
           23.077784762125038,
           -82.46936259237634
          ],
          [
           "bar",
           "others",
           null,
           3,
           12,
           null,
           "Playa",
           23.11402909851061,
           -82.43950857535798
          ],
          [
           "bar",
           "others",
           "72724998",
           4.5,
           12,
           null,
           "Playa",
           23.08929844519211,
           -82.48873679830157
          ],
          [
           "restaurant",
           "others",
           null,
           5,
           12,
           null,
           "Playa",
           23.125680181720934,
           -82.41363706139158
          ],
          [
           "bar",
           "cuban",
           "72021548",
           4.5,
           12,
           null,
           "Playa",
           23.128870429493183,
           -82.41660271357874
          ],
          [
           "bar",
           "cuban",
           "72077867",
           5,
           12,
           null,
           "Playa",
           23.10341935595807,
           -82.41834601431532
          ],
          [
           "restaurant",
           "italian",
           "78305187",
           4.4,
           12,
           "Calle 22 # 361, esq. 23",
           "Plaza de la Revolucion",
           23.12434231472738,
           -82.4041494469193
          ],
          [
           "restaurant",
           "cuban",
           "53388837",
           4.4,
           12,
           "Calle M e/ 25 y 27",
           "Plaza de la Revolucion",
           23.144894841159918,
           -82.38263698387051
          ],
          [
           "restaurant",
           "japanese",
           "52832188",
           4.2,
           12,
           "Ave 26/23 y 25, Vedado",
           "Plaza de la Revolucion",
           23.12226101881169,
           -82.40508001808305
          ],
          [
           "restaurant",
           "cuban",
           "50990383",
           4.5,
           12,
           "Calle 21 entre J y K, Vedado",
           "Plaza de la Revolucion",
           23.13993175557732,
           -82.38537118924619
          ],
          [
           "restaurant",
           "cuban",
           null,
           4.5,
           12,
           "Esquina 23 y 12, Vedado",
           "Plaza de la Revolucion",
           23.127810894630507,
           -82.39959798623943
          ],
          [
           "restaurant",
           "cuban",
           "78332060",
           4.5,
           12,
           "Calle C, #15, entre 1ª y 3ª",
           "Plaza de la Revolucion",
           23.142433620136078,
           -82.39923307575508
          ],
          [
           "restaurant",
           "cuban",
           "52932497",
           4.3,
           12,
           "Esquina 3ra y D (D entre 1ra y 3ra), Vedado",
           "Plaza de la Revolucion",
           23.14252255448973,
           -82.39853187625368
          ]
         ],
         "hovertemplate": "<b>%{hovertext}</b><br><br>cap=%{customdata[4]}<br>est_type=%{customdata[0]}<br>cuisine=%{customdata[1]}<br>phone=%{customdata[2]}<br>rating=%{marker.color}<br>loc_street=%{customdata[5]}<br>loc_municipe=%{customdata[6]}<extra></extra>",
         "hovertext": [
          "Macarena",
          "Bone'Ma 62",
          "Bueníssimo heladería",
          "Cafe Bulevar",
          "Cohmar Cafe",
          "Doping pizza",
          "El pórtico",
          "El Bleko",
          "Fin de Siglo",
          "Galy Cafe",
          "Hamburgo",
          "Infanta 560",
          "Kasa Takos",
          "La Juliana",
          "Mimosa",
          "Mundo Pizza",
          "Pedro's Bar",
          "RicarDon",
          "Salchipizza",
          "San Rafael 1051",
          "Tonyzz Bar",
          "Tu Tiempo",
          "28 y Mar",
          "Amalfi",
          "Bocattas",
          "Bom Apetite",
          "Café literario La Copa",
          "Café Clington",
          "D'kmino",
          "El Gabán",
          "El Palenque",
          "El Tocororo",
          "Fellini",
          "Food Master",
          "FoodTruck Pelegrin",
          "Home Deli",
          "Jota_Jota",
          "La Catrina",
          "La Chucheria",
          "La Marina",
          "Luly Bar Café",
          "Mercy bar",
          "MM",
          "Mokalex",
          "Otra manera",
          "Pechatniky",
          "Qbanas 60",
          "Salsa Mora",
          "Santy Pescador",
          "Sapori",
          "Toros y Tapas",
          "Villarino",
          "El Farallón",
          "Fonda La Paila",
          "Fuumiyaki",
          "La Carreta",
          "La Pelota",
          "Mar Adentro",
          "Restaurante Esquina-D-Fraile"
         ],
         "lat": [
          23.140032524116656,
          23.137430101331596,
          23.143218246225477,
          23.136606572526283,
          23.136810792066857,
          23.13389533564469,
          23.13385424944992,
          23.141509790555908,
          23.136227081972006,
          23.13605979859447,
          23.131235737365408,
          23.135420733511385,
          23.139644726614794,
          23.135543401312233,
          23.134370150762123,
          23.13771148492377,
          23.136930631399565,
          23.137414091589683,
          23.13412923367649,
          23.11380465355718,
          23.13799192742151,
          23.1401557660662,
          23.12361712886297,
          23.118857756567763,
          23.12046138313826,
          23.113345376993024,
          23.118089959620736,
          23.115259266660882,
          23.11433698105626,
          23.11556412986255,
          23.08636901084588,
          23.124905240397386,
          23.120002043016232,
          23.10836341952027,
          23.111808672085502,
          23.102013500945667,
          23.130053196144022,
          23.105644168847277,
          23.113948715307984,
          23.114066413722455,
          23.121788587624902,
          23.117726284857962,
          23.120752030449403,
          23.11213749973173,
          23.11917180897718,
          23.117985952744846,
          23.077784762125038,
          23.11402909851061,
          23.08929844519211,
          23.125680181720934,
          23.128870429493183,
          23.10341935595807,
          23.12434231472738,
          23.144894841159918,
          23.12226101881169,
          23.13993175557732,
          23.127810894630507,
          23.142433620136078,
          23.14252255448973
         ],
         "legendgroup": "",
         "lon": [
          -82.37801794949878,
          -82.35973216484062,
          -82.37817617833404,
          -82.36299826271366,
          -82.36139565096036,
          -82.37685653415737,
          -82.36160649338726,
          -82.374230422513,
          -82.36206873376179,
          -82.36264764949895,
          -82.37630082066377,
          -82.37831753600521,
          -82.3755633828391,
          -82.3644565648407,
          -82.3682591198702,
          -82.36400171839173,
          -82.36181409182808,
          -82.36092696447452,
          -82.37826298998031,
          -82.36663315102301,
          -82.36028647833432,
          -82.37586279184762,
          -82.4271050650417,
          -82.42952136001638,
          -82.41683832082161,
          -82.43984071467096,
          -82.4323885782618,
          -82.43418842082183,
          -82.41322840010747,
          -82.43678182320103,
          -82.4625362784828,
          -82.42134057564077,
          -82.41824799824474,
          -82.43424715134823,
          -82.44090092922819,
          -82.43068481917766,
          -82.41351684242505,
          -82.44212999530603,
          -82.42577878487478,
          -82.43957767341712,
          -82.4257877361619,
          -82.4422860238811,
          -82.43046798998091,
          -82.41048087665507,
          -82.41453997132663,
          -82.41582832900848,
          -82.46936259237634,
          -82.43950857535798,
          -82.48873679830157,
          -82.41363706139158,
          -82.41660271357874,
          -82.41834601431532,
          -82.4041494469193,
          -82.38263698387051,
          -82.40508001808305,
          -82.38537118924619,
          -82.39959798623943,
          -82.39923307575508,
          -82.39853187625368
         ],
         "marker": {
          "color": [
           5,
           4.5,
           5,
           3.4,
           5,
           3.1,
           5,
           3.5,
           5,
           4.5,
           4.5,
           4.5,
           4.4,
           4.5,
           4.4,
           4.5,
           5,
           5,
           4.2,
           4.5,
           5,
           4.6,
           4.5,
           5,
           4,
           3.5,
           4.5,
           4.5,
           4,
           5,
           3.5,
           4,
           5,
           4,
           4.5,
           3.7,
           4.9,
           4.5,
           5,
           3.8,
           5,
           3.5,
           5,
           3.3,
           4.5,
           5,
           4.3,
           3,
           4.5,
           5,
           4.5,
           5,
           4.4,
           4.4,
           4.2,
           4.5,
           4.5,
           4.5,
           4.3
          ],
          "coloraxis": "coloraxis",
          "size": [
           12,
           12,
           12,
           12,
           12,
           12,
           12,
           12,
           12,
           12,
           12,
           12,
           12,
           12,
           12,
           12,
           12,
           12,
           12,
           12,
           12,
           12,
           12,
           12,
           12,
           12,
           12,
           12,
           12,
           12,
           12,
           12,
           12,
           12,
           12,
           12,
           12,
           12,
           12,
           12,
           12,
           12,
           12,
           12,
           12,
           12,
           12,
           12,
           12,
           12,
           12,
           12,
           12,
           12,
           12,
           12,
           12,
           12,
           12
          ],
          "sizemode": "area",
          "sizeref": 0.03
         },
         "mode": "markers",
         "name": "",
         "showlegend": false,
         "subplot": "mapbox",
         "type": "scattermapbox"
        }
       ],
       "layout": {
        "coloraxis": {
         "colorbar": {
          "title": {
           "text": "rating"
          }
         },
         "colorscale": [
          [
           0,
           "#0d0887"
          ],
          [
           0.1111111111111111,
           "#46039f"
          ],
          [
           0.2222222222222222,
           "#7201a8"
          ],
          [
           0.3333333333333333,
           "#9c179e"
          ],
          [
           0.4444444444444444,
           "#bd3786"
          ],
          [
           0.5555555555555556,
           "#d8576b"
          ],
          [
           0.6666666666666666,
           "#ed7953"
          ],
          [
           0.7777777777777778,
           "#fb9f3a"
          ],
          [
           0.8888888888888888,
           "#fdca26"
          ],
          [
           1,
           "#f0f921"
          ]
         ]
        },
        "height": 600,
        "legend": {
         "itemsizing": "constant",
         "tracegroupgap": 0
        },
        "mapbox": {
         "center": {
          "lat": 23.124399064935556,
          "lon": -82.40385516338227
         },
         "domain": {
          "x": [
           0,
           1
          ],
          "y": [
           0,
           1
          ]
         },
         "style": "open-street-map",
         "zoom": 10
        },
        "margin": {
         "t": 60
        },
        "template": {
         "data": {
          "bar": [
           {
            "error_x": {
             "color": "#2a3f5f"
            },
            "error_y": {
             "color": "#2a3f5f"
            },
            "marker": {
             "line": {
              "color": "#E5ECF6",
              "width": 0.5
             },
             "pattern": {
              "fillmode": "overlay",
              "size": 10,
              "solidity": 0.2
             }
            },
            "type": "bar"
           }
          ],
          "barpolar": [
           {
            "marker": {
             "line": {
              "color": "#E5ECF6",
              "width": 0.5
             },
             "pattern": {
              "fillmode": "overlay",
              "size": 10,
              "solidity": 0.2
             }
            },
            "type": "barpolar"
           }
          ],
          "carpet": [
           {
            "aaxis": {
             "endlinecolor": "#2a3f5f",
             "gridcolor": "white",
             "linecolor": "white",
             "minorgridcolor": "white",
             "startlinecolor": "#2a3f5f"
            },
            "baxis": {
             "endlinecolor": "#2a3f5f",
             "gridcolor": "white",
             "linecolor": "white",
             "minorgridcolor": "white",
             "startlinecolor": "#2a3f5f"
            },
            "type": "carpet"
           }
          ],
          "choropleth": [
           {
            "colorbar": {
             "outlinewidth": 0,
             "ticks": ""
            },
            "type": "choropleth"
           }
          ],
          "contour": [
           {
            "colorbar": {
             "outlinewidth": 0,
             "ticks": ""
            },
            "colorscale": [
             [
              0,
              "#0d0887"
             ],
             [
              0.1111111111111111,
              "#46039f"
             ],
             [
              0.2222222222222222,
              "#7201a8"
             ],
             [
              0.3333333333333333,
              "#9c179e"
             ],
             [
              0.4444444444444444,
              "#bd3786"
             ],
             [
              0.5555555555555556,
              "#d8576b"
             ],
             [
              0.6666666666666666,
              "#ed7953"
             ],
             [
              0.7777777777777778,
              "#fb9f3a"
             ],
             [
              0.8888888888888888,
              "#fdca26"
             ],
             [
              1,
              "#f0f921"
             ]
            ],
            "type": "contour"
           }
          ],
          "contourcarpet": [
           {
            "colorbar": {
             "outlinewidth": 0,
             "ticks": ""
            },
            "type": "contourcarpet"
           }
          ],
          "heatmap": [
           {
            "colorbar": {
             "outlinewidth": 0,
             "ticks": ""
            },
            "colorscale": [
             [
              0,
              "#0d0887"
             ],
             [
              0.1111111111111111,
              "#46039f"
             ],
             [
              0.2222222222222222,
              "#7201a8"
             ],
             [
              0.3333333333333333,
              "#9c179e"
             ],
             [
              0.4444444444444444,
              "#bd3786"
             ],
             [
              0.5555555555555556,
              "#d8576b"
             ],
             [
              0.6666666666666666,
              "#ed7953"
             ],
             [
              0.7777777777777778,
              "#fb9f3a"
             ],
             [
              0.8888888888888888,
              "#fdca26"
             ],
             [
              1,
              "#f0f921"
             ]
            ],
            "type": "heatmap"
           }
          ],
          "heatmapgl": [
           {
            "colorbar": {
             "outlinewidth": 0,
             "ticks": ""
            },
            "colorscale": [
             [
              0,
              "#0d0887"
             ],
             [
              0.1111111111111111,
              "#46039f"
             ],
             [
              0.2222222222222222,
              "#7201a8"
             ],
             [
              0.3333333333333333,
              "#9c179e"
             ],
             [
              0.4444444444444444,
              "#bd3786"
             ],
             [
              0.5555555555555556,
              "#d8576b"
             ],
             [
              0.6666666666666666,
              "#ed7953"
             ],
             [
              0.7777777777777778,
              "#fb9f3a"
             ],
             [
              0.8888888888888888,
              "#fdca26"
             ],
             [
              1,
              "#f0f921"
             ]
            ],
            "type": "heatmapgl"
           }
          ],
          "histogram": [
           {
            "marker": {
             "pattern": {
              "fillmode": "overlay",
              "size": 10,
              "solidity": 0.2
             }
            },
            "type": "histogram"
           }
          ],
          "histogram2d": [
           {
            "colorbar": {
             "outlinewidth": 0,
             "ticks": ""
            },
            "colorscale": [
             [
              0,
              "#0d0887"
             ],
             [
              0.1111111111111111,
              "#46039f"
             ],
             [
              0.2222222222222222,
              "#7201a8"
             ],
             [
              0.3333333333333333,
              "#9c179e"
             ],
             [
              0.4444444444444444,
              "#bd3786"
             ],
             [
              0.5555555555555556,
              "#d8576b"
             ],
             [
              0.6666666666666666,
              "#ed7953"
             ],
             [
              0.7777777777777778,
              "#fb9f3a"
             ],
             [
              0.8888888888888888,
              "#fdca26"
             ],
             [
              1,
              "#f0f921"
             ]
            ],
            "type": "histogram2d"
           }
          ],
          "histogram2dcontour": [
           {
            "colorbar": {
             "outlinewidth": 0,
             "ticks": ""
            },
            "colorscale": [
             [
              0,
              "#0d0887"
             ],
             [
              0.1111111111111111,
              "#46039f"
             ],
             [
              0.2222222222222222,
              "#7201a8"
             ],
             [
              0.3333333333333333,
              "#9c179e"
             ],
             [
              0.4444444444444444,
              "#bd3786"
             ],
             [
              0.5555555555555556,
              "#d8576b"
             ],
             [
              0.6666666666666666,
              "#ed7953"
             ],
             [
              0.7777777777777778,
              "#fb9f3a"
             ],
             [
              0.8888888888888888,
              "#fdca26"
             ],
             [
              1,
              "#f0f921"
             ]
            ],
            "type": "histogram2dcontour"
           }
          ],
          "mesh3d": [
           {
            "colorbar": {
             "outlinewidth": 0,
             "ticks": ""
            },
            "type": "mesh3d"
           }
          ],
          "parcoords": [
           {
            "line": {
             "colorbar": {
              "outlinewidth": 0,
              "ticks": ""
             }
            },
            "type": "parcoords"
           }
          ],
          "pie": [
           {
            "automargin": true,
            "type": "pie"
           }
          ],
          "scatter": [
           {
            "fillpattern": {
             "fillmode": "overlay",
             "size": 10,
             "solidity": 0.2
            },
            "type": "scatter"
           }
          ],
          "scatter3d": [
           {
            "line": {
             "colorbar": {
              "outlinewidth": 0,
              "ticks": ""
             }
            },
            "marker": {
             "colorbar": {
              "outlinewidth": 0,
              "ticks": ""
             }
            },
            "type": "scatter3d"
           }
          ],
          "scattercarpet": [
           {
            "marker": {
             "colorbar": {
              "outlinewidth": 0,
              "ticks": ""
             }
            },
            "type": "scattercarpet"
           }
          ],
          "scattergeo": [
           {
            "marker": {
             "colorbar": {
              "outlinewidth": 0,
              "ticks": ""
             }
            },
            "type": "scattergeo"
           }
          ],
          "scattergl": [
           {
            "marker": {
             "colorbar": {
              "outlinewidth": 0,
              "ticks": ""
             }
            },
            "type": "scattergl"
           }
          ],
          "scattermapbox": [
           {
            "marker": {
             "colorbar": {
              "outlinewidth": 0,
              "ticks": ""
             }
            },
            "type": "scattermapbox"
           }
          ],
          "scatterpolar": [
           {
            "marker": {
             "colorbar": {
              "outlinewidth": 0,
              "ticks": ""
             }
            },
            "type": "scatterpolar"
           }
          ],
          "scatterpolargl": [
           {
            "marker": {
             "colorbar": {
              "outlinewidth": 0,
              "ticks": ""
             }
            },
            "type": "scatterpolargl"
           }
          ],
          "scatterternary": [
           {
            "marker": {
             "colorbar": {
              "outlinewidth": 0,
              "ticks": ""
             }
            },
            "type": "scatterternary"
           }
          ],
          "surface": [
           {
            "colorbar": {
             "outlinewidth": 0,
             "ticks": ""
            },
            "colorscale": [
             [
              0,
              "#0d0887"
             ],
             [
              0.1111111111111111,
              "#46039f"
             ],
             [
              0.2222222222222222,
              "#7201a8"
             ],
             [
              0.3333333333333333,
              "#9c179e"
             ],
             [
              0.4444444444444444,
              "#bd3786"
             ],
             [
              0.5555555555555556,
              "#d8576b"
             ],
             [
              0.6666666666666666,
              "#ed7953"
             ],
             [
              0.7777777777777778,
              "#fb9f3a"
             ],
             [
              0.8888888888888888,
              "#fdca26"
             ],
             [
              1,
              "#f0f921"
             ]
            ],
            "type": "surface"
           }
          ],
          "table": [
           {
            "cells": {
             "fill": {
              "color": "#EBF0F8"
             },
             "line": {
              "color": "white"
             }
            },
            "header": {
             "fill": {
              "color": "#C8D4E3"
             },
             "line": {
              "color": "white"
             }
            },
            "type": "table"
           }
          ]
         },
         "layout": {
          "annotationdefaults": {
           "arrowcolor": "#2a3f5f",
           "arrowhead": 0,
           "arrowwidth": 1
          },
          "autotypenumbers": "strict",
          "coloraxis": {
           "colorbar": {
            "outlinewidth": 0,
            "ticks": ""
           }
          },
          "colorscale": {
           "diverging": [
            [
             0,
             "#8e0152"
            ],
            [
             0.1,
             "#c51b7d"
            ],
            [
             0.2,
             "#de77ae"
            ],
            [
             0.3,
             "#f1b6da"
            ],
            [
             0.4,
             "#fde0ef"
            ],
            [
             0.5,
             "#f7f7f7"
            ],
            [
             0.6,
             "#e6f5d0"
            ],
            [
             0.7,
             "#b8e186"
            ],
            [
             0.8,
             "#7fbc41"
            ],
            [
             0.9,
             "#4d9221"
            ],
            [
             1,
             "#276419"
            ]
           ],
           "sequential": [
            [
             0,
             "#0d0887"
            ],
            [
             0.1111111111111111,
             "#46039f"
            ],
            [
             0.2222222222222222,
             "#7201a8"
            ],
            [
             0.3333333333333333,
             "#9c179e"
            ],
            [
             0.4444444444444444,
             "#bd3786"
            ],
            [
             0.5555555555555556,
             "#d8576b"
            ],
            [
             0.6666666666666666,
             "#ed7953"
            ],
            [
             0.7777777777777778,
             "#fb9f3a"
            ],
            [
             0.8888888888888888,
             "#fdca26"
            ],
            [
             1,
             "#f0f921"
            ]
           ],
           "sequentialminus": [
            [
             0,
             "#0d0887"
            ],
            [
             0.1111111111111111,
             "#46039f"
            ],
            [
             0.2222222222222222,
             "#7201a8"
            ],
            [
             0.3333333333333333,
             "#9c179e"
            ],
            [
             0.4444444444444444,
             "#bd3786"
            ],
            [
             0.5555555555555556,
             "#d8576b"
            ],
            [
             0.6666666666666666,
             "#ed7953"
            ],
            [
             0.7777777777777778,
             "#fb9f3a"
            ],
            [
             0.8888888888888888,
             "#fdca26"
            ],
            [
             1,
             "#f0f921"
            ]
           ]
          },
          "colorway": [
           "#636efa",
           "#EF553B",
           "#00cc96",
           "#ab63fa",
           "#FFA15A",
           "#19d3f3",
           "#FF6692",
           "#B6E880",
           "#FF97FF",
           "#FECB52"
          ],
          "font": {
           "color": "#2a3f5f"
          },
          "geo": {
           "bgcolor": "white",
           "lakecolor": "white",
           "landcolor": "#E5ECF6",
           "showlakes": true,
           "showland": true,
           "subunitcolor": "white"
          },
          "hoverlabel": {
           "align": "left"
          },
          "hovermode": "closest",
          "mapbox": {
           "style": "light"
          },
          "paper_bgcolor": "white",
          "plot_bgcolor": "#E5ECF6",
          "polar": {
           "angularaxis": {
            "gridcolor": "white",
            "linecolor": "white",
            "ticks": ""
           },
           "bgcolor": "#E5ECF6",
           "radialaxis": {
            "gridcolor": "white",
            "linecolor": "white",
            "ticks": ""
           }
          },
          "scene": {
           "xaxis": {
            "backgroundcolor": "#E5ECF6",
            "gridcolor": "white",
            "gridwidth": 2,
            "linecolor": "white",
            "showbackground": true,
            "ticks": "",
            "zerolinecolor": "white"
           },
           "yaxis": {
            "backgroundcolor": "#E5ECF6",
            "gridcolor": "white",
            "gridwidth": 2,
            "linecolor": "white",
            "showbackground": true,
            "ticks": "",
            "zerolinecolor": "white"
           },
           "zaxis": {
            "backgroundcolor": "#E5ECF6",
            "gridcolor": "white",
            "gridwidth": 2,
            "linecolor": "white",
            "showbackground": true,
            "ticks": "",
            "zerolinecolor": "white"
           }
          },
          "shapedefaults": {
           "line": {
            "color": "#2a3f5f"
           }
          },
          "ternary": {
           "aaxis": {
            "gridcolor": "white",
            "linecolor": "white",
            "ticks": ""
           },
           "baxis": {
            "gridcolor": "white",
            "linecolor": "white",
            "ticks": ""
           },
           "bgcolor": "#E5ECF6",
           "caxis": {
            "gridcolor": "white",
            "linecolor": "white",
            "ticks": ""
           }
          },
          "title": {
           "x": 0.05
          },
          "xaxis": {
           "automargin": true,
           "gridcolor": "white",
           "linecolor": "white",
           "ticks": "",
           "title": {
            "standoff": 15
           },
           "zerolinecolor": "white",
           "zerolinewidth": 2
          },
          "yaxis": {
           "automargin": true,
           "gridcolor": "white",
           "linecolor": "white",
           "ticks": "",
           "title": {
            "standoff": 15
           },
           "zerolinecolor": "white",
           "zerolinewidth": 2
          }
         }
        }
       }
      }
     },
     "metadata": {},
     "output_type": "display_data"
    }
   ],
   "source": [
    "filter_df = df.dropna(subset=['loc_x', 'loc_y'])\n",
    "plot_havana_map(filter_df, {\n",
    "    \"est_type\": True,\n",
    "    \"cuisine\": True,\n",
    "    \"phone\": True,\n",
    "    \"rating\": True,\n",
    "    \"cap\": True,\n",
    "    \"loc_street\": True,\n",
    "    \"loc_municipe\": True,\n",
    "    \"loc_x\": False,\n",
    "    \"loc_y\": False,\n",
    "},size='cap', color='rating')"
   ]
  },
  {
   "cell_type": "markdown",
   "id": "198850f8-18c7-4653-b227-8a3bb41a6a03",
   "metadata": {},
   "source": [
    "---\n",
    "\n",
    "La distribucion de la puntuacion general total ronda los 4.5 en promedio como podemos observar en la siguiente grafica: "
   ]
  },
  {
   "cell_type": "code",
   "execution_count": 6,
   "id": "c80ce70b-b333-490a-9d46-60c086173909",
   "metadata": {},
   "outputs": [
    {
     "data": {
      "application/vnd.plotly.v1+json": {
       "config": {
        "plotlyServerURL": "https://plot.ly"
       },
       "data": [
        {
         "alignmentgroup": "True",
         "bingroup": "x",
         "hovertemplate": "rating=%{x}<br>count=%{y}<extra></extra>",
         "legendgroup": "",
         "marker": {
          "color": "#636efa",
          "pattern": {
           "shape": ""
          }
         },
         "name": "",
         "offsetgroup": "",
         "orientation": "v",
         "showlegend": false,
         "type": "histogram",
         "x": [
          4.6,
          4.5,
          4.5,
          4.45,
          4.4,
          4.4,
          4.5,
          4.5,
          4.5,
          4.6,
          4.5,
          4.5,
          4.5,
          4.5,
          4.4,
          4.6,
          4.5,
          4.5,
          4.4,
          4.5,
          4.4,
          4.5,
          4.5,
          4.1,
          4.5,
          4.5,
          4.4,
          5,
          4.5,
          5,
          3.4,
          4.4,
          4.5,
          4.5,
          4.5,
          3.5,
          3.1,
          4.5,
          4.5,
          4.3,
          4.5,
          5,
          3.1,
          5,
          3.5,
          5,
          4.5,
          4.5,
          4.5,
          4.4,
          4.5,
          4.4,
          4.6,
          4.5,
          5,
          5,
          4.2,
          4.5,
          5,
          4.6,
          4.5,
          4.5,
          4.5,
          4,
          4.5,
          4.5,
          4.5,
          4.6,
          2.4,
          4.5,
          4.5,
          4.5,
          4.4,
          4.5,
          4.5,
          4.5,
          4.5,
          4.5,
          4.5,
          4.5,
          4.5,
          4.4,
          4.5,
          4.4,
          4.4,
          4.5,
          4.5,
          4.5,
          4.5,
          4.5,
          4.4,
          4.5,
          4.5,
          4.5,
          4.4,
          4.3,
          4.5,
          4.5,
          5,
          4.5,
          4.4,
          4.2,
          4.6,
          4.5,
          4.3,
          4.5,
          4.5,
          4.3,
          4.5,
          4.5,
          4.5,
          4.5,
          4.5,
          4.5,
          4.4,
          4.5,
          3.7,
          4.5,
          4.5,
          4.4,
          4.4,
          3.7,
          5,
          4.7,
          4.8,
          4.5,
          4.5,
          4.3,
          4.5,
          5,
          4.4,
          3.4,
          4,
          4.5,
          4.5,
          4.5,
          4.5,
          3.8,
          4.8,
          4.7,
          3.6,
          3.9,
          4.2,
          4.9,
          4.3,
          4,
          3.7,
          3.9,
          5,
          4.3,
          3.3,
          4,
          4.5,
          4.25,
          4.4,
          3.9,
          4.8,
          4.5,
          5,
          4,
          3.5,
          4.5,
          4.5,
          4,
          5,
          3.5,
          4,
          5,
          4,
          4.5,
          3.7,
          4.9,
          4.5,
          5,
          3.8,
          5,
          3.5,
          5,
          3.3,
          4.5,
          5,
          4.3,
          3,
          4.5,
          5,
          4.5,
          5,
          5,
          4.5,
          4.5,
          4.2,
          4,
          4.5,
          4.5,
          4.5,
          3.5,
          4.8,
          4.8,
          4.5,
          4.4,
          5,
          4.4,
          4.2,
          4.5,
          4.5,
          4.5,
          4.5,
          4.5,
          4.5,
          4.5,
          4.3,
          3.9,
          4.4,
          4.5,
          4.5,
          4.6,
          4.5,
          4.5,
          4.5,
          4.5,
          4.4,
          4.5,
          4.5,
          4.5,
          4.5,
          4.5,
          4.5,
          4.5
         ],
         "xaxis": "x",
         "yaxis": "y"
        }
       ],
       "layout": {
        "barmode": "relative",
        "legend": {
         "tracegroupgap": 0
        },
        "template": {
         "data": {
          "bar": [
           {
            "error_x": {
             "color": "#2a3f5f"
            },
            "error_y": {
             "color": "#2a3f5f"
            },
            "marker": {
             "line": {
              "color": "#E5ECF6",
              "width": 0.5
             },
             "pattern": {
              "fillmode": "overlay",
              "size": 10,
              "solidity": 0.2
             }
            },
            "type": "bar"
           }
          ],
          "barpolar": [
           {
            "marker": {
             "line": {
              "color": "#E5ECF6",
              "width": 0.5
             },
             "pattern": {
              "fillmode": "overlay",
              "size": 10,
              "solidity": 0.2
             }
            },
            "type": "barpolar"
           }
          ],
          "carpet": [
           {
            "aaxis": {
             "endlinecolor": "#2a3f5f",
             "gridcolor": "white",
             "linecolor": "white",
             "minorgridcolor": "white",
             "startlinecolor": "#2a3f5f"
            },
            "baxis": {
             "endlinecolor": "#2a3f5f",
             "gridcolor": "white",
             "linecolor": "white",
             "minorgridcolor": "white",
             "startlinecolor": "#2a3f5f"
            },
            "type": "carpet"
           }
          ],
          "choropleth": [
           {
            "colorbar": {
             "outlinewidth": 0,
             "ticks": ""
            },
            "type": "choropleth"
           }
          ],
          "contour": [
           {
            "colorbar": {
             "outlinewidth": 0,
             "ticks": ""
            },
            "colorscale": [
             [
              0,
              "#0d0887"
             ],
             [
              0.1111111111111111,
              "#46039f"
             ],
             [
              0.2222222222222222,
              "#7201a8"
             ],
             [
              0.3333333333333333,
              "#9c179e"
             ],
             [
              0.4444444444444444,
              "#bd3786"
             ],
             [
              0.5555555555555556,
              "#d8576b"
             ],
             [
              0.6666666666666666,
              "#ed7953"
             ],
             [
              0.7777777777777778,
              "#fb9f3a"
             ],
             [
              0.8888888888888888,
              "#fdca26"
             ],
             [
              1,
              "#f0f921"
             ]
            ],
            "type": "contour"
           }
          ],
          "contourcarpet": [
           {
            "colorbar": {
             "outlinewidth": 0,
             "ticks": ""
            },
            "type": "contourcarpet"
           }
          ],
          "heatmap": [
           {
            "colorbar": {
             "outlinewidth": 0,
             "ticks": ""
            },
            "colorscale": [
             [
              0,
              "#0d0887"
             ],
             [
              0.1111111111111111,
              "#46039f"
             ],
             [
              0.2222222222222222,
              "#7201a8"
             ],
             [
              0.3333333333333333,
              "#9c179e"
             ],
             [
              0.4444444444444444,
              "#bd3786"
             ],
             [
              0.5555555555555556,
              "#d8576b"
             ],
             [
              0.6666666666666666,
              "#ed7953"
             ],
             [
              0.7777777777777778,
              "#fb9f3a"
             ],
             [
              0.8888888888888888,
              "#fdca26"
             ],
             [
              1,
              "#f0f921"
             ]
            ],
            "type": "heatmap"
           }
          ],
          "heatmapgl": [
           {
            "colorbar": {
             "outlinewidth": 0,
             "ticks": ""
            },
            "colorscale": [
             [
              0,
              "#0d0887"
             ],
             [
              0.1111111111111111,
              "#46039f"
             ],
             [
              0.2222222222222222,
              "#7201a8"
             ],
             [
              0.3333333333333333,
              "#9c179e"
             ],
             [
              0.4444444444444444,
              "#bd3786"
             ],
             [
              0.5555555555555556,
              "#d8576b"
             ],
             [
              0.6666666666666666,
              "#ed7953"
             ],
             [
              0.7777777777777778,
              "#fb9f3a"
             ],
             [
              0.8888888888888888,
              "#fdca26"
             ],
             [
              1,
              "#f0f921"
             ]
            ],
            "type": "heatmapgl"
           }
          ],
          "histogram": [
           {
            "marker": {
             "pattern": {
              "fillmode": "overlay",
              "size": 10,
              "solidity": 0.2
             }
            },
            "type": "histogram"
           }
          ],
          "histogram2d": [
           {
            "colorbar": {
             "outlinewidth": 0,
             "ticks": ""
            },
            "colorscale": [
             [
              0,
              "#0d0887"
             ],
             [
              0.1111111111111111,
              "#46039f"
             ],
             [
              0.2222222222222222,
              "#7201a8"
             ],
             [
              0.3333333333333333,
              "#9c179e"
             ],
             [
              0.4444444444444444,
              "#bd3786"
             ],
             [
              0.5555555555555556,
              "#d8576b"
             ],
             [
              0.6666666666666666,
              "#ed7953"
             ],
             [
              0.7777777777777778,
              "#fb9f3a"
             ],
             [
              0.8888888888888888,
              "#fdca26"
             ],
             [
              1,
              "#f0f921"
             ]
            ],
            "type": "histogram2d"
           }
          ],
          "histogram2dcontour": [
           {
            "colorbar": {
             "outlinewidth": 0,
             "ticks": ""
            },
            "colorscale": [
             [
              0,
              "#0d0887"
             ],
             [
              0.1111111111111111,
              "#46039f"
             ],
             [
              0.2222222222222222,
              "#7201a8"
             ],
             [
              0.3333333333333333,
              "#9c179e"
             ],
             [
              0.4444444444444444,
              "#bd3786"
             ],
             [
              0.5555555555555556,
              "#d8576b"
             ],
             [
              0.6666666666666666,
              "#ed7953"
             ],
             [
              0.7777777777777778,
              "#fb9f3a"
             ],
             [
              0.8888888888888888,
              "#fdca26"
             ],
             [
              1,
              "#f0f921"
             ]
            ],
            "type": "histogram2dcontour"
           }
          ],
          "mesh3d": [
           {
            "colorbar": {
             "outlinewidth": 0,
             "ticks": ""
            },
            "type": "mesh3d"
           }
          ],
          "parcoords": [
           {
            "line": {
             "colorbar": {
              "outlinewidth": 0,
              "ticks": ""
             }
            },
            "type": "parcoords"
           }
          ],
          "pie": [
           {
            "automargin": true,
            "type": "pie"
           }
          ],
          "scatter": [
           {
            "fillpattern": {
             "fillmode": "overlay",
             "size": 10,
             "solidity": 0.2
            },
            "type": "scatter"
           }
          ],
          "scatter3d": [
           {
            "line": {
             "colorbar": {
              "outlinewidth": 0,
              "ticks": ""
             }
            },
            "marker": {
             "colorbar": {
              "outlinewidth": 0,
              "ticks": ""
             }
            },
            "type": "scatter3d"
           }
          ],
          "scattercarpet": [
           {
            "marker": {
             "colorbar": {
              "outlinewidth": 0,
              "ticks": ""
             }
            },
            "type": "scattercarpet"
           }
          ],
          "scattergeo": [
           {
            "marker": {
             "colorbar": {
              "outlinewidth": 0,
              "ticks": ""
             }
            },
            "type": "scattergeo"
           }
          ],
          "scattergl": [
           {
            "marker": {
             "colorbar": {
              "outlinewidth": 0,
              "ticks": ""
             }
            },
            "type": "scattergl"
           }
          ],
          "scattermapbox": [
           {
            "marker": {
             "colorbar": {
              "outlinewidth": 0,
              "ticks": ""
             }
            },
            "type": "scattermapbox"
           }
          ],
          "scatterpolar": [
           {
            "marker": {
             "colorbar": {
              "outlinewidth": 0,
              "ticks": ""
             }
            },
            "type": "scatterpolar"
           }
          ],
          "scatterpolargl": [
           {
            "marker": {
             "colorbar": {
              "outlinewidth": 0,
              "ticks": ""
             }
            },
            "type": "scatterpolargl"
           }
          ],
          "scatterternary": [
           {
            "marker": {
             "colorbar": {
              "outlinewidth": 0,
              "ticks": ""
             }
            },
            "type": "scatterternary"
           }
          ],
          "surface": [
           {
            "colorbar": {
             "outlinewidth": 0,
             "ticks": ""
            },
            "colorscale": [
             [
              0,
              "#0d0887"
             ],
             [
              0.1111111111111111,
              "#46039f"
             ],
             [
              0.2222222222222222,
              "#7201a8"
             ],
             [
              0.3333333333333333,
              "#9c179e"
             ],
             [
              0.4444444444444444,
              "#bd3786"
             ],
             [
              0.5555555555555556,
              "#d8576b"
             ],
             [
              0.6666666666666666,
              "#ed7953"
             ],
             [
              0.7777777777777778,
              "#fb9f3a"
             ],
             [
              0.8888888888888888,
              "#fdca26"
             ],
             [
              1,
              "#f0f921"
             ]
            ],
            "type": "surface"
           }
          ],
          "table": [
           {
            "cells": {
             "fill": {
              "color": "#EBF0F8"
             },
             "line": {
              "color": "white"
             }
            },
            "header": {
             "fill": {
              "color": "#C8D4E3"
             },
             "line": {
              "color": "white"
             }
            },
            "type": "table"
           }
          ]
         },
         "layout": {
          "annotationdefaults": {
           "arrowcolor": "#2a3f5f",
           "arrowhead": 0,
           "arrowwidth": 1
          },
          "autotypenumbers": "strict",
          "coloraxis": {
           "colorbar": {
            "outlinewidth": 0,
            "ticks": ""
           }
          },
          "colorscale": {
           "diverging": [
            [
             0,
             "#8e0152"
            ],
            [
             0.1,
             "#c51b7d"
            ],
            [
             0.2,
             "#de77ae"
            ],
            [
             0.3,
             "#f1b6da"
            ],
            [
             0.4,
             "#fde0ef"
            ],
            [
             0.5,
             "#f7f7f7"
            ],
            [
             0.6,
             "#e6f5d0"
            ],
            [
             0.7,
             "#b8e186"
            ],
            [
             0.8,
             "#7fbc41"
            ],
            [
             0.9,
             "#4d9221"
            ],
            [
             1,
             "#276419"
            ]
           ],
           "sequential": [
            [
             0,
             "#0d0887"
            ],
            [
             0.1111111111111111,
             "#46039f"
            ],
            [
             0.2222222222222222,
             "#7201a8"
            ],
            [
             0.3333333333333333,
             "#9c179e"
            ],
            [
             0.4444444444444444,
             "#bd3786"
            ],
            [
             0.5555555555555556,
             "#d8576b"
            ],
            [
             0.6666666666666666,
             "#ed7953"
            ],
            [
             0.7777777777777778,
             "#fb9f3a"
            ],
            [
             0.8888888888888888,
             "#fdca26"
            ],
            [
             1,
             "#f0f921"
            ]
           ],
           "sequentialminus": [
            [
             0,
             "#0d0887"
            ],
            [
             0.1111111111111111,
             "#46039f"
            ],
            [
             0.2222222222222222,
             "#7201a8"
            ],
            [
             0.3333333333333333,
             "#9c179e"
            ],
            [
             0.4444444444444444,
             "#bd3786"
            ],
            [
             0.5555555555555556,
             "#d8576b"
            ],
            [
             0.6666666666666666,
             "#ed7953"
            ],
            [
             0.7777777777777778,
             "#fb9f3a"
            ],
            [
             0.8888888888888888,
             "#fdca26"
            ],
            [
             1,
             "#f0f921"
            ]
           ]
          },
          "colorway": [
           "#636efa",
           "#EF553B",
           "#00cc96",
           "#ab63fa",
           "#FFA15A",
           "#19d3f3",
           "#FF6692",
           "#B6E880",
           "#FF97FF",
           "#FECB52"
          ],
          "font": {
           "color": "#2a3f5f"
          },
          "geo": {
           "bgcolor": "white",
           "lakecolor": "white",
           "landcolor": "#E5ECF6",
           "showlakes": true,
           "showland": true,
           "subunitcolor": "white"
          },
          "hoverlabel": {
           "align": "left"
          },
          "hovermode": "closest",
          "mapbox": {
           "style": "light"
          },
          "paper_bgcolor": "white",
          "plot_bgcolor": "#E5ECF6",
          "polar": {
           "angularaxis": {
            "gridcolor": "white",
            "linecolor": "white",
            "ticks": ""
           },
           "bgcolor": "#E5ECF6",
           "radialaxis": {
            "gridcolor": "white",
            "linecolor": "white",
            "ticks": ""
           }
          },
          "scene": {
           "xaxis": {
            "backgroundcolor": "#E5ECF6",
            "gridcolor": "white",
            "gridwidth": 2,
            "linecolor": "white",
            "showbackground": true,
            "ticks": "",
            "zerolinecolor": "white"
           },
           "yaxis": {
            "backgroundcolor": "#E5ECF6",
            "gridcolor": "white",
            "gridwidth": 2,
            "linecolor": "white",
            "showbackground": true,
            "ticks": "",
            "zerolinecolor": "white"
           },
           "zaxis": {
            "backgroundcolor": "#E5ECF6",
            "gridcolor": "white",
            "gridwidth": 2,
            "linecolor": "white",
            "showbackground": true,
            "ticks": "",
            "zerolinecolor": "white"
           }
          },
          "shapedefaults": {
           "line": {
            "color": "#2a3f5f"
           }
          },
          "ternary": {
           "aaxis": {
            "gridcolor": "white",
            "linecolor": "white",
            "ticks": ""
           },
           "baxis": {
            "gridcolor": "white",
            "linecolor": "white",
            "ticks": ""
           },
           "bgcolor": "#E5ECF6",
           "caxis": {
            "gridcolor": "white",
            "linecolor": "white",
            "ticks": ""
           }
          },
          "title": {
           "x": 0.05
          },
          "xaxis": {
           "automargin": true,
           "gridcolor": "white",
           "linecolor": "white",
           "ticks": "",
           "title": {
            "standoff": 15
           },
           "zerolinecolor": "white",
           "zerolinewidth": 2
          },
          "yaxis": {
           "automargin": true,
           "gridcolor": "white",
           "linecolor": "white",
           "ticks": "",
           "title": {
            "standoff": 15
           },
           "zerolinecolor": "white",
           "zerolinewidth": 2
          }
         }
        },
        "title": {
         "text": "Distribución de la puntuacion general en total"
        },
        "xaxis": {
         "anchor": "y",
         "domain": [
          0,
          1
         ],
         "title": {
          "text": "rating"
         }
        },
        "yaxis": {
         "anchor": "x",
         "domain": [
          0,
          1
         ],
         "title": {
          "text": "count"
         }
        }
       }
      }
     },
     "metadata": {},
     "output_type": "display_data"
    }
   ],
   "source": [
    "px.histogram(df, x='rating', title='Distribución de la puntuacion general en total')"
   ]
  },
  {
   "cell_type": "markdown",
   "id": "a9a1e9f1",
   "metadata": {},
   "source": [
    "Una de las preguntas es por qué la **puntuación** está distribuida de forma tan distintiva sobre *4.5* y no se distribuye como una [**distribución de Gauss**](https://es.wikipedia.org/wiki/Distribución_normal). Esto podría deberse a la irregularidad en los datos o a la falta de más datos para formar una distribución gaussiana. En el futuro, espero dar una respuesta definitiva a este problema.\n",
    "\n",
    "---"
   ]
  },
  {
   "cell_type": "markdown",
   "id": "cd451a62",
   "metadata": {},
   "source": [
    "---\n",
    "\n",
    "Ahora observemos el promedio de la puntuacion general definida por **municipios**, el mapa, indica datos como el **municipio**, la **Cantidad de locales evaluados** en ese **municipio**, y por supuesto la ***puntuacion promedio***.\n",
    "\n",
    "**Nota:** Agradecimientos especiales a [Yudivian](https://github.com/yudivian) por compartir el geojson usado en este proyecto, gracias a su   [proyecto en *GitHub*](https://github.com/yudivian/cuba-geojsons)."
   ]
  },
  {
   "cell_type": "code",
   "execution_count": 62,
   "id": "0ecd4d56",
   "metadata": {},
   "outputs": [
    {
     "data": {
      "application/vnd.plotly.v1+json": {
       "config": {
        "plotlyServerURL": "https://plot.ly"
       },
       "data": [
        {
         "coloraxis": "coloraxis",
         "customdata": [
          [
           "Plaza de la Revolucion",
           30,
           4.45
          ],
          [
           "Playa",
           30,
           4.35
          ],
          [
           "La Habana Vieja",
           0,
           0
          ],
          [
           "Centro Habana",
           41,
           4.378048780487805
          ],
          [
           "Cerro",
           2,
           4.5
          ],
          [
           "Diez de Octubre",
           31,
           4.47741935483871
          ],
          [
           "Marianao",
           0,
           0
          ],
          [
           "Boyeros",
           16,
           4.45625
          ],
          [
           "Arroyo Naranjo",
           11,
           4.495454545454546
          ],
          [
           "Cotorro",
           13,
           4.484615384615385
          ],
          [
           "San Miguel del Padron",
           11,
           4.490909090909091
          ],
          [
           "Regla",
           0,
           0
          ],
          [
           "Guanabacoa",
           14,
           4.464285714285714
          ],
          [
           "La Lisa",
           0,
           0
          ],
          [
           "Habana del Este",
           20,
           4.2725
          ]
         ],
         "featureidkey": "properties.DPA_municipality_code",
         "geo": "geo",
         "geojson": {
          "features": [
           {
            "geometry": {
             "coordinates": [
              [
               [
                -82.0881,
                23.1537
               ],
               [
                -82.0816,
                23.1496
               ],
               [
                -82.0795,
                23.1254
               ],
               [
                -82.0928,
                23.123
               ],
               [
                -82.0858,
                23.1064
               ],
               [
                -82.1013,
                23.094
               ],
               [
                -82.1012,
                23.0856
               ],
               [
                -82.1083,
                23.0815
               ],
               [
                -82.1092,
                23.0692
               ],
               [
                -82.1007,
                23.0564
               ],
               [
                -82.1144,
                23.0557
               ],
               [
                -82.1558,
                23.0753
               ],
               [
                -82.1651,
                23.0672
               ],
               [
                -82.1693,
                23.0731
               ],
               [
                -82.1615,
                23.0808
               ],
               [
                -82.1783,
                23.0913
               ],
               [
                -82.1679,
                23.0983
               ],
               [
                -82.1697,
                23.1133
               ],
               [
                -82.1936,
                23.1205
               ],
               [
                -82.1944,
                23.1262
               ],
               [
                -82.167,
                23.1419
               ],
               [
                -82.1697,
                23.1463
               ],
               [
                -82.1566,
                23.1528
               ],
               [
                -82.1725,
                23.1628
               ],
               [
                -82.2118,
                23.1554
               ],
               [
                -82.2395,
                23.1558
               ],
               [
                -82.2392,
                23.1445
               ],
               [
                -82.2675,
                23.1408
               ],
               [
                -82.2954,
                23.1332
               ],
               [
                -82.3071,
                23.1381
               ],
               [
                -82.3102,
                23.1497
               ],
               [
                -82.3358,
                23.1527
               ],
               [
                -82.3455,
                23.1449
               ],
               [
                -82.3557,
                23.152
               ],
               [
                -82.3312,
                23.1649
               ],
               [
                -82.299,
                23.1721
               ],
               [
                -82.2925,
                23.1697
               ],
               [
                -82.279,
                23.1761
               ],
               [
                -82.2658,
                23.1754
               ],
               [
                -82.2185,
                23.1822
               ],
               [
                -82.2095,
                23.1792
               ],
               [
                -82.1989,
                23.1821
               ],
               [
                -82.1858,
                23.1766
               ],
               [
                -82.138,
                23.1716
               ],
               [
                -82.1269,
                23.1757
               ],
               [
                -82.0954,
                23.1744
               ],
               [
                -82.0895,
                23.1791
               ],
               [
                -82.0922,
                23.1689
               ],
               [
                -82.1012,
                23.1675
               ],
               [
                -82.1021,
                23.1607
               ],
               [
                -82.0881,
                23.1537
               ]
              ]
             ],
             "type": "Polygon"
            },
            "properties": {
             "DPA_municipality_code": "23.06",
             "DPA_province_code": "23",
             "country": "Cuba",
             "country_domain": "cu",
             "municipality": "Habana del Este",
             "province": "La Habana",
             "province_id": "lha",
             "region": "municipality"
            },
            "type": "Feature"
           },
           {
            "geometry": {
             "coordinates": [
              [
               [
                -82.3785,
                23.1456
               ],
               [
                -82.3675,
                23.1433
               ],
               [
                -82.3577,
                23.146
               ],
               [
                -82.3585,
                23.1374
               ],
               [
                -82.3655,
                23.1248
               ],
               [
                -82.3743,
                23.1242
               ],
               [
                -82.3769,
                23.1322
               ],
               [
                -82.3785,
                23.1456
               ]
              ]
             ],
             "type": "Polygon"
            },
            "properties": {
             "DPA_municipality_code": "23.03",
             "DPA_province_code": "23",
             "country": "Cuba",
             "country_domain": "cu",
             "municipality": "Centro Habana",
             "province": "La Habana",
             "province_id": "lha",
             "region": "municipality"
            },
            "type": "Feature"
           },
           {
            "geometry": {
             "coordinates": [
              [
               [
                -82.3071,
                23.1381
               ],
               [
                -82.3237,
                23.1199
               ],
               [
                -82.3296,
                23.1104
               ],
               [
                -82.3394,
                23.1084
               ],
               [
                -82.3507,
                23.1122
               ],
               [
                -82.3513,
                23.1234
               ],
               [
                -82.3457,
                23.1267
               ],
               [
                -82.342,
                23.1151
               ],
               [
                -82.3378,
                23.1154
               ],
               [
                -82.3415,
                23.1268
               ],
               [
                -82.3391,
                23.1326
               ],
               [
                -82.3258,
                23.1355
               ],
               [
                -82.3232,
                23.1439
               ],
               [
                -82.3455,
                23.1449
               ],
               [
                -82.3358,
                23.1527
               ],
               [
                -82.3102,
                23.1497
               ],
               [
                -82.3071,
                23.1381
               ]
              ]
             ],
             "type": "Polygon"
            },
            "properties": {
             "DPA_municipality_code": "23.05",
             "DPA_province_code": "23",
             "country": "Cuba",
             "country_domain": "cu",
             "municipality": "Regla",
             "province": "La Habana",
             "province_id": "lha",
             "region": "municipality"
            },
            "type": "Feature"
           },
           {
            "geometry": {
             "coordinates": [
              [
               [
                -82.4107,
                23.1345
               ],
               [
                -82.3917,
                23.1481
               ],
               [
                -82.3785,
                23.1456
               ],
               [
                -82.3769,
                23.1322
               ],
               [
                -82.3863,
                23.1136
               ],
               [
                -82.404,
                23.1006
               ],
               [
                -82.4108,
                23.1042
               ],
               [
                -82.406,
                23.112
               ],
               [
                -82.4118,
                23.1217
               ],
               [
                -82.4107,
                23.1345
               ]
              ]
             ],
             "type": "Polygon"
            },
            "properties": {
             "DPA_municipality_code": "23.02",
             "DPA_province_code": "23",
             "country": "Cuba",
             "country_domain": "cu",
             "municipality": "Plaza de la Revolución",
             "province": "La Habana",
             "province_id": "lha",
             "region": "municipality"
            },
            "type": "Feature"
           },
           {
            "geometry": {
             "coordinates": [
              [
               [
                -82.3577,
                23.146
               ],
               [
                -82.3437,
                23.1371
               ],
               [
                -82.3563,
                23.1228
               ],
               [
                -82.3513,
                23.1234
               ],
               [
                -82.3507,
                23.1122
               ],
               [
                -82.3663,
                23.1143
               ],
               [
                -82.3655,
                23.1248
               ],
               [
                -82.3585,
                23.1374
               ],
               [
                -82.3577,
                23.146
               ]
              ]
             ],
             "type": "Polygon"
            },
            "properties": {
             "DPA_municipality_code": "23.04",
             "DPA_province_code": "23",
             "country": "Cuba",
             "country_domain": "cu",
             "municipality": "La Habana Vieja",
             "province": "La Habana",
             "province_id": "lha",
             "region": "municipality"
            },
            "type": "Feature"
           },
           {
            "geometry": {
             "coordinates": [
              [
               [
                -82.3655,
                23.1248
               ],
               [
                -82.3663,
                23.1143
               ],
               [
                -82.3794,
                23.1032
               ],
               [
                -82.3824,
                23.0971
               ],
               [
                -82.3801,
                23.0801
               ],
               [
                -82.4022,
                23.0753
               ],
               [
                -82.3976,
                23.0949
               ],
               [
                -82.4054,
                23.0993
               ],
               [
                -82.404,
                23.1006
               ],
               [
                -82.3863,
                23.1136
               ],
               [
                -82.3769,
                23.1322
               ],
               [
                -82.3743,
                23.1242
               ],
               [
                -82.3655,
                23.1248
               ]
              ]
             ],
             "type": "Polygon"
            },
            "properties": {
             "DPA_municipality_code": "23.10",
             "DPA_province_code": "23",
             "country": "Cuba",
             "country_domain": "cu",
             "municipality": "Cerro",
             "province": "La Habana",
             "province_id": "lha",
             "region": "municipality"
            },
            "type": "Feature"
           },
           {
            "geometry": {
             "coordinates": [
              [
               [
                -82.3663,
                23.1143
               ],
               [
                -82.3507,
                23.1122
               ],
               [
                -82.3427,
                23.1039
               ],
               [
                -82.3397,
                23.0924
               ],
               [
                -82.3361,
                23.0867
               ],
               [
                -82.3426,
                23.078
               ],
               [
                -82.3486,
                23.0853
               ],
               [
                -82.3801,
                23.0801
               ],
               [
                -82.3824,
                23.0971
               ],
               [
                -82.3794,
                23.1032
               ],
               [
                -82.3663,
                23.1143
               ]
              ]
             ],
             "type": "Polygon"
            },
            "properties": {
             "DPA_municipality_code": "23.09",
             "DPA_province_code": "23",
             "country": "Cuba",
             "country_domain": "cu",
             "municipality": "Diez de Octubre",
             "province": "La Habana",
             "province_id": "lha",
             "region": "municipality"
            },
            "type": "Feature"
           },
           {
            "geometry": {
             "coordinates": [
              [
               [
                -82.3071,
                23.1381
               ],
               [
                -82.2954,
                23.1332
               ],
               [
                -82.2675,
                23.1408
               ],
               [
                -82.2392,
                23.1445
               ],
               [
                -82.2395,
                23.1558
               ],
               [
                -82.2118,
                23.1554
               ],
               [
                -82.1725,
                23.1628
               ],
               [
                -82.1566,
                23.1528
               ],
               [
                -82.1697,
                23.1463
               ],
               [
                -82.167,
                23.1419
               ],
               [
                -82.1944,
                23.1262
               ],
               [
                -82.1936,
                23.1205
               ],
               [
                -82.1697,
                23.1133
               ],
               [
                -82.1679,
                23.0983
               ],
               [
                -82.1783,
                23.0913
               ],
               [
                -82.1615,
                23.0808
               ],
               [
                -82.1693,
                23.0731
               ],
               [
                -82.1651,
                23.0672
               ],
               [
                -82.176,
                23.0585
               ],
               [
                -82.1903,
                23.062
               ],
               [
                -82.2049,
                23.0616
               ],
               [
                -82.2227,
                23.0649
               ],
               [
                -82.2236,
                23.0508
               ],
               [
                -82.2338,
                23.0541
               ],
               [
                -82.2475,
                23.0665
               ],
               [
                -82.2598,
                23.0686
               ],
               [
                -82.2719,
                23.0801
               ],
               [
                -82.2946,
                23.0971
               ],
               [
                -82.3296,
                23.1104
               ],
               [
                -82.3237,
                23.1199
               ],
               [
                -82.3071,
                23.1381
               ]
              ]
             ],
             "type": "Polygon"
            },
            "properties": {
             "DPA_municipality_code": "23.07",
             "DPA_province_code": "23",
             "country": "Cuba",
             "country_domain": "cu",
             "municipality": "Guanabacoa",
             "province": "La Habana",
             "province_id": "lha",
             "region": "municipality"
            },
            "type": "Feature"
           },
           {
            "geometry": {
             "coordinates": [
              [
               [
                -82.3296,
                23.1104
               ],
               [
                -82.2946,
                23.0971
               ],
               [
                -82.2719,
                23.0801
               ],
               [
                -82.2773,
                23.0689
               ],
               [
                -82.2977,
                23.0568
               ],
               [
                -82.3135,
                23.0538
               ],
               [
                -82.319,
                23.0637
               ],
               [
                -82.3085,
                23.0674
               ],
               [
                -82.3235,
                23.0717
               ],
               [
                -82.3318,
                23.089
               ],
               [
                -82.3397,
                23.0924
               ],
               [
                -82.3427,
                23.1039
               ],
               [
                -82.3507,
                23.1122
               ],
               [
                -82.3394,
                23.1084
               ],
               [
                -82.3296,
                23.1104
               ]
              ]
             ],
             "type": "Polygon"
            },
            "properties": {
             "DPA_municipality_code": "23.08",
             "DPA_province_code": "23",
             "country": "Cuba",
             "country_domain": "cu",
             "municipality": "San Miguel del Padrón",
             "province": "La Habana",
             "province_id": "lha",
             "region": "municipality"
            },
            "type": "Feature"
           },
           {
            "geometry": {
             "coordinates": [
              [
               [
                -82.4107,
                23.1345
               ],
               [
                -82.4118,
                23.1217
               ],
               [
                -82.406,
                23.112
               ],
               [
                -82.4108,
                23.1042
               ],
               [
                -82.404,
                23.1006
               ],
               [
                -82.4054,
                23.0993
               ],
               [
                -82.4176,
                23.0978
               ],
               [
                -82.439,
                23.0871
               ],
               [
                -82.4414,
                23.0752
               ],
               [
                -82.4522,
                23.0697
               ],
               [
                -82.458,
                23.0762
               ],
               [
                -82.4639,
                23.0729
               ],
               [
                -82.4828,
                23.0537
               ],
               [
                -82.4893,
                23.0498
               ],
               [
                -82.4893,
                23.0684
               ],
               [
                -82.4918,
                23.0745
               ],
               [
                -82.5017,
                23.0697
               ],
               [
                -82.5105,
                23.0712
               ],
               [
                -82.5325,
                23.0532
               ],
               [
                -82.5408,
                23.0544
               ],
               [
                -82.5322,
                23.065
               ],
               [
                -82.5103,
                23.0851
               ],
               [
                -82.5053,
                23.0813
               ],
               [
                -82.4958,
                23.0874
               ],
               [
                -82.5029,
                23.0903
               ],
               [
                -82.4948,
                23.0948
               ],
               [
                -82.4642,
                23.094
               ],
               [
                -82.4486,
                23.1049
               ],
               [
                -82.4233,
                23.1287
               ],
               [
                -82.4107,
                23.1345
               ]
              ]
             ],
             "type": "Polygon"
            },
            "properties": {
             "DPA_municipality_code": "23.01",
             "DPA_province_code": "23",
             "country": "Cuba",
             "country_domain": "cu",
             "municipality": "Playa",
             "province": "La Habana",
             "province_id": "lha",
             "region": "municipality"
            },
            "type": "Feature"
           },
           {
            "geometry": {
             "coordinates": [
              [
               [
                -82.3397,
                23.0924
               ],
               [
                -82.3318,
                23.089
               ],
               [
                -82.3235,
                23.0717
               ],
               [
                -82.3085,
                23.0674
               ],
               [
                -82.319,
                23.0637
               ],
               [
                -82.3135,
                23.0538
               ],
               [
                -82.3091,
                23.0448
               ],
               [
                -82.3111,
                23.0351
               ],
               [
                -82.303,
                23.0196
               ],
               [
                -82.2588,
                22.975
               ],
               [
                -82.2614,
                22.9743
               ],
               [
                -82.2471,
                22.9573
               ],
               [
                -82.2713,
                22.9575
               ],
               [
                -82.2794,
                22.9528
               ],
               [
                -82.2973,
                22.9551
               ],
               [
                -82.3005,
                22.9636
               ],
               [
                -82.3128,
                22.9658
               ],
               [
                -82.3194,
                22.9625
               ],
               [
                -82.3214,
                22.9684
               ],
               [
                -82.319,
                22.9847
               ],
               [
                -82.3331,
                23.0001
               ],
               [
                -82.3456,
                23.0056
               ],
               [
                -82.3508,
                23.0127
               ],
               [
                -82.3573,
                23.0125
               ],
               [
                -82.3707,
                23.0213
               ],
               [
                -82.3676,
                23.0473
               ],
               [
                -82.3763,
                23.0557
               ],
               [
                -82.3801,
                23.0801
               ],
               [
                -82.3486,
                23.0853
               ],
               [
                -82.3426,
                23.078
               ],
               [
                -82.3361,
                23.0867
               ],
               [
                -82.3397,
                23.0924
               ]
              ]
             ],
             "type": "Polygon"
            },
            "properties": {
             "DPA_municipality_code": "23.14",
             "DPA_province_code": "23",
             "country": "Cuba",
             "country_domain": "cu",
             "municipality": "Arroyo Naranjo",
             "province": "La Habana",
             "province_id": "lha",
             "region": "municipality"
            },
            "type": "Feature"
           },
           {
            "geometry": {
             "coordinates": [
              [
               [
                -82.4022,
                23.0753
               ],
               [
                -82.3801,
                23.0801
               ],
               [
                -82.3763,
                23.0557
               ],
               [
                -82.3676,
                23.0473
               ],
               [
                -82.3707,
                23.0213
               ],
               [
                -82.3573,
                23.0125
               ],
               [
                -82.3508,
                23.0127
               ],
               [
                -82.3456,
                23.0056
               ],
               [
                -82.3331,
                23.0001
               ],
               [
                -82.319,
                22.9847
               ],
               [
                -82.3214,
                22.9684
               ],
               [
                -82.3194,
                22.9625
               ],
               [
                -82.3301,
                22.9572
               ],
               [
                -82.3644,
                22.9676
               ],
               [
                -82.3771,
                22.9666
               ],
               [
                -82.3755,
                22.9567
               ],
               [
                -82.3654,
                22.9414
               ],
               [
                -82.3865,
                22.9346
               ],
               [
                -82.4118,
                22.9491
               ],
               [
                -82.4283,
                22.9475
               ],
               [
                -82.4332,
                22.9412
               ],
               [
                -82.4454,
                22.948
               ],
               [
                -82.4433,
                22.9823
               ],
               [
                -82.4478,
                22.986
               ],
               [
                -82.4574,
                22.9784
               ],
               [
                -82.4658,
                22.9829
               ],
               [
                -82.4707,
                22.9789
               ],
               [
                -82.4731,
                22.9968
               ],
               [
                -82.4704,
                23.0146
               ],
               [
                -82.4551,
                23.0238
               ],
               [
                -82.4514,
                23.0194
               ],
               [
                -82.4429,
                23.0253
               ],
               [
                -82.4291,
                23.0318
               ],
               [
                -82.4293,
                23.046
               ],
               [
                -82.4193,
                23.0495
               ],
               [
                -82.4066,
                23.0446
               ],
               [
                -82.408,
                23.0636
               ],
               [
                -82.4022,
                23.0753
               ]
              ]
             ],
             "type": "Polygon"
            },
            "properties": {
             "DPA_municipality_code": "23.13",
             "DPA_province_code": "23",
             "country": "Cuba",
             "country_domain": "cu",
             "municipality": "Boyeros",
             "province": "La Habana",
             "province_id": "lha",
             "region": "municipality"
            },
            "type": "Feature"
           },
           {
            "geometry": {
             "coordinates": [
              [
               [
                -82.4054,
                23.0993
               ],
               [
                -82.3976,
                23.0949
               ],
               [
                -82.4022,
                23.0753
               ],
               [
                -82.408,
                23.0636
               ],
               [
                -82.4066,
                23.0446
               ],
               [
                -82.4193,
                23.0495
               ],
               [
                -82.4293,
                23.046
               ],
               [
                -82.4291,
                23.0318
               ],
               [
                -82.4429,
                23.0253
               ],
               [
                -82.4461,
                23.0424
               ],
               [
                -82.434,
                23.0541
               ],
               [
                -82.4344,
                23.0656
               ],
               [
                -82.4414,
                23.0752
               ],
               [
                -82.439,
                23.0871
               ],
               [
                -82.4176,
                23.0978
               ],
               [
                -82.4054,
                23.0993
               ]
              ]
             ],
             "type": "Polygon"
            },
            "properties": {
             "DPA_municipality_code": "23.11",
             "DPA_province_code": "23",
             "country": "Cuba",
             "country_domain": "cu",
             "municipality": "Marianao",
             "province": "La Habana",
             "province_id": "lha",
             "region": "municipality"
            },
            "type": "Feature"
           },
           {
            "geometry": {
             "coordinates": [
              [
               [
                -82.2719,
                23.0801
               ],
               [
                -82.2598,
                23.0686
               ],
               [
                -82.2475,
                23.0665
               ],
               [
                -82.2338,
                23.0541
               ],
               [
                -82.2236,
                23.0508
               ],
               [
                -82.2261,
                23.0214
               ],
               [
                -82.2208,
                23.0153
               ],
               [
                -82.196,
                22.9981
               ],
               [
                -82.1975,
                22.9939
               ],
               [
                -82.2111,
                22.9954
               ],
               [
                -82.2163,
                23.0006
               ],
               [
                -82.2279,
                22.9813
               ],
               [
                -82.2588,
                22.975
               ],
               [
                -82.303,
                23.0196
               ],
               [
                -82.3111,
                23.0351
               ],
               [
                -82.3091,
                23.0448
               ],
               [
                -82.3135,
                23.0538
               ],
               [
                -82.2977,
                23.0568
               ],
               [
                -82.2773,
                23.0689
               ],
               [
                -82.2719,
                23.0801
               ]
              ]
             ],
             "type": "Polygon"
            },
            "properties": {
             "DPA_municipality_code": "23.15",
             "DPA_province_code": "23",
             "country": "Cuba",
             "country_domain": "cu",
             "municipality": "Cotorro",
             "province": "La Habana",
             "province_id": "lha",
             "region": "municipality"
            },
            "type": "Feature"
           },
           {
            "geometry": {
             "coordinates": [
              [
               [
                -82.4893,
                23.0498
               ],
               [
                -82.4828,
                23.0537
               ],
               [
                -82.4639,
                23.0729
               ],
               [
                -82.458,
                23.0762
               ],
               [
                -82.4522,
                23.0697
               ],
               [
                -82.4414,
                23.0752
               ],
               [
                -82.4344,
                23.0656
               ],
               [
                -82.434,
                23.0541
               ],
               [
                -82.4461,
                23.0424
               ],
               [
                -82.4429,
                23.0253
               ],
               [
                -82.4514,
                23.0194
               ],
               [
                -82.4551,
                23.0238
               ],
               [
                -82.4704,
                23.0146
               ],
               [
                -82.4731,
                22.9968
               ],
               [
                -82.4707,
                22.9789
               ],
               [
                -82.4839,
                22.9739
               ],
               [
                -82.4918,
                22.9898
               ],
               [
                -82.4977,
                22.9956
               ],
               [
                -82.5009,
                23.0104
               ],
               [
                -82.5078,
                23.0162
               ],
               [
                -82.5063,
                23.0221
               ],
               [
                -82.4946,
                23.0332
               ],
               [
                -82.497,
                23.0402
               ],
               [
                -82.4893,
                23.0498
               ]
              ]
             ],
             "type": "Polygon"
            },
            "properties": {
             "DPA_municipality_code": "23.12",
             "DPA_province_code": "23",
             "country": "Cuba",
             "country_domain": "cu",
             "municipality": "La Lisa",
             "province": "La Habana",
             "province_id": "lha",
             "region": "municipality"
            },
            "type": "Feature"
           }
          ],
          "type": "FeatureCollection"
         },
         "hovertemplate": "<b>%{hovertext}</b><br><br>Municipio id=%{location}<br>Municipio=%{customdata[0]}<br>Cantidad de locales evaluados=%{customdata[1]}<br>Puntuacion promedio=%{z}<extra></extra>",
         "hovertext": [
          "Plaza de la Revolucion",
          "Playa",
          "La Habana Vieja",
          "Centro Habana",
          "Cerro",
          "Diez de Octubre",
          "Marianao",
          "Boyeros",
          "Arroyo Naranjo",
          "Cotorro",
          "San Miguel del Padron",
          "Regla",
          "Guanabacoa",
          "La Lisa",
          "Habana del Este"
         ],
         "locations": [
          "23.02",
          "23.01",
          "23.04",
          "23.03",
          "23.10",
          "23.09",
          "23.11",
          "23.13",
          "23.14",
          "23.15",
          "23.08",
          "23.05",
          "23.07",
          "23.12",
          "23.06"
         ],
         "name": "",
         "type": "choropleth",
         "z": [
          4.45,
          4.35,
          0,
          4.378048780487805,
          4.5,
          4.47741935483871,
          0,
          4.45625,
          4.495454545454546,
          4.484615384615385,
          4.490909090909091,
          0,
          4.464285714285714,
          0,
          4.2725
         ]
        }
       ],
       "layout": {
        "coloraxis": {
         "cmax": 5,
         "cmin": 0,
         "colorbar": {
          "title": {
           "text": "Puntuacion promedio"
          }
         },
         "colorscale": [
          [
           0,
           "rgb(255,245,240)"
          ],
          [
           0.125,
           "rgb(254,224,210)"
          ],
          [
           0.25,
           "rgb(252,187,161)"
          ],
          [
           0.375,
           "rgb(252,146,114)"
          ],
          [
           0.5,
           "rgb(251,106,74)"
          ],
          [
           0.625,
           "rgb(239,59,44)"
          ],
          [
           0.75,
           "rgb(203,24,29)"
          ],
          [
           0.875,
           "rgb(165,15,21)"
          ],
          [
           1,
           "rgb(103,0,13)"
          ]
         ]
        },
        "geo": {
         "center": {},
         "domain": {
          "x": [
           0,
           1
          ],
          "y": [
           0,
           1
          ]
         },
         "fitbounds": "locations",
         "visible": false
        },
        "legend": {
         "tracegroupgap": 0
        },
        "template": {
         "data": {
          "bar": [
           {
            "error_x": {
             "color": "#2a3f5f"
            },
            "error_y": {
             "color": "#2a3f5f"
            },
            "marker": {
             "line": {
              "color": "#E5ECF6",
              "width": 0.5
             },
             "pattern": {
              "fillmode": "overlay",
              "size": 10,
              "solidity": 0.2
             }
            },
            "type": "bar"
           }
          ],
          "barpolar": [
           {
            "marker": {
             "line": {
              "color": "#E5ECF6",
              "width": 0.5
             },
             "pattern": {
              "fillmode": "overlay",
              "size": 10,
              "solidity": 0.2
             }
            },
            "type": "barpolar"
           }
          ],
          "carpet": [
           {
            "aaxis": {
             "endlinecolor": "#2a3f5f",
             "gridcolor": "white",
             "linecolor": "white",
             "minorgridcolor": "white",
             "startlinecolor": "#2a3f5f"
            },
            "baxis": {
             "endlinecolor": "#2a3f5f",
             "gridcolor": "white",
             "linecolor": "white",
             "minorgridcolor": "white",
             "startlinecolor": "#2a3f5f"
            },
            "type": "carpet"
           }
          ],
          "choropleth": [
           {
            "colorbar": {
             "outlinewidth": 0,
             "ticks": ""
            },
            "type": "choropleth"
           }
          ],
          "contour": [
           {
            "colorbar": {
             "outlinewidth": 0,
             "ticks": ""
            },
            "colorscale": [
             [
              0,
              "#0d0887"
             ],
             [
              0.1111111111111111,
              "#46039f"
             ],
             [
              0.2222222222222222,
              "#7201a8"
             ],
             [
              0.3333333333333333,
              "#9c179e"
             ],
             [
              0.4444444444444444,
              "#bd3786"
             ],
             [
              0.5555555555555556,
              "#d8576b"
             ],
             [
              0.6666666666666666,
              "#ed7953"
             ],
             [
              0.7777777777777778,
              "#fb9f3a"
             ],
             [
              0.8888888888888888,
              "#fdca26"
             ],
             [
              1,
              "#f0f921"
             ]
            ],
            "type": "contour"
           }
          ],
          "contourcarpet": [
           {
            "colorbar": {
             "outlinewidth": 0,
             "ticks": ""
            },
            "type": "contourcarpet"
           }
          ],
          "heatmap": [
           {
            "colorbar": {
             "outlinewidth": 0,
             "ticks": ""
            },
            "colorscale": [
             [
              0,
              "#0d0887"
             ],
             [
              0.1111111111111111,
              "#46039f"
             ],
             [
              0.2222222222222222,
              "#7201a8"
             ],
             [
              0.3333333333333333,
              "#9c179e"
             ],
             [
              0.4444444444444444,
              "#bd3786"
             ],
             [
              0.5555555555555556,
              "#d8576b"
             ],
             [
              0.6666666666666666,
              "#ed7953"
             ],
             [
              0.7777777777777778,
              "#fb9f3a"
             ],
             [
              0.8888888888888888,
              "#fdca26"
             ],
             [
              1,
              "#f0f921"
             ]
            ],
            "type": "heatmap"
           }
          ],
          "heatmapgl": [
           {
            "colorbar": {
             "outlinewidth": 0,
             "ticks": ""
            },
            "colorscale": [
             [
              0,
              "#0d0887"
             ],
             [
              0.1111111111111111,
              "#46039f"
             ],
             [
              0.2222222222222222,
              "#7201a8"
             ],
             [
              0.3333333333333333,
              "#9c179e"
             ],
             [
              0.4444444444444444,
              "#bd3786"
             ],
             [
              0.5555555555555556,
              "#d8576b"
             ],
             [
              0.6666666666666666,
              "#ed7953"
             ],
             [
              0.7777777777777778,
              "#fb9f3a"
             ],
             [
              0.8888888888888888,
              "#fdca26"
             ],
             [
              1,
              "#f0f921"
             ]
            ],
            "type": "heatmapgl"
           }
          ],
          "histogram": [
           {
            "marker": {
             "pattern": {
              "fillmode": "overlay",
              "size": 10,
              "solidity": 0.2
             }
            },
            "type": "histogram"
           }
          ],
          "histogram2d": [
           {
            "colorbar": {
             "outlinewidth": 0,
             "ticks": ""
            },
            "colorscale": [
             [
              0,
              "#0d0887"
             ],
             [
              0.1111111111111111,
              "#46039f"
             ],
             [
              0.2222222222222222,
              "#7201a8"
             ],
             [
              0.3333333333333333,
              "#9c179e"
             ],
             [
              0.4444444444444444,
              "#bd3786"
             ],
             [
              0.5555555555555556,
              "#d8576b"
             ],
             [
              0.6666666666666666,
              "#ed7953"
             ],
             [
              0.7777777777777778,
              "#fb9f3a"
             ],
             [
              0.8888888888888888,
              "#fdca26"
             ],
             [
              1,
              "#f0f921"
             ]
            ],
            "type": "histogram2d"
           }
          ],
          "histogram2dcontour": [
           {
            "colorbar": {
             "outlinewidth": 0,
             "ticks": ""
            },
            "colorscale": [
             [
              0,
              "#0d0887"
             ],
             [
              0.1111111111111111,
              "#46039f"
             ],
             [
              0.2222222222222222,
              "#7201a8"
             ],
             [
              0.3333333333333333,
              "#9c179e"
             ],
             [
              0.4444444444444444,
              "#bd3786"
             ],
             [
              0.5555555555555556,
              "#d8576b"
             ],
             [
              0.6666666666666666,
              "#ed7953"
             ],
             [
              0.7777777777777778,
              "#fb9f3a"
             ],
             [
              0.8888888888888888,
              "#fdca26"
             ],
             [
              1,
              "#f0f921"
             ]
            ],
            "type": "histogram2dcontour"
           }
          ],
          "mesh3d": [
           {
            "colorbar": {
             "outlinewidth": 0,
             "ticks": ""
            },
            "type": "mesh3d"
           }
          ],
          "parcoords": [
           {
            "line": {
             "colorbar": {
              "outlinewidth": 0,
              "ticks": ""
             }
            },
            "type": "parcoords"
           }
          ],
          "pie": [
           {
            "automargin": true,
            "type": "pie"
           }
          ],
          "scatter": [
           {
            "fillpattern": {
             "fillmode": "overlay",
             "size": 10,
             "solidity": 0.2
            },
            "type": "scatter"
           }
          ],
          "scatter3d": [
           {
            "line": {
             "colorbar": {
              "outlinewidth": 0,
              "ticks": ""
             }
            },
            "marker": {
             "colorbar": {
              "outlinewidth": 0,
              "ticks": ""
             }
            },
            "type": "scatter3d"
           }
          ],
          "scattercarpet": [
           {
            "marker": {
             "colorbar": {
              "outlinewidth": 0,
              "ticks": ""
             }
            },
            "type": "scattercarpet"
           }
          ],
          "scattergeo": [
           {
            "marker": {
             "colorbar": {
              "outlinewidth": 0,
              "ticks": ""
             }
            },
            "type": "scattergeo"
           }
          ],
          "scattergl": [
           {
            "marker": {
             "colorbar": {
              "outlinewidth": 0,
              "ticks": ""
             }
            },
            "type": "scattergl"
           }
          ],
          "scattermapbox": [
           {
            "marker": {
             "colorbar": {
              "outlinewidth": 0,
              "ticks": ""
             }
            },
            "type": "scattermapbox"
           }
          ],
          "scatterpolar": [
           {
            "marker": {
             "colorbar": {
              "outlinewidth": 0,
              "ticks": ""
             }
            },
            "type": "scatterpolar"
           }
          ],
          "scatterpolargl": [
           {
            "marker": {
             "colorbar": {
              "outlinewidth": 0,
              "ticks": ""
             }
            },
            "type": "scatterpolargl"
           }
          ],
          "scatterternary": [
           {
            "marker": {
             "colorbar": {
              "outlinewidth": 0,
              "ticks": ""
             }
            },
            "type": "scatterternary"
           }
          ],
          "surface": [
           {
            "colorbar": {
             "outlinewidth": 0,
             "ticks": ""
            },
            "colorscale": [
             [
              0,
              "#0d0887"
             ],
             [
              0.1111111111111111,
              "#46039f"
             ],
             [
              0.2222222222222222,
              "#7201a8"
             ],
             [
              0.3333333333333333,
              "#9c179e"
             ],
             [
              0.4444444444444444,
              "#bd3786"
             ],
             [
              0.5555555555555556,
              "#d8576b"
             ],
             [
              0.6666666666666666,
              "#ed7953"
             ],
             [
              0.7777777777777778,
              "#fb9f3a"
             ],
             [
              0.8888888888888888,
              "#fdca26"
             ],
             [
              1,
              "#f0f921"
             ]
            ],
            "type": "surface"
           }
          ],
          "table": [
           {
            "cells": {
             "fill": {
              "color": "#EBF0F8"
             },
             "line": {
              "color": "white"
             }
            },
            "header": {
             "fill": {
              "color": "#C8D4E3"
             },
             "line": {
              "color": "white"
             }
            },
            "type": "table"
           }
          ]
         },
         "layout": {
          "annotationdefaults": {
           "arrowcolor": "#2a3f5f",
           "arrowhead": 0,
           "arrowwidth": 1
          },
          "autotypenumbers": "strict",
          "coloraxis": {
           "colorbar": {
            "outlinewidth": 0,
            "ticks": ""
           }
          },
          "colorscale": {
           "diverging": [
            [
             0,
             "#8e0152"
            ],
            [
             0.1,
             "#c51b7d"
            ],
            [
             0.2,
             "#de77ae"
            ],
            [
             0.3,
             "#f1b6da"
            ],
            [
             0.4,
             "#fde0ef"
            ],
            [
             0.5,
             "#f7f7f7"
            ],
            [
             0.6,
             "#e6f5d0"
            ],
            [
             0.7,
             "#b8e186"
            ],
            [
             0.8,
             "#7fbc41"
            ],
            [
             0.9,
             "#4d9221"
            ],
            [
             1,
             "#276419"
            ]
           ],
           "sequential": [
            [
             0,
             "#0d0887"
            ],
            [
             0.1111111111111111,
             "#46039f"
            ],
            [
             0.2222222222222222,
             "#7201a8"
            ],
            [
             0.3333333333333333,
             "#9c179e"
            ],
            [
             0.4444444444444444,
             "#bd3786"
            ],
            [
             0.5555555555555556,
             "#d8576b"
            ],
            [
             0.6666666666666666,
             "#ed7953"
            ],
            [
             0.7777777777777778,
             "#fb9f3a"
            ],
            [
             0.8888888888888888,
             "#fdca26"
            ],
            [
             1,
             "#f0f921"
            ]
           ],
           "sequentialminus": [
            [
             0,
             "#0d0887"
            ],
            [
             0.1111111111111111,
             "#46039f"
            ],
            [
             0.2222222222222222,
             "#7201a8"
            ],
            [
             0.3333333333333333,
             "#9c179e"
            ],
            [
             0.4444444444444444,
             "#bd3786"
            ],
            [
             0.5555555555555556,
             "#d8576b"
            ],
            [
             0.6666666666666666,
             "#ed7953"
            ],
            [
             0.7777777777777778,
             "#fb9f3a"
            ],
            [
             0.8888888888888888,
             "#fdca26"
            ],
            [
             1,
             "#f0f921"
            ]
           ]
          },
          "colorway": [
           "#636efa",
           "#EF553B",
           "#00cc96",
           "#ab63fa",
           "#FFA15A",
           "#19d3f3",
           "#FF6692",
           "#B6E880",
           "#FF97FF",
           "#FECB52"
          ],
          "font": {
           "color": "#2a3f5f"
          },
          "geo": {
           "bgcolor": "white",
           "lakecolor": "white",
           "landcolor": "#E5ECF6",
           "showlakes": true,
           "showland": true,
           "subunitcolor": "white"
          },
          "hoverlabel": {
           "align": "left"
          },
          "hovermode": "closest",
          "mapbox": {
           "style": "light"
          },
          "paper_bgcolor": "white",
          "plot_bgcolor": "#E5ECF6",
          "polar": {
           "angularaxis": {
            "gridcolor": "white",
            "linecolor": "white",
            "ticks": ""
           },
           "bgcolor": "#E5ECF6",
           "radialaxis": {
            "gridcolor": "white",
            "linecolor": "white",
            "ticks": ""
           }
          },
          "scene": {
           "xaxis": {
            "backgroundcolor": "#E5ECF6",
            "gridcolor": "white",
            "gridwidth": 2,
            "linecolor": "white",
            "showbackground": true,
            "ticks": "",
            "zerolinecolor": "white"
           },
           "yaxis": {
            "backgroundcolor": "#E5ECF6",
            "gridcolor": "white",
            "gridwidth": 2,
            "linecolor": "white",
            "showbackground": true,
            "ticks": "",
            "zerolinecolor": "white"
           },
           "zaxis": {
            "backgroundcolor": "#E5ECF6",
            "gridcolor": "white",
            "gridwidth": 2,
            "linecolor": "white",
            "showbackground": true,
            "ticks": "",
            "zerolinecolor": "white"
           }
          },
          "shapedefaults": {
           "line": {
            "color": "#2a3f5f"
           }
          },
          "ternary": {
           "aaxis": {
            "gridcolor": "white",
            "linecolor": "white",
            "ticks": ""
           },
           "baxis": {
            "gridcolor": "white",
            "linecolor": "white",
            "ticks": ""
           },
           "bgcolor": "#E5ECF6",
           "caxis": {
            "gridcolor": "white",
            "linecolor": "white",
            "ticks": ""
           }
          },
          "title": {
           "x": 0.05
          },
          "xaxis": {
           "automargin": true,
           "gridcolor": "white",
           "linecolor": "white",
           "ticks": "",
           "title": {
            "standoff": 15
           },
           "zerolinecolor": "white",
           "zerolinewidth": 2
          },
          "yaxis": {
           "automargin": true,
           "gridcolor": "white",
           "linecolor": "white",
           "ticks": "",
           "title": {
            "standoff": 15
           },
           "zerolinecolor": "white",
           "zerolinewidth": 2
          }
         }
        },
        "title": {
         "text": "Promedio de la puntuacion general (0=min - 5=max) por municipio en La Habana"
        }
       }
      }
     },
     "metadata": {},
     "output_type": "display_data"
    },
    {
     "data": {
      "text/html": [
       "<div>\n",
       "<style scoped>\n",
       "    .dataframe tbody tr th:only-of-type {\n",
       "        vertical-align: middle;\n",
       "    }\n",
       "\n",
       "    .dataframe tbody tr th {\n",
       "        vertical-align: top;\n",
       "    }\n",
       "\n",
       "    .dataframe thead th {\n",
       "        text-align: right;\n",
       "    }\n",
       "</style>\n",
       "<table border=\"1\" class=\"dataframe\">\n",
       "  <thead>\n",
       "    <tr style=\"text-align: right;\">\n",
       "      <th></th>\n",
       "      <th>Municipio</th>\n",
       "      <th>Municipio id</th>\n",
       "      <th>Puntuacion promedio</th>\n",
       "      <th>Cantidad de locales evaluados</th>\n",
       "    </tr>\n",
       "  </thead>\n",
       "  <tbody>\n",
       "    <tr>\n",
       "      <th>0</th>\n",
       "      <td>Centro Habana</td>\n",
       "      <td>23.03</td>\n",
       "      <td>4.378049</td>\n",
       "      <td>41.0</td>\n",
       "    </tr>\n",
       "    <tr>\n",
       "      <th>1</th>\n",
       "      <td>Diez de Octubre</td>\n",
       "      <td>23.09</td>\n",
       "      <td>4.477419</td>\n",
       "      <td>31.0</td>\n",
       "    </tr>\n",
       "    <tr>\n",
       "      <th>2</th>\n",
       "      <td>Plaza de la Revolucion</td>\n",
       "      <td>23.02</td>\n",
       "      <td>4.450000</td>\n",
       "      <td>30.0</td>\n",
       "    </tr>\n",
       "    <tr>\n",
       "      <th>3</th>\n",
       "      <td>Playa</td>\n",
       "      <td>23.01</td>\n",
       "      <td>4.350000</td>\n",
       "      <td>30.0</td>\n",
       "    </tr>\n",
       "    <tr>\n",
       "      <th>4</th>\n",
       "      <td>Habana del Este</td>\n",
       "      <td>23.06</td>\n",
       "      <td>4.272500</td>\n",
       "      <td>20.0</td>\n",
       "    </tr>\n",
       "    <tr>\n",
       "      <th>5</th>\n",
       "      <td>Boyeros</td>\n",
       "      <td>23.13</td>\n",
       "      <td>4.456250</td>\n",
       "      <td>16.0</td>\n",
       "    </tr>\n",
       "    <tr>\n",
       "      <th>6</th>\n",
       "      <td>Guanabacoa</td>\n",
       "      <td>23.07</td>\n",
       "      <td>4.464286</td>\n",
       "      <td>14.0</td>\n",
       "    </tr>\n",
       "    <tr>\n",
       "      <th>7</th>\n",
       "      <td>Cotorro</td>\n",
       "      <td>23.15</td>\n",
       "      <td>4.484615</td>\n",
       "      <td>13.0</td>\n",
       "    </tr>\n",
       "    <tr>\n",
       "      <th>8</th>\n",
       "      <td>San Miguel del Padron</td>\n",
       "      <td>23.08</td>\n",
       "      <td>4.490909</td>\n",
       "      <td>11.0</td>\n",
       "    </tr>\n",
       "    <tr>\n",
       "      <th>9</th>\n",
       "      <td>Arroyo Naranjo</td>\n",
       "      <td>23.14</td>\n",
       "      <td>4.495455</td>\n",
       "      <td>11.0</td>\n",
       "    </tr>\n",
       "    <tr>\n",
       "      <th>10</th>\n",
       "      <td>Cerro</td>\n",
       "      <td>23.10</td>\n",
       "      <td>4.500000</td>\n",
       "      <td>2.0</td>\n",
       "    </tr>\n",
       "    <tr>\n",
       "      <th>11</th>\n",
       "      <td>Marianao</td>\n",
       "      <td>23.11</td>\n",
       "      <td>0.000000</td>\n",
       "      <td>0.0</td>\n",
       "    </tr>\n",
       "    <tr>\n",
       "      <th>12</th>\n",
       "      <td>La Habana Vieja</td>\n",
       "      <td>23.04</td>\n",
       "      <td>0.000000</td>\n",
       "      <td>0.0</td>\n",
       "    </tr>\n",
       "    <tr>\n",
       "      <th>13</th>\n",
       "      <td>Regla</td>\n",
       "      <td>23.05</td>\n",
       "      <td>0.000000</td>\n",
       "      <td>0.0</td>\n",
       "    </tr>\n",
       "    <tr>\n",
       "      <th>14</th>\n",
       "      <td>La Lisa</td>\n",
       "      <td>23.12</td>\n",
       "      <td>0.000000</td>\n",
       "      <td>0.0</td>\n",
       "    </tr>\n",
       "  </tbody>\n",
       "</table>\n",
       "</div>"
      ],
      "text/plain": [
       "                 Municipio Municipio id  Puntuacion promedio  \\\n",
       "0            Centro Habana        23.03             4.378049   \n",
       "1          Diez de Octubre        23.09             4.477419   \n",
       "2   Plaza de la Revolucion        23.02             4.450000   \n",
       "3                    Playa        23.01             4.350000   \n",
       "4          Habana del Este        23.06             4.272500   \n",
       "5                  Boyeros        23.13             4.456250   \n",
       "6               Guanabacoa        23.07             4.464286   \n",
       "7                  Cotorro        23.15             4.484615   \n",
       "8    San Miguel del Padron        23.08             4.490909   \n",
       "9           Arroyo Naranjo        23.14             4.495455   \n",
       "10                   Cerro        23.10             4.500000   \n",
       "11                Marianao        23.11             0.000000   \n",
       "12         La Habana Vieja        23.04             0.000000   \n",
       "13                   Regla        23.05             0.000000   \n",
       "14                 La Lisa        23.12             0.000000   \n",
       "\n",
       "    Cantidad de locales evaluados  \n",
       "0                            41.0  \n",
       "1                            31.0  \n",
       "2                            30.0  \n",
       "3                            30.0  \n",
       "4                            20.0  \n",
       "5                            16.0  \n",
       "6                            14.0  \n",
       "7                            13.0  \n",
       "8                            11.0  \n",
       "9                            11.0  \n",
       "10                            2.0  \n",
       "11                            0.0  \n",
       "12                            0.0  \n",
       "13                            0.0  \n",
       "14                            0.0  "
      ]
     },
     "execution_count": 62,
     "metadata": {},
     "output_type": "execute_result"
    }
   ],
   "source": [
    "result_tabla = map_geojson_show(df)\n",
    "result_tabla.sort_values(by='Cantidad de locales evaluados', ascending=False).reset_index(drop=True) # 'Municipio', 'Cantidad de locales evaluados', 'Puntuacion promedio'"
   ]
  },
  {
   "cell_type": "markdown",
   "id": "571a466e",
   "metadata": {},
   "source": [
    "---\n",
    "<a id=\"puntuacionpromedio\"></a>\n",
    "                Tablas respecto a la ***puntuacion promedio***:\n",
    "---\n",
    "  Ahora observemos la diferencia de ***puntuacion promedio*** por el ***Tipo de establecimiento***, ***Tipo de negocio*** y por la ***tematica*** que utiliza, o sea de que pais principal es su oferta gastronomica.\n",
    "\n",
    "  Ademas de ello tambien vale la pena ver por el nivel de ***accecibilidad economica*** respecto a la ***puntuacion promedio***, aunque la unica conclusion que podemos sacar de esto es que los restaurantes que dan un servicio de nivel economico tienen a recibir una peor puntuacion.\n",
    "\n",
    "  Ordenado de $Menos$ a $Más$\n",
    "\n",
    "---\n",
    ">**Nota**: Ha sido acercado artificialmente para mostrar la diferencia entre uno y el otro  mas graficamente, fijese en los valores individuales de cada uno para evitar confusiones con los rangos de los datos.\n",
    "---\n",
    "Ir a [inicio](#inicio)"
   ]
  },
  {
   "cell_type": "code",
   "execution_count": 45,
   "id": "916c08c0",
   "metadata": {},
   "outputs": [
    {
     "data": {
      "application/vnd.plotly.v1+json": {
       "config": {
        "plotlyServerURL": "https://plot.ly"
       },
       "data": [
        {
         "alignmentgroup": "True",
         "customdata": [
          [
           170
          ]
         ],
         "hovertemplate": "Tipo de establecimiento=%{x}<br>Puntuacion promedio=%{y}<br>Cantidad de tipos de establecimientos=%{customdata[0]}<extra></extra>",
         "legendgroup": "Restaurante",
         "marker": {
          "color": "#636efa",
          "pattern": {
           "shape": ""
          }
         },
         "name": "Restaurante",
         "offsetgroup": "Restaurante",
         "orientation": "v",
         "showlegend": true,
         "textposition": "auto",
         "type": "bar",
         "x": [
          "Restaurante"
         ],
         "xaxis": "x",
         "y": [
          4.386470588235294
         ],
         "yaxis": "y"
        },
        {
         "alignmentgroup": "True",
         "customdata": [
          [
           56
          ]
         ],
         "hovertemplate": "Tipo de establecimiento=%{x}<br>Puntuacion promedio=%{y}<br>Cantidad de tipos de establecimientos=%{customdata[0]}<extra></extra>",
         "legendgroup": "Bar",
         "marker": {
          "color": "#EF553B",
          "pattern": {
           "shape": ""
          }
         },
         "name": "Bar",
         "offsetgroup": "Bar",
         "orientation": "v",
         "showlegend": true,
         "textposition": "auto",
         "type": "bar",
         "x": [
          "Bar"
         ],
         "xaxis": "x",
         "y": [
          4.4714285714285715
         ],
         "yaxis": "y"
        }
       ],
       "layout": {
        "barmode": "relative",
        "height": 350,
        "legend": {
         "title": {
          "text": "Tipo de establecimiento"
         },
         "tracegroupgap": 0
        },
        "template": {
         "data": {
          "bar": [
           {
            "error_x": {
             "color": "#2a3f5f"
            },
            "error_y": {
             "color": "#2a3f5f"
            },
            "marker": {
             "line": {
              "color": "#E5ECF6",
              "width": 0.5
             },
             "pattern": {
              "fillmode": "overlay",
              "size": 10,
              "solidity": 0.2
             }
            },
            "type": "bar"
           }
          ],
          "barpolar": [
           {
            "marker": {
             "line": {
              "color": "#E5ECF6",
              "width": 0.5
             },
             "pattern": {
              "fillmode": "overlay",
              "size": 10,
              "solidity": 0.2
             }
            },
            "type": "barpolar"
           }
          ],
          "carpet": [
           {
            "aaxis": {
             "endlinecolor": "#2a3f5f",
             "gridcolor": "white",
             "linecolor": "white",
             "minorgridcolor": "white",
             "startlinecolor": "#2a3f5f"
            },
            "baxis": {
             "endlinecolor": "#2a3f5f",
             "gridcolor": "white",
             "linecolor": "white",
             "minorgridcolor": "white",
             "startlinecolor": "#2a3f5f"
            },
            "type": "carpet"
           }
          ],
          "choropleth": [
           {
            "colorbar": {
             "outlinewidth": 0,
             "ticks": ""
            },
            "type": "choropleth"
           }
          ],
          "contour": [
           {
            "colorbar": {
             "outlinewidth": 0,
             "ticks": ""
            },
            "colorscale": [
             [
              0,
              "#0d0887"
             ],
             [
              0.1111111111111111,
              "#46039f"
             ],
             [
              0.2222222222222222,
              "#7201a8"
             ],
             [
              0.3333333333333333,
              "#9c179e"
             ],
             [
              0.4444444444444444,
              "#bd3786"
             ],
             [
              0.5555555555555556,
              "#d8576b"
             ],
             [
              0.6666666666666666,
              "#ed7953"
             ],
             [
              0.7777777777777778,
              "#fb9f3a"
             ],
             [
              0.8888888888888888,
              "#fdca26"
             ],
             [
              1,
              "#f0f921"
             ]
            ],
            "type": "contour"
           }
          ],
          "contourcarpet": [
           {
            "colorbar": {
             "outlinewidth": 0,
             "ticks": ""
            },
            "type": "contourcarpet"
           }
          ],
          "heatmap": [
           {
            "colorbar": {
             "outlinewidth": 0,
             "ticks": ""
            },
            "colorscale": [
             [
              0,
              "#0d0887"
             ],
             [
              0.1111111111111111,
              "#46039f"
             ],
             [
              0.2222222222222222,
              "#7201a8"
             ],
             [
              0.3333333333333333,
              "#9c179e"
             ],
             [
              0.4444444444444444,
              "#bd3786"
             ],
             [
              0.5555555555555556,
              "#d8576b"
             ],
             [
              0.6666666666666666,
              "#ed7953"
             ],
             [
              0.7777777777777778,
              "#fb9f3a"
             ],
             [
              0.8888888888888888,
              "#fdca26"
             ],
             [
              1,
              "#f0f921"
             ]
            ],
            "type": "heatmap"
           }
          ],
          "heatmapgl": [
           {
            "colorbar": {
             "outlinewidth": 0,
             "ticks": ""
            },
            "colorscale": [
             [
              0,
              "#0d0887"
             ],
             [
              0.1111111111111111,
              "#46039f"
             ],
             [
              0.2222222222222222,
              "#7201a8"
             ],
             [
              0.3333333333333333,
              "#9c179e"
             ],
             [
              0.4444444444444444,
              "#bd3786"
             ],
             [
              0.5555555555555556,
              "#d8576b"
             ],
             [
              0.6666666666666666,
              "#ed7953"
             ],
             [
              0.7777777777777778,
              "#fb9f3a"
             ],
             [
              0.8888888888888888,
              "#fdca26"
             ],
             [
              1,
              "#f0f921"
             ]
            ],
            "type": "heatmapgl"
           }
          ],
          "histogram": [
           {
            "marker": {
             "pattern": {
              "fillmode": "overlay",
              "size": 10,
              "solidity": 0.2
             }
            },
            "type": "histogram"
           }
          ],
          "histogram2d": [
           {
            "colorbar": {
             "outlinewidth": 0,
             "ticks": ""
            },
            "colorscale": [
             [
              0,
              "#0d0887"
             ],
             [
              0.1111111111111111,
              "#46039f"
             ],
             [
              0.2222222222222222,
              "#7201a8"
             ],
             [
              0.3333333333333333,
              "#9c179e"
             ],
             [
              0.4444444444444444,
              "#bd3786"
             ],
             [
              0.5555555555555556,
              "#d8576b"
             ],
             [
              0.6666666666666666,
              "#ed7953"
             ],
             [
              0.7777777777777778,
              "#fb9f3a"
             ],
             [
              0.8888888888888888,
              "#fdca26"
             ],
             [
              1,
              "#f0f921"
             ]
            ],
            "type": "histogram2d"
           }
          ],
          "histogram2dcontour": [
           {
            "colorbar": {
             "outlinewidth": 0,
             "ticks": ""
            },
            "colorscale": [
             [
              0,
              "#0d0887"
             ],
             [
              0.1111111111111111,
              "#46039f"
             ],
             [
              0.2222222222222222,
              "#7201a8"
             ],
             [
              0.3333333333333333,
              "#9c179e"
             ],
             [
              0.4444444444444444,
              "#bd3786"
             ],
             [
              0.5555555555555556,
              "#d8576b"
             ],
             [
              0.6666666666666666,
              "#ed7953"
             ],
             [
              0.7777777777777778,
              "#fb9f3a"
             ],
             [
              0.8888888888888888,
              "#fdca26"
             ],
             [
              1,
              "#f0f921"
             ]
            ],
            "type": "histogram2dcontour"
           }
          ],
          "mesh3d": [
           {
            "colorbar": {
             "outlinewidth": 0,
             "ticks": ""
            },
            "type": "mesh3d"
           }
          ],
          "parcoords": [
           {
            "line": {
             "colorbar": {
              "outlinewidth": 0,
              "ticks": ""
             }
            },
            "type": "parcoords"
           }
          ],
          "pie": [
           {
            "automargin": true,
            "type": "pie"
           }
          ],
          "scatter": [
           {
            "fillpattern": {
             "fillmode": "overlay",
             "size": 10,
             "solidity": 0.2
            },
            "type": "scatter"
           }
          ],
          "scatter3d": [
           {
            "line": {
             "colorbar": {
              "outlinewidth": 0,
              "ticks": ""
             }
            },
            "marker": {
             "colorbar": {
              "outlinewidth": 0,
              "ticks": ""
             }
            },
            "type": "scatter3d"
           }
          ],
          "scattercarpet": [
           {
            "marker": {
             "colorbar": {
              "outlinewidth": 0,
              "ticks": ""
             }
            },
            "type": "scattercarpet"
           }
          ],
          "scattergeo": [
           {
            "marker": {
             "colorbar": {
              "outlinewidth": 0,
              "ticks": ""
             }
            },
            "type": "scattergeo"
           }
          ],
          "scattergl": [
           {
            "marker": {
             "colorbar": {
              "outlinewidth": 0,
              "ticks": ""
             }
            },
            "type": "scattergl"
           }
          ],
          "scattermapbox": [
           {
            "marker": {
             "colorbar": {
              "outlinewidth": 0,
              "ticks": ""
             }
            },
            "type": "scattermapbox"
           }
          ],
          "scatterpolar": [
           {
            "marker": {
             "colorbar": {
              "outlinewidth": 0,
              "ticks": ""
             }
            },
            "type": "scatterpolar"
           }
          ],
          "scatterpolargl": [
           {
            "marker": {
             "colorbar": {
              "outlinewidth": 0,
              "ticks": ""
             }
            },
            "type": "scatterpolargl"
           }
          ],
          "scatterternary": [
           {
            "marker": {
             "colorbar": {
              "outlinewidth": 0,
              "ticks": ""
             }
            },
            "type": "scatterternary"
           }
          ],
          "surface": [
           {
            "colorbar": {
             "outlinewidth": 0,
             "ticks": ""
            },
            "colorscale": [
             [
              0,
              "#0d0887"
             ],
             [
              0.1111111111111111,
              "#46039f"
             ],
             [
              0.2222222222222222,
              "#7201a8"
             ],
             [
              0.3333333333333333,
              "#9c179e"
             ],
             [
              0.4444444444444444,
              "#bd3786"
             ],
             [
              0.5555555555555556,
              "#d8576b"
             ],
             [
              0.6666666666666666,
              "#ed7953"
             ],
             [
              0.7777777777777778,
              "#fb9f3a"
             ],
             [
              0.8888888888888888,
              "#fdca26"
             ],
             [
              1,
              "#f0f921"
             ]
            ],
            "type": "surface"
           }
          ],
          "table": [
           {
            "cells": {
             "fill": {
              "color": "#EBF0F8"
             },
             "line": {
              "color": "white"
             }
            },
            "header": {
             "fill": {
              "color": "#C8D4E3"
             },
             "line": {
              "color": "white"
             }
            },
            "type": "table"
           }
          ]
         },
         "layout": {
          "annotationdefaults": {
           "arrowcolor": "#2a3f5f",
           "arrowhead": 0,
           "arrowwidth": 1
          },
          "autotypenumbers": "strict",
          "coloraxis": {
           "colorbar": {
            "outlinewidth": 0,
            "ticks": ""
           }
          },
          "colorscale": {
           "diverging": [
            [
             0,
             "#8e0152"
            ],
            [
             0.1,
             "#c51b7d"
            ],
            [
             0.2,
             "#de77ae"
            ],
            [
             0.3,
             "#f1b6da"
            ],
            [
             0.4,
             "#fde0ef"
            ],
            [
             0.5,
             "#f7f7f7"
            ],
            [
             0.6,
             "#e6f5d0"
            ],
            [
             0.7,
             "#b8e186"
            ],
            [
             0.8,
             "#7fbc41"
            ],
            [
             0.9,
             "#4d9221"
            ],
            [
             1,
             "#276419"
            ]
           ],
           "sequential": [
            [
             0,
             "#0d0887"
            ],
            [
             0.1111111111111111,
             "#46039f"
            ],
            [
             0.2222222222222222,
             "#7201a8"
            ],
            [
             0.3333333333333333,
             "#9c179e"
            ],
            [
             0.4444444444444444,
             "#bd3786"
            ],
            [
             0.5555555555555556,
             "#d8576b"
            ],
            [
             0.6666666666666666,
             "#ed7953"
            ],
            [
             0.7777777777777778,
             "#fb9f3a"
            ],
            [
             0.8888888888888888,
             "#fdca26"
            ],
            [
             1,
             "#f0f921"
            ]
           ],
           "sequentialminus": [
            [
             0,
             "#0d0887"
            ],
            [
             0.1111111111111111,
             "#46039f"
            ],
            [
             0.2222222222222222,
             "#7201a8"
            ],
            [
             0.3333333333333333,
             "#9c179e"
            ],
            [
             0.4444444444444444,
             "#bd3786"
            ],
            [
             0.5555555555555556,
             "#d8576b"
            ],
            [
             0.6666666666666666,
             "#ed7953"
            ],
            [
             0.7777777777777778,
             "#fb9f3a"
            ],
            [
             0.8888888888888888,
             "#fdca26"
            ],
            [
             1,
             "#f0f921"
            ]
           ]
          },
          "colorway": [
           "#636efa",
           "#EF553B",
           "#00cc96",
           "#ab63fa",
           "#FFA15A",
           "#19d3f3",
           "#FF6692",
           "#B6E880",
           "#FF97FF",
           "#FECB52"
          ],
          "font": {
           "color": "#2a3f5f"
          },
          "geo": {
           "bgcolor": "white",
           "lakecolor": "white",
           "landcolor": "#E5ECF6",
           "showlakes": true,
           "showland": true,
           "subunitcolor": "white"
          },
          "hoverlabel": {
           "align": "left"
          },
          "hovermode": "closest",
          "mapbox": {
           "style": "light"
          },
          "paper_bgcolor": "white",
          "plot_bgcolor": "#E5ECF6",
          "polar": {
           "angularaxis": {
            "gridcolor": "white",
            "linecolor": "white",
            "ticks": ""
           },
           "bgcolor": "#E5ECF6",
           "radialaxis": {
            "gridcolor": "white",
            "linecolor": "white",
            "ticks": ""
           }
          },
          "scene": {
           "xaxis": {
            "backgroundcolor": "#E5ECF6",
            "gridcolor": "white",
            "gridwidth": 2,
            "linecolor": "white",
            "showbackground": true,
            "ticks": "",
            "zerolinecolor": "white"
           },
           "yaxis": {
            "backgroundcolor": "#E5ECF6",
            "gridcolor": "white",
            "gridwidth": 2,
            "linecolor": "white",
            "showbackground": true,
            "ticks": "",
            "zerolinecolor": "white"
           },
           "zaxis": {
            "backgroundcolor": "#E5ECF6",
            "gridcolor": "white",
            "gridwidth": 2,
            "linecolor": "white",
            "showbackground": true,
            "ticks": "",
            "zerolinecolor": "white"
           }
          },
          "shapedefaults": {
           "line": {
            "color": "#2a3f5f"
           }
          },
          "ternary": {
           "aaxis": {
            "gridcolor": "white",
            "linecolor": "white",
            "ticks": ""
           },
           "baxis": {
            "gridcolor": "white",
            "linecolor": "white",
            "ticks": ""
           },
           "bgcolor": "#E5ECF6",
           "caxis": {
            "gridcolor": "white",
            "linecolor": "white",
            "ticks": ""
           }
          },
          "title": {
           "x": 0.05
          },
          "xaxis": {
           "automargin": true,
           "gridcolor": "white",
           "linecolor": "white",
           "ticks": "",
           "title": {
            "standoff": 15
           },
           "zerolinecolor": "white",
           "zerolinewidth": 2
          },
          "yaxis": {
           "automargin": true,
           "gridcolor": "white",
           "linecolor": "white",
           "ticks": "",
           "title": {
            "standoff": 15
           },
           "zerolinecolor": "white",
           "zerolinewidth": 2
          }
         }
        },
        "title": {
         "text": "Puntuacion promedio por tipo de establecimiento:"
        },
        "xaxis": {
         "anchor": "y",
         "categoryarray": [
          "Restaurante",
          "Bar"
         ],
         "categoryorder": "array",
         "domain": [
          0,
          1
         ],
         "title": {
          "text": "Tipo de establecimiento"
         }
        },
        "yaxis": {
         "anchor": "x",
         "domain": [
          0,
          1
         ],
         "range": [
          4.286470588235295,
          4.521428571428571
         ],
         "title": {
          "text": "Puntuacion promedio"
         }
        }
       }
      }
     },
     "metadata": {},
     "output_type": "display_data"
    },
    {
     "data": {
      "application/vnd.plotly.v1+json": {
       "config": {
        "plotlyServerURL": "https://plot.ly"
       },
       "data": [
        {
         "alignmentgroup": "True",
         "customdata": [
          [
           4
          ]
         ],
         "hovertemplate": "Tipo de negocio=%{x}<br>Puntuacion promedio=%{y}<br>Cantidad de tipos de negocios=%{customdata[0]}<extra></extra>",
         "legendgroup": "Publico",
         "marker": {
          "color": "#636efa",
          "pattern": {
           "shape": ""
          }
         },
         "name": "Publico",
         "offsetgroup": "Publico",
         "orientation": "v",
         "showlegend": true,
         "textposition": "auto",
         "type": "bar",
         "x": [
          "Publico"
         ],
         "xaxis": "x",
         "y": [
          4.175
         ],
         "yaxis": "y"
        },
        {
         "alignmentgroup": "True",
         "customdata": [
          [
           224
          ]
         ],
         "hovertemplate": "Tipo de negocio=%{x}<br>Puntuacion promedio=%{y}<br>Cantidad de tipos de negocios=%{customdata[0]}<extra></extra>",
         "legendgroup": "Privado",
         "marker": {
          "color": "#EF553B",
          "pattern": {
           "shape": ""
          }
         },
         "name": "Privado",
         "offsetgroup": "Privado",
         "orientation": "v",
         "showlegend": true,
         "textposition": "auto",
         "type": "bar",
         "x": [
          "Privado"
         ],
         "xaxis": "x",
         "y": [
          4.4125
         ],
         "yaxis": "y"
        }
       ],
       "layout": {
        "barmode": "relative",
        "height": 350,
        "legend": {
         "title": {
          "text": "Tipo de negocio"
         },
         "tracegroupgap": 0
        },
        "template": {
         "data": {
          "bar": [
           {
            "error_x": {
             "color": "#2a3f5f"
            },
            "error_y": {
             "color": "#2a3f5f"
            },
            "marker": {
             "line": {
              "color": "#E5ECF6",
              "width": 0.5
             },
             "pattern": {
              "fillmode": "overlay",
              "size": 10,
              "solidity": 0.2
             }
            },
            "type": "bar"
           }
          ],
          "barpolar": [
           {
            "marker": {
             "line": {
              "color": "#E5ECF6",
              "width": 0.5
             },
             "pattern": {
              "fillmode": "overlay",
              "size": 10,
              "solidity": 0.2
             }
            },
            "type": "barpolar"
           }
          ],
          "carpet": [
           {
            "aaxis": {
             "endlinecolor": "#2a3f5f",
             "gridcolor": "white",
             "linecolor": "white",
             "minorgridcolor": "white",
             "startlinecolor": "#2a3f5f"
            },
            "baxis": {
             "endlinecolor": "#2a3f5f",
             "gridcolor": "white",
             "linecolor": "white",
             "minorgridcolor": "white",
             "startlinecolor": "#2a3f5f"
            },
            "type": "carpet"
           }
          ],
          "choropleth": [
           {
            "colorbar": {
             "outlinewidth": 0,
             "ticks": ""
            },
            "type": "choropleth"
           }
          ],
          "contour": [
           {
            "colorbar": {
             "outlinewidth": 0,
             "ticks": ""
            },
            "colorscale": [
             [
              0,
              "#0d0887"
             ],
             [
              0.1111111111111111,
              "#46039f"
             ],
             [
              0.2222222222222222,
              "#7201a8"
             ],
             [
              0.3333333333333333,
              "#9c179e"
             ],
             [
              0.4444444444444444,
              "#bd3786"
             ],
             [
              0.5555555555555556,
              "#d8576b"
             ],
             [
              0.6666666666666666,
              "#ed7953"
             ],
             [
              0.7777777777777778,
              "#fb9f3a"
             ],
             [
              0.8888888888888888,
              "#fdca26"
             ],
             [
              1,
              "#f0f921"
             ]
            ],
            "type": "contour"
           }
          ],
          "contourcarpet": [
           {
            "colorbar": {
             "outlinewidth": 0,
             "ticks": ""
            },
            "type": "contourcarpet"
           }
          ],
          "heatmap": [
           {
            "colorbar": {
             "outlinewidth": 0,
             "ticks": ""
            },
            "colorscale": [
             [
              0,
              "#0d0887"
             ],
             [
              0.1111111111111111,
              "#46039f"
             ],
             [
              0.2222222222222222,
              "#7201a8"
             ],
             [
              0.3333333333333333,
              "#9c179e"
             ],
             [
              0.4444444444444444,
              "#bd3786"
             ],
             [
              0.5555555555555556,
              "#d8576b"
             ],
             [
              0.6666666666666666,
              "#ed7953"
             ],
             [
              0.7777777777777778,
              "#fb9f3a"
             ],
             [
              0.8888888888888888,
              "#fdca26"
             ],
             [
              1,
              "#f0f921"
             ]
            ],
            "type": "heatmap"
           }
          ],
          "heatmapgl": [
           {
            "colorbar": {
             "outlinewidth": 0,
             "ticks": ""
            },
            "colorscale": [
             [
              0,
              "#0d0887"
             ],
             [
              0.1111111111111111,
              "#46039f"
             ],
             [
              0.2222222222222222,
              "#7201a8"
             ],
             [
              0.3333333333333333,
              "#9c179e"
             ],
             [
              0.4444444444444444,
              "#bd3786"
             ],
             [
              0.5555555555555556,
              "#d8576b"
             ],
             [
              0.6666666666666666,
              "#ed7953"
             ],
             [
              0.7777777777777778,
              "#fb9f3a"
             ],
             [
              0.8888888888888888,
              "#fdca26"
             ],
             [
              1,
              "#f0f921"
             ]
            ],
            "type": "heatmapgl"
           }
          ],
          "histogram": [
           {
            "marker": {
             "pattern": {
              "fillmode": "overlay",
              "size": 10,
              "solidity": 0.2
             }
            },
            "type": "histogram"
           }
          ],
          "histogram2d": [
           {
            "colorbar": {
             "outlinewidth": 0,
             "ticks": ""
            },
            "colorscale": [
             [
              0,
              "#0d0887"
             ],
             [
              0.1111111111111111,
              "#46039f"
             ],
             [
              0.2222222222222222,
              "#7201a8"
             ],
             [
              0.3333333333333333,
              "#9c179e"
             ],
             [
              0.4444444444444444,
              "#bd3786"
             ],
             [
              0.5555555555555556,
              "#d8576b"
             ],
             [
              0.6666666666666666,
              "#ed7953"
             ],
             [
              0.7777777777777778,
              "#fb9f3a"
             ],
             [
              0.8888888888888888,
              "#fdca26"
             ],
             [
              1,
              "#f0f921"
             ]
            ],
            "type": "histogram2d"
           }
          ],
          "histogram2dcontour": [
           {
            "colorbar": {
             "outlinewidth": 0,
             "ticks": ""
            },
            "colorscale": [
             [
              0,
              "#0d0887"
             ],
             [
              0.1111111111111111,
              "#46039f"
             ],
             [
              0.2222222222222222,
              "#7201a8"
             ],
             [
              0.3333333333333333,
              "#9c179e"
             ],
             [
              0.4444444444444444,
              "#bd3786"
             ],
             [
              0.5555555555555556,
              "#d8576b"
             ],
             [
              0.6666666666666666,
              "#ed7953"
             ],
             [
              0.7777777777777778,
              "#fb9f3a"
             ],
             [
              0.8888888888888888,
              "#fdca26"
             ],
             [
              1,
              "#f0f921"
             ]
            ],
            "type": "histogram2dcontour"
           }
          ],
          "mesh3d": [
           {
            "colorbar": {
             "outlinewidth": 0,
             "ticks": ""
            },
            "type": "mesh3d"
           }
          ],
          "parcoords": [
           {
            "line": {
             "colorbar": {
              "outlinewidth": 0,
              "ticks": ""
             }
            },
            "type": "parcoords"
           }
          ],
          "pie": [
           {
            "automargin": true,
            "type": "pie"
           }
          ],
          "scatter": [
           {
            "fillpattern": {
             "fillmode": "overlay",
             "size": 10,
             "solidity": 0.2
            },
            "type": "scatter"
           }
          ],
          "scatter3d": [
           {
            "line": {
             "colorbar": {
              "outlinewidth": 0,
              "ticks": ""
             }
            },
            "marker": {
             "colorbar": {
              "outlinewidth": 0,
              "ticks": ""
             }
            },
            "type": "scatter3d"
           }
          ],
          "scattercarpet": [
           {
            "marker": {
             "colorbar": {
              "outlinewidth": 0,
              "ticks": ""
             }
            },
            "type": "scattercarpet"
           }
          ],
          "scattergeo": [
           {
            "marker": {
             "colorbar": {
              "outlinewidth": 0,
              "ticks": ""
             }
            },
            "type": "scattergeo"
           }
          ],
          "scattergl": [
           {
            "marker": {
             "colorbar": {
              "outlinewidth": 0,
              "ticks": ""
             }
            },
            "type": "scattergl"
           }
          ],
          "scattermapbox": [
           {
            "marker": {
             "colorbar": {
              "outlinewidth": 0,
              "ticks": ""
             }
            },
            "type": "scattermapbox"
           }
          ],
          "scatterpolar": [
           {
            "marker": {
             "colorbar": {
              "outlinewidth": 0,
              "ticks": ""
             }
            },
            "type": "scatterpolar"
           }
          ],
          "scatterpolargl": [
           {
            "marker": {
             "colorbar": {
              "outlinewidth": 0,
              "ticks": ""
             }
            },
            "type": "scatterpolargl"
           }
          ],
          "scatterternary": [
           {
            "marker": {
             "colorbar": {
              "outlinewidth": 0,
              "ticks": ""
             }
            },
            "type": "scatterternary"
           }
          ],
          "surface": [
           {
            "colorbar": {
             "outlinewidth": 0,
             "ticks": ""
            },
            "colorscale": [
             [
              0,
              "#0d0887"
             ],
             [
              0.1111111111111111,
              "#46039f"
             ],
             [
              0.2222222222222222,
              "#7201a8"
             ],
             [
              0.3333333333333333,
              "#9c179e"
             ],
             [
              0.4444444444444444,
              "#bd3786"
             ],
             [
              0.5555555555555556,
              "#d8576b"
             ],
             [
              0.6666666666666666,
              "#ed7953"
             ],
             [
              0.7777777777777778,
              "#fb9f3a"
             ],
             [
              0.8888888888888888,
              "#fdca26"
             ],
             [
              1,
              "#f0f921"
             ]
            ],
            "type": "surface"
           }
          ],
          "table": [
           {
            "cells": {
             "fill": {
              "color": "#EBF0F8"
             },
             "line": {
              "color": "white"
             }
            },
            "header": {
             "fill": {
              "color": "#C8D4E3"
             },
             "line": {
              "color": "white"
             }
            },
            "type": "table"
           }
          ]
         },
         "layout": {
          "annotationdefaults": {
           "arrowcolor": "#2a3f5f",
           "arrowhead": 0,
           "arrowwidth": 1
          },
          "autotypenumbers": "strict",
          "coloraxis": {
           "colorbar": {
            "outlinewidth": 0,
            "ticks": ""
           }
          },
          "colorscale": {
           "diverging": [
            [
             0,
             "#8e0152"
            ],
            [
             0.1,
             "#c51b7d"
            ],
            [
             0.2,
             "#de77ae"
            ],
            [
             0.3,
             "#f1b6da"
            ],
            [
             0.4,
             "#fde0ef"
            ],
            [
             0.5,
             "#f7f7f7"
            ],
            [
             0.6,
             "#e6f5d0"
            ],
            [
             0.7,
             "#b8e186"
            ],
            [
             0.8,
             "#7fbc41"
            ],
            [
             0.9,
             "#4d9221"
            ],
            [
             1,
             "#276419"
            ]
           ],
           "sequential": [
            [
             0,
             "#0d0887"
            ],
            [
             0.1111111111111111,
             "#46039f"
            ],
            [
             0.2222222222222222,
             "#7201a8"
            ],
            [
             0.3333333333333333,
             "#9c179e"
            ],
            [
             0.4444444444444444,
             "#bd3786"
            ],
            [
             0.5555555555555556,
             "#d8576b"
            ],
            [
             0.6666666666666666,
             "#ed7953"
            ],
            [
             0.7777777777777778,
             "#fb9f3a"
            ],
            [
             0.8888888888888888,
             "#fdca26"
            ],
            [
             1,
             "#f0f921"
            ]
           ],
           "sequentialminus": [
            [
             0,
             "#0d0887"
            ],
            [
             0.1111111111111111,
             "#46039f"
            ],
            [
             0.2222222222222222,
             "#7201a8"
            ],
            [
             0.3333333333333333,
             "#9c179e"
            ],
            [
             0.4444444444444444,
             "#bd3786"
            ],
            [
             0.5555555555555556,
             "#d8576b"
            ],
            [
             0.6666666666666666,
             "#ed7953"
            ],
            [
             0.7777777777777778,
             "#fb9f3a"
            ],
            [
             0.8888888888888888,
             "#fdca26"
            ],
            [
             1,
             "#f0f921"
            ]
           ]
          },
          "colorway": [
           "#636efa",
           "#EF553B",
           "#00cc96",
           "#ab63fa",
           "#FFA15A",
           "#19d3f3",
           "#FF6692",
           "#B6E880",
           "#FF97FF",
           "#FECB52"
          ],
          "font": {
           "color": "#2a3f5f"
          },
          "geo": {
           "bgcolor": "white",
           "lakecolor": "white",
           "landcolor": "#E5ECF6",
           "showlakes": true,
           "showland": true,
           "subunitcolor": "white"
          },
          "hoverlabel": {
           "align": "left"
          },
          "hovermode": "closest",
          "mapbox": {
           "style": "light"
          },
          "paper_bgcolor": "white",
          "plot_bgcolor": "#E5ECF6",
          "polar": {
           "angularaxis": {
            "gridcolor": "white",
            "linecolor": "white",
            "ticks": ""
           },
           "bgcolor": "#E5ECF6",
           "radialaxis": {
            "gridcolor": "white",
            "linecolor": "white",
            "ticks": ""
           }
          },
          "scene": {
           "xaxis": {
            "backgroundcolor": "#E5ECF6",
            "gridcolor": "white",
            "gridwidth": 2,
            "linecolor": "white",
            "showbackground": true,
            "ticks": "",
            "zerolinecolor": "white"
           },
           "yaxis": {
            "backgroundcolor": "#E5ECF6",
            "gridcolor": "white",
            "gridwidth": 2,
            "linecolor": "white",
            "showbackground": true,
            "ticks": "",
            "zerolinecolor": "white"
           },
           "zaxis": {
            "backgroundcolor": "#E5ECF6",
            "gridcolor": "white",
            "gridwidth": 2,
            "linecolor": "white",
            "showbackground": true,
            "ticks": "",
            "zerolinecolor": "white"
           }
          },
          "shapedefaults": {
           "line": {
            "color": "#2a3f5f"
           }
          },
          "ternary": {
           "aaxis": {
            "gridcolor": "white",
            "linecolor": "white",
            "ticks": ""
           },
           "baxis": {
            "gridcolor": "white",
            "linecolor": "white",
            "ticks": ""
           },
           "bgcolor": "#E5ECF6",
           "caxis": {
            "gridcolor": "white",
            "linecolor": "white",
            "ticks": ""
           }
          },
          "title": {
           "x": 0.05
          },
          "xaxis": {
           "automargin": true,
           "gridcolor": "white",
           "linecolor": "white",
           "ticks": "",
           "title": {
            "standoff": 15
           },
           "zerolinecolor": "white",
           "zerolinewidth": 2
          },
          "yaxis": {
           "automargin": true,
           "gridcolor": "white",
           "linecolor": "white",
           "ticks": "",
           "title": {
            "standoff": 15
           },
           "zerolinecolor": "white",
           "zerolinewidth": 2
          }
         }
        },
        "title": {
         "text": "Puntuacion promedio por tipo de negocio:"
        },
        "xaxis": {
         "anchor": "y",
         "categoryarray": [
          "Publico",
          "Privado"
         ],
         "categoryorder": "array",
         "domain": [
          0,
          1
         ],
         "title": {
          "text": "Tipo de negocio"
         }
        },
        "yaxis": {
         "anchor": "x",
         "domain": [
          0,
          1
         ],
         "range": [
          3.9749999999999996,
          4.512499999999999
         ],
         "title": {
          "text": "Puntuacion promedio"
         }
        }
       }
      }
     },
     "metadata": {},
     "output_type": "display_data"
    },
    {
     "data": {
      "application/vnd.plotly.v1+json": {
       "config": {
        "plotlyServerURL": "https://plot.ly"
       },
       "data": [
        {
         "alignmentgroup": "True",
         "customdata": [
          [
           3
          ]
         ],
         "hovertemplate": "Tematica del local=%{x}<br>Puntuacion promedio=%{y}<br>Numero de reseñas=%{customdata[0]}<extra></extra>",
         "legendgroup": "Chino",
         "marker": {
          "color": "#636efa",
          "pattern": {
           "shape": ""
          }
         },
         "name": "Chino",
         "offsetgroup": "Chino",
         "orientation": "v",
         "showlegend": true,
         "textposition": "auto",
         "type": "bar",
         "x": [
          "Chino"
         ],
         "xaxis": "x",
         "y": [
          3.6333333333333333
         ],
         "yaxis": "y"
        },
        {
         "alignmentgroup": "True",
         "customdata": [
          [
           1
          ]
         ],
         "hovertemplate": "Tematica del local=%{x}<br>Puntuacion promedio=%{y}<br>Numero de reseñas=%{customdata[0]}<extra></extra>",
         "legendgroup": "Japonés",
         "marker": {
          "color": "#EF553B",
          "pattern": {
           "shape": ""
          }
         },
         "name": "Japonés",
         "offsetgroup": "Japonés",
         "orientation": "v",
         "showlegend": true,
         "textposition": "auto",
         "type": "bar",
         "x": [
          "Japonés"
         ],
         "xaxis": "x",
         "y": [
          4.2
         ],
         "yaxis": "y"
        },
        {
         "alignmentgroup": "True",
         "customdata": [
          [
           4
          ]
         ],
         "hovertemplate": "Tematica del local=%{x}<br>Puntuacion promedio=%{y}<br>Numero de reseñas=%{customdata[0]}<extra></extra>",
         "legendgroup": "Mexicano",
         "marker": {
          "color": "#00cc96",
          "pattern": {
           "shape": ""
          }
         },
         "name": "Mexicano",
         "offsetgroup": "Mexicano",
         "orientation": "v",
         "showlegend": true,
         "textposition": "auto",
         "type": "bar",
         "x": [
          "Mexicano"
         ],
         "xaxis": "x",
         "y": [
          4.2
         ],
         "yaxis": "y"
        },
        {
         "alignmentgroup": "True",
         "customdata": [
          [
           27
          ]
         ],
         "hovertemplate": "Tematica del local=%{x}<br>Puntuacion promedio=%{y}<br>Numero de reseñas=%{customdata[0]}<extra></extra>",
         "legendgroup": "Italiano",
         "marker": {
          "color": "#ab63fa",
          "pattern": {
           "shape": ""
          }
         },
         "name": "Italiano",
         "offsetgroup": "Italiano",
         "orientation": "v",
         "showlegend": true,
         "textposition": "auto",
         "type": "bar",
         "x": [
          "Italiano"
         ],
         "xaxis": "x",
         "y": [
          4.359259259259259
         ],
         "yaxis": "y"
        },
        {
         "alignmentgroup": "True",
         "customdata": [
          [
           62
          ]
         ],
         "hovertemplate": "Tematica del local=%{x}<br>Puntuacion promedio=%{y}<br>Numero de reseñas=%{customdata[0]}<extra></extra>",
         "legendgroup": "Otros",
         "marker": {
          "color": "#FFA15A",
          "pattern": {
           "shape": ""
          }
         },
         "name": "Otros",
         "offsetgroup": "Otros",
         "orientation": "v",
         "showlegend": true,
         "textposition": "auto",
         "type": "bar",
         "x": [
          "Otros"
         ],
         "xaxis": "x",
         "y": [
          4.426612903225807
         ],
         "yaxis": "y"
        },
        {
         "alignmentgroup": "True",
         "customdata": [
          [
           131
          ]
         ],
         "hovertemplate": "Tematica del local=%{x}<br>Puntuacion promedio=%{y}<br>Numero de reseñas=%{customdata[0]}<extra></extra>",
         "legendgroup": "Cubano",
         "marker": {
          "color": "#19d3f3",
          "pattern": {
           "shape": ""
          }
         },
         "name": "Cubano",
         "offsetgroup": "Cubano",
         "orientation": "v",
         "showlegend": true,
         "textposition": "auto",
         "type": "bar",
         "x": [
          "Cubano"
         ],
         "xaxis": "x",
         "y": [
          4.435496183206107
         ],
         "yaxis": "y"
        }
       ],
       "layout": {
        "barmode": "relative",
        "height": 350,
        "legend": {
         "title": {
          "text": "Tematica del local"
         },
         "tracegroupgap": 0
        },
        "template": {
         "data": {
          "bar": [
           {
            "error_x": {
             "color": "#2a3f5f"
            },
            "error_y": {
             "color": "#2a3f5f"
            },
            "marker": {
             "line": {
              "color": "#E5ECF6",
              "width": 0.5
             },
             "pattern": {
              "fillmode": "overlay",
              "size": 10,
              "solidity": 0.2
             }
            },
            "type": "bar"
           }
          ],
          "barpolar": [
           {
            "marker": {
             "line": {
              "color": "#E5ECF6",
              "width": 0.5
             },
             "pattern": {
              "fillmode": "overlay",
              "size": 10,
              "solidity": 0.2
             }
            },
            "type": "barpolar"
           }
          ],
          "carpet": [
           {
            "aaxis": {
             "endlinecolor": "#2a3f5f",
             "gridcolor": "white",
             "linecolor": "white",
             "minorgridcolor": "white",
             "startlinecolor": "#2a3f5f"
            },
            "baxis": {
             "endlinecolor": "#2a3f5f",
             "gridcolor": "white",
             "linecolor": "white",
             "minorgridcolor": "white",
             "startlinecolor": "#2a3f5f"
            },
            "type": "carpet"
           }
          ],
          "choropleth": [
           {
            "colorbar": {
             "outlinewidth": 0,
             "ticks": ""
            },
            "type": "choropleth"
           }
          ],
          "contour": [
           {
            "colorbar": {
             "outlinewidth": 0,
             "ticks": ""
            },
            "colorscale": [
             [
              0,
              "#0d0887"
             ],
             [
              0.1111111111111111,
              "#46039f"
             ],
             [
              0.2222222222222222,
              "#7201a8"
             ],
             [
              0.3333333333333333,
              "#9c179e"
             ],
             [
              0.4444444444444444,
              "#bd3786"
             ],
             [
              0.5555555555555556,
              "#d8576b"
             ],
             [
              0.6666666666666666,
              "#ed7953"
             ],
             [
              0.7777777777777778,
              "#fb9f3a"
             ],
             [
              0.8888888888888888,
              "#fdca26"
             ],
             [
              1,
              "#f0f921"
             ]
            ],
            "type": "contour"
           }
          ],
          "contourcarpet": [
           {
            "colorbar": {
             "outlinewidth": 0,
             "ticks": ""
            },
            "type": "contourcarpet"
           }
          ],
          "heatmap": [
           {
            "colorbar": {
             "outlinewidth": 0,
             "ticks": ""
            },
            "colorscale": [
             [
              0,
              "#0d0887"
             ],
             [
              0.1111111111111111,
              "#46039f"
             ],
             [
              0.2222222222222222,
              "#7201a8"
             ],
             [
              0.3333333333333333,
              "#9c179e"
             ],
             [
              0.4444444444444444,
              "#bd3786"
             ],
             [
              0.5555555555555556,
              "#d8576b"
             ],
             [
              0.6666666666666666,
              "#ed7953"
             ],
             [
              0.7777777777777778,
              "#fb9f3a"
             ],
             [
              0.8888888888888888,
              "#fdca26"
             ],
             [
              1,
              "#f0f921"
             ]
            ],
            "type": "heatmap"
           }
          ],
          "heatmapgl": [
           {
            "colorbar": {
             "outlinewidth": 0,
             "ticks": ""
            },
            "colorscale": [
             [
              0,
              "#0d0887"
             ],
             [
              0.1111111111111111,
              "#46039f"
             ],
             [
              0.2222222222222222,
              "#7201a8"
             ],
             [
              0.3333333333333333,
              "#9c179e"
             ],
             [
              0.4444444444444444,
              "#bd3786"
             ],
             [
              0.5555555555555556,
              "#d8576b"
             ],
             [
              0.6666666666666666,
              "#ed7953"
             ],
             [
              0.7777777777777778,
              "#fb9f3a"
             ],
             [
              0.8888888888888888,
              "#fdca26"
             ],
             [
              1,
              "#f0f921"
             ]
            ],
            "type": "heatmapgl"
           }
          ],
          "histogram": [
           {
            "marker": {
             "pattern": {
              "fillmode": "overlay",
              "size": 10,
              "solidity": 0.2
             }
            },
            "type": "histogram"
           }
          ],
          "histogram2d": [
           {
            "colorbar": {
             "outlinewidth": 0,
             "ticks": ""
            },
            "colorscale": [
             [
              0,
              "#0d0887"
             ],
             [
              0.1111111111111111,
              "#46039f"
             ],
             [
              0.2222222222222222,
              "#7201a8"
             ],
             [
              0.3333333333333333,
              "#9c179e"
             ],
             [
              0.4444444444444444,
              "#bd3786"
             ],
             [
              0.5555555555555556,
              "#d8576b"
             ],
             [
              0.6666666666666666,
              "#ed7953"
             ],
             [
              0.7777777777777778,
              "#fb9f3a"
             ],
             [
              0.8888888888888888,
              "#fdca26"
             ],
             [
              1,
              "#f0f921"
             ]
            ],
            "type": "histogram2d"
           }
          ],
          "histogram2dcontour": [
           {
            "colorbar": {
             "outlinewidth": 0,
             "ticks": ""
            },
            "colorscale": [
             [
              0,
              "#0d0887"
             ],
             [
              0.1111111111111111,
              "#46039f"
             ],
             [
              0.2222222222222222,
              "#7201a8"
             ],
             [
              0.3333333333333333,
              "#9c179e"
             ],
             [
              0.4444444444444444,
              "#bd3786"
             ],
             [
              0.5555555555555556,
              "#d8576b"
             ],
             [
              0.6666666666666666,
              "#ed7953"
             ],
             [
              0.7777777777777778,
              "#fb9f3a"
             ],
             [
              0.8888888888888888,
              "#fdca26"
             ],
             [
              1,
              "#f0f921"
             ]
            ],
            "type": "histogram2dcontour"
           }
          ],
          "mesh3d": [
           {
            "colorbar": {
             "outlinewidth": 0,
             "ticks": ""
            },
            "type": "mesh3d"
           }
          ],
          "parcoords": [
           {
            "line": {
             "colorbar": {
              "outlinewidth": 0,
              "ticks": ""
             }
            },
            "type": "parcoords"
           }
          ],
          "pie": [
           {
            "automargin": true,
            "type": "pie"
           }
          ],
          "scatter": [
           {
            "fillpattern": {
             "fillmode": "overlay",
             "size": 10,
             "solidity": 0.2
            },
            "type": "scatter"
           }
          ],
          "scatter3d": [
           {
            "line": {
             "colorbar": {
              "outlinewidth": 0,
              "ticks": ""
             }
            },
            "marker": {
             "colorbar": {
              "outlinewidth": 0,
              "ticks": ""
             }
            },
            "type": "scatter3d"
           }
          ],
          "scattercarpet": [
           {
            "marker": {
             "colorbar": {
              "outlinewidth": 0,
              "ticks": ""
             }
            },
            "type": "scattercarpet"
           }
          ],
          "scattergeo": [
           {
            "marker": {
             "colorbar": {
              "outlinewidth": 0,
              "ticks": ""
             }
            },
            "type": "scattergeo"
           }
          ],
          "scattergl": [
           {
            "marker": {
             "colorbar": {
              "outlinewidth": 0,
              "ticks": ""
             }
            },
            "type": "scattergl"
           }
          ],
          "scattermapbox": [
           {
            "marker": {
             "colorbar": {
              "outlinewidth": 0,
              "ticks": ""
             }
            },
            "type": "scattermapbox"
           }
          ],
          "scatterpolar": [
           {
            "marker": {
             "colorbar": {
              "outlinewidth": 0,
              "ticks": ""
             }
            },
            "type": "scatterpolar"
           }
          ],
          "scatterpolargl": [
           {
            "marker": {
             "colorbar": {
              "outlinewidth": 0,
              "ticks": ""
             }
            },
            "type": "scatterpolargl"
           }
          ],
          "scatterternary": [
           {
            "marker": {
             "colorbar": {
              "outlinewidth": 0,
              "ticks": ""
             }
            },
            "type": "scatterternary"
           }
          ],
          "surface": [
           {
            "colorbar": {
             "outlinewidth": 0,
             "ticks": ""
            },
            "colorscale": [
             [
              0,
              "#0d0887"
             ],
             [
              0.1111111111111111,
              "#46039f"
             ],
             [
              0.2222222222222222,
              "#7201a8"
             ],
             [
              0.3333333333333333,
              "#9c179e"
             ],
             [
              0.4444444444444444,
              "#bd3786"
             ],
             [
              0.5555555555555556,
              "#d8576b"
             ],
             [
              0.6666666666666666,
              "#ed7953"
             ],
             [
              0.7777777777777778,
              "#fb9f3a"
             ],
             [
              0.8888888888888888,
              "#fdca26"
             ],
             [
              1,
              "#f0f921"
             ]
            ],
            "type": "surface"
           }
          ],
          "table": [
           {
            "cells": {
             "fill": {
              "color": "#EBF0F8"
             },
             "line": {
              "color": "white"
             }
            },
            "header": {
             "fill": {
              "color": "#C8D4E3"
             },
             "line": {
              "color": "white"
             }
            },
            "type": "table"
           }
          ]
         },
         "layout": {
          "annotationdefaults": {
           "arrowcolor": "#2a3f5f",
           "arrowhead": 0,
           "arrowwidth": 1
          },
          "autotypenumbers": "strict",
          "coloraxis": {
           "colorbar": {
            "outlinewidth": 0,
            "ticks": ""
           }
          },
          "colorscale": {
           "diverging": [
            [
             0,
             "#8e0152"
            ],
            [
             0.1,
             "#c51b7d"
            ],
            [
             0.2,
             "#de77ae"
            ],
            [
             0.3,
             "#f1b6da"
            ],
            [
             0.4,
             "#fde0ef"
            ],
            [
             0.5,
             "#f7f7f7"
            ],
            [
             0.6,
             "#e6f5d0"
            ],
            [
             0.7,
             "#b8e186"
            ],
            [
             0.8,
             "#7fbc41"
            ],
            [
             0.9,
             "#4d9221"
            ],
            [
             1,
             "#276419"
            ]
           ],
           "sequential": [
            [
             0,
             "#0d0887"
            ],
            [
             0.1111111111111111,
             "#46039f"
            ],
            [
             0.2222222222222222,
             "#7201a8"
            ],
            [
             0.3333333333333333,
             "#9c179e"
            ],
            [
             0.4444444444444444,
             "#bd3786"
            ],
            [
             0.5555555555555556,
             "#d8576b"
            ],
            [
             0.6666666666666666,
             "#ed7953"
            ],
            [
             0.7777777777777778,
             "#fb9f3a"
            ],
            [
             0.8888888888888888,
             "#fdca26"
            ],
            [
             1,
             "#f0f921"
            ]
           ],
           "sequentialminus": [
            [
             0,
             "#0d0887"
            ],
            [
             0.1111111111111111,
             "#46039f"
            ],
            [
             0.2222222222222222,
             "#7201a8"
            ],
            [
             0.3333333333333333,
             "#9c179e"
            ],
            [
             0.4444444444444444,
             "#bd3786"
            ],
            [
             0.5555555555555556,
             "#d8576b"
            ],
            [
             0.6666666666666666,
             "#ed7953"
            ],
            [
             0.7777777777777778,
             "#fb9f3a"
            ],
            [
             0.8888888888888888,
             "#fdca26"
            ],
            [
             1,
             "#f0f921"
            ]
           ]
          },
          "colorway": [
           "#636efa",
           "#EF553B",
           "#00cc96",
           "#ab63fa",
           "#FFA15A",
           "#19d3f3",
           "#FF6692",
           "#B6E880",
           "#FF97FF",
           "#FECB52"
          ],
          "font": {
           "color": "#2a3f5f"
          },
          "geo": {
           "bgcolor": "white",
           "lakecolor": "white",
           "landcolor": "#E5ECF6",
           "showlakes": true,
           "showland": true,
           "subunitcolor": "white"
          },
          "hoverlabel": {
           "align": "left"
          },
          "hovermode": "closest",
          "mapbox": {
           "style": "light"
          },
          "paper_bgcolor": "white",
          "plot_bgcolor": "#E5ECF6",
          "polar": {
           "angularaxis": {
            "gridcolor": "white",
            "linecolor": "white",
            "ticks": ""
           },
           "bgcolor": "#E5ECF6",
           "radialaxis": {
            "gridcolor": "white",
            "linecolor": "white",
            "ticks": ""
           }
          },
          "scene": {
           "xaxis": {
            "backgroundcolor": "#E5ECF6",
            "gridcolor": "white",
            "gridwidth": 2,
            "linecolor": "white",
            "showbackground": true,
            "ticks": "",
            "zerolinecolor": "white"
           },
           "yaxis": {
            "backgroundcolor": "#E5ECF6",
            "gridcolor": "white",
            "gridwidth": 2,
            "linecolor": "white",
            "showbackground": true,
            "ticks": "",
            "zerolinecolor": "white"
           },
           "zaxis": {
            "backgroundcolor": "#E5ECF6",
            "gridcolor": "white",
            "gridwidth": 2,
            "linecolor": "white",
            "showbackground": true,
            "ticks": "",
            "zerolinecolor": "white"
           }
          },
          "shapedefaults": {
           "line": {
            "color": "#2a3f5f"
           }
          },
          "ternary": {
           "aaxis": {
            "gridcolor": "white",
            "linecolor": "white",
            "ticks": ""
           },
           "baxis": {
            "gridcolor": "white",
            "linecolor": "white",
            "ticks": ""
           },
           "bgcolor": "#E5ECF6",
           "caxis": {
            "gridcolor": "white",
            "linecolor": "white",
            "ticks": ""
           }
          },
          "title": {
           "x": 0.05
          },
          "xaxis": {
           "automargin": true,
           "gridcolor": "white",
           "linecolor": "white",
           "ticks": "",
           "title": {
            "standoff": 15
           },
           "zerolinecolor": "white",
           "zerolinewidth": 2
          },
          "yaxis": {
           "automargin": true,
           "gridcolor": "white",
           "linecolor": "white",
           "ticks": "",
           "title": {
            "standoff": 15
           },
           "zerolinecolor": "white",
           "zerolinewidth": 2
          }
         }
        },
        "title": {
         "text": "Puntuacion promedio por tematica de los locales:"
        },
        "xaxis": {
         "anchor": "y",
         "categoryarray": [
          "Chino",
          "Japonés",
          "Mexicano",
          "Italiano",
          "Otros",
          "Cubano"
         ],
         "categoryorder": "array",
         "domain": [
          0,
          1
         ],
         "title": {
          "text": "Tematica del local"
         }
        },
        "yaxis": {
         "anchor": "x",
         "domain": [
          0,
          1
         ],
         "range": [
          3.533333333333333,
          4.5354961832061065
         ],
         "title": {
          "text": "Puntuacion promedio"
         }
        }
       }
      }
     },
     "metadata": {},
     "output_type": "display_data"
    },
    {
     "data": {
      "application/vnd.plotly.v1+json": {
       "config": {
        "plotlyServerURL": "https://plot.ly"
       },
       "data": [
        {
         "alignmentgroup": "True",
         "customdata": [
          [
           22
          ]
         ],
         "hovertemplate": "Nivel de accesibilidad económica=%{x}<br>Puntuacion promedio=%{y}<br>Cantidad de locales con este nivel=%{customdata[0]}<extra></extra>",
         "legendgroup": "Económico",
         "marker": {
          "color": "#636efa",
          "pattern": {
           "shape": ""
          }
         },
         "name": "Económico",
         "offsetgroup": "Económico",
         "orientation": "v",
         "showlegend": true,
         "textposition": "auto",
         "type": "bar",
         "x": [
          "Económico"
         ],
         "xaxis": "x",
         "y": [
          4.2318181818181815
         ],
         "yaxis": "y"
        },
        {
         "alignmentgroup": "True",
         "customdata": [
          [
           163
          ]
         ],
         "hovertemplate": "Nivel de accesibilidad económica=%{x}<br>Puntuacion promedio=%{y}<br>Cantidad de locales con este nivel=%{customdata[0]}<extra></extra>",
         "legendgroup": "Promedio",
         "marker": {
          "color": "#EF553B",
          "pattern": {
           "shape": ""
          }
         },
         "name": "Promedio",
         "offsetgroup": "Promedio",
         "orientation": "v",
         "showlegend": true,
         "textposition": "auto",
         "type": "bar",
         "x": [
          "Promedio"
         ],
         "xaxis": "x",
         "y": [
          4.426687116564417
         ],
         "yaxis": "y"
        },
        {
         "alignmentgroup": "True",
         "customdata": [
          [
           37
          ]
         ],
         "hovertemplate": "Nivel de accesibilidad económica=%{x}<br>Puntuacion promedio=%{y}<br>Cantidad de locales con este nivel=%{customdata[0]}<extra></extra>",
         "legendgroup": "Alto",
         "marker": {
          "color": "#00cc96",
          "pattern": {
           "shape": ""
          }
         },
         "name": "Alto",
         "offsetgroup": "Alto",
         "orientation": "v",
         "showlegend": true,
         "textposition": "auto",
         "type": "bar",
         "x": [
          "Alto"
         ],
         "xaxis": "x",
         "y": [
          4.428378378378378
         ],
         "yaxis": "y"
        },
        {
         "alignmentgroup": "True",
         "customdata": [
          [
           6
          ]
         ],
         "hovertemplate": "Nivel de accesibilidad económica=%{x}<br>Puntuacion promedio=%{y}<br>Cantidad de locales con este nivel=%{customdata[0]}<extra></extra>",
         "legendgroup": "Lujoso",
         "marker": {
          "color": "#ab63fa",
          "pattern": {
           "shape": ""
          }
         },
         "name": "Lujoso",
         "offsetgroup": "Lujoso",
         "orientation": "v",
         "showlegend": true,
         "textposition": "auto",
         "type": "bar",
         "x": [
          "Lujoso"
         ],
         "xaxis": "x",
         "y": [
          4.433333333333334
         ],
         "yaxis": "y"
        }
       ],
       "layout": {
        "barmode": "relative",
        "height": 350,
        "legend": {
         "title": {
          "text": "Nivel de accesibilidad económica"
         },
         "tracegroupgap": 0
        },
        "template": {
         "data": {
          "bar": [
           {
            "error_x": {
             "color": "#2a3f5f"
            },
            "error_y": {
             "color": "#2a3f5f"
            },
            "marker": {
             "line": {
              "color": "#E5ECF6",
              "width": 0.5
             },
             "pattern": {
              "fillmode": "overlay",
              "size": 10,
              "solidity": 0.2
             }
            },
            "type": "bar"
           }
          ],
          "barpolar": [
           {
            "marker": {
             "line": {
              "color": "#E5ECF6",
              "width": 0.5
             },
             "pattern": {
              "fillmode": "overlay",
              "size": 10,
              "solidity": 0.2
             }
            },
            "type": "barpolar"
           }
          ],
          "carpet": [
           {
            "aaxis": {
             "endlinecolor": "#2a3f5f",
             "gridcolor": "white",
             "linecolor": "white",
             "minorgridcolor": "white",
             "startlinecolor": "#2a3f5f"
            },
            "baxis": {
             "endlinecolor": "#2a3f5f",
             "gridcolor": "white",
             "linecolor": "white",
             "minorgridcolor": "white",
             "startlinecolor": "#2a3f5f"
            },
            "type": "carpet"
           }
          ],
          "choropleth": [
           {
            "colorbar": {
             "outlinewidth": 0,
             "ticks": ""
            },
            "type": "choropleth"
           }
          ],
          "contour": [
           {
            "colorbar": {
             "outlinewidth": 0,
             "ticks": ""
            },
            "colorscale": [
             [
              0,
              "#0d0887"
             ],
             [
              0.1111111111111111,
              "#46039f"
             ],
             [
              0.2222222222222222,
              "#7201a8"
             ],
             [
              0.3333333333333333,
              "#9c179e"
             ],
             [
              0.4444444444444444,
              "#bd3786"
             ],
             [
              0.5555555555555556,
              "#d8576b"
             ],
             [
              0.6666666666666666,
              "#ed7953"
             ],
             [
              0.7777777777777778,
              "#fb9f3a"
             ],
             [
              0.8888888888888888,
              "#fdca26"
             ],
             [
              1,
              "#f0f921"
             ]
            ],
            "type": "contour"
           }
          ],
          "contourcarpet": [
           {
            "colorbar": {
             "outlinewidth": 0,
             "ticks": ""
            },
            "type": "contourcarpet"
           }
          ],
          "heatmap": [
           {
            "colorbar": {
             "outlinewidth": 0,
             "ticks": ""
            },
            "colorscale": [
             [
              0,
              "#0d0887"
             ],
             [
              0.1111111111111111,
              "#46039f"
             ],
             [
              0.2222222222222222,
              "#7201a8"
             ],
             [
              0.3333333333333333,
              "#9c179e"
             ],
             [
              0.4444444444444444,
              "#bd3786"
             ],
             [
              0.5555555555555556,
              "#d8576b"
             ],
             [
              0.6666666666666666,
              "#ed7953"
             ],
             [
              0.7777777777777778,
              "#fb9f3a"
             ],
             [
              0.8888888888888888,
              "#fdca26"
             ],
             [
              1,
              "#f0f921"
             ]
            ],
            "type": "heatmap"
           }
          ],
          "heatmapgl": [
           {
            "colorbar": {
             "outlinewidth": 0,
             "ticks": ""
            },
            "colorscale": [
             [
              0,
              "#0d0887"
             ],
             [
              0.1111111111111111,
              "#46039f"
             ],
             [
              0.2222222222222222,
              "#7201a8"
             ],
             [
              0.3333333333333333,
              "#9c179e"
             ],
             [
              0.4444444444444444,
              "#bd3786"
             ],
             [
              0.5555555555555556,
              "#d8576b"
             ],
             [
              0.6666666666666666,
              "#ed7953"
             ],
             [
              0.7777777777777778,
              "#fb9f3a"
             ],
             [
              0.8888888888888888,
              "#fdca26"
             ],
             [
              1,
              "#f0f921"
             ]
            ],
            "type": "heatmapgl"
           }
          ],
          "histogram": [
           {
            "marker": {
             "pattern": {
              "fillmode": "overlay",
              "size": 10,
              "solidity": 0.2
             }
            },
            "type": "histogram"
           }
          ],
          "histogram2d": [
           {
            "colorbar": {
             "outlinewidth": 0,
             "ticks": ""
            },
            "colorscale": [
             [
              0,
              "#0d0887"
             ],
             [
              0.1111111111111111,
              "#46039f"
             ],
             [
              0.2222222222222222,
              "#7201a8"
             ],
             [
              0.3333333333333333,
              "#9c179e"
             ],
             [
              0.4444444444444444,
              "#bd3786"
             ],
             [
              0.5555555555555556,
              "#d8576b"
             ],
             [
              0.6666666666666666,
              "#ed7953"
             ],
             [
              0.7777777777777778,
              "#fb9f3a"
             ],
             [
              0.8888888888888888,
              "#fdca26"
             ],
             [
              1,
              "#f0f921"
             ]
            ],
            "type": "histogram2d"
           }
          ],
          "histogram2dcontour": [
           {
            "colorbar": {
             "outlinewidth": 0,
             "ticks": ""
            },
            "colorscale": [
             [
              0,
              "#0d0887"
             ],
             [
              0.1111111111111111,
              "#46039f"
             ],
             [
              0.2222222222222222,
              "#7201a8"
             ],
             [
              0.3333333333333333,
              "#9c179e"
             ],
             [
              0.4444444444444444,
              "#bd3786"
             ],
             [
              0.5555555555555556,
              "#d8576b"
             ],
             [
              0.6666666666666666,
              "#ed7953"
             ],
             [
              0.7777777777777778,
              "#fb9f3a"
             ],
             [
              0.8888888888888888,
              "#fdca26"
             ],
             [
              1,
              "#f0f921"
             ]
            ],
            "type": "histogram2dcontour"
           }
          ],
          "mesh3d": [
           {
            "colorbar": {
             "outlinewidth": 0,
             "ticks": ""
            },
            "type": "mesh3d"
           }
          ],
          "parcoords": [
           {
            "line": {
             "colorbar": {
              "outlinewidth": 0,
              "ticks": ""
             }
            },
            "type": "parcoords"
           }
          ],
          "pie": [
           {
            "automargin": true,
            "type": "pie"
           }
          ],
          "scatter": [
           {
            "fillpattern": {
             "fillmode": "overlay",
             "size": 10,
             "solidity": 0.2
            },
            "type": "scatter"
           }
          ],
          "scatter3d": [
           {
            "line": {
             "colorbar": {
              "outlinewidth": 0,
              "ticks": ""
             }
            },
            "marker": {
             "colorbar": {
              "outlinewidth": 0,
              "ticks": ""
             }
            },
            "type": "scatter3d"
           }
          ],
          "scattercarpet": [
           {
            "marker": {
             "colorbar": {
              "outlinewidth": 0,
              "ticks": ""
             }
            },
            "type": "scattercarpet"
           }
          ],
          "scattergeo": [
           {
            "marker": {
             "colorbar": {
              "outlinewidth": 0,
              "ticks": ""
             }
            },
            "type": "scattergeo"
           }
          ],
          "scattergl": [
           {
            "marker": {
             "colorbar": {
              "outlinewidth": 0,
              "ticks": ""
             }
            },
            "type": "scattergl"
           }
          ],
          "scattermapbox": [
           {
            "marker": {
             "colorbar": {
              "outlinewidth": 0,
              "ticks": ""
             }
            },
            "type": "scattermapbox"
           }
          ],
          "scatterpolar": [
           {
            "marker": {
             "colorbar": {
              "outlinewidth": 0,
              "ticks": ""
             }
            },
            "type": "scatterpolar"
           }
          ],
          "scatterpolargl": [
           {
            "marker": {
             "colorbar": {
              "outlinewidth": 0,
              "ticks": ""
             }
            },
            "type": "scatterpolargl"
           }
          ],
          "scatterternary": [
           {
            "marker": {
             "colorbar": {
              "outlinewidth": 0,
              "ticks": ""
             }
            },
            "type": "scatterternary"
           }
          ],
          "surface": [
           {
            "colorbar": {
             "outlinewidth": 0,
             "ticks": ""
            },
            "colorscale": [
             [
              0,
              "#0d0887"
             ],
             [
              0.1111111111111111,
              "#46039f"
             ],
             [
              0.2222222222222222,
              "#7201a8"
             ],
             [
              0.3333333333333333,
              "#9c179e"
             ],
             [
              0.4444444444444444,
              "#bd3786"
             ],
             [
              0.5555555555555556,
              "#d8576b"
             ],
             [
              0.6666666666666666,
              "#ed7953"
             ],
             [
              0.7777777777777778,
              "#fb9f3a"
             ],
             [
              0.8888888888888888,
              "#fdca26"
             ],
             [
              1,
              "#f0f921"
             ]
            ],
            "type": "surface"
           }
          ],
          "table": [
           {
            "cells": {
             "fill": {
              "color": "#EBF0F8"
             },
             "line": {
              "color": "white"
             }
            },
            "header": {
             "fill": {
              "color": "#C8D4E3"
             },
             "line": {
              "color": "white"
             }
            },
            "type": "table"
           }
          ]
         },
         "layout": {
          "annotationdefaults": {
           "arrowcolor": "#2a3f5f",
           "arrowhead": 0,
           "arrowwidth": 1
          },
          "autotypenumbers": "strict",
          "coloraxis": {
           "colorbar": {
            "outlinewidth": 0,
            "ticks": ""
           }
          },
          "colorscale": {
           "diverging": [
            [
             0,
             "#8e0152"
            ],
            [
             0.1,
             "#c51b7d"
            ],
            [
             0.2,
             "#de77ae"
            ],
            [
             0.3,
             "#f1b6da"
            ],
            [
             0.4,
             "#fde0ef"
            ],
            [
             0.5,
             "#f7f7f7"
            ],
            [
             0.6,
             "#e6f5d0"
            ],
            [
             0.7,
             "#b8e186"
            ],
            [
             0.8,
             "#7fbc41"
            ],
            [
             0.9,
             "#4d9221"
            ],
            [
             1,
             "#276419"
            ]
           ],
           "sequential": [
            [
             0,
             "#0d0887"
            ],
            [
             0.1111111111111111,
             "#46039f"
            ],
            [
             0.2222222222222222,
             "#7201a8"
            ],
            [
             0.3333333333333333,
             "#9c179e"
            ],
            [
             0.4444444444444444,
             "#bd3786"
            ],
            [
             0.5555555555555556,
             "#d8576b"
            ],
            [
             0.6666666666666666,
             "#ed7953"
            ],
            [
             0.7777777777777778,
             "#fb9f3a"
            ],
            [
             0.8888888888888888,
             "#fdca26"
            ],
            [
             1,
             "#f0f921"
            ]
           ],
           "sequentialminus": [
            [
             0,
             "#0d0887"
            ],
            [
             0.1111111111111111,
             "#46039f"
            ],
            [
             0.2222222222222222,
             "#7201a8"
            ],
            [
             0.3333333333333333,
             "#9c179e"
            ],
            [
             0.4444444444444444,
             "#bd3786"
            ],
            [
             0.5555555555555556,
             "#d8576b"
            ],
            [
             0.6666666666666666,
             "#ed7953"
            ],
            [
             0.7777777777777778,
             "#fb9f3a"
            ],
            [
             0.8888888888888888,
             "#fdca26"
            ],
            [
             1,
             "#f0f921"
            ]
           ]
          },
          "colorway": [
           "#636efa",
           "#EF553B",
           "#00cc96",
           "#ab63fa",
           "#FFA15A",
           "#19d3f3",
           "#FF6692",
           "#B6E880",
           "#FF97FF",
           "#FECB52"
          ],
          "font": {
           "color": "#2a3f5f"
          },
          "geo": {
           "bgcolor": "white",
           "lakecolor": "white",
           "landcolor": "#E5ECF6",
           "showlakes": true,
           "showland": true,
           "subunitcolor": "white"
          },
          "hoverlabel": {
           "align": "left"
          },
          "hovermode": "closest",
          "mapbox": {
           "style": "light"
          },
          "paper_bgcolor": "white",
          "plot_bgcolor": "#E5ECF6",
          "polar": {
           "angularaxis": {
            "gridcolor": "white",
            "linecolor": "white",
            "ticks": ""
           },
           "bgcolor": "#E5ECF6",
           "radialaxis": {
            "gridcolor": "white",
            "linecolor": "white",
            "ticks": ""
           }
          },
          "scene": {
           "xaxis": {
            "backgroundcolor": "#E5ECF6",
            "gridcolor": "white",
            "gridwidth": 2,
            "linecolor": "white",
            "showbackground": true,
            "ticks": "",
            "zerolinecolor": "white"
           },
           "yaxis": {
            "backgroundcolor": "#E5ECF6",
            "gridcolor": "white",
            "gridwidth": 2,
            "linecolor": "white",
            "showbackground": true,
            "ticks": "",
            "zerolinecolor": "white"
           },
           "zaxis": {
            "backgroundcolor": "#E5ECF6",
            "gridcolor": "white",
            "gridwidth": 2,
            "linecolor": "white",
            "showbackground": true,
            "ticks": "",
            "zerolinecolor": "white"
           }
          },
          "shapedefaults": {
           "line": {
            "color": "#2a3f5f"
           }
          },
          "ternary": {
           "aaxis": {
            "gridcolor": "white",
            "linecolor": "white",
            "ticks": ""
           },
           "baxis": {
            "gridcolor": "white",
            "linecolor": "white",
            "ticks": ""
           },
           "bgcolor": "#E5ECF6",
           "caxis": {
            "gridcolor": "white",
            "linecolor": "white",
            "ticks": ""
           }
          },
          "title": {
           "x": 0.05
          },
          "xaxis": {
           "automargin": true,
           "gridcolor": "white",
           "linecolor": "white",
           "ticks": "",
           "title": {
            "standoff": 15
           },
           "zerolinecolor": "white",
           "zerolinewidth": 2
          },
          "yaxis": {
           "automargin": true,
           "gridcolor": "white",
           "linecolor": "white",
           "ticks": "",
           "title": {
            "standoff": 15
           },
           "zerolinecolor": "white",
           "zerolinewidth": 2
          }
         }
        },
        "title": {
         "text": "Puntuacion promedio por nivel de accesibilidad económica:"
        },
        "xaxis": {
         "anchor": "y",
         "categoryarray": [
          "Económico",
          "Promedio",
          "Alto",
          "Lujoso"
         ],
         "categoryorder": "array",
         "domain": [
          0,
          1
         ],
         "title": {
          "text": "Nivel de accesibilidad económica"
         }
        },
        "yaxis": {
         "anchor": "x",
         "domain": [
          0,
          1
         ],
         "range": [
          4.131818181818182,
          4.533333333333333
         ],
         "title": {
          "text": "Puntuacion promedio"
         }
        }
       }
      }
     },
     "metadata": {},
     "output_type": "display_data"
    }
   ],
   "source": [
    "df_est_type = df.groupby('est_type')['rating'].mean().reset_index()\n",
    "df_bus_type = df.groupby('bus_type')['rating'].mean().reset_index()\n",
    "df_cuisine = df.groupby('cuisine')['rating'].mean().reset_index()\n",
    "df_level = df.groupby('level')['rating'].mean().reset_index()\n",
    "\n",
    "df_est_type_add_reviews = df.groupby('est_type').size().reset_index(name='cantity')\n",
    "df_bus_type_add_reviews = df.groupby('bus_type').size().reset_index(name='cantity')\n",
    "df_cuisine_add_reviews = df.groupby('cuisine').size().reset_index(name='reviews')\n",
    "df_level_add_reviews = df.groupby('level').size().reset_index(name='cantity')\n",
    "\n",
    "df_est_type = df_est_type.merge(df_est_type_add_reviews, on='est_type', how='left')\n",
    "df_bus_type = df_bus_type.merge(df_bus_type_add_reviews, on='bus_type', how='left')\n",
    "df_cuisine = df_cuisine.merge(df_cuisine_add_reviews, on='cuisine', how='left')\n",
    "df_level = df_level.merge(df_level_add_reviews, on='level', how='left')\n",
    "\n",
    "df_est_type['est_type'] = df_est_type['est_type'].map({'bar': 'Bar', 'restaurant': 'Restaurante'})\n",
    "df_bus_type['bus_type'] = df_bus_type['bus_type'].map({'private': 'Privado', 'state': 'Publico'})\n",
    "df_cuisine['cuisine'] = df_cuisine['cuisine'].map({\"chinese\": \"Chino\", \"cuban\": \"Cubano\", \"italian\": \"Italiano\", \"japanese\": \"Japonés\", \"mexican\": \"Mexicano\", \"others\": \"Otros\"})\n",
    "df_level['level'] = df_level['level'].map({'economic':'Económico','medium': 'Promedio','high': 'Alto','luxurious': 'Lujoso'})#economic, medium, high, luxurious\n",
    "\n",
    "df_est_type = df_est_type.sort_values('rating')\n",
    "df_bus_type = df_bus_type.sort_values('rating')\n",
    "df_cuisine = df_cuisine.sort_values('rating')\n",
    "df_level = df_level.sort_values('rating')\n",
    "\n",
    "fig_est_type = px.bar(\n",
    "    df_est_type,\n",
    "    x='est_type',\n",
    "    y='rating',\n",
    "    hover_data=['cantity'],\n",
    "    labels={\n",
    "        \"est_type\": \"Tipo de establecimiento\",\n",
    "        \"rating\": \"Puntuacion promedio\",\n",
    "        \"cantity\": \"Cantidad de tipos de establecimientos\"\n",
    "    },\n",
    "    title='Puntuacion promedio por tipo de establecimiento:',\n",
    "    range_y=[min(df_est_type['rating']) -0.1, max(df_est_type['rating']) + 0.05],\n",
    "    color='est_type',\n",
    "    width=0, height=350\n",
    ")\n",
    "\n",
    "fig_bus_type = px.bar(\n",
    "    df_bus_type,\n",
    "    x='bus_type',\n",
    "    y='rating',\n",
    "    hover_data=['cantity'],\n",
    "    labels={\n",
    "        \"bus_type\": \"Tipo de negocio\",\n",
    "        \"rating\": \"Puntuacion promedio\",\n",
    "        \"cantity\": \"Cantidad de tipos de negocios\"\n",
    "    },\n",
    "    title='Puntuacion promedio por tipo de negocio:',\n",
    "    range_y=[min(df_bus_type['rating']) -0.2, max(df_bus_type['rating']) + 0.1],\n",
    "    color='bus_type',\n",
    "    width=0, height=350\n",
    ")\n",
    "fig_cuisine = px.bar(\n",
    "    df_cuisine,\n",
    "    x='cuisine',\n",
    "    y='rating',\n",
    "    hover_data=['reviews'],\n",
    "    labels={\n",
    "        \"cuisine\": \"Tematica del local\",\n",
    "        \"rating\": \"Puntuacion promedio\",\n",
    "        \"reviews\": \"Numero de reseñas\"\n",
    "    },\n",
    "    title='Puntuacion promedio por tematica de los locales:',\n",
    "    range_y=[min(df_cuisine['rating']) -0.1, max(df_cuisine['rating']) + 0.1],\n",
    "    color='cuisine',\n",
    "    width=0, height=350\n",
    ")\n",
    "\n",
    "fig_level = px.bar(\n",
    "    df_level,\n",
    "    x='level',\n",
    "    y='rating',\n",
    "    hover_data=['cantity'],\n",
    "    labels={\n",
    "        \"level\": \"Nivel de accesibilidad económica\",\n",
    "        \"rating\": \"Puntuacion promedio\",\n",
    "        \"cantity\": \"Cantidad de locales con este nivel\"\n",
    "    },\n",
    "    title='Puntuacion promedio por nivel de accesibilidad económica:',\n",
    "    range_y=[min(df_level['rating']) -0.1, max(df_level['rating']) + 0.1],\n",
    "    color='level',\n",
    "    width=0, height=350\n",
    ")\n",
    "\n",
    "fig_est_type.show()\n",
    "fig_bus_type.show()\n",
    "fig_cuisine.show()\n",
    "fig_level.show()"
   ]
  },
  {
   "cell_type": "markdown",
   "id": "4bfcffa5",
   "metadata": {},
   "source": [
    "Observemos que los bares tienden a tener una **puntuación** más alta que los ***restaurantes***. Además, los locales ***privados*** superan significativamente a los ***públicos*** en términos de **puntuación**.\n",
    "\n",
    "En cuanto a la ***temática culinaria***, la comida ***cubana*** lidera con la mejor recepción, encabezando el TOP.\n",
    "\n",
    "Respecto a la ***accesibilidad económica***, los locales ***económicos*** tienden a recibir puntuaciones más bajas en comparación con otras categorías, lo curioso sería que el nivel promedio compita en ***puntuacion*** con el nivel ***alto*** y el considerado ***lujoso***.\n",
    "\n",
    "---"
   ]
  },
  {
   "cell_type": "markdown",
   "id": "61fae360",
   "metadata": {},
   "source": [
    "---\n",
    "Ahora miremos si puede existir una relacion de exitencia de redes sociales respecto a los precios de los locales y ver si influye o no en una mejor o peor puntuacion.\n"
   ]
  },
  {
   "cell_type": "code",
   "execution_count": 48,
   "id": "7727a235",
   "metadata": {},
   "outputs": [
    {
     "data": {
      "application/vnd.plotly.v1+json": {
       "config": {
        "plotlyServerURL": "https://plot.ly"
       },
       "data": [
        {
         "alignmentgroup": "True",
         "hovertemplate": "Clasificación=%{x}<br>Puntuación=%{y}<extra></extra>",
         "legendgroup": "Con Facebook",
         "marker": {
          "color": "#636efa"
         },
         "name": "Con Facebook",
         "notched": false,
         "offsetgroup": "Con Facebook",
         "orientation": "v",
         "showlegend": true,
         "type": "box",
         "x": [
          "Con Facebook",
          "Con Facebook",
          "Con Facebook",
          "Con Facebook",
          "Con Facebook",
          "Con Facebook",
          "Con Facebook",
          "Con Facebook",
          "Con Facebook",
          "Con Facebook",
          "Con Facebook",
          "Con Facebook",
          "Con Facebook",
          "Con Facebook",
          "Con Facebook",
          "Con Facebook",
          "Con Facebook",
          "Con Facebook",
          "Con Facebook",
          "Con Facebook",
          "Con Facebook",
          "Con Facebook",
          "Con Facebook",
          "Con Facebook",
          "Con Facebook",
          "Con Facebook",
          "Con Facebook",
          "Con Facebook",
          "Con Facebook",
          "Con Facebook",
          "Con Facebook",
          "Con Facebook",
          "Con Facebook",
          "Con Facebook",
          "Con Facebook",
          "Con Facebook",
          "Con Facebook",
          "Con Facebook",
          "Con Facebook",
          "Con Facebook",
          "Con Facebook",
          "Con Facebook",
          "Con Facebook",
          "Con Facebook",
          "Con Facebook",
          "Con Facebook",
          "Con Facebook",
          "Con Facebook",
          "Con Facebook",
          "Con Facebook",
          "Con Facebook",
          "Con Facebook",
          "Con Facebook",
          "Con Facebook",
          "Con Facebook",
          "Con Facebook",
          "Con Facebook",
          "Con Facebook",
          "Con Facebook",
          "Con Facebook",
          "Con Facebook",
          "Con Facebook",
          "Con Facebook",
          "Con Facebook",
          "Con Facebook",
          "Con Facebook",
          "Con Facebook",
          "Con Facebook",
          "Con Facebook",
          "Con Facebook",
          "Con Facebook",
          "Con Facebook",
          "Con Facebook",
          "Con Facebook",
          "Con Facebook",
          "Con Facebook",
          "Con Facebook",
          "Con Facebook",
          "Con Facebook",
          "Con Facebook",
          "Con Facebook",
          "Con Facebook",
          "Con Facebook",
          "Con Facebook",
          "Con Facebook"
         ],
         "x0": " ",
         "xaxis": "x",
         "y": [
          4.6,
          4.5,
          4.45,
          4.4,
          4.5,
          4.5,
          4.5,
          4.5,
          4.5,
          4.4,
          4.5,
          4.1,
          4.5,
          4.5,
          5,
          4.5,
          4.4,
          3.5,
          5,
          4.5,
          4.4,
          4.5,
          4.4,
          4.5,
          5,
          5,
          4.2,
          4.5,
          5,
          2.4,
          4.5,
          4.5,
          4.5,
          4.5,
          4.5,
          4.5,
          4.5,
          4.4,
          4.6,
          4.3,
          4.5,
          4.5,
          4.5,
          4.5,
          4.4,
          3.4,
          4.5,
          3.8,
          4.7,
          4.9,
          4,
          5,
          3.3,
          4.5,
          4.8,
          4.5,
          5,
          4,
          3.5,
          4,
          5,
          3.5,
          4,
          5,
          4,
          3.7,
          4.9,
          4.5,
          5,
          3.5,
          5,
          3.3,
          4.5,
          5,
          3,
          4.5,
          4.5,
          5,
          4.4,
          4.2,
          4.5,
          4.5,
          4.5,
          4.3,
          4.5
         ],
         "y0": " ",
         "yaxis": "y"
        },
        {
         "alignmentgroup": "True",
         "hovertemplate": "Clasificación=%{x}<br>Puntuación=%{y}<extra></extra>",
         "legendgroup": "Sin Facebook",
         "marker": {
          "color": "#EF553B"
         },
         "name": "Sin Facebook",
         "notched": false,
         "offsetgroup": "Sin Facebook",
         "orientation": "v",
         "showlegend": true,
         "type": "box",
         "x": [
          "Sin Facebook",
          "Sin Facebook",
          "Sin Facebook",
          "Sin Facebook",
          "Sin Facebook",
          "Sin Facebook",
          "Sin Facebook",
          "Sin Facebook",
          "Sin Facebook",
          "Sin Facebook",
          "Sin Facebook",
          "Sin Facebook",
          "Sin Facebook",
          "Sin Facebook",
          "Sin Facebook",
          "Sin Facebook",
          "Sin Facebook",
          "Sin Facebook",
          "Sin Facebook",
          "Sin Facebook",
          "Sin Facebook",
          "Sin Facebook",
          "Sin Facebook",
          "Sin Facebook",
          "Sin Facebook",
          "Sin Facebook",
          "Sin Facebook",
          "Sin Facebook",
          "Sin Facebook",
          "Sin Facebook",
          "Sin Facebook",
          "Sin Facebook",
          "Sin Facebook",
          "Sin Facebook",
          "Sin Facebook",
          "Sin Facebook",
          "Sin Facebook",
          "Sin Facebook",
          "Sin Facebook",
          "Sin Facebook",
          "Sin Facebook",
          "Sin Facebook",
          "Sin Facebook",
          "Sin Facebook",
          "Sin Facebook",
          "Sin Facebook",
          "Sin Facebook",
          "Sin Facebook",
          "Sin Facebook",
          "Sin Facebook",
          "Sin Facebook",
          "Sin Facebook",
          "Sin Facebook",
          "Sin Facebook",
          "Sin Facebook",
          "Sin Facebook",
          "Sin Facebook",
          "Sin Facebook",
          "Sin Facebook",
          "Sin Facebook",
          "Sin Facebook",
          "Sin Facebook",
          "Sin Facebook",
          "Sin Facebook",
          "Sin Facebook",
          "Sin Facebook",
          "Sin Facebook",
          "Sin Facebook",
          "Sin Facebook",
          "Sin Facebook",
          "Sin Facebook",
          "Sin Facebook",
          "Sin Facebook",
          "Sin Facebook",
          "Sin Facebook",
          "Sin Facebook",
          "Sin Facebook",
          "Sin Facebook",
          "Sin Facebook",
          "Sin Facebook",
          "Sin Facebook",
          "Sin Facebook",
          "Sin Facebook",
          "Sin Facebook",
          "Sin Facebook",
          "Sin Facebook",
          "Sin Facebook",
          "Sin Facebook",
          "Sin Facebook",
          "Sin Facebook",
          "Sin Facebook",
          "Sin Facebook",
          "Sin Facebook",
          "Sin Facebook",
          "Sin Facebook",
          "Sin Facebook",
          "Sin Facebook",
          "Sin Facebook",
          "Sin Facebook",
          "Sin Facebook",
          "Sin Facebook",
          "Sin Facebook",
          "Sin Facebook",
          "Sin Facebook",
          "Sin Facebook",
          "Sin Facebook",
          "Sin Facebook",
          "Sin Facebook",
          "Sin Facebook",
          "Sin Facebook",
          "Sin Facebook",
          "Sin Facebook",
          "Sin Facebook",
          "Sin Facebook",
          "Sin Facebook",
          "Sin Facebook",
          "Sin Facebook",
          "Sin Facebook",
          "Sin Facebook",
          "Sin Facebook",
          "Sin Facebook",
          "Sin Facebook",
          "Sin Facebook",
          "Sin Facebook",
          "Sin Facebook",
          "Sin Facebook",
          "Sin Facebook",
          "Sin Facebook",
          "Sin Facebook",
          "Sin Facebook",
          "Sin Facebook",
          "Sin Facebook",
          "Sin Facebook",
          "Sin Facebook",
          "Sin Facebook",
          "Sin Facebook",
          "Sin Facebook",
          "Sin Facebook",
          "Sin Facebook",
          "Sin Facebook",
          "Sin Facebook",
          "Sin Facebook",
          "Sin Facebook"
         ],
         "x0": " ",
         "xaxis": "x",
         "y": [
          4.5,
          4.4,
          4.5,
          4.5,
          4.6,
          4.5,
          4.4,
          4.6,
          4.5,
          4.4,
          4.5,
          4.5,
          4.4,
          5,
          3.4,
          4.5,
          4.5,
          4.5,
          3.5,
          3.1,
          4.5,
          4.5,
          4.3,
          4.5,
          5,
          3.1,
          5,
          4.5,
          4.5,
          4.6,
          4.6,
          4.5,
          4.5,
          4.5,
          4,
          4.5,
          4.5,
          4.5,
          4.6,
          4.5,
          4.5,
          4.4,
          4.5,
          4.5,
          4.5,
          4.5,
          4.5,
          4.5,
          4.5,
          4.5,
          4.4,
          4.4,
          4.4,
          4.5,
          4.5,
          4.5,
          4.5,
          4.4,
          4.5,
          4.4,
          4.3,
          4.5,
          5,
          4.2,
          4.5,
          4.5,
          4.3,
          4.5,
          4.5,
          4.5,
          4.5,
          4.4,
          3.7,
          4.5,
          4.5,
          4.4,
          4.4,
          3.7,
          5,
          4.7,
          4.8,
          4.5,
          4.5,
          4.3,
          4.5,
          5,
          4,
          4.5,
          4.5,
          4.5,
          4.8,
          3.6,
          3.9,
          4.2,
          4.3,
          3.7,
          3.9,
          4.3,
          4,
          4.25,
          4.4,
          3.9,
          4.5,
          4.5,
          4.5,
          3.8,
          5,
          4.3,
          5,
          5,
          4.5,
          4.5,
          4.2,
          4,
          4.5,
          4.5,
          4.5,
          3.5,
          4.8,
          4.8,
          4.5,
          4.4,
          5,
          4.5,
          4.5,
          4.5,
          4.5,
          3.9,
          4.4,
          4.5,
          4.5,
          4.6,
          4.5,
          4.5,
          4.5,
          4.4,
          4.5,
          4.5,
          4.5,
          4.5,
          4.5,
          4.5,
          4.5
         ],
         "y0": " ",
         "yaxis": "y"
        }
       ],
       "layout": {
        "boxmode": "overlay",
        "legend": {
         "title": {
          "text": "Clasificación"
         },
         "tracegroupgap": 0
        },
        "template": {
         "data": {
          "bar": [
           {
            "error_x": {
             "color": "#2a3f5f"
            },
            "error_y": {
             "color": "#2a3f5f"
            },
            "marker": {
             "line": {
              "color": "#E5ECF6",
              "width": 0.5
             },
             "pattern": {
              "fillmode": "overlay",
              "size": 10,
              "solidity": 0.2
             }
            },
            "type": "bar"
           }
          ],
          "barpolar": [
           {
            "marker": {
             "line": {
              "color": "#E5ECF6",
              "width": 0.5
             },
             "pattern": {
              "fillmode": "overlay",
              "size": 10,
              "solidity": 0.2
             }
            },
            "type": "barpolar"
           }
          ],
          "carpet": [
           {
            "aaxis": {
             "endlinecolor": "#2a3f5f",
             "gridcolor": "white",
             "linecolor": "white",
             "minorgridcolor": "white",
             "startlinecolor": "#2a3f5f"
            },
            "baxis": {
             "endlinecolor": "#2a3f5f",
             "gridcolor": "white",
             "linecolor": "white",
             "minorgridcolor": "white",
             "startlinecolor": "#2a3f5f"
            },
            "type": "carpet"
           }
          ],
          "choropleth": [
           {
            "colorbar": {
             "outlinewidth": 0,
             "ticks": ""
            },
            "type": "choropleth"
           }
          ],
          "contour": [
           {
            "colorbar": {
             "outlinewidth": 0,
             "ticks": ""
            },
            "colorscale": [
             [
              0,
              "#0d0887"
             ],
             [
              0.1111111111111111,
              "#46039f"
             ],
             [
              0.2222222222222222,
              "#7201a8"
             ],
             [
              0.3333333333333333,
              "#9c179e"
             ],
             [
              0.4444444444444444,
              "#bd3786"
             ],
             [
              0.5555555555555556,
              "#d8576b"
             ],
             [
              0.6666666666666666,
              "#ed7953"
             ],
             [
              0.7777777777777778,
              "#fb9f3a"
             ],
             [
              0.8888888888888888,
              "#fdca26"
             ],
             [
              1,
              "#f0f921"
             ]
            ],
            "type": "contour"
           }
          ],
          "contourcarpet": [
           {
            "colorbar": {
             "outlinewidth": 0,
             "ticks": ""
            },
            "type": "contourcarpet"
           }
          ],
          "heatmap": [
           {
            "colorbar": {
             "outlinewidth": 0,
             "ticks": ""
            },
            "colorscale": [
             [
              0,
              "#0d0887"
             ],
             [
              0.1111111111111111,
              "#46039f"
             ],
             [
              0.2222222222222222,
              "#7201a8"
             ],
             [
              0.3333333333333333,
              "#9c179e"
             ],
             [
              0.4444444444444444,
              "#bd3786"
             ],
             [
              0.5555555555555556,
              "#d8576b"
             ],
             [
              0.6666666666666666,
              "#ed7953"
             ],
             [
              0.7777777777777778,
              "#fb9f3a"
             ],
             [
              0.8888888888888888,
              "#fdca26"
             ],
             [
              1,
              "#f0f921"
             ]
            ],
            "type": "heatmap"
           }
          ],
          "heatmapgl": [
           {
            "colorbar": {
             "outlinewidth": 0,
             "ticks": ""
            },
            "colorscale": [
             [
              0,
              "#0d0887"
             ],
             [
              0.1111111111111111,
              "#46039f"
             ],
             [
              0.2222222222222222,
              "#7201a8"
             ],
             [
              0.3333333333333333,
              "#9c179e"
             ],
             [
              0.4444444444444444,
              "#bd3786"
             ],
             [
              0.5555555555555556,
              "#d8576b"
             ],
             [
              0.6666666666666666,
              "#ed7953"
             ],
             [
              0.7777777777777778,
              "#fb9f3a"
             ],
             [
              0.8888888888888888,
              "#fdca26"
             ],
             [
              1,
              "#f0f921"
             ]
            ],
            "type": "heatmapgl"
           }
          ],
          "histogram": [
           {
            "marker": {
             "pattern": {
              "fillmode": "overlay",
              "size": 10,
              "solidity": 0.2
             }
            },
            "type": "histogram"
           }
          ],
          "histogram2d": [
           {
            "colorbar": {
             "outlinewidth": 0,
             "ticks": ""
            },
            "colorscale": [
             [
              0,
              "#0d0887"
             ],
             [
              0.1111111111111111,
              "#46039f"
             ],
             [
              0.2222222222222222,
              "#7201a8"
             ],
             [
              0.3333333333333333,
              "#9c179e"
             ],
             [
              0.4444444444444444,
              "#bd3786"
             ],
             [
              0.5555555555555556,
              "#d8576b"
             ],
             [
              0.6666666666666666,
              "#ed7953"
             ],
             [
              0.7777777777777778,
              "#fb9f3a"
             ],
             [
              0.8888888888888888,
              "#fdca26"
             ],
             [
              1,
              "#f0f921"
             ]
            ],
            "type": "histogram2d"
           }
          ],
          "histogram2dcontour": [
           {
            "colorbar": {
             "outlinewidth": 0,
             "ticks": ""
            },
            "colorscale": [
             [
              0,
              "#0d0887"
             ],
             [
              0.1111111111111111,
              "#46039f"
             ],
             [
              0.2222222222222222,
              "#7201a8"
             ],
             [
              0.3333333333333333,
              "#9c179e"
             ],
             [
              0.4444444444444444,
              "#bd3786"
             ],
             [
              0.5555555555555556,
              "#d8576b"
             ],
             [
              0.6666666666666666,
              "#ed7953"
             ],
             [
              0.7777777777777778,
              "#fb9f3a"
             ],
             [
              0.8888888888888888,
              "#fdca26"
             ],
             [
              1,
              "#f0f921"
             ]
            ],
            "type": "histogram2dcontour"
           }
          ],
          "mesh3d": [
           {
            "colorbar": {
             "outlinewidth": 0,
             "ticks": ""
            },
            "type": "mesh3d"
           }
          ],
          "parcoords": [
           {
            "line": {
             "colorbar": {
              "outlinewidth": 0,
              "ticks": ""
             }
            },
            "type": "parcoords"
           }
          ],
          "pie": [
           {
            "automargin": true,
            "type": "pie"
           }
          ],
          "scatter": [
           {
            "fillpattern": {
             "fillmode": "overlay",
             "size": 10,
             "solidity": 0.2
            },
            "type": "scatter"
           }
          ],
          "scatter3d": [
           {
            "line": {
             "colorbar": {
              "outlinewidth": 0,
              "ticks": ""
             }
            },
            "marker": {
             "colorbar": {
              "outlinewidth": 0,
              "ticks": ""
             }
            },
            "type": "scatter3d"
           }
          ],
          "scattercarpet": [
           {
            "marker": {
             "colorbar": {
              "outlinewidth": 0,
              "ticks": ""
             }
            },
            "type": "scattercarpet"
           }
          ],
          "scattergeo": [
           {
            "marker": {
             "colorbar": {
              "outlinewidth": 0,
              "ticks": ""
             }
            },
            "type": "scattergeo"
           }
          ],
          "scattergl": [
           {
            "marker": {
             "colorbar": {
              "outlinewidth": 0,
              "ticks": ""
             }
            },
            "type": "scattergl"
           }
          ],
          "scattermapbox": [
           {
            "marker": {
             "colorbar": {
              "outlinewidth": 0,
              "ticks": ""
             }
            },
            "type": "scattermapbox"
           }
          ],
          "scatterpolar": [
           {
            "marker": {
             "colorbar": {
              "outlinewidth": 0,
              "ticks": ""
             }
            },
            "type": "scatterpolar"
           }
          ],
          "scatterpolargl": [
           {
            "marker": {
             "colorbar": {
              "outlinewidth": 0,
              "ticks": ""
             }
            },
            "type": "scatterpolargl"
           }
          ],
          "scatterternary": [
           {
            "marker": {
             "colorbar": {
              "outlinewidth": 0,
              "ticks": ""
             }
            },
            "type": "scatterternary"
           }
          ],
          "surface": [
           {
            "colorbar": {
             "outlinewidth": 0,
             "ticks": ""
            },
            "colorscale": [
             [
              0,
              "#0d0887"
             ],
             [
              0.1111111111111111,
              "#46039f"
             ],
             [
              0.2222222222222222,
              "#7201a8"
             ],
             [
              0.3333333333333333,
              "#9c179e"
             ],
             [
              0.4444444444444444,
              "#bd3786"
             ],
             [
              0.5555555555555556,
              "#d8576b"
             ],
             [
              0.6666666666666666,
              "#ed7953"
             ],
             [
              0.7777777777777778,
              "#fb9f3a"
             ],
             [
              0.8888888888888888,
              "#fdca26"
             ],
             [
              1,
              "#f0f921"
             ]
            ],
            "type": "surface"
           }
          ],
          "table": [
           {
            "cells": {
             "fill": {
              "color": "#EBF0F8"
             },
             "line": {
              "color": "white"
             }
            },
            "header": {
             "fill": {
              "color": "#C8D4E3"
             },
             "line": {
              "color": "white"
             }
            },
            "type": "table"
           }
          ]
         },
         "layout": {
          "annotationdefaults": {
           "arrowcolor": "#2a3f5f",
           "arrowhead": 0,
           "arrowwidth": 1
          },
          "autotypenumbers": "strict",
          "coloraxis": {
           "colorbar": {
            "outlinewidth": 0,
            "ticks": ""
           }
          },
          "colorscale": {
           "diverging": [
            [
             0,
             "#8e0152"
            ],
            [
             0.1,
             "#c51b7d"
            ],
            [
             0.2,
             "#de77ae"
            ],
            [
             0.3,
             "#f1b6da"
            ],
            [
             0.4,
             "#fde0ef"
            ],
            [
             0.5,
             "#f7f7f7"
            ],
            [
             0.6,
             "#e6f5d0"
            ],
            [
             0.7,
             "#b8e186"
            ],
            [
             0.8,
             "#7fbc41"
            ],
            [
             0.9,
             "#4d9221"
            ],
            [
             1,
             "#276419"
            ]
           ],
           "sequential": [
            [
             0,
             "#0d0887"
            ],
            [
             0.1111111111111111,
             "#46039f"
            ],
            [
             0.2222222222222222,
             "#7201a8"
            ],
            [
             0.3333333333333333,
             "#9c179e"
            ],
            [
             0.4444444444444444,
             "#bd3786"
            ],
            [
             0.5555555555555556,
             "#d8576b"
            ],
            [
             0.6666666666666666,
             "#ed7953"
            ],
            [
             0.7777777777777778,
             "#fb9f3a"
            ],
            [
             0.8888888888888888,
             "#fdca26"
            ],
            [
             1,
             "#f0f921"
            ]
           ],
           "sequentialminus": [
            [
             0,
             "#0d0887"
            ],
            [
             0.1111111111111111,
             "#46039f"
            ],
            [
             0.2222222222222222,
             "#7201a8"
            ],
            [
             0.3333333333333333,
             "#9c179e"
            ],
            [
             0.4444444444444444,
             "#bd3786"
            ],
            [
             0.5555555555555556,
             "#d8576b"
            ],
            [
             0.6666666666666666,
             "#ed7953"
            ],
            [
             0.7777777777777778,
             "#fb9f3a"
            ],
            [
             0.8888888888888888,
             "#fdca26"
            ],
            [
             1,
             "#f0f921"
            ]
           ]
          },
          "colorway": [
           "#636efa",
           "#EF553B",
           "#00cc96",
           "#ab63fa",
           "#FFA15A",
           "#19d3f3",
           "#FF6692",
           "#B6E880",
           "#FF97FF",
           "#FECB52"
          ],
          "font": {
           "color": "#2a3f5f"
          },
          "geo": {
           "bgcolor": "white",
           "lakecolor": "white",
           "landcolor": "#E5ECF6",
           "showlakes": true,
           "showland": true,
           "subunitcolor": "white"
          },
          "hoverlabel": {
           "align": "left"
          },
          "hovermode": "closest",
          "mapbox": {
           "style": "light"
          },
          "paper_bgcolor": "white",
          "plot_bgcolor": "#E5ECF6",
          "polar": {
           "angularaxis": {
            "gridcolor": "white",
            "linecolor": "white",
            "ticks": ""
           },
           "bgcolor": "#E5ECF6",
           "radialaxis": {
            "gridcolor": "white",
            "linecolor": "white",
            "ticks": ""
           }
          },
          "scene": {
           "xaxis": {
            "backgroundcolor": "#E5ECF6",
            "gridcolor": "white",
            "gridwidth": 2,
            "linecolor": "white",
            "showbackground": true,
            "ticks": "",
            "zerolinecolor": "white"
           },
           "yaxis": {
            "backgroundcolor": "#E5ECF6",
            "gridcolor": "white",
            "gridwidth": 2,
            "linecolor": "white",
            "showbackground": true,
            "ticks": "",
            "zerolinecolor": "white"
           },
           "zaxis": {
            "backgroundcolor": "#E5ECF6",
            "gridcolor": "white",
            "gridwidth": 2,
            "linecolor": "white",
            "showbackground": true,
            "ticks": "",
            "zerolinecolor": "white"
           }
          },
          "shapedefaults": {
           "line": {
            "color": "#2a3f5f"
           }
          },
          "ternary": {
           "aaxis": {
            "gridcolor": "white",
            "linecolor": "white",
            "ticks": ""
           },
           "baxis": {
            "gridcolor": "white",
            "linecolor": "white",
            "ticks": ""
           },
           "bgcolor": "#E5ECF6",
           "caxis": {
            "gridcolor": "white",
            "linecolor": "white",
            "ticks": ""
           }
          },
          "title": {
           "x": 0.05
          },
          "xaxis": {
           "automargin": true,
           "gridcolor": "white",
           "linecolor": "white",
           "ticks": "",
           "title": {
            "standoff": 15
           },
           "zerolinecolor": "white",
           "zerolinewidth": 2
          },
          "yaxis": {
           "automargin": true,
           "gridcolor": "white",
           "linecolor": "white",
           "ticks": "",
           "title": {
            "standoff": 15
           },
           "zerolinecolor": "white",
           "zerolinewidth": 2
          }
         }
        },
        "title": {
         "text": "Distribución de la puntuación por quienes tienen Facebook y quienes no:"
        },
        "xaxis": {
         "anchor": "y",
         "categoryarray": [
          "Con Facebook",
          "Sin Facebook"
         ],
         "categoryorder": "array",
         "domain": [
          0,
          1
         ],
         "title": {
          "text": "Clasificación"
         }
        },
        "yaxis": {
         "anchor": "x",
         "domain": [
          0,
          1
         ],
         "title": {
          "text": "Puntuación"
         }
        }
       }
      }
     },
     "metadata": {},
     "output_type": "display_data"
    },
    {
     "data": {
      "application/vnd.plotly.v1+json": {
       "config": {
        "plotlyServerURL": "https://plot.ly"
       },
       "data": [
        {
         "alignmentgroup": "True",
         "hovertemplate": "Clasificacion=%{x}<br>Puntuacion=%{y}<extra></extra>",
         "legendgroup": "Con Instagram",
         "marker": {
          "color": "#636efa"
         },
         "name": "Con Instagram",
         "notched": false,
         "offsetgroup": "Con Instagram",
         "orientation": "v",
         "showlegend": true,
         "type": "box",
         "x": [
          "Con Instagram",
          "Con Instagram",
          "Con Instagram",
          "Con Instagram",
          "Con Instagram",
          "Con Instagram",
          "Con Instagram",
          "Con Instagram",
          "Con Instagram",
          "Con Instagram",
          "Con Instagram",
          "Con Instagram",
          "Con Instagram",
          "Con Instagram",
          "Con Instagram",
          "Con Instagram",
          "Con Instagram",
          "Con Instagram",
          "Con Instagram",
          "Con Instagram",
          "Con Instagram",
          "Con Instagram",
          "Con Instagram",
          "Con Instagram",
          "Con Instagram",
          "Con Instagram",
          "Con Instagram",
          "Con Instagram",
          "Con Instagram",
          "Con Instagram",
          "Con Instagram",
          "Con Instagram",
          "Con Instagram",
          "Con Instagram",
          "Con Instagram",
          "Con Instagram",
          "Con Instagram",
          "Con Instagram",
          "Con Instagram",
          "Con Instagram",
          "Con Instagram",
          "Con Instagram",
          "Con Instagram",
          "Con Instagram",
          "Con Instagram",
          "Con Instagram",
          "Con Instagram",
          "Con Instagram",
          "Con Instagram",
          "Con Instagram",
          "Con Instagram",
          "Con Instagram",
          "Con Instagram",
          "Con Instagram",
          "Con Instagram",
          "Con Instagram",
          "Con Instagram",
          "Con Instagram",
          "Con Instagram",
          "Con Instagram",
          "Con Instagram",
          "Con Instagram",
          "Con Instagram",
          "Con Instagram",
          "Con Instagram",
          "Con Instagram",
          "Con Instagram",
          "Con Instagram",
          "Con Instagram",
          "Con Instagram",
          "Con Instagram",
          "Con Instagram",
          "Con Instagram",
          "Con Instagram",
          "Con Instagram",
          "Con Instagram",
          "Con Instagram",
          "Con Instagram",
          "Con Instagram",
          "Con Instagram",
          "Con Instagram",
          "Con Instagram",
          "Con Instagram",
          "Con Instagram",
          "Con Instagram",
          "Con Instagram",
          "Con Instagram",
          "Con Instagram",
          "Con Instagram",
          "Con Instagram",
          "Con Instagram",
          "Con Instagram",
          "Con Instagram",
          "Con Instagram",
          "Con Instagram",
          "Con Instagram"
         ],
         "x0": " ",
         "xaxis": "x",
         "y": [
          4.6,
          4.45,
          4.4,
          4.5,
          4.5,
          4.4,
          4.5,
          4.1,
          5,
          4.5,
          5,
          4.4,
          5,
          3.1,
          3.5,
          4.4,
          4.5,
          4.4,
          4.5,
          5,
          5,
          4.2,
          4.5,
          4.5,
          4.5,
          4.6,
          2.4,
          4.5,
          4.4,
          4.5,
          4.5,
          4.5,
          4.5,
          4.5,
          4.5,
          4.5,
          4.5,
          4.3,
          4.5,
          4.5,
          4.4,
          4.6,
          4.5,
          4.3,
          4.5,
          4.3,
          4.5,
          4.5,
          4.5,
          4.5,
          4.4,
          4.5,
          4.4,
          3.4,
          4.7,
          4.3,
          5,
          3.3,
          4.8,
          4.5,
          5,
          4,
          3.5,
          4.5,
          4.5,
          4,
          5,
          5,
          4,
          4.5,
          3.7,
          4.9,
          4.5,
          5,
          3.8,
          5,
          3.5,
          5,
          3.3,
          4.5,
          5,
          4.3,
          3,
          4.5,
          5,
          4.5,
          5,
          4.4,
          4.4,
          4.2,
          4.5,
          4.5,
          4.5,
          4.3,
          4.4,
          4.5
         ],
         "y0": " ",
         "yaxis": "y"
        },
        {
         "alignmentgroup": "True",
         "hovertemplate": "Clasificacion=%{x}<br>Puntuacion=%{y}<extra></extra>",
         "legendgroup": "Sin Instagram",
         "marker": {
          "color": "#EF553B"
         },
         "name": "Sin Instagram",
         "notched": false,
         "offsetgroup": "Sin Instagram",
         "orientation": "v",
         "showlegend": true,
         "type": "box",
         "x": [
          "Sin Instagram",
          "Sin Instagram",
          "Sin Instagram",
          "Sin Instagram",
          "Sin Instagram",
          "Sin Instagram",
          "Sin Instagram",
          "Sin Instagram",
          "Sin Instagram",
          "Sin Instagram",
          "Sin Instagram",
          "Sin Instagram",
          "Sin Instagram",
          "Sin Instagram",
          "Sin Instagram",
          "Sin Instagram",
          "Sin Instagram",
          "Sin Instagram",
          "Sin Instagram",
          "Sin Instagram",
          "Sin Instagram",
          "Sin Instagram",
          "Sin Instagram",
          "Sin Instagram",
          "Sin Instagram",
          "Sin Instagram",
          "Sin Instagram",
          "Sin Instagram",
          "Sin Instagram",
          "Sin Instagram",
          "Sin Instagram",
          "Sin Instagram",
          "Sin Instagram",
          "Sin Instagram",
          "Sin Instagram",
          "Sin Instagram",
          "Sin Instagram",
          "Sin Instagram",
          "Sin Instagram",
          "Sin Instagram",
          "Sin Instagram",
          "Sin Instagram",
          "Sin Instagram",
          "Sin Instagram",
          "Sin Instagram",
          "Sin Instagram",
          "Sin Instagram",
          "Sin Instagram",
          "Sin Instagram",
          "Sin Instagram",
          "Sin Instagram",
          "Sin Instagram",
          "Sin Instagram",
          "Sin Instagram",
          "Sin Instagram",
          "Sin Instagram",
          "Sin Instagram",
          "Sin Instagram",
          "Sin Instagram",
          "Sin Instagram",
          "Sin Instagram",
          "Sin Instagram",
          "Sin Instagram",
          "Sin Instagram",
          "Sin Instagram",
          "Sin Instagram",
          "Sin Instagram",
          "Sin Instagram",
          "Sin Instagram",
          "Sin Instagram",
          "Sin Instagram",
          "Sin Instagram",
          "Sin Instagram",
          "Sin Instagram",
          "Sin Instagram",
          "Sin Instagram",
          "Sin Instagram",
          "Sin Instagram",
          "Sin Instagram",
          "Sin Instagram",
          "Sin Instagram",
          "Sin Instagram",
          "Sin Instagram",
          "Sin Instagram",
          "Sin Instagram",
          "Sin Instagram",
          "Sin Instagram",
          "Sin Instagram",
          "Sin Instagram",
          "Sin Instagram",
          "Sin Instagram",
          "Sin Instagram",
          "Sin Instagram",
          "Sin Instagram",
          "Sin Instagram",
          "Sin Instagram",
          "Sin Instagram",
          "Sin Instagram",
          "Sin Instagram",
          "Sin Instagram",
          "Sin Instagram",
          "Sin Instagram",
          "Sin Instagram",
          "Sin Instagram",
          "Sin Instagram",
          "Sin Instagram",
          "Sin Instagram",
          "Sin Instagram",
          "Sin Instagram",
          "Sin Instagram",
          "Sin Instagram",
          "Sin Instagram",
          "Sin Instagram",
          "Sin Instagram",
          "Sin Instagram",
          "Sin Instagram",
          "Sin Instagram",
          "Sin Instagram",
          "Sin Instagram",
          "Sin Instagram",
          "Sin Instagram",
          "Sin Instagram",
          "Sin Instagram",
          "Sin Instagram",
          "Sin Instagram",
          "Sin Instagram",
          "Sin Instagram",
          "Sin Instagram",
          "Sin Instagram",
          "Sin Instagram",
          "Sin Instagram",
          "Sin Instagram"
         ],
         "x0": " ",
         "xaxis": "x",
         "y": [
          4.5,
          4.5,
          4.4,
          4.5,
          4.5,
          4.5,
          4.6,
          4.5,
          4.5,
          4.4,
          4.6,
          4.5,
          4.5,
          4.4,
          4.5,
          4.5,
          4.5,
          4.5,
          4.4,
          3.4,
          4.5,
          4.5,
          4.5,
          3.5,
          3.1,
          4.5,
          4.5,
          4.3,
          4.5,
          5,
          5,
          4.5,
          4.5,
          4.5,
          4.6,
          5,
          4.6,
          4.5,
          4.5,
          4,
          4.5,
          4.5,
          4.5,
          4.5,
          4.4,
          4.5,
          4.5,
          4.5,
          4.5,
          4.5,
          4.5,
          4.5,
          4.5,
          4.4,
          4.4,
          4.5,
          4.4,
          4.4,
          4.5,
          5,
          4.2,
          4.5,
          4.5,
          4.5,
          3.7,
          4.5,
          4.5,
          4.4,
          4.4,
          3.7,
          5,
          4.7,
          4.8,
          4.5,
          4.5,
          4.3,
          4.5,
          5,
          4,
          4.5,
          4.5,
          4.5,
          4.5,
          3.8,
          4.8,
          3.6,
          3.9,
          4.2,
          4.9,
          4,
          3.7,
          3.9,
          4.3,
          4,
          4.5,
          4.25,
          4.4,
          3.9,
          3.5,
          4,
          5,
          4.5,
          4.5,
          4.2,
          4,
          4.5,
          4.5,
          4.5,
          3.5,
          4.8,
          4.8,
          4.5,
          5,
          4.5,
          4.5,
          4.5,
          4.5,
          3.9,
          4.5,
          4.5,
          4.6,
          4.5,
          4.5,
          4.5,
          4.4,
          4.5,
          4.5,
          4.5,
          4.5,
          4.5,
          4.5,
          4.5
         ],
         "y0": " ",
         "yaxis": "y"
        }
       ],
       "layout": {
        "boxmode": "overlay",
        "legend": {
         "title": {
          "text": "Clasificacion"
         },
         "tracegroupgap": 0
        },
        "template": {
         "data": {
          "bar": [
           {
            "error_x": {
             "color": "#2a3f5f"
            },
            "error_y": {
             "color": "#2a3f5f"
            },
            "marker": {
             "line": {
              "color": "#E5ECF6",
              "width": 0.5
             },
             "pattern": {
              "fillmode": "overlay",
              "size": 10,
              "solidity": 0.2
             }
            },
            "type": "bar"
           }
          ],
          "barpolar": [
           {
            "marker": {
             "line": {
              "color": "#E5ECF6",
              "width": 0.5
             },
             "pattern": {
              "fillmode": "overlay",
              "size": 10,
              "solidity": 0.2
             }
            },
            "type": "barpolar"
           }
          ],
          "carpet": [
           {
            "aaxis": {
             "endlinecolor": "#2a3f5f",
             "gridcolor": "white",
             "linecolor": "white",
             "minorgridcolor": "white",
             "startlinecolor": "#2a3f5f"
            },
            "baxis": {
             "endlinecolor": "#2a3f5f",
             "gridcolor": "white",
             "linecolor": "white",
             "minorgridcolor": "white",
             "startlinecolor": "#2a3f5f"
            },
            "type": "carpet"
           }
          ],
          "choropleth": [
           {
            "colorbar": {
             "outlinewidth": 0,
             "ticks": ""
            },
            "type": "choropleth"
           }
          ],
          "contour": [
           {
            "colorbar": {
             "outlinewidth": 0,
             "ticks": ""
            },
            "colorscale": [
             [
              0,
              "#0d0887"
             ],
             [
              0.1111111111111111,
              "#46039f"
             ],
             [
              0.2222222222222222,
              "#7201a8"
             ],
             [
              0.3333333333333333,
              "#9c179e"
             ],
             [
              0.4444444444444444,
              "#bd3786"
             ],
             [
              0.5555555555555556,
              "#d8576b"
             ],
             [
              0.6666666666666666,
              "#ed7953"
             ],
             [
              0.7777777777777778,
              "#fb9f3a"
             ],
             [
              0.8888888888888888,
              "#fdca26"
             ],
             [
              1,
              "#f0f921"
             ]
            ],
            "type": "contour"
           }
          ],
          "contourcarpet": [
           {
            "colorbar": {
             "outlinewidth": 0,
             "ticks": ""
            },
            "type": "contourcarpet"
           }
          ],
          "heatmap": [
           {
            "colorbar": {
             "outlinewidth": 0,
             "ticks": ""
            },
            "colorscale": [
             [
              0,
              "#0d0887"
             ],
             [
              0.1111111111111111,
              "#46039f"
             ],
             [
              0.2222222222222222,
              "#7201a8"
             ],
             [
              0.3333333333333333,
              "#9c179e"
             ],
             [
              0.4444444444444444,
              "#bd3786"
             ],
             [
              0.5555555555555556,
              "#d8576b"
             ],
             [
              0.6666666666666666,
              "#ed7953"
             ],
             [
              0.7777777777777778,
              "#fb9f3a"
             ],
             [
              0.8888888888888888,
              "#fdca26"
             ],
             [
              1,
              "#f0f921"
             ]
            ],
            "type": "heatmap"
           }
          ],
          "heatmapgl": [
           {
            "colorbar": {
             "outlinewidth": 0,
             "ticks": ""
            },
            "colorscale": [
             [
              0,
              "#0d0887"
             ],
             [
              0.1111111111111111,
              "#46039f"
             ],
             [
              0.2222222222222222,
              "#7201a8"
             ],
             [
              0.3333333333333333,
              "#9c179e"
             ],
             [
              0.4444444444444444,
              "#bd3786"
             ],
             [
              0.5555555555555556,
              "#d8576b"
             ],
             [
              0.6666666666666666,
              "#ed7953"
             ],
             [
              0.7777777777777778,
              "#fb9f3a"
             ],
             [
              0.8888888888888888,
              "#fdca26"
             ],
             [
              1,
              "#f0f921"
             ]
            ],
            "type": "heatmapgl"
           }
          ],
          "histogram": [
           {
            "marker": {
             "pattern": {
              "fillmode": "overlay",
              "size": 10,
              "solidity": 0.2
             }
            },
            "type": "histogram"
           }
          ],
          "histogram2d": [
           {
            "colorbar": {
             "outlinewidth": 0,
             "ticks": ""
            },
            "colorscale": [
             [
              0,
              "#0d0887"
             ],
             [
              0.1111111111111111,
              "#46039f"
             ],
             [
              0.2222222222222222,
              "#7201a8"
             ],
             [
              0.3333333333333333,
              "#9c179e"
             ],
             [
              0.4444444444444444,
              "#bd3786"
             ],
             [
              0.5555555555555556,
              "#d8576b"
             ],
             [
              0.6666666666666666,
              "#ed7953"
             ],
             [
              0.7777777777777778,
              "#fb9f3a"
             ],
             [
              0.8888888888888888,
              "#fdca26"
             ],
             [
              1,
              "#f0f921"
             ]
            ],
            "type": "histogram2d"
           }
          ],
          "histogram2dcontour": [
           {
            "colorbar": {
             "outlinewidth": 0,
             "ticks": ""
            },
            "colorscale": [
             [
              0,
              "#0d0887"
             ],
             [
              0.1111111111111111,
              "#46039f"
             ],
             [
              0.2222222222222222,
              "#7201a8"
             ],
             [
              0.3333333333333333,
              "#9c179e"
             ],
             [
              0.4444444444444444,
              "#bd3786"
             ],
             [
              0.5555555555555556,
              "#d8576b"
             ],
             [
              0.6666666666666666,
              "#ed7953"
             ],
             [
              0.7777777777777778,
              "#fb9f3a"
             ],
             [
              0.8888888888888888,
              "#fdca26"
             ],
             [
              1,
              "#f0f921"
             ]
            ],
            "type": "histogram2dcontour"
           }
          ],
          "mesh3d": [
           {
            "colorbar": {
             "outlinewidth": 0,
             "ticks": ""
            },
            "type": "mesh3d"
           }
          ],
          "parcoords": [
           {
            "line": {
             "colorbar": {
              "outlinewidth": 0,
              "ticks": ""
             }
            },
            "type": "parcoords"
           }
          ],
          "pie": [
           {
            "automargin": true,
            "type": "pie"
           }
          ],
          "scatter": [
           {
            "fillpattern": {
             "fillmode": "overlay",
             "size": 10,
             "solidity": 0.2
            },
            "type": "scatter"
           }
          ],
          "scatter3d": [
           {
            "line": {
             "colorbar": {
              "outlinewidth": 0,
              "ticks": ""
             }
            },
            "marker": {
             "colorbar": {
              "outlinewidth": 0,
              "ticks": ""
             }
            },
            "type": "scatter3d"
           }
          ],
          "scattercarpet": [
           {
            "marker": {
             "colorbar": {
              "outlinewidth": 0,
              "ticks": ""
             }
            },
            "type": "scattercarpet"
           }
          ],
          "scattergeo": [
           {
            "marker": {
             "colorbar": {
              "outlinewidth": 0,
              "ticks": ""
             }
            },
            "type": "scattergeo"
           }
          ],
          "scattergl": [
           {
            "marker": {
             "colorbar": {
              "outlinewidth": 0,
              "ticks": ""
             }
            },
            "type": "scattergl"
           }
          ],
          "scattermapbox": [
           {
            "marker": {
             "colorbar": {
              "outlinewidth": 0,
              "ticks": ""
             }
            },
            "type": "scattermapbox"
           }
          ],
          "scatterpolar": [
           {
            "marker": {
             "colorbar": {
              "outlinewidth": 0,
              "ticks": ""
             }
            },
            "type": "scatterpolar"
           }
          ],
          "scatterpolargl": [
           {
            "marker": {
             "colorbar": {
              "outlinewidth": 0,
              "ticks": ""
             }
            },
            "type": "scatterpolargl"
           }
          ],
          "scatterternary": [
           {
            "marker": {
             "colorbar": {
              "outlinewidth": 0,
              "ticks": ""
             }
            },
            "type": "scatterternary"
           }
          ],
          "surface": [
           {
            "colorbar": {
             "outlinewidth": 0,
             "ticks": ""
            },
            "colorscale": [
             [
              0,
              "#0d0887"
             ],
             [
              0.1111111111111111,
              "#46039f"
             ],
             [
              0.2222222222222222,
              "#7201a8"
             ],
             [
              0.3333333333333333,
              "#9c179e"
             ],
             [
              0.4444444444444444,
              "#bd3786"
             ],
             [
              0.5555555555555556,
              "#d8576b"
             ],
             [
              0.6666666666666666,
              "#ed7953"
             ],
             [
              0.7777777777777778,
              "#fb9f3a"
             ],
             [
              0.8888888888888888,
              "#fdca26"
             ],
             [
              1,
              "#f0f921"
             ]
            ],
            "type": "surface"
           }
          ],
          "table": [
           {
            "cells": {
             "fill": {
              "color": "#EBF0F8"
             },
             "line": {
              "color": "white"
             }
            },
            "header": {
             "fill": {
              "color": "#C8D4E3"
             },
             "line": {
              "color": "white"
             }
            },
            "type": "table"
           }
          ]
         },
         "layout": {
          "annotationdefaults": {
           "arrowcolor": "#2a3f5f",
           "arrowhead": 0,
           "arrowwidth": 1
          },
          "autotypenumbers": "strict",
          "coloraxis": {
           "colorbar": {
            "outlinewidth": 0,
            "ticks": ""
           }
          },
          "colorscale": {
           "diverging": [
            [
             0,
             "#8e0152"
            ],
            [
             0.1,
             "#c51b7d"
            ],
            [
             0.2,
             "#de77ae"
            ],
            [
             0.3,
             "#f1b6da"
            ],
            [
             0.4,
             "#fde0ef"
            ],
            [
             0.5,
             "#f7f7f7"
            ],
            [
             0.6,
             "#e6f5d0"
            ],
            [
             0.7,
             "#b8e186"
            ],
            [
             0.8,
             "#7fbc41"
            ],
            [
             0.9,
             "#4d9221"
            ],
            [
             1,
             "#276419"
            ]
           ],
           "sequential": [
            [
             0,
             "#0d0887"
            ],
            [
             0.1111111111111111,
             "#46039f"
            ],
            [
             0.2222222222222222,
             "#7201a8"
            ],
            [
             0.3333333333333333,
             "#9c179e"
            ],
            [
             0.4444444444444444,
             "#bd3786"
            ],
            [
             0.5555555555555556,
             "#d8576b"
            ],
            [
             0.6666666666666666,
             "#ed7953"
            ],
            [
             0.7777777777777778,
             "#fb9f3a"
            ],
            [
             0.8888888888888888,
             "#fdca26"
            ],
            [
             1,
             "#f0f921"
            ]
           ],
           "sequentialminus": [
            [
             0,
             "#0d0887"
            ],
            [
             0.1111111111111111,
             "#46039f"
            ],
            [
             0.2222222222222222,
             "#7201a8"
            ],
            [
             0.3333333333333333,
             "#9c179e"
            ],
            [
             0.4444444444444444,
             "#bd3786"
            ],
            [
             0.5555555555555556,
             "#d8576b"
            ],
            [
             0.6666666666666666,
             "#ed7953"
            ],
            [
             0.7777777777777778,
             "#fb9f3a"
            ],
            [
             0.8888888888888888,
             "#fdca26"
            ],
            [
             1,
             "#f0f921"
            ]
           ]
          },
          "colorway": [
           "#636efa",
           "#EF553B",
           "#00cc96",
           "#ab63fa",
           "#FFA15A",
           "#19d3f3",
           "#FF6692",
           "#B6E880",
           "#FF97FF",
           "#FECB52"
          ],
          "font": {
           "color": "#2a3f5f"
          },
          "geo": {
           "bgcolor": "white",
           "lakecolor": "white",
           "landcolor": "#E5ECF6",
           "showlakes": true,
           "showland": true,
           "subunitcolor": "white"
          },
          "hoverlabel": {
           "align": "left"
          },
          "hovermode": "closest",
          "mapbox": {
           "style": "light"
          },
          "paper_bgcolor": "white",
          "plot_bgcolor": "#E5ECF6",
          "polar": {
           "angularaxis": {
            "gridcolor": "white",
            "linecolor": "white",
            "ticks": ""
           },
           "bgcolor": "#E5ECF6",
           "radialaxis": {
            "gridcolor": "white",
            "linecolor": "white",
            "ticks": ""
           }
          },
          "scene": {
           "xaxis": {
            "backgroundcolor": "#E5ECF6",
            "gridcolor": "white",
            "gridwidth": 2,
            "linecolor": "white",
            "showbackground": true,
            "ticks": "",
            "zerolinecolor": "white"
           },
           "yaxis": {
            "backgroundcolor": "#E5ECF6",
            "gridcolor": "white",
            "gridwidth": 2,
            "linecolor": "white",
            "showbackground": true,
            "ticks": "",
            "zerolinecolor": "white"
           },
           "zaxis": {
            "backgroundcolor": "#E5ECF6",
            "gridcolor": "white",
            "gridwidth": 2,
            "linecolor": "white",
            "showbackground": true,
            "ticks": "",
            "zerolinecolor": "white"
           }
          },
          "shapedefaults": {
           "line": {
            "color": "#2a3f5f"
           }
          },
          "ternary": {
           "aaxis": {
            "gridcolor": "white",
            "linecolor": "white",
            "ticks": ""
           },
           "baxis": {
            "gridcolor": "white",
            "linecolor": "white",
            "ticks": ""
           },
           "bgcolor": "#E5ECF6",
           "caxis": {
            "gridcolor": "white",
            "linecolor": "white",
            "ticks": ""
           }
          },
          "title": {
           "x": 0.05
          },
          "xaxis": {
           "automargin": true,
           "gridcolor": "white",
           "linecolor": "white",
           "ticks": "",
           "title": {
            "standoff": 15
           },
           "zerolinecolor": "white",
           "zerolinewidth": 2
          },
          "yaxis": {
           "automargin": true,
           "gridcolor": "white",
           "linecolor": "white",
           "ticks": "",
           "title": {
            "standoff": 15
           },
           "zerolinecolor": "white",
           "zerolinewidth": 2
          }
         }
        },
        "title": {
         "text": "Distribución de la puntuacion por quienes tienen Instagram y quienes no:"
        },
        "xaxis": {
         "anchor": "y",
         "categoryarray": [
          "Con Instagram",
          "Sin Instagram"
         ],
         "categoryorder": "array",
         "domain": [
          0,
          1
         ],
         "title": {
          "text": "Clasificacion"
         }
        },
        "yaxis": {
         "anchor": "x",
         "domain": [
          0,
          1
         ],
         "title": {
          "text": "Puntuacion"
         }
        }
       }
      }
     },
     "metadata": {},
     "output_type": "display_data"
    },
    {
     "data": {
      "application/vnd.plotly.v1+json": {
       "config": {
        "plotlyServerURL": "https://plot.ly"
       },
       "data": [
        {
         "alignmentgroup": "True",
         "hovertemplate": "Clasificacion=%{x}<br>Puntuacion=%{y}<extra></extra>",
         "legendgroup": "Sin Twitter",
         "marker": {
          "color": "#636efa"
         },
         "name": "Sin Twitter",
         "notched": false,
         "offsetgroup": "Sin Twitter",
         "orientation": "v",
         "showlegend": true,
         "type": "box",
         "x": [
          "Sin Twitter",
          "Sin Twitter",
          "Sin Twitter",
          "Sin Twitter",
          "Sin Twitter",
          "Sin Twitter",
          "Sin Twitter",
          "Sin Twitter",
          "Sin Twitter",
          "Sin Twitter",
          "Sin Twitter",
          "Sin Twitter",
          "Sin Twitter",
          "Sin Twitter",
          "Sin Twitter",
          "Sin Twitter",
          "Sin Twitter",
          "Sin Twitter",
          "Sin Twitter",
          "Sin Twitter",
          "Sin Twitter",
          "Sin Twitter",
          "Sin Twitter",
          "Sin Twitter",
          "Sin Twitter",
          "Sin Twitter",
          "Sin Twitter",
          "Sin Twitter",
          "Sin Twitter",
          "Sin Twitter",
          "Sin Twitter",
          "Sin Twitter",
          "Sin Twitter",
          "Sin Twitter",
          "Sin Twitter",
          "Sin Twitter",
          "Sin Twitter",
          "Sin Twitter",
          "Sin Twitter",
          "Sin Twitter",
          "Sin Twitter",
          "Sin Twitter",
          "Sin Twitter",
          "Sin Twitter",
          "Sin Twitter",
          "Sin Twitter",
          "Sin Twitter",
          "Sin Twitter",
          "Sin Twitter",
          "Sin Twitter",
          "Sin Twitter",
          "Sin Twitter",
          "Sin Twitter",
          "Sin Twitter",
          "Sin Twitter",
          "Sin Twitter",
          "Sin Twitter",
          "Sin Twitter",
          "Sin Twitter",
          "Sin Twitter",
          "Sin Twitter",
          "Sin Twitter",
          "Sin Twitter",
          "Sin Twitter",
          "Sin Twitter",
          "Sin Twitter",
          "Sin Twitter",
          "Sin Twitter",
          "Sin Twitter",
          "Sin Twitter",
          "Sin Twitter",
          "Sin Twitter",
          "Sin Twitter",
          "Sin Twitter",
          "Sin Twitter",
          "Sin Twitter",
          "Sin Twitter",
          "Sin Twitter",
          "Sin Twitter",
          "Sin Twitter",
          "Sin Twitter",
          "Sin Twitter",
          "Sin Twitter",
          "Sin Twitter",
          "Sin Twitter",
          "Sin Twitter",
          "Sin Twitter",
          "Sin Twitter",
          "Sin Twitter",
          "Sin Twitter",
          "Sin Twitter",
          "Sin Twitter",
          "Sin Twitter",
          "Sin Twitter",
          "Sin Twitter",
          "Sin Twitter",
          "Sin Twitter",
          "Sin Twitter",
          "Sin Twitter",
          "Sin Twitter",
          "Sin Twitter",
          "Sin Twitter",
          "Sin Twitter",
          "Sin Twitter",
          "Sin Twitter",
          "Sin Twitter",
          "Sin Twitter",
          "Sin Twitter",
          "Sin Twitter",
          "Sin Twitter",
          "Sin Twitter",
          "Sin Twitter",
          "Sin Twitter",
          "Sin Twitter",
          "Sin Twitter",
          "Sin Twitter",
          "Sin Twitter",
          "Sin Twitter",
          "Sin Twitter",
          "Sin Twitter",
          "Sin Twitter",
          "Sin Twitter",
          "Sin Twitter",
          "Sin Twitter",
          "Sin Twitter",
          "Sin Twitter",
          "Sin Twitter",
          "Sin Twitter",
          "Sin Twitter",
          "Sin Twitter",
          "Sin Twitter",
          "Sin Twitter",
          "Sin Twitter",
          "Sin Twitter",
          "Sin Twitter",
          "Sin Twitter",
          "Sin Twitter",
          "Sin Twitter",
          "Sin Twitter",
          "Sin Twitter",
          "Sin Twitter",
          "Sin Twitter",
          "Sin Twitter",
          "Sin Twitter",
          "Sin Twitter",
          "Sin Twitter",
          "Sin Twitter",
          "Sin Twitter",
          "Sin Twitter",
          "Sin Twitter",
          "Sin Twitter",
          "Sin Twitter",
          "Sin Twitter",
          "Sin Twitter",
          "Sin Twitter",
          "Sin Twitter",
          "Sin Twitter",
          "Sin Twitter",
          "Sin Twitter",
          "Sin Twitter",
          "Sin Twitter",
          "Sin Twitter",
          "Sin Twitter",
          "Sin Twitter",
          "Sin Twitter",
          "Sin Twitter",
          "Sin Twitter",
          "Sin Twitter",
          "Sin Twitter",
          "Sin Twitter",
          "Sin Twitter",
          "Sin Twitter",
          "Sin Twitter",
          "Sin Twitter",
          "Sin Twitter",
          "Sin Twitter",
          "Sin Twitter",
          "Sin Twitter",
          "Sin Twitter",
          "Sin Twitter",
          "Sin Twitter",
          "Sin Twitter",
          "Sin Twitter",
          "Sin Twitter",
          "Sin Twitter",
          "Sin Twitter",
          "Sin Twitter",
          "Sin Twitter",
          "Sin Twitter",
          "Sin Twitter",
          "Sin Twitter",
          "Sin Twitter",
          "Sin Twitter",
          "Sin Twitter",
          "Sin Twitter",
          "Sin Twitter",
          "Sin Twitter",
          "Sin Twitter",
          "Sin Twitter",
          "Sin Twitter",
          "Sin Twitter",
          "Sin Twitter",
          "Sin Twitter",
          "Sin Twitter",
          "Sin Twitter",
          "Sin Twitter",
          "Sin Twitter",
          "Sin Twitter",
          "Sin Twitter",
          "Sin Twitter",
          "Sin Twitter",
          "Sin Twitter",
          "Sin Twitter",
          "Sin Twitter",
          "Sin Twitter",
          "Sin Twitter",
          "Sin Twitter",
          "Sin Twitter",
          "Sin Twitter",
          "Sin Twitter",
          "Sin Twitter",
          "Sin Twitter",
          "Sin Twitter",
          "Sin Twitter",
          "Sin Twitter",
          "Sin Twitter",
          "Sin Twitter"
         ],
         "x0": " ",
         "xaxis": "x",
         "y": [
          4.6,
          4.5,
          4.5,
          4.45,
          4.4,
          4.4,
          4.5,
          4.5,
          4.5,
          4.6,
          4.5,
          4.5,
          4.5,
          4.5,
          4.4,
          4.6,
          4.5,
          4.5,
          4.4,
          4.5,
          4.4,
          4.5,
          4.5,
          4.1,
          4.5,
          4.5,
          4.4,
          5,
          4.5,
          5,
          3.4,
          4.4,
          4.5,
          4.5,
          4.5,
          3.5,
          3.1,
          4.5,
          4.5,
          4.3,
          4.5,
          5,
          3.1,
          5,
          3.5,
          5,
          4.5,
          4.5,
          4.5,
          4.4,
          4.5,
          4.4,
          4.6,
          4.5,
          5,
          5,
          4.2,
          4.5,
          5,
          4.6,
          4.5,
          4.5,
          4.5,
          4,
          4.5,
          4.5,
          4.5,
          4.6,
          2.4,
          4.5,
          4.5,
          4.5,
          4.4,
          4.5,
          4.5,
          4.5,
          4.5,
          4.5,
          4.5,
          4.5,
          4.5,
          4.4,
          4.5,
          4.4,
          4.4,
          4.5,
          4.5,
          4.5,
          4.5,
          4.5,
          4.4,
          4.5,
          4.5,
          4.5,
          4.4,
          4.3,
          4.5,
          4.5,
          5,
          4.5,
          4.4,
          4.2,
          4.6,
          4.5,
          4.3,
          4.5,
          4.5,
          4.3,
          4.5,
          4.5,
          4.5,
          4.5,
          4.5,
          4.5,
          4.4,
          4.5,
          3.7,
          4.5,
          4.5,
          4.4,
          4.4,
          3.7,
          5,
          4.7,
          4.8,
          4.5,
          4.5,
          4.3,
          4.5,
          5,
          4.4,
          3.4,
          4,
          4.5,
          4.5,
          4.5,
          4.5,
          3.8,
          4.8,
          4.7,
          3.6,
          3.9,
          4.2,
          4.9,
          4.3,
          4,
          3.7,
          3.9,
          5,
          4.3,
          4,
          4.5,
          4.25,
          4.4,
          3.9,
          4.8,
          4.5,
          5,
          4,
          3.5,
          4.5,
          4.5,
          4,
          5,
          3.5,
          4,
          5,
          4,
          4.5,
          3.7,
          4.9,
          4.5,
          5,
          3.8,
          5,
          3.5,
          5,
          3.3,
          4.5,
          5,
          4.3,
          3,
          4.5,
          5,
          4.5,
          5,
          5,
          4.5,
          4.5,
          4.2,
          4,
          4.5,
          4.5,
          4.5,
          3.5,
          4.8,
          4.8,
          4.5,
          4.4,
          5,
          4.4,
          4.2,
          4.5,
          4.5,
          4.5,
          4.5,
          4.5,
          4.5,
          4.5,
          4.3,
          3.9,
          4.4,
          4.5,
          4.5,
          4.6,
          4.5,
          4.5,
          4.5,
          4.5,
          4.4,
          4.5,
          4.5,
          4.5,
          4.5,
          4.5,
          4.5,
          4.5
         ],
         "y0": " ",
         "yaxis": "y"
        },
        {
         "alignmentgroup": "True",
         "hovertemplate": "Clasificacion=%{x}<br>Puntuacion=%{y}<extra></extra>",
         "legendgroup": "Con Twitter",
         "marker": {
          "color": "#EF553B"
         },
         "name": "Con Twitter",
         "notched": false,
         "offsetgroup": "Con Twitter",
         "orientation": "v",
         "showlegend": true,
         "type": "box",
         "x": [
          "Con Twitter"
         ],
         "x0": " ",
         "xaxis": "x",
         "y": [
          3.3
         ],
         "y0": " ",
         "yaxis": "y"
        }
       ],
       "layout": {
        "boxmode": "overlay",
        "legend": {
         "title": {
          "text": "Clasificacion"
         },
         "tracegroupgap": 0
        },
        "template": {
         "data": {
          "bar": [
           {
            "error_x": {
             "color": "#2a3f5f"
            },
            "error_y": {
             "color": "#2a3f5f"
            },
            "marker": {
             "line": {
              "color": "#E5ECF6",
              "width": 0.5
             },
             "pattern": {
              "fillmode": "overlay",
              "size": 10,
              "solidity": 0.2
             }
            },
            "type": "bar"
           }
          ],
          "barpolar": [
           {
            "marker": {
             "line": {
              "color": "#E5ECF6",
              "width": 0.5
             },
             "pattern": {
              "fillmode": "overlay",
              "size": 10,
              "solidity": 0.2
             }
            },
            "type": "barpolar"
           }
          ],
          "carpet": [
           {
            "aaxis": {
             "endlinecolor": "#2a3f5f",
             "gridcolor": "white",
             "linecolor": "white",
             "minorgridcolor": "white",
             "startlinecolor": "#2a3f5f"
            },
            "baxis": {
             "endlinecolor": "#2a3f5f",
             "gridcolor": "white",
             "linecolor": "white",
             "minorgridcolor": "white",
             "startlinecolor": "#2a3f5f"
            },
            "type": "carpet"
           }
          ],
          "choropleth": [
           {
            "colorbar": {
             "outlinewidth": 0,
             "ticks": ""
            },
            "type": "choropleth"
           }
          ],
          "contour": [
           {
            "colorbar": {
             "outlinewidth": 0,
             "ticks": ""
            },
            "colorscale": [
             [
              0,
              "#0d0887"
             ],
             [
              0.1111111111111111,
              "#46039f"
             ],
             [
              0.2222222222222222,
              "#7201a8"
             ],
             [
              0.3333333333333333,
              "#9c179e"
             ],
             [
              0.4444444444444444,
              "#bd3786"
             ],
             [
              0.5555555555555556,
              "#d8576b"
             ],
             [
              0.6666666666666666,
              "#ed7953"
             ],
             [
              0.7777777777777778,
              "#fb9f3a"
             ],
             [
              0.8888888888888888,
              "#fdca26"
             ],
             [
              1,
              "#f0f921"
             ]
            ],
            "type": "contour"
           }
          ],
          "contourcarpet": [
           {
            "colorbar": {
             "outlinewidth": 0,
             "ticks": ""
            },
            "type": "contourcarpet"
           }
          ],
          "heatmap": [
           {
            "colorbar": {
             "outlinewidth": 0,
             "ticks": ""
            },
            "colorscale": [
             [
              0,
              "#0d0887"
             ],
             [
              0.1111111111111111,
              "#46039f"
             ],
             [
              0.2222222222222222,
              "#7201a8"
             ],
             [
              0.3333333333333333,
              "#9c179e"
             ],
             [
              0.4444444444444444,
              "#bd3786"
             ],
             [
              0.5555555555555556,
              "#d8576b"
             ],
             [
              0.6666666666666666,
              "#ed7953"
             ],
             [
              0.7777777777777778,
              "#fb9f3a"
             ],
             [
              0.8888888888888888,
              "#fdca26"
             ],
             [
              1,
              "#f0f921"
             ]
            ],
            "type": "heatmap"
           }
          ],
          "heatmapgl": [
           {
            "colorbar": {
             "outlinewidth": 0,
             "ticks": ""
            },
            "colorscale": [
             [
              0,
              "#0d0887"
             ],
             [
              0.1111111111111111,
              "#46039f"
             ],
             [
              0.2222222222222222,
              "#7201a8"
             ],
             [
              0.3333333333333333,
              "#9c179e"
             ],
             [
              0.4444444444444444,
              "#bd3786"
             ],
             [
              0.5555555555555556,
              "#d8576b"
             ],
             [
              0.6666666666666666,
              "#ed7953"
             ],
             [
              0.7777777777777778,
              "#fb9f3a"
             ],
             [
              0.8888888888888888,
              "#fdca26"
             ],
             [
              1,
              "#f0f921"
             ]
            ],
            "type": "heatmapgl"
           }
          ],
          "histogram": [
           {
            "marker": {
             "pattern": {
              "fillmode": "overlay",
              "size": 10,
              "solidity": 0.2
             }
            },
            "type": "histogram"
           }
          ],
          "histogram2d": [
           {
            "colorbar": {
             "outlinewidth": 0,
             "ticks": ""
            },
            "colorscale": [
             [
              0,
              "#0d0887"
             ],
             [
              0.1111111111111111,
              "#46039f"
             ],
             [
              0.2222222222222222,
              "#7201a8"
             ],
             [
              0.3333333333333333,
              "#9c179e"
             ],
             [
              0.4444444444444444,
              "#bd3786"
             ],
             [
              0.5555555555555556,
              "#d8576b"
             ],
             [
              0.6666666666666666,
              "#ed7953"
             ],
             [
              0.7777777777777778,
              "#fb9f3a"
             ],
             [
              0.8888888888888888,
              "#fdca26"
             ],
             [
              1,
              "#f0f921"
             ]
            ],
            "type": "histogram2d"
           }
          ],
          "histogram2dcontour": [
           {
            "colorbar": {
             "outlinewidth": 0,
             "ticks": ""
            },
            "colorscale": [
             [
              0,
              "#0d0887"
             ],
             [
              0.1111111111111111,
              "#46039f"
             ],
             [
              0.2222222222222222,
              "#7201a8"
             ],
             [
              0.3333333333333333,
              "#9c179e"
             ],
             [
              0.4444444444444444,
              "#bd3786"
             ],
             [
              0.5555555555555556,
              "#d8576b"
             ],
             [
              0.6666666666666666,
              "#ed7953"
             ],
             [
              0.7777777777777778,
              "#fb9f3a"
             ],
             [
              0.8888888888888888,
              "#fdca26"
             ],
             [
              1,
              "#f0f921"
             ]
            ],
            "type": "histogram2dcontour"
           }
          ],
          "mesh3d": [
           {
            "colorbar": {
             "outlinewidth": 0,
             "ticks": ""
            },
            "type": "mesh3d"
           }
          ],
          "parcoords": [
           {
            "line": {
             "colorbar": {
              "outlinewidth": 0,
              "ticks": ""
             }
            },
            "type": "parcoords"
           }
          ],
          "pie": [
           {
            "automargin": true,
            "type": "pie"
           }
          ],
          "scatter": [
           {
            "fillpattern": {
             "fillmode": "overlay",
             "size": 10,
             "solidity": 0.2
            },
            "type": "scatter"
           }
          ],
          "scatter3d": [
           {
            "line": {
             "colorbar": {
              "outlinewidth": 0,
              "ticks": ""
             }
            },
            "marker": {
             "colorbar": {
              "outlinewidth": 0,
              "ticks": ""
             }
            },
            "type": "scatter3d"
           }
          ],
          "scattercarpet": [
           {
            "marker": {
             "colorbar": {
              "outlinewidth": 0,
              "ticks": ""
             }
            },
            "type": "scattercarpet"
           }
          ],
          "scattergeo": [
           {
            "marker": {
             "colorbar": {
              "outlinewidth": 0,
              "ticks": ""
             }
            },
            "type": "scattergeo"
           }
          ],
          "scattergl": [
           {
            "marker": {
             "colorbar": {
              "outlinewidth": 0,
              "ticks": ""
             }
            },
            "type": "scattergl"
           }
          ],
          "scattermapbox": [
           {
            "marker": {
             "colorbar": {
              "outlinewidth": 0,
              "ticks": ""
             }
            },
            "type": "scattermapbox"
           }
          ],
          "scatterpolar": [
           {
            "marker": {
             "colorbar": {
              "outlinewidth": 0,
              "ticks": ""
             }
            },
            "type": "scatterpolar"
           }
          ],
          "scatterpolargl": [
           {
            "marker": {
             "colorbar": {
              "outlinewidth": 0,
              "ticks": ""
             }
            },
            "type": "scatterpolargl"
           }
          ],
          "scatterternary": [
           {
            "marker": {
             "colorbar": {
              "outlinewidth": 0,
              "ticks": ""
             }
            },
            "type": "scatterternary"
           }
          ],
          "surface": [
           {
            "colorbar": {
             "outlinewidth": 0,
             "ticks": ""
            },
            "colorscale": [
             [
              0,
              "#0d0887"
             ],
             [
              0.1111111111111111,
              "#46039f"
             ],
             [
              0.2222222222222222,
              "#7201a8"
             ],
             [
              0.3333333333333333,
              "#9c179e"
             ],
             [
              0.4444444444444444,
              "#bd3786"
             ],
             [
              0.5555555555555556,
              "#d8576b"
             ],
             [
              0.6666666666666666,
              "#ed7953"
             ],
             [
              0.7777777777777778,
              "#fb9f3a"
             ],
             [
              0.8888888888888888,
              "#fdca26"
             ],
             [
              1,
              "#f0f921"
             ]
            ],
            "type": "surface"
           }
          ],
          "table": [
           {
            "cells": {
             "fill": {
              "color": "#EBF0F8"
             },
             "line": {
              "color": "white"
             }
            },
            "header": {
             "fill": {
              "color": "#C8D4E3"
             },
             "line": {
              "color": "white"
             }
            },
            "type": "table"
           }
          ]
         },
         "layout": {
          "annotationdefaults": {
           "arrowcolor": "#2a3f5f",
           "arrowhead": 0,
           "arrowwidth": 1
          },
          "autotypenumbers": "strict",
          "coloraxis": {
           "colorbar": {
            "outlinewidth": 0,
            "ticks": ""
           }
          },
          "colorscale": {
           "diverging": [
            [
             0,
             "#8e0152"
            ],
            [
             0.1,
             "#c51b7d"
            ],
            [
             0.2,
             "#de77ae"
            ],
            [
             0.3,
             "#f1b6da"
            ],
            [
             0.4,
             "#fde0ef"
            ],
            [
             0.5,
             "#f7f7f7"
            ],
            [
             0.6,
             "#e6f5d0"
            ],
            [
             0.7,
             "#b8e186"
            ],
            [
             0.8,
             "#7fbc41"
            ],
            [
             0.9,
             "#4d9221"
            ],
            [
             1,
             "#276419"
            ]
           ],
           "sequential": [
            [
             0,
             "#0d0887"
            ],
            [
             0.1111111111111111,
             "#46039f"
            ],
            [
             0.2222222222222222,
             "#7201a8"
            ],
            [
             0.3333333333333333,
             "#9c179e"
            ],
            [
             0.4444444444444444,
             "#bd3786"
            ],
            [
             0.5555555555555556,
             "#d8576b"
            ],
            [
             0.6666666666666666,
             "#ed7953"
            ],
            [
             0.7777777777777778,
             "#fb9f3a"
            ],
            [
             0.8888888888888888,
             "#fdca26"
            ],
            [
             1,
             "#f0f921"
            ]
           ],
           "sequentialminus": [
            [
             0,
             "#0d0887"
            ],
            [
             0.1111111111111111,
             "#46039f"
            ],
            [
             0.2222222222222222,
             "#7201a8"
            ],
            [
             0.3333333333333333,
             "#9c179e"
            ],
            [
             0.4444444444444444,
             "#bd3786"
            ],
            [
             0.5555555555555556,
             "#d8576b"
            ],
            [
             0.6666666666666666,
             "#ed7953"
            ],
            [
             0.7777777777777778,
             "#fb9f3a"
            ],
            [
             0.8888888888888888,
             "#fdca26"
            ],
            [
             1,
             "#f0f921"
            ]
           ]
          },
          "colorway": [
           "#636efa",
           "#EF553B",
           "#00cc96",
           "#ab63fa",
           "#FFA15A",
           "#19d3f3",
           "#FF6692",
           "#B6E880",
           "#FF97FF",
           "#FECB52"
          ],
          "font": {
           "color": "#2a3f5f"
          },
          "geo": {
           "bgcolor": "white",
           "lakecolor": "white",
           "landcolor": "#E5ECF6",
           "showlakes": true,
           "showland": true,
           "subunitcolor": "white"
          },
          "hoverlabel": {
           "align": "left"
          },
          "hovermode": "closest",
          "mapbox": {
           "style": "light"
          },
          "paper_bgcolor": "white",
          "plot_bgcolor": "#E5ECF6",
          "polar": {
           "angularaxis": {
            "gridcolor": "white",
            "linecolor": "white",
            "ticks": ""
           },
           "bgcolor": "#E5ECF6",
           "radialaxis": {
            "gridcolor": "white",
            "linecolor": "white",
            "ticks": ""
           }
          },
          "scene": {
           "xaxis": {
            "backgroundcolor": "#E5ECF6",
            "gridcolor": "white",
            "gridwidth": 2,
            "linecolor": "white",
            "showbackground": true,
            "ticks": "",
            "zerolinecolor": "white"
           },
           "yaxis": {
            "backgroundcolor": "#E5ECF6",
            "gridcolor": "white",
            "gridwidth": 2,
            "linecolor": "white",
            "showbackground": true,
            "ticks": "",
            "zerolinecolor": "white"
           },
           "zaxis": {
            "backgroundcolor": "#E5ECF6",
            "gridcolor": "white",
            "gridwidth": 2,
            "linecolor": "white",
            "showbackground": true,
            "ticks": "",
            "zerolinecolor": "white"
           }
          },
          "shapedefaults": {
           "line": {
            "color": "#2a3f5f"
           }
          },
          "ternary": {
           "aaxis": {
            "gridcolor": "white",
            "linecolor": "white",
            "ticks": ""
           },
           "baxis": {
            "gridcolor": "white",
            "linecolor": "white",
            "ticks": ""
           },
           "bgcolor": "#E5ECF6",
           "caxis": {
            "gridcolor": "white",
            "linecolor": "white",
            "ticks": ""
           }
          },
          "title": {
           "x": 0.05
          },
          "xaxis": {
           "automargin": true,
           "gridcolor": "white",
           "linecolor": "white",
           "ticks": "",
           "title": {
            "standoff": 15
           },
           "zerolinecolor": "white",
           "zerolinewidth": 2
          },
          "yaxis": {
           "automargin": true,
           "gridcolor": "white",
           "linecolor": "white",
           "ticks": "",
           "title": {
            "standoff": 15
           },
           "zerolinecolor": "white",
           "zerolinewidth": 2
          }
         }
        },
        "title": {
         "text": "Distribución de la puntuacion por quienes tienen Twitter y quienes no:"
        },
        "xaxis": {
         "anchor": "y",
         "categoryarray": [
          "Sin Twitter",
          "Con Twitter"
         ],
         "categoryorder": "array",
         "domain": [
          0,
          1
         ],
         "title": {
          "text": "Clasificacion"
         }
        },
        "yaxis": {
         "anchor": "x",
         "domain": [
          0,
          1
         ],
         "title": {
          "text": "Puntuacion"
         }
        }
       }
      }
     },
     "metadata": {},
     "output_type": "display_data"
    }
   ],
   "source": [
    "df['clasif_fb'] = df['fb'].apply(lambda x: 'Con Facebook' if pd.notna(x) else 'Sin Facebook')\n",
    "df['clasif_ig'] = df['ig'].apply(lambda x: 'Con Instagram' if pd.notna(x) else 'Sin Instagram')\n",
    "df['clasif_tw'] = df['tw'].apply(lambda x: 'Con Twitter' if pd.notna(x) else 'Sin Twitter')\n",
    "\n",
    "clasif_fb = px.box(\n",
    "    df,\n",
    "    x='clasif_fb',\n",
    "    y='rating',\n",
    "    title='Distribución de la puntuación por quienes tienen Facebook y quienes no:',\n",
    "    labels={'clasif_fb': 'Clasificación', 'rating': 'Puntuación'},\n",
    "    color='clasif_fb'\n",
    ")\n",
    "\n",
    "clasif_ig = px.box(\n",
    "    df, \n",
    "    x='clasif_ig', \n",
    "    y='rating',\n",
    "    labels={'clasif_ig': 'Clasificacion', 'rating': 'Puntuacion'},\n",
    "    title='Distribución de la puntuacion por quienes tienen Instagram y quienes no:',\n",
    "    color='clasif_ig'\n",
    ")\n",
    "\n",
    "clasif_tw = px.box(\n",
    "    df, \n",
    "    x='clasif_tw',\n",
    "    y='rating', \n",
    "    labels={'clasif_tw': 'Clasificacion', 'rating': 'Puntuacion'},\n",
    "    title='Distribución de la puntuacion por quienes tienen Twitter y quienes no:',\n",
    "    color='clasif_tw'\n",
    ")\n",
    "\n",
    "clasif_fb.show()\n",
    "clasif_ig.show()\n",
    "clasif_tw.show()"
   ]
  },
  {
   "cell_type": "markdown",
   "id": "f4d7de6a",
   "metadata": {},
   "source": [
    "Observando los datos podemos concluir que no parece haber relacion alguna respecto a tener o no redes sociales del lugar.\n",
    "\n",
    "---"
   ]
  },
  {
   "cell_type": "markdown",
   "id": "cc77b8b9",
   "metadata": {},
   "source": [
    "---\n",
    "\n",
    "Ahora observemos la distrubucion de cantidad de reseñas por quienes tienen cuentas en un servicio y quienes no:"
   ]
  },
  {
   "cell_type": "code",
   "execution_count": 66,
   "id": "4888155b",
   "metadata": {},
   "outputs": [
    {
     "data": {
      "application/vnd.plotly.v1+json": {
       "config": {
        "plotlyServerURL": "https://plot.ly"
       },
       "data": [
        {
         "alignmentgroup": "True",
         "hovertemplate": "Clasificación=%{x}<br>Cantidad de reseñas=%{y}<extra></extra>",
         "legendgroup": "Con Facebook",
         "marker": {
          "color": "#636efa"
         },
         "name": "Con Facebook",
         "notched": false,
         "offsetgroup": "Con Facebook",
         "orientation": "v",
         "showlegend": true,
         "type": "box",
         "x": [
          "Con Facebook",
          "Con Facebook",
          "Con Facebook",
          "Con Facebook",
          "Con Facebook",
          "Con Facebook",
          "Con Facebook",
          "Con Facebook",
          "Con Facebook",
          "Con Facebook",
          "Con Facebook",
          "Con Facebook",
          "Con Facebook",
          "Con Facebook",
          "Con Facebook",
          "Con Facebook",
          "Con Facebook",
          "Con Facebook",
          "Con Facebook",
          "Con Facebook",
          "Con Facebook",
          "Con Facebook",
          "Con Facebook",
          "Con Facebook",
          "Con Facebook",
          "Con Facebook",
          "Con Facebook",
          "Con Facebook",
          "Con Facebook",
          "Con Facebook",
          "Con Facebook",
          "Con Facebook",
          "Con Facebook",
          "Con Facebook",
          "Con Facebook",
          "Con Facebook",
          "Con Facebook",
          "Con Facebook",
          "Con Facebook",
          "Con Facebook",
          "Con Facebook",
          "Con Facebook",
          "Con Facebook",
          "Con Facebook",
          "Con Facebook",
          "Con Facebook",
          "Con Facebook",
          "Con Facebook",
          "Con Facebook",
          "Con Facebook",
          "Con Facebook",
          "Con Facebook",
          "Con Facebook",
          "Con Facebook",
          "Con Facebook",
          "Con Facebook",
          "Con Facebook",
          "Con Facebook",
          "Con Facebook",
          "Con Facebook",
          "Con Facebook",
          "Con Facebook",
          "Con Facebook",
          "Con Facebook",
          "Con Facebook",
          "Con Facebook",
          "Con Facebook",
          "Con Facebook",
          "Con Facebook",
          "Con Facebook",
          "Con Facebook",
          "Con Facebook",
          "Con Facebook",
          "Con Facebook",
          "Con Facebook",
          "Con Facebook",
          "Con Facebook",
          "Con Facebook",
          "Con Facebook",
          "Con Facebook",
          "Con Facebook",
          "Con Facebook",
          "Con Facebook",
          "Con Facebook",
          "Con Facebook"
         ],
         "x0": " ",
         "xaxis": "x",
         "y": [
          75,
          75,
          75,
          75,
          75,
          75,
          75,
          75,
          75,
          75,
          75,
          30,
          75,
          75,
          75,
          78,
          30,
          0,
          75,
          75,
          60,
          75,
          75,
          75,
          75,
          75,
          75,
          75,
          0,
          0,
          75,
          75,
          75,
          75,
          75,
          75,
          75,
          75,
          75,
          75,
          75,
          75,
          75,
          75,
          75,
          75,
          75,
          75,
          75,
          30,
          30,
          75,
          30,
          90,
          75,
          75,
          0,
          75,
          75,
          75,
          75,
          75,
          75,
          75,
          75,
          75,
          75,
          75,
          30,
          75,
          75,
          0,
          75,
          68,
          75,
          75,
          75,
          0,
          75,
          75,
          75,
          75,
          75,
          75,
          75
         ],
         "y0": " ",
         "yaxis": "y"
        },
        {
         "alignmentgroup": "True",
         "hovertemplate": "Clasificación=%{x}<br>Cantidad de reseñas=%{y}<extra></extra>",
         "legendgroup": "Sin Facebook",
         "marker": {
          "color": "#EF553B"
         },
         "name": "Sin Facebook",
         "notched": false,
         "offsetgroup": "Sin Facebook",
         "orientation": "v",
         "showlegend": true,
         "type": "box",
         "x": [
          "Sin Facebook",
          "Sin Facebook",
          "Sin Facebook",
          "Sin Facebook",
          "Sin Facebook",
          "Sin Facebook",
          "Sin Facebook",
          "Sin Facebook",
          "Sin Facebook",
          "Sin Facebook",
          "Sin Facebook",
          "Sin Facebook",
          "Sin Facebook",
          "Sin Facebook",
          "Sin Facebook",
          "Sin Facebook",
          "Sin Facebook",
          "Sin Facebook",
          "Sin Facebook",
          "Sin Facebook",
          "Sin Facebook",
          "Sin Facebook",
          "Sin Facebook",
          "Sin Facebook",
          "Sin Facebook",
          "Sin Facebook",
          "Sin Facebook",
          "Sin Facebook",
          "Sin Facebook",
          "Sin Facebook",
          "Sin Facebook",
          "Sin Facebook",
          "Sin Facebook",
          "Sin Facebook",
          "Sin Facebook",
          "Sin Facebook",
          "Sin Facebook",
          "Sin Facebook",
          "Sin Facebook",
          "Sin Facebook",
          "Sin Facebook",
          "Sin Facebook",
          "Sin Facebook",
          "Sin Facebook",
          "Sin Facebook",
          "Sin Facebook",
          "Sin Facebook",
          "Sin Facebook",
          "Sin Facebook",
          "Sin Facebook",
          "Sin Facebook",
          "Sin Facebook",
          "Sin Facebook",
          "Sin Facebook",
          "Sin Facebook",
          "Sin Facebook",
          "Sin Facebook",
          "Sin Facebook",
          "Sin Facebook",
          "Sin Facebook",
          "Sin Facebook",
          "Sin Facebook",
          "Sin Facebook",
          "Sin Facebook",
          "Sin Facebook",
          "Sin Facebook",
          "Sin Facebook",
          "Sin Facebook",
          "Sin Facebook",
          "Sin Facebook",
          "Sin Facebook",
          "Sin Facebook",
          "Sin Facebook",
          "Sin Facebook",
          "Sin Facebook",
          "Sin Facebook",
          "Sin Facebook",
          "Sin Facebook",
          "Sin Facebook",
          "Sin Facebook",
          "Sin Facebook",
          "Sin Facebook",
          "Sin Facebook",
          "Sin Facebook",
          "Sin Facebook",
          "Sin Facebook",
          "Sin Facebook",
          "Sin Facebook",
          "Sin Facebook",
          "Sin Facebook",
          "Sin Facebook",
          "Sin Facebook",
          "Sin Facebook",
          "Sin Facebook",
          "Sin Facebook",
          "Sin Facebook",
          "Sin Facebook",
          "Sin Facebook",
          "Sin Facebook",
          "Sin Facebook",
          "Sin Facebook",
          "Sin Facebook",
          "Sin Facebook",
          "Sin Facebook",
          "Sin Facebook",
          "Sin Facebook",
          "Sin Facebook",
          "Sin Facebook",
          "Sin Facebook",
          "Sin Facebook",
          "Sin Facebook",
          "Sin Facebook",
          "Sin Facebook",
          "Sin Facebook",
          "Sin Facebook",
          "Sin Facebook",
          "Sin Facebook",
          "Sin Facebook",
          "Sin Facebook",
          "Sin Facebook",
          "Sin Facebook",
          "Sin Facebook",
          "Sin Facebook",
          "Sin Facebook",
          "Sin Facebook",
          "Sin Facebook",
          "Sin Facebook",
          "Sin Facebook",
          "Sin Facebook",
          "Sin Facebook",
          "Sin Facebook",
          "Sin Facebook",
          "Sin Facebook",
          "Sin Facebook",
          "Sin Facebook",
          "Sin Facebook",
          "Sin Facebook",
          "Sin Facebook",
          "Sin Facebook",
          "Sin Facebook",
          "Sin Facebook",
          "Sin Facebook",
          "Sin Facebook"
         ],
         "x0": " ",
         "xaxis": "x",
         "y": [
          75,
          75,
          75,
          75,
          75,
          75,
          75,
          75,
          75,
          75,
          75,
          75,
          75,
          0,
          75,
          30,
          0,
          75,
          75,
          30,
          75,
          75,
          75,
          75,
          75,
          75,
          30,
          75,
          75,
          60,
          0,
          75,
          75,
          75,
          30,
          75,
          75,
          75,
          75,
          75,
          75,
          75,
          75,
          75,
          75,
          75,
          75,
          75,
          75,
          75,
          75,
          75,
          75,
          75,
          75,
          75,
          75,
          75,
          75,
          75,
          75,
          75,
          30,
          75,
          75,
          75,
          75,
          75,
          75,
          75,
          75,
          75,
          0,
          75,
          75,
          75,
          75,
          30,
          30,
          30,
          75,
          75,
          75,
          75,
          30,
          0,
          75,
          75,
          0,
          75,
          75,
          30,
          75,
          75,
          75,
          75,
          30,
          0,
          60,
          75,
          30,
          0,
          75,
          75,
          75,
          75,
          30,
          75,
          75,
          75,
          75,
          75,
          75,
          30,
          75,
          75,
          30,
          75,
          75,
          75,
          0,
          75,
          75,
          75,
          75,
          30,
          75,
          75,
          75,
          75,
          30,
          75,
          75,
          75,
          75,
          75,
          75,
          75,
          75,
          75,
          75,
          75,
          75
         ],
         "y0": " ",
         "yaxis": "y"
        }
       ],
       "layout": {
        "boxmode": "overlay",
        "legend": {
         "title": {
          "text": "Clasificación"
         },
         "tracegroupgap": 0
        },
        "template": {
         "data": {
          "bar": [
           {
            "error_x": {
             "color": "#2a3f5f"
            },
            "error_y": {
             "color": "#2a3f5f"
            },
            "marker": {
             "line": {
              "color": "#E5ECF6",
              "width": 0.5
             },
             "pattern": {
              "fillmode": "overlay",
              "size": 10,
              "solidity": 0.2
             }
            },
            "type": "bar"
           }
          ],
          "barpolar": [
           {
            "marker": {
             "line": {
              "color": "#E5ECF6",
              "width": 0.5
             },
             "pattern": {
              "fillmode": "overlay",
              "size": 10,
              "solidity": 0.2
             }
            },
            "type": "barpolar"
           }
          ],
          "carpet": [
           {
            "aaxis": {
             "endlinecolor": "#2a3f5f",
             "gridcolor": "white",
             "linecolor": "white",
             "minorgridcolor": "white",
             "startlinecolor": "#2a3f5f"
            },
            "baxis": {
             "endlinecolor": "#2a3f5f",
             "gridcolor": "white",
             "linecolor": "white",
             "minorgridcolor": "white",
             "startlinecolor": "#2a3f5f"
            },
            "type": "carpet"
           }
          ],
          "choropleth": [
           {
            "colorbar": {
             "outlinewidth": 0,
             "ticks": ""
            },
            "type": "choropleth"
           }
          ],
          "contour": [
           {
            "colorbar": {
             "outlinewidth": 0,
             "ticks": ""
            },
            "colorscale": [
             [
              0,
              "#0d0887"
             ],
             [
              0.1111111111111111,
              "#46039f"
             ],
             [
              0.2222222222222222,
              "#7201a8"
             ],
             [
              0.3333333333333333,
              "#9c179e"
             ],
             [
              0.4444444444444444,
              "#bd3786"
             ],
             [
              0.5555555555555556,
              "#d8576b"
             ],
             [
              0.6666666666666666,
              "#ed7953"
             ],
             [
              0.7777777777777778,
              "#fb9f3a"
             ],
             [
              0.8888888888888888,
              "#fdca26"
             ],
             [
              1,
              "#f0f921"
             ]
            ],
            "type": "contour"
           }
          ],
          "contourcarpet": [
           {
            "colorbar": {
             "outlinewidth": 0,
             "ticks": ""
            },
            "type": "contourcarpet"
           }
          ],
          "heatmap": [
           {
            "colorbar": {
             "outlinewidth": 0,
             "ticks": ""
            },
            "colorscale": [
             [
              0,
              "#0d0887"
             ],
             [
              0.1111111111111111,
              "#46039f"
             ],
             [
              0.2222222222222222,
              "#7201a8"
             ],
             [
              0.3333333333333333,
              "#9c179e"
             ],
             [
              0.4444444444444444,
              "#bd3786"
             ],
             [
              0.5555555555555556,
              "#d8576b"
             ],
             [
              0.6666666666666666,
              "#ed7953"
             ],
             [
              0.7777777777777778,
              "#fb9f3a"
             ],
             [
              0.8888888888888888,
              "#fdca26"
             ],
             [
              1,
              "#f0f921"
             ]
            ],
            "type": "heatmap"
           }
          ],
          "heatmapgl": [
           {
            "colorbar": {
             "outlinewidth": 0,
             "ticks": ""
            },
            "colorscale": [
             [
              0,
              "#0d0887"
             ],
             [
              0.1111111111111111,
              "#46039f"
             ],
             [
              0.2222222222222222,
              "#7201a8"
             ],
             [
              0.3333333333333333,
              "#9c179e"
             ],
             [
              0.4444444444444444,
              "#bd3786"
             ],
             [
              0.5555555555555556,
              "#d8576b"
             ],
             [
              0.6666666666666666,
              "#ed7953"
             ],
             [
              0.7777777777777778,
              "#fb9f3a"
             ],
             [
              0.8888888888888888,
              "#fdca26"
             ],
             [
              1,
              "#f0f921"
             ]
            ],
            "type": "heatmapgl"
           }
          ],
          "histogram": [
           {
            "marker": {
             "pattern": {
              "fillmode": "overlay",
              "size": 10,
              "solidity": 0.2
             }
            },
            "type": "histogram"
           }
          ],
          "histogram2d": [
           {
            "colorbar": {
             "outlinewidth": 0,
             "ticks": ""
            },
            "colorscale": [
             [
              0,
              "#0d0887"
             ],
             [
              0.1111111111111111,
              "#46039f"
             ],
             [
              0.2222222222222222,
              "#7201a8"
             ],
             [
              0.3333333333333333,
              "#9c179e"
             ],
             [
              0.4444444444444444,
              "#bd3786"
             ],
             [
              0.5555555555555556,
              "#d8576b"
             ],
             [
              0.6666666666666666,
              "#ed7953"
             ],
             [
              0.7777777777777778,
              "#fb9f3a"
             ],
             [
              0.8888888888888888,
              "#fdca26"
             ],
             [
              1,
              "#f0f921"
             ]
            ],
            "type": "histogram2d"
           }
          ],
          "histogram2dcontour": [
           {
            "colorbar": {
             "outlinewidth": 0,
             "ticks": ""
            },
            "colorscale": [
             [
              0,
              "#0d0887"
             ],
             [
              0.1111111111111111,
              "#46039f"
             ],
             [
              0.2222222222222222,
              "#7201a8"
             ],
             [
              0.3333333333333333,
              "#9c179e"
             ],
             [
              0.4444444444444444,
              "#bd3786"
             ],
             [
              0.5555555555555556,
              "#d8576b"
             ],
             [
              0.6666666666666666,
              "#ed7953"
             ],
             [
              0.7777777777777778,
              "#fb9f3a"
             ],
             [
              0.8888888888888888,
              "#fdca26"
             ],
             [
              1,
              "#f0f921"
             ]
            ],
            "type": "histogram2dcontour"
           }
          ],
          "mesh3d": [
           {
            "colorbar": {
             "outlinewidth": 0,
             "ticks": ""
            },
            "type": "mesh3d"
           }
          ],
          "parcoords": [
           {
            "line": {
             "colorbar": {
              "outlinewidth": 0,
              "ticks": ""
             }
            },
            "type": "parcoords"
           }
          ],
          "pie": [
           {
            "automargin": true,
            "type": "pie"
           }
          ],
          "scatter": [
           {
            "fillpattern": {
             "fillmode": "overlay",
             "size": 10,
             "solidity": 0.2
            },
            "type": "scatter"
           }
          ],
          "scatter3d": [
           {
            "line": {
             "colorbar": {
              "outlinewidth": 0,
              "ticks": ""
             }
            },
            "marker": {
             "colorbar": {
              "outlinewidth": 0,
              "ticks": ""
             }
            },
            "type": "scatter3d"
           }
          ],
          "scattercarpet": [
           {
            "marker": {
             "colorbar": {
              "outlinewidth": 0,
              "ticks": ""
             }
            },
            "type": "scattercarpet"
           }
          ],
          "scattergeo": [
           {
            "marker": {
             "colorbar": {
              "outlinewidth": 0,
              "ticks": ""
             }
            },
            "type": "scattergeo"
           }
          ],
          "scattergl": [
           {
            "marker": {
             "colorbar": {
              "outlinewidth": 0,
              "ticks": ""
             }
            },
            "type": "scattergl"
           }
          ],
          "scattermapbox": [
           {
            "marker": {
             "colorbar": {
              "outlinewidth": 0,
              "ticks": ""
             }
            },
            "type": "scattermapbox"
           }
          ],
          "scatterpolar": [
           {
            "marker": {
             "colorbar": {
              "outlinewidth": 0,
              "ticks": ""
             }
            },
            "type": "scatterpolar"
           }
          ],
          "scatterpolargl": [
           {
            "marker": {
             "colorbar": {
              "outlinewidth": 0,
              "ticks": ""
             }
            },
            "type": "scatterpolargl"
           }
          ],
          "scatterternary": [
           {
            "marker": {
             "colorbar": {
              "outlinewidth": 0,
              "ticks": ""
             }
            },
            "type": "scatterternary"
           }
          ],
          "surface": [
           {
            "colorbar": {
             "outlinewidth": 0,
             "ticks": ""
            },
            "colorscale": [
             [
              0,
              "#0d0887"
             ],
             [
              0.1111111111111111,
              "#46039f"
             ],
             [
              0.2222222222222222,
              "#7201a8"
             ],
             [
              0.3333333333333333,
              "#9c179e"
             ],
             [
              0.4444444444444444,
              "#bd3786"
             ],
             [
              0.5555555555555556,
              "#d8576b"
             ],
             [
              0.6666666666666666,
              "#ed7953"
             ],
             [
              0.7777777777777778,
              "#fb9f3a"
             ],
             [
              0.8888888888888888,
              "#fdca26"
             ],
             [
              1,
              "#f0f921"
             ]
            ],
            "type": "surface"
           }
          ],
          "table": [
           {
            "cells": {
             "fill": {
              "color": "#EBF0F8"
             },
             "line": {
              "color": "white"
             }
            },
            "header": {
             "fill": {
              "color": "#C8D4E3"
             },
             "line": {
              "color": "white"
             }
            },
            "type": "table"
           }
          ]
         },
         "layout": {
          "annotationdefaults": {
           "arrowcolor": "#2a3f5f",
           "arrowhead": 0,
           "arrowwidth": 1
          },
          "autotypenumbers": "strict",
          "coloraxis": {
           "colorbar": {
            "outlinewidth": 0,
            "ticks": ""
           }
          },
          "colorscale": {
           "diverging": [
            [
             0,
             "#8e0152"
            ],
            [
             0.1,
             "#c51b7d"
            ],
            [
             0.2,
             "#de77ae"
            ],
            [
             0.3,
             "#f1b6da"
            ],
            [
             0.4,
             "#fde0ef"
            ],
            [
             0.5,
             "#f7f7f7"
            ],
            [
             0.6,
             "#e6f5d0"
            ],
            [
             0.7,
             "#b8e186"
            ],
            [
             0.8,
             "#7fbc41"
            ],
            [
             0.9,
             "#4d9221"
            ],
            [
             1,
             "#276419"
            ]
           ],
           "sequential": [
            [
             0,
             "#0d0887"
            ],
            [
             0.1111111111111111,
             "#46039f"
            ],
            [
             0.2222222222222222,
             "#7201a8"
            ],
            [
             0.3333333333333333,
             "#9c179e"
            ],
            [
             0.4444444444444444,
             "#bd3786"
            ],
            [
             0.5555555555555556,
             "#d8576b"
            ],
            [
             0.6666666666666666,
             "#ed7953"
            ],
            [
             0.7777777777777778,
             "#fb9f3a"
            ],
            [
             0.8888888888888888,
             "#fdca26"
            ],
            [
             1,
             "#f0f921"
            ]
           ],
           "sequentialminus": [
            [
             0,
             "#0d0887"
            ],
            [
             0.1111111111111111,
             "#46039f"
            ],
            [
             0.2222222222222222,
             "#7201a8"
            ],
            [
             0.3333333333333333,
             "#9c179e"
            ],
            [
             0.4444444444444444,
             "#bd3786"
            ],
            [
             0.5555555555555556,
             "#d8576b"
            ],
            [
             0.6666666666666666,
             "#ed7953"
            ],
            [
             0.7777777777777778,
             "#fb9f3a"
            ],
            [
             0.8888888888888888,
             "#fdca26"
            ],
            [
             1,
             "#f0f921"
            ]
           ]
          },
          "colorway": [
           "#636efa",
           "#EF553B",
           "#00cc96",
           "#ab63fa",
           "#FFA15A",
           "#19d3f3",
           "#FF6692",
           "#B6E880",
           "#FF97FF",
           "#FECB52"
          ],
          "font": {
           "color": "#2a3f5f"
          },
          "geo": {
           "bgcolor": "white",
           "lakecolor": "white",
           "landcolor": "#E5ECF6",
           "showlakes": true,
           "showland": true,
           "subunitcolor": "white"
          },
          "hoverlabel": {
           "align": "left"
          },
          "hovermode": "closest",
          "mapbox": {
           "style": "light"
          },
          "paper_bgcolor": "white",
          "plot_bgcolor": "#E5ECF6",
          "polar": {
           "angularaxis": {
            "gridcolor": "white",
            "linecolor": "white",
            "ticks": ""
           },
           "bgcolor": "#E5ECF6",
           "radialaxis": {
            "gridcolor": "white",
            "linecolor": "white",
            "ticks": ""
           }
          },
          "scene": {
           "xaxis": {
            "backgroundcolor": "#E5ECF6",
            "gridcolor": "white",
            "gridwidth": 2,
            "linecolor": "white",
            "showbackground": true,
            "ticks": "",
            "zerolinecolor": "white"
           },
           "yaxis": {
            "backgroundcolor": "#E5ECF6",
            "gridcolor": "white",
            "gridwidth": 2,
            "linecolor": "white",
            "showbackground": true,
            "ticks": "",
            "zerolinecolor": "white"
           },
           "zaxis": {
            "backgroundcolor": "#E5ECF6",
            "gridcolor": "white",
            "gridwidth": 2,
            "linecolor": "white",
            "showbackground": true,
            "ticks": "",
            "zerolinecolor": "white"
           }
          },
          "shapedefaults": {
           "line": {
            "color": "#2a3f5f"
           }
          },
          "ternary": {
           "aaxis": {
            "gridcolor": "white",
            "linecolor": "white",
            "ticks": ""
           },
           "baxis": {
            "gridcolor": "white",
            "linecolor": "white",
            "ticks": ""
           },
           "bgcolor": "#E5ECF6",
           "caxis": {
            "gridcolor": "white",
            "linecolor": "white",
            "ticks": ""
           }
          },
          "title": {
           "x": 0.05
          },
          "xaxis": {
           "automargin": true,
           "gridcolor": "white",
           "linecolor": "white",
           "ticks": "",
           "title": {
            "standoff": 15
           },
           "zerolinecolor": "white",
           "zerolinewidth": 2
          },
          "yaxis": {
           "automargin": true,
           "gridcolor": "white",
           "linecolor": "white",
           "ticks": "",
           "title": {
            "standoff": 15
           },
           "zerolinecolor": "white",
           "zerolinewidth": 2
          }
         }
        },
        "title": {
         "text": "Distribución de la cantidad de reseñas por quienes tienen Facebook y quienes no:"
        },
        "xaxis": {
         "anchor": "y",
         "categoryarray": [
          "Con Facebook",
          "Sin Facebook"
         ],
         "categoryorder": "array",
         "domain": [
          0,
          1
         ],
         "title": {
          "text": "Clasificación"
         }
        },
        "yaxis": {
         "anchor": "x",
         "domain": [
          0,
          1
         ],
         "title": {
          "text": "Cantidad de reseñas"
         }
        }
       }
      }
     },
     "metadata": {},
     "output_type": "display_data"
    },
    {
     "data": {
      "application/vnd.plotly.v1+json": {
       "config": {
        "plotlyServerURL": "https://plot.ly"
       },
       "data": [
        {
         "alignmentgroup": "True",
         "hovertemplate": "Clasificación=%{x}<br>Cantidad de reseñas=%{y}<extra></extra>",
         "legendgroup": "Con Instagram",
         "marker": {
          "color": "#636efa"
         },
         "name": "Con Instagram",
         "notched": false,
         "offsetgroup": "Con Instagram",
         "orientation": "v",
         "showlegend": true,
         "type": "box",
         "x": [
          "Con Instagram",
          "Con Instagram",
          "Con Instagram",
          "Con Instagram",
          "Con Instagram",
          "Con Instagram",
          "Con Instagram",
          "Con Instagram",
          "Con Instagram",
          "Con Instagram",
          "Con Instagram",
          "Con Instagram",
          "Con Instagram",
          "Con Instagram",
          "Con Instagram",
          "Con Instagram",
          "Con Instagram",
          "Con Instagram",
          "Con Instagram",
          "Con Instagram",
          "Con Instagram",
          "Con Instagram",
          "Con Instagram",
          "Con Instagram",
          "Con Instagram",
          "Con Instagram",
          "Con Instagram",
          "Con Instagram",
          "Con Instagram",
          "Con Instagram",
          "Con Instagram",
          "Con Instagram",
          "Con Instagram",
          "Con Instagram",
          "Con Instagram",
          "Con Instagram",
          "Con Instagram",
          "Con Instagram",
          "Con Instagram",
          "Con Instagram",
          "Con Instagram",
          "Con Instagram",
          "Con Instagram",
          "Con Instagram",
          "Con Instagram",
          "Con Instagram",
          "Con Instagram",
          "Con Instagram",
          "Con Instagram",
          "Con Instagram",
          "Con Instagram",
          "Con Instagram",
          "Con Instagram",
          "Con Instagram",
          "Con Instagram",
          "Con Instagram",
          "Con Instagram",
          "Con Instagram",
          "Con Instagram",
          "Con Instagram",
          "Con Instagram",
          "Con Instagram",
          "Con Instagram",
          "Con Instagram",
          "Con Instagram",
          "Con Instagram",
          "Con Instagram",
          "Con Instagram",
          "Con Instagram",
          "Con Instagram",
          "Con Instagram",
          "Con Instagram",
          "Con Instagram",
          "Con Instagram",
          "Con Instagram",
          "Con Instagram",
          "Con Instagram",
          "Con Instagram",
          "Con Instagram",
          "Con Instagram",
          "Con Instagram",
          "Con Instagram",
          "Con Instagram",
          "Con Instagram",
          "Con Instagram",
          "Con Instagram",
          "Con Instagram",
          "Con Instagram",
          "Con Instagram",
          "Con Instagram",
          "Con Instagram",
          "Con Instagram",
          "Con Instagram",
          "Con Instagram",
          "Con Instagram",
          "Con Instagram"
         ],
         "x0": " ",
         "xaxis": "x",
         "y": [
          75,
          75,
          75,
          75,
          75,
          75,
          75,
          30,
          75,
          78,
          0,
          30,
          75,
          75,
          0,
          60,
          75,
          75,
          75,
          75,
          75,
          75,
          75,
          75,
          75,
          75,
          0,
          75,
          75,
          75,
          75,
          75,
          75,
          75,
          75,
          75,
          75,
          75,
          75,
          75,
          75,
          75,
          75,
          75,
          75,
          75,
          75,
          75,
          75,
          75,
          75,
          75,
          75,
          75,
          75,
          75,
          75,
          30,
          75,
          75,
          0,
          75,
          75,
          75,
          75,
          75,
          75,
          75,
          75,
          75,
          75,
          75,
          75,
          30,
          75,
          30,
          75,
          75,
          0,
          75,
          68,
          75,
          75,
          75,
          75,
          75,
          0,
          75,
          75,
          75,
          75,
          75,
          75,
          75,
          75,
          75
         ],
         "y0": " ",
         "yaxis": "y"
        },
        {
         "alignmentgroup": "True",
         "hovertemplate": "Clasificación=%{x}<br>Cantidad de reseñas=%{y}<extra></extra>",
         "legendgroup": "Sin Instagram",
         "marker": {
          "color": "#EF553B"
         },
         "name": "Sin Instagram",
         "notched": false,
         "offsetgroup": "Sin Instagram",
         "orientation": "v",
         "showlegend": true,
         "type": "box",
         "x": [
          "Sin Instagram",
          "Sin Instagram",
          "Sin Instagram",
          "Sin Instagram",
          "Sin Instagram",
          "Sin Instagram",
          "Sin Instagram",
          "Sin Instagram",
          "Sin Instagram",
          "Sin Instagram",
          "Sin Instagram",
          "Sin Instagram",
          "Sin Instagram",
          "Sin Instagram",
          "Sin Instagram",
          "Sin Instagram",
          "Sin Instagram",
          "Sin Instagram",
          "Sin Instagram",
          "Sin Instagram",
          "Sin Instagram",
          "Sin Instagram",
          "Sin Instagram",
          "Sin Instagram",
          "Sin Instagram",
          "Sin Instagram",
          "Sin Instagram",
          "Sin Instagram",
          "Sin Instagram",
          "Sin Instagram",
          "Sin Instagram",
          "Sin Instagram",
          "Sin Instagram",
          "Sin Instagram",
          "Sin Instagram",
          "Sin Instagram",
          "Sin Instagram",
          "Sin Instagram",
          "Sin Instagram",
          "Sin Instagram",
          "Sin Instagram",
          "Sin Instagram",
          "Sin Instagram",
          "Sin Instagram",
          "Sin Instagram",
          "Sin Instagram",
          "Sin Instagram",
          "Sin Instagram",
          "Sin Instagram",
          "Sin Instagram",
          "Sin Instagram",
          "Sin Instagram",
          "Sin Instagram",
          "Sin Instagram",
          "Sin Instagram",
          "Sin Instagram",
          "Sin Instagram",
          "Sin Instagram",
          "Sin Instagram",
          "Sin Instagram",
          "Sin Instagram",
          "Sin Instagram",
          "Sin Instagram",
          "Sin Instagram",
          "Sin Instagram",
          "Sin Instagram",
          "Sin Instagram",
          "Sin Instagram",
          "Sin Instagram",
          "Sin Instagram",
          "Sin Instagram",
          "Sin Instagram",
          "Sin Instagram",
          "Sin Instagram",
          "Sin Instagram",
          "Sin Instagram",
          "Sin Instagram",
          "Sin Instagram",
          "Sin Instagram",
          "Sin Instagram",
          "Sin Instagram",
          "Sin Instagram",
          "Sin Instagram",
          "Sin Instagram",
          "Sin Instagram",
          "Sin Instagram",
          "Sin Instagram",
          "Sin Instagram",
          "Sin Instagram",
          "Sin Instagram",
          "Sin Instagram",
          "Sin Instagram",
          "Sin Instagram",
          "Sin Instagram",
          "Sin Instagram",
          "Sin Instagram",
          "Sin Instagram",
          "Sin Instagram",
          "Sin Instagram",
          "Sin Instagram",
          "Sin Instagram",
          "Sin Instagram",
          "Sin Instagram",
          "Sin Instagram",
          "Sin Instagram",
          "Sin Instagram",
          "Sin Instagram",
          "Sin Instagram",
          "Sin Instagram",
          "Sin Instagram",
          "Sin Instagram",
          "Sin Instagram",
          "Sin Instagram",
          "Sin Instagram",
          "Sin Instagram",
          "Sin Instagram",
          "Sin Instagram",
          "Sin Instagram",
          "Sin Instagram",
          "Sin Instagram",
          "Sin Instagram",
          "Sin Instagram",
          "Sin Instagram",
          "Sin Instagram",
          "Sin Instagram",
          "Sin Instagram",
          "Sin Instagram",
          "Sin Instagram",
          "Sin Instagram",
          "Sin Instagram",
          "Sin Instagram",
          "Sin Instagram"
         ],
         "x0": " ",
         "xaxis": "x",
         "y": [
          75,
          75,
          75,
          75,
          75,
          75,
          75,
          75,
          75,
          75,
          75,
          75,
          75,
          75,
          75,
          75,
          75,
          75,
          75,
          75,
          30,
          0,
          75,
          75,
          30,
          75,
          75,
          75,
          75,
          30,
          75,
          75,
          75,
          75,
          60,
          0,
          0,
          75,
          75,
          30,
          75,
          75,
          75,
          75,
          75,
          75,
          75,
          75,
          75,
          75,
          75,
          75,
          75,
          75,
          75,
          75,
          75,
          75,
          75,
          30,
          75,
          75,
          75,
          75,
          0,
          75,
          75,
          75,
          75,
          30,
          30,
          30,
          75,
          75,
          75,
          75,
          30,
          0,
          75,
          75,
          0,
          75,
          75,
          75,
          75,
          30,
          75,
          75,
          30,
          30,
          75,
          30,
          0,
          60,
          90,
          75,
          30,
          0,
          75,
          75,
          75,
          75,
          75,
          75,
          30,
          75,
          75,
          30,
          75,
          75,
          75,
          0,
          75,
          75,
          75,
          30,
          75,
          75,
          75,
          30,
          75,
          75,
          75,
          75,
          75,
          75,
          75,
          75,
          75,
          75,
          75,
          75
         ],
         "y0": " ",
         "yaxis": "y"
        }
       ],
       "layout": {
        "boxmode": "overlay",
        "legend": {
         "title": {
          "text": "Clasificación"
         },
         "tracegroupgap": 0
        },
        "template": {
         "data": {
          "bar": [
           {
            "error_x": {
             "color": "#2a3f5f"
            },
            "error_y": {
             "color": "#2a3f5f"
            },
            "marker": {
             "line": {
              "color": "#E5ECF6",
              "width": 0.5
             },
             "pattern": {
              "fillmode": "overlay",
              "size": 10,
              "solidity": 0.2
             }
            },
            "type": "bar"
           }
          ],
          "barpolar": [
           {
            "marker": {
             "line": {
              "color": "#E5ECF6",
              "width": 0.5
             },
             "pattern": {
              "fillmode": "overlay",
              "size": 10,
              "solidity": 0.2
             }
            },
            "type": "barpolar"
           }
          ],
          "carpet": [
           {
            "aaxis": {
             "endlinecolor": "#2a3f5f",
             "gridcolor": "white",
             "linecolor": "white",
             "minorgridcolor": "white",
             "startlinecolor": "#2a3f5f"
            },
            "baxis": {
             "endlinecolor": "#2a3f5f",
             "gridcolor": "white",
             "linecolor": "white",
             "minorgridcolor": "white",
             "startlinecolor": "#2a3f5f"
            },
            "type": "carpet"
           }
          ],
          "choropleth": [
           {
            "colorbar": {
             "outlinewidth": 0,
             "ticks": ""
            },
            "type": "choropleth"
           }
          ],
          "contour": [
           {
            "colorbar": {
             "outlinewidth": 0,
             "ticks": ""
            },
            "colorscale": [
             [
              0,
              "#0d0887"
             ],
             [
              0.1111111111111111,
              "#46039f"
             ],
             [
              0.2222222222222222,
              "#7201a8"
             ],
             [
              0.3333333333333333,
              "#9c179e"
             ],
             [
              0.4444444444444444,
              "#bd3786"
             ],
             [
              0.5555555555555556,
              "#d8576b"
             ],
             [
              0.6666666666666666,
              "#ed7953"
             ],
             [
              0.7777777777777778,
              "#fb9f3a"
             ],
             [
              0.8888888888888888,
              "#fdca26"
             ],
             [
              1,
              "#f0f921"
             ]
            ],
            "type": "contour"
           }
          ],
          "contourcarpet": [
           {
            "colorbar": {
             "outlinewidth": 0,
             "ticks": ""
            },
            "type": "contourcarpet"
           }
          ],
          "heatmap": [
           {
            "colorbar": {
             "outlinewidth": 0,
             "ticks": ""
            },
            "colorscale": [
             [
              0,
              "#0d0887"
             ],
             [
              0.1111111111111111,
              "#46039f"
             ],
             [
              0.2222222222222222,
              "#7201a8"
             ],
             [
              0.3333333333333333,
              "#9c179e"
             ],
             [
              0.4444444444444444,
              "#bd3786"
             ],
             [
              0.5555555555555556,
              "#d8576b"
             ],
             [
              0.6666666666666666,
              "#ed7953"
             ],
             [
              0.7777777777777778,
              "#fb9f3a"
             ],
             [
              0.8888888888888888,
              "#fdca26"
             ],
             [
              1,
              "#f0f921"
             ]
            ],
            "type": "heatmap"
           }
          ],
          "heatmapgl": [
           {
            "colorbar": {
             "outlinewidth": 0,
             "ticks": ""
            },
            "colorscale": [
             [
              0,
              "#0d0887"
             ],
             [
              0.1111111111111111,
              "#46039f"
             ],
             [
              0.2222222222222222,
              "#7201a8"
             ],
             [
              0.3333333333333333,
              "#9c179e"
             ],
             [
              0.4444444444444444,
              "#bd3786"
             ],
             [
              0.5555555555555556,
              "#d8576b"
             ],
             [
              0.6666666666666666,
              "#ed7953"
             ],
             [
              0.7777777777777778,
              "#fb9f3a"
             ],
             [
              0.8888888888888888,
              "#fdca26"
             ],
             [
              1,
              "#f0f921"
             ]
            ],
            "type": "heatmapgl"
           }
          ],
          "histogram": [
           {
            "marker": {
             "pattern": {
              "fillmode": "overlay",
              "size": 10,
              "solidity": 0.2
             }
            },
            "type": "histogram"
           }
          ],
          "histogram2d": [
           {
            "colorbar": {
             "outlinewidth": 0,
             "ticks": ""
            },
            "colorscale": [
             [
              0,
              "#0d0887"
             ],
             [
              0.1111111111111111,
              "#46039f"
             ],
             [
              0.2222222222222222,
              "#7201a8"
             ],
             [
              0.3333333333333333,
              "#9c179e"
             ],
             [
              0.4444444444444444,
              "#bd3786"
             ],
             [
              0.5555555555555556,
              "#d8576b"
             ],
             [
              0.6666666666666666,
              "#ed7953"
             ],
             [
              0.7777777777777778,
              "#fb9f3a"
             ],
             [
              0.8888888888888888,
              "#fdca26"
             ],
             [
              1,
              "#f0f921"
             ]
            ],
            "type": "histogram2d"
           }
          ],
          "histogram2dcontour": [
           {
            "colorbar": {
             "outlinewidth": 0,
             "ticks": ""
            },
            "colorscale": [
             [
              0,
              "#0d0887"
             ],
             [
              0.1111111111111111,
              "#46039f"
             ],
             [
              0.2222222222222222,
              "#7201a8"
             ],
             [
              0.3333333333333333,
              "#9c179e"
             ],
             [
              0.4444444444444444,
              "#bd3786"
             ],
             [
              0.5555555555555556,
              "#d8576b"
             ],
             [
              0.6666666666666666,
              "#ed7953"
             ],
             [
              0.7777777777777778,
              "#fb9f3a"
             ],
             [
              0.8888888888888888,
              "#fdca26"
             ],
             [
              1,
              "#f0f921"
             ]
            ],
            "type": "histogram2dcontour"
           }
          ],
          "mesh3d": [
           {
            "colorbar": {
             "outlinewidth": 0,
             "ticks": ""
            },
            "type": "mesh3d"
           }
          ],
          "parcoords": [
           {
            "line": {
             "colorbar": {
              "outlinewidth": 0,
              "ticks": ""
             }
            },
            "type": "parcoords"
           }
          ],
          "pie": [
           {
            "automargin": true,
            "type": "pie"
           }
          ],
          "scatter": [
           {
            "fillpattern": {
             "fillmode": "overlay",
             "size": 10,
             "solidity": 0.2
            },
            "type": "scatter"
           }
          ],
          "scatter3d": [
           {
            "line": {
             "colorbar": {
              "outlinewidth": 0,
              "ticks": ""
             }
            },
            "marker": {
             "colorbar": {
              "outlinewidth": 0,
              "ticks": ""
             }
            },
            "type": "scatter3d"
           }
          ],
          "scattercarpet": [
           {
            "marker": {
             "colorbar": {
              "outlinewidth": 0,
              "ticks": ""
             }
            },
            "type": "scattercarpet"
           }
          ],
          "scattergeo": [
           {
            "marker": {
             "colorbar": {
              "outlinewidth": 0,
              "ticks": ""
             }
            },
            "type": "scattergeo"
           }
          ],
          "scattergl": [
           {
            "marker": {
             "colorbar": {
              "outlinewidth": 0,
              "ticks": ""
             }
            },
            "type": "scattergl"
           }
          ],
          "scattermapbox": [
           {
            "marker": {
             "colorbar": {
              "outlinewidth": 0,
              "ticks": ""
             }
            },
            "type": "scattermapbox"
           }
          ],
          "scatterpolar": [
           {
            "marker": {
             "colorbar": {
              "outlinewidth": 0,
              "ticks": ""
             }
            },
            "type": "scatterpolar"
           }
          ],
          "scatterpolargl": [
           {
            "marker": {
             "colorbar": {
              "outlinewidth": 0,
              "ticks": ""
             }
            },
            "type": "scatterpolargl"
           }
          ],
          "scatterternary": [
           {
            "marker": {
             "colorbar": {
              "outlinewidth": 0,
              "ticks": ""
             }
            },
            "type": "scatterternary"
           }
          ],
          "surface": [
           {
            "colorbar": {
             "outlinewidth": 0,
             "ticks": ""
            },
            "colorscale": [
             [
              0,
              "#0d0887"
             ],
             [
              0.1111111111111111,
              "#46039f"
             ],
             [
              0.2222222222222222,
              "#7201a8"
             ],
             [
              0.3333333333333333,
              "#9c179e"
             ],
             [
              0.4444444444444444,
              "#bd3786"
             ],
             [
              0.5555555555555556,
              "#d8576b"
             ],
             [
              0.6666666666666666,
              "#ed7953"
             ],
             [
              0.7777777777777778,
              "#fb9f3a"
             ],
             [
              0.8888888888888888,
              "#fdca26"
             ],
             [
              1,
              "#f0f921"
             ]
            ],
            "type": "surface"
           }
          ],
          "table": [
           {
            "cells": {
             "fill": {
              "color": "#EBF0F8"
             },
             "line": {
              "color": "white"
             }
            },
            "header": {
             "fill": {
              "color": "#C8D4E3"
             },
             "line": {
              "color": "white"
             }
            },
            "type": "table"
           }
          ]
         },
         "layout": {
          "annotationdefaults": {
           "arrowcolor": "#2a3f5f",
           "arrowhead": 0,
           "arrowwidth": 1
          },
          "autotypenumbers": "strict",
          "coloraxis": {
           "colorbar": {
            "outlinewidth": 0,
            "ticks": ""
           }
          },
          "colorscale": {
           "diverging": [
            [
             0,
             "#8e0152"
            ],
            [
             0.1,
             "#c51b7d"
            ],
            [
             0.2,
             "#de77ae"
            ],
            [
             0.3,
             "#f1b6da"
            ],
            [
             0.4,
             "#fde0ef"
            ],
            [
             0.5,
             "#f7f7f7"
            ],
            [
             0.6,
             "#e6f5d0"
            ],
            [
             0.7,
             "#b8e186"
            ],
            [
             0.8,
             "#7fbc41"
            ],
            [
             0.9,
             "#4d9221"
            ],
            [
             1,
             "#276419"
            ]
           ],
           "sequential": [
            [
             0,
             "#0d0887"
            ],
            [
             0.1111111111111111,
             "#46039f"
            ],
            [
             0.2222222222222222,
             "#7201a8"
            ],
            [
             0.3333333333333333,
             "#9c179e"
            ],
            [
             0.4444444444444444,
             "#bd3786"
            ],
            [
             0.5555555555555556,
             "#d8576b"
            ],
            [
             0.6666666666666666,
             "#ed7953"
            ],
            [
             0.7777777777777778,
             "#fb9f3a"
            ],
            [
             0.8888888888888888,
             "#fdca26"
            ],
            [
             1,
             "#f0f921"
            ]
           ],
           "sequentialminus": [
            [
             0,
             "#0d0887"
            ],
            [
             0.1111111111111111,
             "#46039f"
            ],
            [
             0.2222222222222222,
             "#7201a8"
            ],
            [
             0.3333333333333333,
             "#9c179e"
            ],
            [
             0.4444444444444444,
             "#bd3786"
            ],
            [
             0.5555555555555556,
             "#d8576b"
            ],
            [
             0.6666666666666666,
             "#ed7953"
            ],
            [
             0.7777777777777778,
             "#fb9f3a"
            ],
            [
             0.8888888888888888,
             "#fdca26"
            ],
            [
             1,
             "#f0f921"
            ]
           ]
          },
          "colorway": [
           "#636efa",
           "#EF553B",
           "#00cc96",
           "#ab63fa",
           "#FFA15A",
           "#19d3f3",
           "#FF6692",
           "#B6E880",
           "#FF97FF",
           "#FECB52"
          ],
          "font": {
           "color": "#2a3f5f"
          },
          "geo": {
           "bgcolor": "white",
           "lakecolor": "white",
           "landcolor": "#E5ECF6",
           "showlakes": true,
           "showland": true,
           "subunitcolor": "white"
          },
          "hoverlabel": {
           "align": "left"
          },
          "hovermode": "closest",
          "mapbox": {
           "style": "light"
          },
          "paper_bgcolor": "white",
          "plot_bgcolor": "#E5ECF6",
          "polar": {
           "angularaxis": {
            "gridcolor": "white",
            "linecolor": "white",
            "ticks": ""
           },
           "bgcolor": "#E5ECF6",
           "radialaxis": {
            "gridcolor": "white",
            "linecolor": "white",
            "ticks": ""
           }
          },
          "scene": {
           "xaxis": {
            "backgroundcolor": "#E5ECF6",
            "gridcolor": "white",
            "gridwidth": 2,
            "linecolor": "white",
            "showbackground": true,
            "ticks": "",
            "zerolinecolor": "white"
           },
           "yaxis": {
            "backgroundcolor": "#E5ECF6",
            "gridcolor": "white",
            "gridwidth": 2,
            "linecolor": "white",
            "showbackground": true,
            "ticks": "",
            "zerolinecolor": "white"
           },
           "zaxis": {
            "backgroundcolor": "#E5ECF6",
            "gridcolor": "white",
            "gridwidth": 2,
            "linecolor": "white",
            "showbackground": true,
            "ticks": "",
            "zerolinecolor": "white"
           }
          },
          "shapedefaults": {
           "line": {
            "color": "#2a3f5f"
           }
          },
          "ternary": {
           "aaxis": {
            "gridcolor": "white",
            "linecolor": "white",
            "ticks": ""
           },
           "baxis": {
            "gridcolor": "white",
            "linecolor": "white",
            "ticks": ""
           },
           "bgcolor": "#E5ECF6",
           "caxis": {
            "gridcolor": "white",
            "linecolor": "white",
            "ticks": ""
           }
          },
          "title": {
           "x": 0.05
          },
          "xaxis": {
           "automargin": true,
           "gridcolor": "white",
           "linecolor": "white",
           "ticks": "",
           "title": {
            "standoff": 15
           },
           "zerolinecolor": "white",
           "zerolinewidth": 2
          },
          "yaxis": {
           "automargin": true,
           "gridcolor": "white",
           "linecolor": "white",
           "ticks": "",
           "title": {
            "standoff": 15
           },
           "zerolinecolor": "white",
           "zerolinewidth": 2
          }
         }
        },
        "title": {
         "text": "Distribución de la cantidad de reseñas por quienes tienen Instagram y quienes no:"
        },
        "xaxis": {
         "anchor": "y",
         "categoryarray": [
          "Con Instagram",
          "Sin Instagram"
         ],
         "categoryorder": "array",
         "domain": [
          0,
          1
         ],
         "title": {
          "text": "Clasificación"
         }
        },
        "yaxis": {
         "anchor": "x",
         "domain": [
          0,
          1
         ],
         "title": {
          "text": "Cantidad de reseñas"
         }
        }
       }
      }
     },
     "metadata": {},
     "output_type": "display_data"
    },
    {
     "data": {
      "application/vnd.plotly.v1+json": {
       "config": {
        "plotlyServerURL": "https://plot.ly"
       },
       "data": [
        {
         "alignmentgroup": "True",
         "hovertemplate": "Clasificación=%{x}<br>Cantidad de reseñas=%{y}<extra></extra>",
         "legendgroup": "Sin Twitter",
         "marker": {
          "color": "#636efa"
         },
         "name": "Sin Twitter",
         "notched": false,
         "offsetgroup": "Sin Twitter",
         "orientation": "v",
         "showlegend": true,
         "type": "box",
         "x": [
          "Sin Twitter",
          "Sin Twitter",
          "Sin Twitter",
          "Sin Twitter",
          "Sin Twitter",
          "Sin Twitter",
          "Sin Twitter",
          "Sin Twitter",
          "Sin Twitter",
          "Sin Twitter",
          "Sin Twitter",
          "Sin Twitter",
          "Sin Twitter",
          "Sin Twitter",
          "Sin Twitter",
          "Sin Twitter",
          "Sin Twitter",
          "Sin Twitter",
          "Sin Twitter",
          "Sin Twitter",
          "Sin Twitter",
          "Sin Twitter",
          "Sin Twitter",
          "Sin Twitter",
          "Sin Twitter",
          "Sin Twitter",
          "Sin Twitter",
          "Sin Twitter",
          "Sin Twitter",
          "Sin Twitter",
          "Sin Twitter",
          "Sin Twitter",
          "Sin Twitter",
          "Sin Twitter",
          "Sin Twitter",
          "Sin Twitter",
          "Sin Twitter",
          "Sin Twitter",
          "Sin Twitter",
          "Sin Twitter",
          "Sin Twitter",
          "Sin Twitter",
          "Sin Twitter",
          "Sin Twitter",
          "Sin Twitter",
          "Sin Twitter",
          "Sin Twitter",
          "Sin Twitter",
          "Sin Twitter",
          "Sin Twitter",
          "Sin Twitter",
          "Sin Twitter",
          "Sin Twitter",
          "Sin Twitter",
          "Sin Twitter",
          "Sin Twitter",
          "Sin Twitter",
          "Sin Twitter",
          "Sin Twitter",
          "Sin Twitter",
          "Sin Twitter",
          "Sin Twitter",
          "Sin Twitter",
          "Sin Twitter",
          "Sin Twitter",
          "Sin Twitter",
          "Sin Twitter",
          "Sin Twitter",
          "Sin Twitter",
          "Sin Twitter",
          "Sin Twitter",
          "Sin Twitter",
          "Sin Twitter",
          "Sin Twitter",
          "Sin Twitter",
          "Sin Twitter",
          "Sin Twitter",
          "Sin Twitter",
          "Sin Twitter",
          "Sin Twitter",
          "Sin Twitter",
          "Sin Twitter",
          "Sin Twitter",
          "Sin Twitter",
          "Sin Twitter",
          "Sin Twitter",
          "Sin Twitter",
          "Sin Twitter",
          "Sin Twitter",
          "Sin Twitter",
          "Sin Twitter",
          "Sin Twitter",
          "Sin Twitter",
          "Sin Twitter",
          "Sin Twitter",
          "Sin Twitter",
          "Sin Twitter",
          "Sin Twitter",
          "Sin Twitter",
          "Sin Twitter",
          "Sin Twitter",
          "Sin Twitter",
          "Sin Twitter",
          "Sin Twitter",
          "Sin Twitter",
          "Sin Twitter",
          "Sin Twitter",
          "Sin Twitter",
          "Sin Twitter",
          "Sin Twitter",
          "Sin Twitter",
          "Sin Twitter",
          "Sin Twitter",
          "Sin Twitter",
          "Sin Twitter",
          "Sin Twitter",
          "Sin Twitter",
          "Sin Twitter",
          "Sin Twitter",
          "Sin Twitter",
          "Sin Twitter",
          "Sin Twitter",
          "Sin Twitter",
          "Sin Twitter",
          "Sin Twitter",
          "Sin Twitter",
          "Sin Twitter",
          "Sin Twitter",
          "Sin Twitter",
          "Sin Twitter",
          "Sin Twitter",
          "Sin Twitter",
          "Sin Twitter",
          "Sin Twitter",
          "Sin Twitter",
          "Sin Twitter",
          "Sin Twitter",
          "Sin Twitter",
          "Sin Twitter",
          "Sin Twitter",
          "Sin Twitter",
          "Sin Twitter",
          "Sin Twitter",
          "Sin Twitter",
          "Sin Twitter",
          "Sin Twitter",
          "Sin Twitter",
          "Sin Twitter",
          "Sin Twitter",
          "Sin Twitter",
          "Sin Twitter",
          "Sin Twitter",
          "Sin Twitter",
          "Sin Twitter",
          "Sin Twitter",
          "Sin Twitter",
          "Sin Twitter",
          "Sin Twitter",
          "Sin Twitter",
          "Sin Twitter",
          "Sin Twitter",
          "Sin Twitter",
          "Sin Twitter",
          "Sin Twitter",
          "Sin Twitter",
          "Sin Twitter",
          "Sin Twitter",
          "Sin Twitter",
          "Sin Twitter",
          "Sin Twitter",
          "Sin Twitter",
          "Sin Twitter",
          "Sin Twitter",
          "Sin Twitter",
          "Sin Twitter",
          "Sin Twitter",
          "Sin Twitter",
          "Sin Twitter",
          "Sin Twitter",
          "Sin Twitter",
          "Sin Twitter",
          "Sin Twitter",
          "Sin Twitter",
          "Sin Twitter",
          "Sin Twitter",
          "Sin Twitter",
          "Sin Twitter",
          "Sin Twitter",
          "Sin Twitter",
          "Sin Twitter",
          "Sin Twitter",
          "Sin Twitter",
          "Sin Twitter",
          "Sin Twitter",
          "Sin Twitter",
          "Sin Twitter",
          "Sin Twitter",
          "Sin Twitter",
          "Sin Twitter",
          "Sin Twitter",
          "Sin Twitter",
          "Sin Twitter",
          "Sin Twitter",
          "Sin Twitter",
          "Sin Twitter",
          "Sin Twitter",
          "Sin Twitter",
          "Sin Twitter",
          "Sin Twitter",
          "Sin Twitter",
          "Sin Twitter",
          "Sin Twitter",
          "Sin Twitter",
          "Sin Twitter",
          "Sin Twitter",
          "Sin Twitter",
          "Sin Twitter",
          "Sin Twitter",
          "Sin Twitter",
          "Sin Twitter",
          "Sin Twitter",
          "Sin Twitter",
          "Sin Twitter",
          "Sin Twitter",
          "Sin Twitter",
          "Sin Twitter",
          "Sin Twitter"
         ],
         "x0": " ",
         "xaxis": "x",
         "y": [
          75,
          75,
          75,
          75,
          75,
          75,
          75,
          75,
          75,
          75,
          75,
          75,
          75,
          75,
          75,
          75,
          75,
          75,
          75,
          75,
          75,
          75,
          75,
          30,
          75,
          75,
          75,
          75,
          78,
          0,
          75,
          30,
          30,
          0,
          75,
          75,
          30,
          75,
          75,
          75,
          75,
          75,
          75,
          30,
          0,
          75,
          75,
          75,
          75,
          60,
          75,
          75,
          60,
          75,
          75,
          75,
          75,
          75,
          0,
          0,
          75,
          75,
          75,
          30,
          75,
          75,
          75,
          75,
          0,
          75,
          75,
          75,
          75,
          75,
          75,
          75,
          75,
          75,
          75,
          75,
          75,
          75,
          75,
          75,
          75,
          75,
          75,
          75,
          75,
          75,
          75,
          75,
          75,
          75,
          75,
          75,
          75,
          75,
          30,
          75,
          75,
          75,
          75,
          75,
          75,
          75,
          75,
          75,
          75,
          75,
          75,
          75,
          75,
          75,
          75,
          75,
          0,
          75,
          75,
          75,
          75,
          30,
          30,
          30,
          75,
          75,
          75,
          75,
          30,
          0,
          75,
          75,
          75,
          75,
          0,
          75,
          75,
          75,
          75,
          75,
          30,
          75,
          75,
          30,
          75,
          30,
          75,
          30,
          75,
          0,
          60,
          90,
          75,
          30,
          0,
          75,
          75,
          0,
          75,
          75,
          75,
          75,
          75,
          75,
          75,
          75,
          75,
          75,
          75,
          75,
          75,
          75,
          30,
          75,
          30,
          75,
          75,
          0,
          75,
          68,
          75,
          75,
          75,
          75,
          75,
          0,
          75,
          75,
          75,
          75,
          30,
          75,
          75,
          30,
          75,
          75,
          75,
          0,
          75,
          75,
          75,
          75,
          75,
          75,
          75,
          75,
          30,
          75,
          75,
          75,
          75,
          75,
          75,
          30,
          75,
          75,
          75,
          75,
          75,
          75,
          75,
          75,
          75,
          75,
          75,
          75,
          75
         ],
         "y0": " ",
         "yaxis": "y"
        },
        {
         "alignmentgroup": "True",
         "hovertemplate": "Clasificación=%{x}<br>Cantidad de reseñas=%{y}<extra></extra>",
         "legendgroup": "Con Twitter",
         "marker": {
          "color": "#EF553B"
         },
         "name": "Con Twitter",
         "notched": false,
         "offsetgroup": "Con Twitter",
         "orientation": "v",
         "showlegend": true,
         "type": "box",
         "x": [
          "Con Twitter"
         ],
         "x0": " ",
         "xaxis": "x",
         "y": [
          30
         ],
         "y0": " ",
         "yaxis": "y"
        }
       ],
       "layout": {
        "boxmode": "overlay",
        "legend": {
         "title": {
          "text": "Clasificación"
         },
         "tracegroupgap": 0
        },
        "template": {
         "data": {
          "bar": [
           {
            "error_x": {
             "color": "#2a3f5f"
            },
            "error_y": {
             "color": "#2a3f5f"
            },
            "marker": {
             "line": {
              "color": "#E5ECF6",
              "width": 0.5
             },
             "pattern": {
              "fillmode": "overlay",
              "size": 10,
              "solidity": 0.2
             }
            },
            "type": "bar"
           }
          ],
          "barpolar": [
           {
            "marker": {
             "line": {
              "color": "#E5ECF6",
              "width": 0.5
             },
             "pattern": {
              "fillmode": "overlay",
              "size": 10,
              "solidity": 0.2
             }
            },
            "type": "barpolar"
           }
          ],
          "carpet": [
           {
            "aaxis": {
             "endlinecolor": "#2a3f5f",
             "gridcolor": "white",
             "linecolor": "white",
             "minorgridcolor": "white",
             "startlinecolor": "#2a3f5f"
            },
            "baxis": {
             "endlinecolor": "#2a3f5f",
             "gridcolor": "white",
             "linecolor": "white",
             "minorgridcolor": "white",
             "startlinecolor": "#2a3f5f"
            },
            "type": "carpet"
           }
          ],
          "choropleth": [
           {
            "colorbar": {
             "outlinewidth": 0,
             "ticks": ""
            },
            "type": "choropleth"
           }
          ],
          "contour": [
           {
            "colorbar": {
             "outlinewidth": 0,
             "ticks": ""
            },
            "colorscale": [
             [
              0,
              "#0d0887"
             ],
             [
              0.1111111111111111,
              "#46039f"
             ],
             [
              0.2222222222222222,
              "#7201a8"
             ],
             [
              0.3333333333333333,
              "#9c179e"
             ],
             [
              0.4444444444444444,
              "#bd3786"
             ],
             [
              0.5555555555555556,
              "#d8576b"
             ],
             [
              0.6666666666666666,
              "#ed7953"
             ],
             [
              0.7777777777777778,
              "#fb9f3a"
             ],
             [
              0.8888888888888888,
              "#fdca26"
             ],
             [
              1,
              "#f0f921"
             ]
            ],
            "type": "contour"
           }
          ],
          "contourcarpet": [
           {
            "colorbar": {
             "outlinewidth": 0,
             "ticks": ""
            },
            "type": "contourcarpet"
           }
          ],
          "heatmap": [
           {
            "colorbar": {
             "outlinewidth": 0,
             "ticks": ""
            },
            "colorscale": [
             [
              0,
              "#0d0887"
             ],
             [
              0.1111111111111111,
              "#46039f"
             ],
             [
              0.2222222222222222,
              "#7201a8"
             ],
             [
              0.3333333333333333,
              "#9c179e"
             ],
             [
              0.4444444444444444,
              "#bd3786"
             ],
             [
              0.5555555555555556,
              "#d8576b"
             ],
             [
              0.6666666666666666,
              "#ed7953"
             ],
             [
              0.7777777777777778,
              "#fb9f3a"
             ],
             [
              0.8888888888888888,
              "#fdca26"
             ],
             [
              1,
              "#f0f921"
             ]
            ],
            "type": "heatmap"
           }
          ],
          "heatmapgl": [
           {
            "colorbar": {
             "outlinewidth": 0,
             "ticks": ""
            },
            "colorscale": [
             [
              0,
              "#0d0887"
             ],
             [
              0.1111111111111111,
              "#46039f"
             ],
             [
              0.2222222222222222,
              "#7201a8"
             ],
             [
              0.3333333333333333,
              "#9c179e"
             ],
             [
              0.4444444444444444,
              "#bd3786"
             ],
             [
              0.5555555555555556,
              "#d8576b"
             ],
             [
              0.6666666666666666,
              "#ed7953"
             ],
             [
              0.7777777777777778,
              "#fb9f3a"
             ],
             [
              0.8888888888888888,
              "#fdca26"
             ],
             [
              1,
              "#f0f921"
             ]
            ],
            "type": "heatmapgl"
           }
          ],
          "histogram": [
           {
            "marker": {
             "pattern": {
              "fillmode": "overlay",
              "size": 10,
              "solidity": 0.2
             }
            },
            "type": "histogram"
           }
          ],
          "histogram2d": [
           {
            "colorbar": {
             "outlinewidth": 0,
             "ticks": ""
            },
            "colorscale": [
             [
              0,
              "#0d0887"
             ],
             [
              0.1111111111111111,
              "#46039f"
             ],
             [
              0.2222222222222222,
              "#7201a8"
             ],
             [
              0.3333333333333333,
              "#9c179e"
             ],
             [
              0.4444444444444444,
              "#bd3786"
             ],
             [
              0.5555555555555556,
              "#d8576b"
             ],
             [
              0.6666666666666666,
              "#ed7953"
             ],
             [
              0.7777777777777778,
              "#fb9f3a"
             ],
             [
              0.8888888888888888,
              "#fdca26"
             ],
             [
              1,
              "#f0f921"
             ]
            ],
            "type": "histogram2d"
           }
          ],
          "histogram2dcontour": [
           {
            "colorbar": {
             "outlinewidth": 0,
             "ticks": ""
            },
            "colorscale": [
             [
              0,
              "#0d0887"
             ],
             [
              0.1111111111111111,
              "#46039f"
             ],
             [
              0.2222222222222222,
              "#7201a8"
             ],
             [
              0.3333333333333333,
              "#9c179e"
             ],
             [
              0.4444444444444444,
              "#bd3786"
             ],
             [
              0.5555555555555556,
              "#d8576b"
             ],
             [
              0.6666666666666666,
              "#ed7953"
             ],
             [
              0.7777777777777778,
              "#fb9f3a"
             ],
             [
              0.8888888888888888,
              "#fdca26"
             ],
             [
              1,
              "#f0f921"
             ]
            ],
            "type": "histogram2dcontour"
           }
          ],
          "mesh3d": [
           {
            "colorbar": {
             "outlinewidth": 0,
             "ticks": ""
            },
            "type": "mesh3d"
           }
          ],
          "parcoords": [
           {
            "line": {
             "colorbar": {
              "outlinewidth": 0,
              "ticks": ""
             }
            },
            "type": "parcoords"
           }
          ],
          "pie": [
           {
            "automargin": true,
            "type": "pie"
           }
          ],
          "scatter": [
           {
            "fillpattern": {
             "fillmode": "overlay",
             "size": 10,
             "solidity": 0.2
            },
            "type": "scatter"
           }
          ],
          "scatter3d": [
           {
            "line": {
             "colorbar": {
              "outlinewidth": 0,
              "ticks": ""
             }
            },
            "marker": {
             "colorbar": {
              "outlinewidth": 0,
              "ticks": ""
             }
            },
            "type": "scatter3d"
           }
          ],
          "scattercarpet": [
           {
            "marker": {
             "colorbar": {
              "outlinewidth": 0,
              "ticks": ""
             }
            },
            "type": "scattercarpet"
           }
          ],
          "scattergeo": [
           {
            "marker": {
             "colorbar": {
              "outlinewidth": 0,
              "ticks": ""
             }
            },
            "type": "scattergeo"
           }
          ],
          "scattergl": [
           {
            "marker": {
             "colorbar": {
              "outlinewidth": 0,
              "ticks": ""
             }
            },
            "type": "scattergl"
           }
          ],
          "scattermapbox": [
           {
            "marker": {
             "colorbar": {
              "outlinewidth": 0,
              "ticks": ""
             }
            },
            "type": "scattermapbox"
           }
          ],
          "scatterpolar": [
           {
            "marker": {
             "colorbar": {
              "outlinewidth": 0,
              "ticks": ""
             }
            },
            "type": "scatterpolar"
           }
          ],
          "scatterpolargl": [
           {
            "marker": {
             "colorbar": {
              "outlinewidth": 0,
              "ticks": ""
             }
            },
            "type": "scatterpolargl"
           }
          ],
          "scatterternary": [
           {
            "marker": {
             "colorbar": {
              "outlinewidth": 0,
              "ticks": ""
             }
            },
            "type": "scatterternary"
           }
          ],
          "surface": [
           {
            "colorbar": {
             "outlinewidth": 0,
             "ticks": ""
            },
            "colorscale": [
             [
              0,
              "#0d0887"
             ],
             [
              0.1111111111111111,
              "#46039f"
             ],
             [
              0.2222222222222222,
              "#7201a8"
             ],
             [
              0.3333333333333333,
              "#9c179e"
             ],
             [
              0.4444444444444444,
              "#bd3786"
             ],
             [
              0.5555555555555556,
              "#d8576b"
             ],
             [
              0.6666666666666666,
              "#ed7953"
             ],
             [
              0.7777777777777778,
              "#fb9f3a"
             ],
             [
              0.8888888888888888,
              "#fdca26"
             ],
             [
              1,
              "#f0f921"
             ]
            ],
            "type": "surface"
           }
          ],
          "table": [
           {
            "cells": {
             "fill": {
              "color": "#EBF0F8"
             },
             "line": {
              "color": "white"
             }
            },
            "header": {
             "fill": {
              "color": "#C8D4E3"
             },
             "line": {
              "color": "white"
             }
            },
            "type": "table"
           }
          ]
         },
         "layout": {
          "annotationdefaults": {
           "arrowcolor": "#2a3f5f",
           "arrowhead": 0,
           "arrowwidth": 1
          },
          "autotypenumbers": "strict",
          "coloraxis": {
           "colorbar": {
            "outlinewidth": 0,
            "ticks": ""
           }
          },
          "colorscale": {
           "diverging": [
            [
             0,
             "#8e0152"
            ],
            [
             0.1,
             "#c51b7d"
            ],
            [
             0.2,
             "#de77ae"
            ],
            [
             0.3,
             "#f1b6da"
            ],
            [
             0.4,
             "#fde0ef"
            ],
            [
             0.5,
             "#f7f7f7"
            ],
            [
             0.6,
             "#e6f5d0"
            ],
            [
             0.7,
             "#b8e186"
            ],
            [
             0.8,
             "#7fbc41"
            ],
            [
             0.9,
             "#4d9221"
            ],
            [
             1,
             "#276419"
            ]
           ],
           "sequential": [
            [
             0,
             "#0d0887"
            ],
            [
             0.1111111111111111,
             "#46039f"
            ],
            [
             0.2222222222222222,
             "#7201a8"
            ],
            [
             0.3333333333333333,
             "#9c179e"
            ],
            [
             0.4444444444444444,
             "#bd3786"
            ],
            [
             0.5555555555555556,
             "#d8576b"
            ],
            [
             0.6666666666666666,
             "#ed7953"
            ],
            [
             0.7777777777777778,
             "#fb9f3a"
            ],
            [
             0.8888888888888888,
             "#fdca26"
            ],
            [
             1,
             "#f0f921"
            ]
           ],
           "sequentialminus": [
            [
             0,
             "#0d0887"
            ],
            [
             0.1111111111111111,
             "#46039f"
            ],
            [
             0.2222222222222222,
             "#7201a8"
            ],
            [
             0.3333333333333333,
             "#9c179e"
            ],
            [
             0.4444444444444444,
             "#bd3786"
            ],
            [
             0.5555555555555556,
             "#d8576b"
            ],
            [
             0.6666666666666666,
             "#ed7953"
            ],
            [
             0.7777777777777778,
             "#fb9f3a"
            ],
            [
             0.8888888888888888,
             "#fdca26"
            ],
            [
             1,
             "#f0f921"
            ]
           ]
          },
          "colorway": [
           "#636efa",
           "#EF553B",
           "#00cc96",
           "#ab63fa",
           "#FFA15A",
           "#19d3f3",
           "#FF6692",
           "#B6E880",
           "#FF97FF",
           "#FECB52"
          ],
          "font": {
           "color": "#2a3f5f"
          },
          "geo": {
           "bgcolor": "white",
           "lakecolor": "white",
           "landcolor": "#E5ECF6",
           "showlakes": true,
           "showland": true,
           "subunitcolor": "white"
          },
          "hoverlabel": {
           "align": "left"
          },
          "hovermode": "closest",
          "mapbox": {
           "style": "light"
          },
          "paper_bgcolor": "white",
          "plot_bgcolor": "#E5ECF6",
          "polar": {
           "angularaxis": {
            "gridcolor": "white",
            "linecolor": "white",
            "ticks": ""
           },
           "bgcolor": "#E5ECF6",
           "radialaxis": {
            "gridcolor": "white",
            "linecolor": "white",
            "ticks": ""
           }
          },
          "scene": {
           "xaxis": {
            "backgroundcolor": "#E5ECF6",
            "gridcolor": "white",
            "gridwidth": 2,
            "linecolor": "white",
            "showbackground": true,
            "ticks": "",
            "zerolinecolor": "white"
           },
           "yaxis": {
            "backgroundcolor": "#E5ECF6",
            "gridcolor": "white",
            "gridwidth": 2,
            "linecolor": "white",
            "showbackground": true,
            "ticks": "",
            "zerolinecolor": "white"
           },
           "zaxis": {
            "backgroundcolor": "#E5ECF6",
            "gridcolor": "white",
            "gridwidth": 2,
            "linecolor": "white",
            "showbackground": true,
            "ticks": "",
            "zerolinecolor": "white"
           }
          },
          "shapedefaults": {
           "line": {
            "color": "#2a3f5f"
           }
          },
          "ternary": {
           "aaxis": {
            "gridcolor": "white",
            "linecolor": "white",
            "ticks": ""
           },
           "baxis": {
            "gridcolor": "white",
            "linecolor": "white",
            "ticks": ""
           },
           "bgcolor": "#E5ECF6",
           "caxis": {
            "gridcolor": "white",
            "linecolor": "white",
            "ticks": ""
           }
          },
          "title": {
           "x": 0.05
          },
          "xaxis": {
           "automargin": true,
           "gridcolor": "white",
           "linecolor": "white",
           "ticks": "",
           "title": {
            "standoff": 15
           },
           "zerolinecolor": "white",
           "zerolinewidth": 2
          },
          "yaxis": {
           "automargin": true,
           "gridcolor": "white",
           "linecolor": "white",
           "ticks": "",
           "title": {
            "standoff": 15
           },
           "zerolinecolor": "white",
           "zerolinewidth": 2
          }
         }
        },
        "title": {
         "text": "Distribución de la cantidad de reseñas por quienes tienen Twitter y quienes no:"
        },
        "xaxis": {
         "anchor": "y",
         "categoryarray": [
          "Sin Twitter",
          "Con Twitter"
         ],
         "categoryorder": "array",
         "domain": [
          0,
          1
         ],
         "title": {
          "text": "Clasificación"
         }
        },
        "yaxis": {
         "anchor": "x",
         "domain": [
          0,
          1
         ],
         "title": {
          "text": "Cantidad de reseñas"
         }
        }
       }
      }
     },
     "metadata": {},
     "output_type": "display_data"
    }
   ],
   "source": [
    "df['clasif_fb'] = df['fb'].apply(lambda x: 'Con Facebook' if pd.notna(x) or x == '' else 'Sin Facebook')\n",
    "df['clasif_ig'] = df['ig'].apply(lambda x: 'Con Instagram' if pd.notna(x) or x == '' else 'Sin Instagram')\n",
    "df['clasif_tw'] = df['tw'].apply(lambda x: 'Con Twitter' if pd.notna(x) or x == '' else 'Sin Twitter')\n",
    "\n",
    "clasif_fb = px.box(\n",
    "    df,\n",
    "    x='clasif_fb',\n",
    "    y='reviews',\n",
    "    title='Distribución de la cantidad de reseñas por quienes tienen Facebook y quienes no:',\n",
    "    labels={'clasif_fb': 'Clasificación', 'reviews': 'Cantidad de reseñas'},\n",
    "    color='clasif_fb'\n",
    ")\n",
    "\n",
    "clasif_ig = px.box(\n",
    "    df, \n",
    "    x='clasif_ig', \n",
    "    y='reviews',\n",
    "    labels={'clasif_ig': 'Clasificación', 'reviews': 'Cantidad de reseñas'},\n",
    "    title='Distribución de la cantidad de reseñas por quienes tienen Instagram y quienes no:',\n",
    "    color='clasif_ig'\n",
    ")\n",
    "\n",
    "clasif_tw = px.box(\n",
    "    df, \n",
    "    x='clasif_tw',\n",
    "    y='reviews', \n",
    "    labels={'clasif_tw': 'Clasificación', 'reviews': 'Cantidad de reseñas'},\n",
    "    title='Distribución de la cantidad de reseñas por quienes tienen Twitter y quienes no:',\n",
    "    color='clasif_tw'\n",
    ")\n",
    "\n",
    "clasif_fb.show()\n",
    "clasif_ig.show()\n",
    "clasif_tw.show()"
   ]
  },
  {
   "cell_type": "markdown",
   "id": "eda7b9bc",
   "metadata": {},
   "source": [
    "Ahora vemos que no parece haber una diferencia clara, temo que pueda ser falta de informacion consistente de la **cantidad de reseñas**, generalmente extraida de paginas webs o sus propias redes, evaluación no concluyente.\n",
    "\n",
    "---"
   ]
  },
  {
   "cell_type": "markdown",
   "id": "7e563456",
   "metadata": {},
   "source": [
    "---\n",
    "\n",
    "Ahora observemos que ocurre con los ***tipos de reservas*** que se pueden hacer, cabe señalar que la opción de ***reserva en persona*** no la incluiremos ya que todos los locales admiten reserva local por obvias razones. "
   ]
  },
  {
   "cell_type": "code",
   "execution_count": null,
   "id": "1734a335",
   "metadata": {},
   "outputs": [
    {
     "data": {
      "application/vnd.plotly.v1+json": {
       "config": {
        "plotlyServerURL": "https://plot.ly"
       },
       "data": [
        {
         "alignmentgroup": "True",
         "customdata": [
          [
           17,
           1230
          ],
          [
           32,
           2070
          ],
          [
           36,
           2355
          ]
         ],
         "hovertemplate": "Método de Reserva=%{x}<br>Media de Puntuacion=%{y}<br>reservation_counts=%{customdata[0]}<br>Cantidad de Puntuacion=%{customdata[1]}<extra></extra>",
         "legendgroup": "",
         "marker": {
          "color": "#636efa",
          "pattern": {
           "shape": ""
          }
         },
         "name": "",
         "offsetgroup": "",
         "orientation": "v",
         "showlegend": false,
         "textposition": "auto",
         "type": "bar",
         "x": [
          "Online",
          "Teléfono",
          "Otros"
         ],
         "xaxis": "x",
         "y": [
          4.476470588235294,
          4.459375,
          4.377777777777777
         ],
         "yaxis": "y"
        }
       ],
       "layout": {
        "barmode": "relative",
        "height": 350,
        "legend": {
         "tracegroupgap": 0
        },
        "template": {
         "data": {
          "bar": [
           {
            "error_x": {
             "color": "#2a3f5f"
            },
            "error_y": {
             "color": "#2a3f5f"
            },
            "marker": {
             "line": {
              "color": "#E5ECF6",
              "width": 0.5
             },
             "pattern": {
              "fillmode": "overlay",
              "size": 10,
              "solidity": 0.2
             }
            },
            "type": "bar"
           }
          ],
          "barpolar": [
           {
            "marker": {
             "line": {
              "color": "#E5ECF6",
              "width": 0.5
             },
             "pattern": {
              "fillmode": "overlay",
              "size": 10,
              "solidity": 0.2
             }
            },
            "type": "barpolar"
           }
          ],
          "carpet": [
           {
            "aaxis": {
             "endlinecolor": "#2a3f5f",
             "gridcolor": "white",
             "linecolor": "white",
             "minorgridcolor": "white",
             "startlinecolor": "#2a3f5f"
            },
            "baxis": {
             "endlinecolor": "#2a3f5f",
             "gridcolor": "white",
             "linecolor": "white",
             "minorgridcolor": "white",
             "startlinecolor": "#2a3f5f"
            },
            "type": "carpet"
           }
          ],
          "choropleth": [
           {
            "colorbar": {
             "outlinewidth": 0,
             "ticks": ""
            },
            "type": "choropleth"
           }
          ],
          "contour": [
           {
            "colorbar": {
             "outlinewidth": 0,
             "ticks": ""
            },
            "colorscale": [
             [
              0,
              "#0d0887"
             ],
             [
              0.1111111111111111,
              "#46039f"
             ],
             [
              0.2222222222222222,
              "#7201a8"
             ],
             [
              0.3333333333333333,
              "#9c179e"
             ],
             [
              0.4444444444444444,
              "#bd3786"
             ],
             [
              0.5555555555555556,
              "#d8576b"
             ],
             [
              0.6666666666666666,
              "#ed7953"
             ],
             [
              0.7777777777777778,
              "#fb9f3a"
             ],
             [
              0.8888888888888888,
              "#fdca26"
             ],
             [
              1,
              "#f0f921"
             ]
            ],
            "type": "contour"
           }
          ],
          "contourcarpet": [
           {
            "colorbar": {
             "outlinewidth": 0,
             "ticks": ""
            },
            "type": "contourcarpet"
           }
          ],
          "heatmap": [
           {
            "colorbar": {
             "outlinewidth": 0,
             "ticks": ""
            },
            "colorscale": [
             [
              0,
              "#0d0887"
             ],
             [
              0.1111111111111111,
              "#46039f"
             ],
             [
              0.2222222222222222,
              "#7201a8"
             ],
             [
              0.3333333333333333,
              "#9c179e"
             ],
             [
              0.4444444444444444,
              "#bd3786"
             ],
             [
              0.5555555555555556,
              "#d8576b"
             ],
             [
              0.6666666666666666,
              "#ed7953"
             ],
             [
              0.7777777777777778,
              "#fb9f3a"
             ],
             [
              0.8888888888888888,
              "#fdca26"
             ],
             [
              1,
              "#f0f921"
             ]
            ],
            "type": "heatmap"
           }
          ],
          "heatmapgl": [
           {
            "colorbar": {
             "outlinewidth": 0,
             "ticks": ""
            },
            "colorscale": [
             [
              0,
              "#0d0887"
             ],
             [
              0.1111111111111111,
              "#46039f"
             ],
             [
              0.2222222222222222,
              "#7201a8"
             ],
             [
              0.3333333333333333,
              "#9c179e"
             ],
             [
              0.4444444444444444,
              "#bd3786"
             ],
             [
              0.5555555555555556,
              "#d8576b"
             ],
             [
              0.6666666666666666,
              "#ed7953"
             ],
             [
              0.7777777777777778,
              "#fb9f3a"
             ],
             [
              0.8888888888888888,
              "#fdca26"
             ],
             [
              1,
              "#f0f921"
             ]
            ],
            "type": "heatmapgl"
           }
          ],
          "histogram": [
           {
            "marker": {
             "pattern": {
              "fillmode": "overlay",
              "size": 10,
              "solidity": 0.2
             }
            },
            "type": "histogram"
           }
          ],
          "histogram2d": [
           {
            "colorbar": {
             "outlinewidth": 0,
             "ticks": ""
            },
            "colorscale": [
             [
              0,
              "#0d0887"
             ],
             [
              0.1111111111111111,
              "#46039f"
             ],
             [
              0.2222222222222222,
              "#7201a8"
             ],
             [
              0.3333333333333333,
              "#9c179e"
             ],
             [
              0.4444444444444444,
              "#bd3786"
             ],
             [
              0.5555555555555556,
              "#d8576b"
             ],
             [
              0.6666666666666666,
              "#ed7953"
             ],
             [
              0.7777777777777778,
              "#fb9f3a"
             ],
             [
              0.8888888888888888,
              "#fdca26"
             ],
             [
              1,
              "#f0f921"
             ]
            ],
            "type": "histogram2d"
           }
          ],
          "histogram2dcontour": [
           {
            "colorbar": {
             "outlinewidth": 0,
             "ticks": ""
            },
            "colorscale": [
             [
              0,
              "#0d0887"
             ],
             [
              0.1111111111111111,
              "#46039f"
             ],
             [
              0.2222222222222222,
              "#7201a8"
             ],
             [
              0.3333333333333333,
              "#9c179e"
             ],
             [
              0.4444444444444444,
              "#bd3786"
             ],
             [
              0.5555555555555556,
              "#d8576b"
             ],
             [
              0.6666666666666666,
              "#ed7953"
             ],
             [
              0.7777777777777778,
              "#fb9f3a"
             ],
             [
              0.8888888888888888,
              "#fdca26"
             ],
             [
              1,
              "#f0f921"
             ]
            ],
            "type": "histogram2dcontour"
           }
          ],
          "mesh3d": [
           {
            "colorbar": {
             "outlinewidth": 0,
             "ticks": ""
            },
            "type": "mesh3d"
           }
          ],
          "parcoords": [
           {
            "line": {
             "colorbar": {
              "outlinewidth": 0,
              "ticks": ""
             }
            },
            "type": "parcoords"
           }
          ],
          "pie": [
           {
            "automargin": true,
            "type": "pie"
           }
          ],
          "scatter": [
           {
            "fillpattern": {
             "fillmode": "overlay",
             "size": 10,
             "solidity": 0.2
            },
            "type": "scatter"
           }
          ],
          "scatter3d": [
           {
            "line": {
             "colorbar": {
              "outlinewidth": 0,
              "ticks": ""
             }
            },
            "marker": {
             "colorbar": {
              "outlinewidth": 0,
              "ticks": ""
             }
            },
            "type": "scatter3d"
           }
          ],
          "scattercarpet": [
           {
            "marker": {
             "colorbar": {
              "outlinewidth": 0,
              "ticks": ""
             }
            },
            "type": "scattercarpet"
           }
          ],
          "scattergeo": [
           {
            "marker": {
             "colorbar": {
              "outlinewidth": 0,
              "ticks": ""
             }
            },
            "type": "scattergeo"
           }
          ],
          "scattergl": [
           {
            "marker": {
             "colorbar": {
              "outlinewidth": 0,
              "ticks": ""
             }
            },
            "type": "scattergl"
           }
          ],
          "scattermapbox": [
           {
            "marker": {
             "colorbar": {
              "outlinewidth": 0,
              "ticks": ""
             }
            },
            "type": "scattermapbox"
           }
          ],
          "scatterpolar": [
           {
            "marker": {
             "colorbar": {
              "outlinewidth": 0,
              "ticks": ""
             }
            },
            "type": "scatterpolar"
           }
          ],
          "scatterpolargl": [
           {
            "marker": {
             "colorbar": {
              "outlinewidth": 0,
              "ticks": ""
             }
            },
            "type": "scatterpolargl"
           }
          ],
          "scatterternary": [
           {
            "marker": {
             "colorbar": {
              "outlinewidth": 0,
              "ticks": ""
             }
            },
            "type": "scatterternary"
           }
          ],
          "surface": [
           {
            "colorbar": {
             "outlinewidth": 0,
             "ticks": ""
            },
            "colorscale": [
             [
              0,
              "#0d0887"
             ],
             [
              0.1111111111111111,
              "#46039f"
             ],
             [
              0.2222222222222222,
              "#7201a8"
             ],
             [
              0.3333333333333333,
              "#9c179e"
             ],
             [
              0.4444444444444444,
              "#bd3786"
             ],
             [
              0.5555555555555556,
              "#d8576b"
             ],
             [
              0.6666666666666666,
              "#ed7953"
             ],
             [
              0.7777777777777778,
              "#fb9f3a"
             ],
             [
              0.8888888888888888,
              "#fdca26"
             ],
             [
              1,
              "#f0f921"
             ]
            ],
            "type": "surface"
           }
          ],
          "table": [
           {
            "cells": {
             "fill": {
              "color": "#EBF0F8"
             },
             "line": {
              "color": "white"
             }
            },
            "header": {
             "fill": {
              "color": "#C8D4E3"
             },
             "line": {
              "color": "white"
             }
            },
            "type": "table"
           }
          ]
         },
         "layout": {
          "annotationdefaults": {
           "arrowcolor": "#2a3f5f",
           "arrowhead": 0,
           "arrowwidth": 1
          },
          "autotypenumbers": "strict",
          "coloraxis": {
           "colorbar": {
            "outlinewidth": 0,
            "ticks": ""
           }
          },
          "colorscale": {
           "diverging": [
            [
             0,
             "#8e0152"
            ],
            [
             0.1,
             "#c51b7d"
            ],
            [
             0.2,
             "#de77ae"
            ],
            [
             0.3,
             "#f1b6da"
            ],
            [
             0.4,
             "#fde0ef"
            ],
            [
             0.5,
             "#f7f7f7"
            ],
            [
             0.6,
             "#e6f5d0"
            ],
            [
             0.7,
             "#b8e186"
            ],
            [
             0.8,
             "#7fbc41"
            ],
            [
             0.9,
             "#4d9221"
            ],
            [
             1,
             "#276419"
            ]
           ],
           "sequential": [
            [
             0,
             "#0d0887"
            ],
            [
             0.1111111111111111,
             "#46039f"
            ],
            [
             0.2222222222222222,
             "#7201a8"
            ],
            [
             0.3333333333333333,
             "#9c179e"
            ],
            [
             0.4444444444444444,
             "#bd3786"
            ],
            [
             0.5555555555555556,
             "#d8576b"
            ],
            [
             0.6666666666666666,
             "#ed7953"
            ],
            [
             0.7777777777777778,
             "#fb9f3a"
            ],
            [
             0.8888888888888888,
             "#fdca26"
            ],
            [
             1,
             "#f0f921"
            ]
           ],
           "sequentialminus": [
            [
             0,
             "#0d0887"
            ],
            [
             0.1111111111111111,
             "#46039f"
            ],
            [
             0.2222222222222222,
             "#7201a8"
            ],
            [
             0.3333333333333333,
             "#9c179e"
            ],
            [
             0.4444444444444444,
             "#bd3786"
            ],
            [
             0.5555555555555556,
             "#d8576b"
            ],
            [
             0.6666666666666666,
             "#ed7953"
            ],
            [
             0.7777777777777778,
             "#fb9f3a"
            ],
            [
             0.8888888888888888,
             "#fdca26"
            ],
            [
             1,
             "#f0f921"
            ]
           ]
          },
          "colorway": [
           "#636efa",
           "#EF553B",
           "#00cc96",
           "#ab63fa",
           "#FFA15A",
           "#19d3f3",
           "#FF6692",
           "#B6E880",
           "#FF97FF",
           "#FECB52"
          ],
          "font": {
           "color": "#2a3f5f"
          },
          "geo": {
           "bgcolor": "white",
           "lakecolor": "white",
           "landcolor": "#E5ECF6",
           "showlakes": true,
           "showland": true,
           "subunitcolor": "white"
          },
          "hoverlabel": {
           "align": "left"
          },
          "hovermode": "closest",
          "mapbox": {
           "style": "light"
          },
          "paper_bgcolor": "white",
          "plot_bgcolor": "#E5ECF6",
          "polar": {
           "angularaxis": {
            "gridcolor": "white",
            "linecolor": "white",
            "ticks": ""
           },
           "bgcolor": "#E5ECF6",
           "radialaxis": {
            "gridcolor": "white",
            "linecolor": "white",
            "ticks": ""
           }
          },
          "scene": {
           "xaxis": {
            "backgroundcolor": "#E5ECF6",
            "gridcolor": "white",
            "gridwidth": 2,
            "linecolor": "white",
            "showbackground": true,
            "ticks": "",
            "zerolinecolor": "white"
           },
           "yaxis": {
            "backgroundcolor": "#E5ECF6",
            "gridcolor": "white",
            "gridwidth": 2,
            "linecolor": "white",
            "showbackground": true,
            "ticks": "",
            "zerolinecolor": "white"
           },
           "zaxis": {
            "backgroundcolor": "#E5ECF6",
            "gridcolor": "white",
            "gridwidth": 2,
            "linecolor": "white",
            "showbackground": true,
            "ticks": "",
            "zerolinecolor": "white"
           }
          },
          "shapedefaults": {
           "line": {
            "color": "#2a3f5f"
           }
          },
          "ternary": {
           "aaxis": {
            "gridcolor": "white",
            "linecolor": "white",
            "ticks": ""
           },
           "baxis": {
            "gridcolor": "white",
            "linecolor": "white",
            "ticks": ""
           },
           "bgcolor": "#E5ECF6",
           "caxis": {
            "gridcolor": "white",
            "linecolor": "white",
            "ticks": ""
           }
          },
          "title": {
           "x": 0.05
          },
          "xaxis": {
           "automargin": true,
           "gridcolor": "white",
           "linecolor": "white",
           "ticks": "",
           "title": {
            "standoff": 15
           },
           "zerolinecolor": "white",
           "zerolinewidth": 2
          },
          "yaxis": {
           "automargin": true,
           "gridcolor": "white",
           "linecolor": "white",
           "ticks": "",
           "title": {
            "standoff": 15
           },
           "zerolinecolor": "white",
           "zerolinewidth": 2
          }
         }
        },
        "title": {
         "text": "Media de puntuacion por Método de Reserva"
        },
        "xaxis": {
         "anchor": "y",
         "domain": [
          0,
          1
         ],
         "title": {
          "text": "Método de Reserva"
         }
        },
        "yaxis": {
         "anchor": "x",
         "domain": [
          0,
          1
         ],
         "title": {
          "text": "Media de Puntuacion"
         }
        }
       }
      }
     },
     "metadata": {},
     "output_type": "display_data"
    },
    {
     "data": {
      "application/vnd.plotly.v1+json": {
       "config": {
        "plotlyServerURL": "https://plot.ly"
       },
       "data": [
        {
         "alignmentgroup": "True",
         "customdata": [
          [
           17,
           4.476470588235294
          ],
          [
           32,
           4.459375
          ],
          [
           36,
           4.377777777777777
          ]
         ],
         "hovertemplate": "Método de Reserva=%{x}<br>Cantidad de Puntuacion=%{y}<br>reservation_counts=%{customdata[0]}<br>Media de Puntuacion=%{customdata[1]}<extra></extra>",
         "legendgroup": "",
         "marker": {
          "color": "#636efa",
          "pattern": {
           "shape": ""
          }
         },
         "name": "",
         "offsetgroup": "",
         "orientation": "v",
         "showlegend": false,
         "textposition": "auto",
         "type": "bar",
         "x": [
          "Online",
          "Teléfono",
          "Otros"
         ],
         "xaxis": "x",
         "y": [
          1230,
          2070,
          2355
         ],
         "yaxis": "y"
        }
       ],
       "layout": {
        "barmode": "relative",
        "height": 350,
        "legend": {
         "tracegroupgap": 0
        },
        "template": {
         "data": {
          "bar": [
           {
            "error_x": {
             "color": "#2a3f5f"
            },
            "error_y": {
             "color": "#2a3f5f"
            },
            "marker": {
             "line": {
              "color": "#E5ECF6",
              "width": 0.5
             },
             "pattern": {
              "fillmode": "overlay",
              "size": 10,
              "solidity": 0.2
             }
            },
            "type": "bar"
           }
          ],
          "barpolar": [
           {
            "marker": {
             "line": {
              "color": "#E5ECF6",
              "width": 0.5
             },
             "pattern": {
              "fillmode": "overlay",
              "size": 10,
              "solidity": 0.2
             }
            },
            "type": "barpolar"
           }
          ],
          "carpet": [
           {
            "aaxis": {
             "endlinecolor": "#2a3f5f",
             "gridcolor": "white",
             "linecolor": "white",
             "minorgridcolor": "white",
             "startlinecolor": "#2a3f5f"
            },
            "baxis": {
             "endlinecolor": "#2a3f5f",
             "gridcolor": "white",
             "linecolor": "white",
             "minorgridcolor": "white",
             "startlinecolor": "#2a3f5f"
            },
            "type": "carpet"
           }
          ],
          "choropleth": [
           {
            "colorbar": {
             "outlinewidth": 0,
             "ticks": ""
            },
            "type": "choropleth"
           }
          ],
          "contour": [
           {
            "colorbar": {
             "outlinewidth": 0,
             "ticks": ""
            },
            "colorscale": [
             [
              0,
              "#0d0887"
             ],
             [
              0.1111111111111111,
              "#46039f"
             ],
             [
              0.2222222222222222,
              "#7201a8"
             ],
             [
              0.3333333333333333,
              "#9c179e"
             ],
             [
              0.4444444444444444,
              "#bd3786"
             ],
             [
              0.5555555555555556,
              "#d8576b"
             ],
             [
              0.6666666666666666,
              "#ed7953"
             ],
             [
              0.7777777777777778,
              "#fb9f3a"
             ],
             [
              0.8888888888888888,
              "#fdca26"
             ],
             [
              1,
              "#f0f921"
             ]
            ],
            "type": "contour"
           }
          ],
          "contourcarpet": [
           {
            "colorbar": {
             "outlinewidth": 0,
             "ticks": ""
            },
            "type": "contourcarpet"
           }
          ],
          "heatmap": [
           {
            "colorbar": {
             "outlinewidth": 0,
             "ticks": ""
            },
            "colorscale": [
             [
              0,
              "#0d0887"
             ],
             [
              0.1111111111111111,
              "#46039f"
             ],
             [
              0.2222222222222222,
              "#7201a8"
             ],
             [
              0.3333333333333333,
              "#9c179e"
             ],
             [
              0.4444444444444444,
              "#bd3786"
             ],
             [
              0.5555555555555556,
              "#d8576b"
             ],
             [
              0.6666666666666666,
              "#ed7953"
             ],
             [
              0.7777777777777778,
              "#fb9f3a"
             ],
             [
              0.8888888888888888,
              "#fdca26"
             ],
             [
              1,
              "#f0f921"
             ]
            ],
            "type": "heatmap"
           }
          ],
          "heatmapgl": [
           {
            "colorbar": {
             "outlinewidth": 0,
             "ticks": ""
            },
            "colorscale": [
             [
              0,
              "#0d0887"
             ],
             [
              0.1111111111111111,
              "#46039f"
             ],
             [
              0.2222222222222222,
              "#7201a8"
             ],
             [
              0.3333333333333333,
              "#9c179e"
             ],
             [
              0.4444444444444444,
              "#bd3786"
             ],
             [
              0.5555555555555556,
              "#d8576b"
             ],
             [
              0.6666666666666666,
              "#ed7953"
             ],
             [
              0.7777777777777778,
              "#fb9f3a"
             ],
             [
              0.8888888888888888,
              "#fdca26"
             ],
             [
              1,
              "#f0f921"
             ]
            ],
            "type": "heatmapgl"
           }
          ],
          "histogram": [
           {
            "marker": {
             "pattern": {
              "fillmode": "overlay",
              "size": 10,
              "solidity": 0.2
             }
            },
            "type": "histogram"
           }
          ],
          "histogram2d": [
           {
            "colorbar": {
             "outlinewidth": 0,
             "ticks": ""
            },
            "colorscale": [
             [
              0,
              "#0d0887"
             ],
             [
              0.1111111111111111,
              "#46039f"
             ],
             [
              0.2222222222222222,
              "#7201a8"
             ],
             [
              0.3333333333333333,
              "#9c179e"
             ],
             [
              0.4444444444444444,
              "#bd3786"
             ],
             [
              0.5555555555555556,
              "#d8576b"
             ],
             [
              0.6666666666666666,
              "#ed7953"
             ],
             [
              0.7777777777777778,
              "#fb9f3a"
             ],
             [
              0.8888888888888888,
              "#fdca26"
             ],
             [
              1,
              "#f0f921"
             ]
            ],
            "type": "histogram2d"
           }
          ],
          "histogram2dcontour": [
           {
            "colorbar": {
             "outlinewidth": 0,
             "ticks": ""
            },
            "colorscale": [
             [
              0,
              "#0d0887"
             ],
             [
              0.1111111111111111,
              "#46039f"
             ],
             [
              0.2222222222222222,
              "#7201a8"
             ],
             [
              0.3333333333333333,
              "#9c179e"
             ],
             [
              0.4444444444444444,
              "#bd3786"
             ],
             [
              0.5555555555555556,
              "#d8576b"
             ],
             [
              0.6666666666666666,
              "#ed7953"
             ],
             [
              0.7777777777777778,
              "#fb9f3a"
             ],
             [
              0.8888888888888888,
              "#fdca26"
             ],
             [
              1,
              "#f0f921"
             ]
            ],
            "type": "histogram2dcontour"
           }
          ],
          "mesh3d": [
           {
            "colorbar": {
             "outlinewidth": 0,
             "ticks": ""
            },
            "type": "mesh3d"
           }
          ],
          "parcoords": [
           {
            "line": {
             "colorbar": {
              "outlinewidth": 0,
              "ticks": ""
             }
            },
            "type": "parcoords"
           }
          ],
          "pie": [
           {
            "automargin": true,
            "type": "pie"
           }
          ],
          "scatter": [
           {
            "fillpattern": {
             "fillmode": "overlay",
             "size": 10,
             "solidity": 0.2
            },
            "type": "scatter"
           }
          ],
          "scatter3d": [
           {
            "line": {
             "colorbar": {
              "outlinewidth": 0,
              "ticks": ""
             }
            },
            "marker": {
             "colorbar": {
              "outlinewidth": 0,
              "ticks": ""
             }
            },
            "type": "scatter3d"
           }
          ],
          "scattercarpet": [
           {
            "marker": {
             "colorbar": {
              "outlinewidth": 0,
              "ticks": ""
             }
            },
            "type": "scattercarpet"
           }
          ],
          "scattergeo": [
           {
            "marker": {
             "colorbar": {
              "outlinewidth": 0,
              "ticks": ""
             }
            },
            "type": "scattergeo"
           }
          ],
          "scattergl": [
           {
            "marker": {
             "colorbar": {
              "outlinewidth": 0,
              "ticks": ""
             }
            },
            "type": "scattergl"
           }
          ],
          "scattermapbox": [
           {
            "marker": {
             "colorbar": {
              "outlinewidth": 0,
              "ticks": ""
             }
            },
            "type": "scattermapbox"
           }
          ],
          "scatterpolar": [
           {
            "marker": {
             "colorbar": {
              "outlinewidth": 0,
              "ticks": ""
             }
            },
            "type": "scatterpolar"
           }
          ],
          "scatterpolargl": [
           {
            "marker": {
             "colorbar": {
              "outlinewidth": 0,
              "ticks": ""
             }
            },
            "type": "scatterpolargl"
           }
          ],
          "scatterternary": [
           {
            "marker": {
             "colorbar": {
              "outlinewidth": 0,
              "ticks": ""
             }
            },
            "type": "scatterternary"
           }
          ],
          "surface": [
           {
            "colorbar": {
             "outlinewidth": 0,
             "ticks": ""
            },
            "colorscale": [
             [
              0,
              "#0d0887"
             ],
             [
              0.1111111111111111,
              "#46039f"
             ],
             [
              0.2222222222222222,
              "#7201a8"
             ],
             [
              0.3333333333333333,
              "#9c179e"
             ],
             [
              0.4444444444444444,
              "#bd3786"
             ],
             [
              0.5555555555555556,
              "#d8576b"
             ],
             [
              0.6666666666666666,
              "#ed7953"
             ],
             [
              0.7777777777777778,
              "#fb9f3a"
             ],
             [
              0.8888888888888888,
              "#fdca26"
             ],
             [
              1,
              "#f0f921"
             ]
            ],
            "type": "surface"
           }
          ],
          "table": [
           {
            "cells": {
             "fill": {
              "color": "#EBF0F8"
             },
             "line": {
              "color": "white"
             }
            },
            "header": {
             "fill": {
              "color": "#C8D4E3"
             },
             "line": {
              "color": "white"
             }
            },
            "type": "table"
           }
          ]
         },
         "layout": {
          "annotationdefaults": {
           "arrowcolor": "#2a3f5f",
           "arrowhead": 0,
           "arrowwidth": 1
          },
          "autotypenumbers": "strict",
          "coloraxis": {
           "colorbar": {
            "outlinewidth": 0,
            "ticks": ""
           }
          },
          "colorscale": {
           "diverging": [
            [
             0,
             "#8e0152"
            ],
            [
             0.1,
             "#c51b7d"
            ],
            [
             0.2,
             "#de77ae"
            ],
            [
             0.3,
             "#f1b6da"
            ],
            [
             0.4,
             "#fde0ef"
            ],
            [
             0.5,
             "#f7f7f7"
            ],
            [
             0.6,
             "#e6f5d0"
            ],
            [
             0.7,
             "#b8e186"
            ],
            [
             0.8,
             "#7fbc41"
            ],
            [
             0.9,
             "#4d9221"
            ],
            [
             1,
             "#276419"
            ]
           ],
           "sequential": [
            [
             0,
             "#0d0887"
            ],
            [
             0.1111111111111111,
             "#46039f"
            ],
            [
             0.2222222222222222,
             "#7201a8"
            ],
            [
             0.3333333333333333,
             "#9c179e"
            ],
            [
             0.4444444444444444,
             "#bd3786"
            ],
            [
             0.5555555555555556,
             "#d8576b"
            ],
            [
             0.6666666666666666,
             "#ed7953"
            ],
            [
             0.7777777777777778,
             "#fb9f3a"
            ],
            [
             0.8888888888888888,
             "#fdca26"
            ],
            [
             1,
             "#f0f921"
            ]
           ],
           "sequentialminus": [
            [
             0,
             "#0d0887"
            ],
            [
             0.1111111111111111,
             "#46039f"
            ],
            [
             0.2222222222222222,
             "#7201a8"
            ],
            [
             0.3333333333333333,
             "#9c179e"
            ],
            [
             0.4444444444444444,
             "#bd3786"
            ],
            [
             0.5555555555555556,
             "#d8576b"
            ],
            [
             0.6666666666666666,
             "#ed7953"
            ],
            [
             0.7777777777777778,
             "#fb9f3a"
            ],
            [
             0.8888888888888888,
             "#fdca26"
            ],
            [
             1,
             "#f0f921"
            ]
           ]
          },
          "colorway": [
           "#636efa",
           "#EF553B",
           "#00cc96",
           "#ab63fa",
           "#FFA15A",
           "#19d3f3",
           "#FF6692",
           "#B6E880",
           "#FF97FF",
           "#FECB52"
          ],
          "font": {
           "color": "#2a3f5f"
          },
          "geo": {
           "bgcolor": "white",
           "lakecolor": "white",
           "landcolor": "#E5ECF6",
           "showlakes": true,
           "showland": true,
           "subunitcolor": "white"
          },
          "hoverlabel": {
           "align": "left"
          },
          "hovermode": "closest",
          "mapbox": {
           "style": "light"
          },
          "paper_bgcolor": "white",
          "plot_bgcolor": "#E5ECF6",
          "polar": {
           "angularaxis": {
            "gridcolor": "white",
            "linecolor": "white",
            "ticks": ""
           },
           "bgcolor": "#E5ECF6",
           "radialaxis": {
            "gridcolor": "white",
            "linecolor": "white",
            "ticks": ""
           }
          },
          "scene": {
           "xaxis": {
            "backgroundcolor": "#E5ECF6",
            "gridcolor": "white",
            "gridwidth": 2,
            "linecolor": "white",
            "showbackground": true,
            "ticks": "",
            "zerolinecolor": "white"
           },
           "yaxis": {
            "backgroundcolor": "#E5ECF6",
            "gridcolor": "white",
            "gridwidth": 2,
            "linecolor": "white",
            "showbackground": true,
            "ticks": "",
            "zerolinecolor": "white"
           },
           "zaxis": {
            "backgroundcolor": "#E5ECF6",
            "gridcolor": "white",
            "gridwidth": 2,
            "linecolor": "white",
            "showbackground": true,
            "ticks": "",
            "zerolinecolor": "white"
           }
          },
          "shapedefaults": {
           "line": {
            "color": "#2a3f5f"
           }
          },
          "ternary": {
           "aaxis": {
            "gridcolor": "white",
            "linecolor": "white",
            "ticks": ""
           },
           "baxis": {
            "gridcolor": "white",
            "linecolor": "white",
            "ticks": ""
           },
           "bgcolor": "#E5ECF6",
           "caxis": {
            "gridcolor": "white",
            "linecolor": "white",
            "ticks": ""
           }
          },
          "title": {
           "x": 0.05
          },
          "xaxis": {
           "automargin": true,
           "gridcolor": "white",
           "linecolor": "white",
           "ticks": "",
           "title": {
            "standoff": 15
           },
           "zerolinecolor": "white",
           "zerolinewidth": 2
          },
          "yaxis": {
           "automargin": true,
           "gridcolor": "white",
           "linecolor": "white",
           "ticks": "",
           "title": {
            "standoff": 15
           },
           "zerolinecolor": "white",
           "zerolinewidth": 2
          }
         }
        },
        "title": {
         "text": "Cantidad de Puntuacion por Método de Reserva"
        },
        "xaxis": {
         "anchor": "y",
         "domain": [
          0,
          1
         ],
         "title": {
          "text": "Método de Reserva"
         }
        },
        "yaxis": {
         "anchor": "x",
         "domain": [
          0,
          1
         ],
         "title": {
          "text": "Cantidad de Puntuacion"
         }
        }
       }
      }
     },
     "metadata": {},
     "output_type": "display_data"
    },
    {
     "data": {
      "application/vnd.plotly.v1+json": {
       "config": {
        "plotlyServerURL": "https://plot.ly"
       },
       "data": [
        {
         "fillpattern": {
          "shape": ""
         },
         "hovertemplate": "Reservacion online=%{x}<br>Puntuacion promedio=%{y}<extra></extra>",
         "legendgroup": "",
         "line": {
          "color": "#636efa"
         },
         "marker": {
          "symbol": "circle"
         },
         "mode": "lines",
         "name": "",
         "orientation": "v",
         "showlegend": false,
         "stackgroup": "1",
         "type": "scatter",
         "x": [
          "online",
          "online",
          "online",
          "online",
          "online",
          "online",
          "online",
          "online",
          "online",
          "online",
          "online",
          "online",
          "online",
          "online",
          "online",
          "online",
          "online"
         ],
         "xaxis": "x",
         "y": [
          4.5,
          4.5,
          4.4,
          4.5,
          4.4,
          4.5,
          4.3,
          4.8,
          4.5,
          4.4,
          4.4,
          4.5,
          4.5,
          4.4,
          4.5,
          4.5,
          4.5
         ],
         "yaxis": "y"
        }
       ],
       "layout": {
        "legend": {
         "tracegroupgap": 0
        },
        "template": {
         "data": {
          "bar": [
           {
            "error_x": {
             "color": "#2a3f5f"
            },
            "error_y": {
             "color": "#2a3f5f"
            },
            "marker": {
             "line": {
              "color": "#E5ECF6",
              "width": 0.5
             },
             "pattern": {
              "fillmode": "overlay",
              "size": 10,
              "solidity": 0.2
             }
            },
            "type": "bar"
           }
          ],
          "barpolar": [
           {
            "marker": {
             "line": {
              "color": "#E5ECF6",
              "width": 0.5
             },
             "pattern": {
              "fillmode": "overlay",
              "size": 10,
              "solidity": 0.2
             }
            },
            "type": "barpolar"
           }
          ],
          "carpet": [
           {
            "aaxis": {
             "endlinecolor": "#2a3f5f",
             "gridcolor": "white",
             "linecolor": "white",
             "minorgridcolor": "white",
             "startlinecolor": "#2a3f5f"
            },
            "baxis": {
             "endlinecolor": "#2a3f5f",
             "gridcolor": "white",
             "linecolor": "white",
             "minorgridcolor": "white",
             "startlinecolor": "#2a3f5f"
            },
            "type": "carpet"
           }
          ],
          "choropleth": [
           {
            "colorbar": {
             "outlinewidth": 0,
             "ticks": ""
            },
            "type": "choropleth"
           }
          ],
          "contour": [
           {
            "colorbar": {
             "outlinewidth": 0,
             "ticks": ""
            },
            "colorscale": [
             [
              0,
              "#0d0887"
             ],
             [
              0.1111111111111111,
              "#46039f"
             ],
             [
              0.2222222222222222,
              "#7201a8"
             ],
             [
              0.3333333333333333,
              "#9c179e"
             ],
             [
              0.4444444444444444,
              "#bd3786"
             ],
             [
              0.5555555555555556,
              "#d8576b"
             ],
             [
              0.6666666666666666,
              "#ed7953"
             ],
             [
              0.7777777777777778,
              "#fb9f3a"
             ],
             [
              0.8888888888888888,
              "#fdca26"
             ],
             [
              1,
              "#f0f921"
             ]
            ],
            "type": "contour"
           }
          ],
          "contourcarpet": [
           {
            "colorbar": {
             "outlinewidth": 0,
             "ticks": ""
            },
            "type": "contourcarpet"
           }
          ],
          "heatmap": [
           {
            "colorbar": {
             "outlinewidth": 0,
             "ticks": ""
            },
            "colorscale": [
             [
              0,
              "#0d0887"
             ],
             [
              0.1111111111111111,
              "#46039f"
             ],
             [
              0.2222222222222222,
              "#7201a8"
             ],
             [
              0.3333333333333333,
              "#9c179e"
             ],
             [
              0.4444444444444444,
              "#bd3786"
             ],
             [
              0.5555555555555556,
              "#d8576b"
             ],
             [
              0.6666666666666666,
              "#ed7953"
             ],
             [
              0.7777777777777778,
              "#fb9f3a"
             ],
             [
              0.8888888888888888,
              "#fdca26"
             ],
             [
              1,
              "#f0f921"
             ]
            ],
            "type": "heatmap"
           }
          ],
          "heatmapgl": [
           {
            "colorbar": {
             "outlinewidth": 0,
             "ticks": ""
            },
            "colorscale": [
             [
              0,
              "#0d0887"
             ],
             [
              0.1111111111111111,
              "#46039f"
             ],
             [
              0.2222222222222222,
              "#7201a8"
             ],
             [
              0.3333333333333333,
              "#9c179e"
             ],
             [
              0.4444444444444444,
              "#bd3786"
             ],
             [
              0.5555555555555556,
              "#d8576b"
             ],
             [
              0.6666666666666666,
              "#ed7953"
             ],
             [
              0.7777777777777778,
              "#fb9f3a"
             ],
             [
              0.8888888888888888,
              "#fdca26"
             ],
             [
              1,
              "#f0f921"
             ]
            ],
            "type": "heatmapgl"
           }
          ],
          "histogram": [
           {
            "marker": {
             "pattern": {
              "fillmode": "overlay",
              "size": 10,
              "solidity": 0.2
             }
            },
            "type": "histogram"
           }
          ],
          "histogram2d": [
           {
            "colorbar": {
             "outlinewidth": 0,
             "ticks": ""
            },
            "colorscale": [
             [
              0,
              "#0d0887"
             ],
             [
              0.1111111111111111,
              "#46039f"
             ],
             [
              0.2222222222222222,
              "#7201a8"
             ],
             [
              0.3333333333333333,
              "#9c179e"
             ],
             [
              0.4444444444444444,
              "#bd3786"
             ],
             [
              0.5555555555555556,
              "#d8576b"
             ],
             [
              0.6666666666666666,
              "#ed7953"
             ],
             [
              0.7777777777777778,
              "#fb9f3a"
             ],
             [
              0.8888888888888888,
              "#fdca26"
             ],
             [
              1,
              "#f0f921"
             ]
            ],
            "type": "histogram2d"
           }
          ],
          "histogram2dcontour": [
           {
            "colorbar": {
             "outlinewidth": 0,
             "ticks": ""
            },
            "colorscale": [
             [
              0,
              "#0d0887"
             ],
             [
              0.1111111111111111,
              "#46039f"
             ],
             [
              0.2222222222222222,
              "#7201a8"
             ],
             [
              0.3333333333333333,
              "#9c179e"
             ],
             [
              0.4444444444444444,
              "#bd3786"
             ],
             [
              0.5555555555555556,
              "#d8576b"
             ],
             [
              0.6666666666666666,
              "#ed7953"
             ],
             [
              0.7777777777777778,
              "#fb9f3a"
             ],
             [
              0.8888888888888888,
              "#fdca26"
             ],
             [
              1,
              "#f0f921"
             ]
            ],
            "type": "histogram2dcontour"
           }
          ],
          "mesh3d": [
           {
            "colorbar": {
             "outlinewidth": 0,
             "ticks": ""
            },
            "type": "mesh3d"
           }
          ],
          "parcoords": [
           {
            "line": {
             "colorbar": {
              "outlinewidth": 0,
              "ticks": ""
             }
            },
            "type": "parcoords"
           }
          ],
          "pie": [
           {
            "automargin": true,
            "type": "pie"
           }
          ],
          "scatter": [
           {
            "fillpattern": {
             "fillmode": "overlay",
             "size": 10,
             "solidity": 0.2
            },
            "type": "scatter"
           }
          ],
          "scatter3d": [
           {
            "line": {
             "colorbar": {
              "outlinewidth": 0,
              "ticks": ""
             }
            },
            "marker": {
             "colorbar": {
              "outlinewidth": 0,
              "ticks": ""
             }
            },
            "type": "scatter3d"
           }
          ],
          "scattercarpet": [
           {
            "marker": {
             "colorbar": {
              "outlinewidth": 0,
              "ticks": ""
             }
            },
            "type": "scattercarpet"
           }
          ],
          "scattergeo": [
           {
            "marker": {
             "colorbar": {
              "outlinewidth": 0,
              "ticks": ""
             }
            },
            "type": "scattergeo"
           }
          ],
          "scattergl": [
           {
            "marker": {
             "colorbar": {
              "outlinewidth": 0,
              "ticks": ""
             }
            },
            "type": "scattergl"
           }
          ],
          "scattermapbox": [
           {
            "marker": {
             "colorbar": {
              "outlinewidth": 0,
              "ticks": ""
             }
            },
            "type": "scattermapbox"
           }
          ],
          "scatterpolar": [
           {
            "marker": {
             "colorbar": {
              "outlinewidth": 0,
              "ticks": ""
             }
            },
            "type": "scatterpolar"
           }
          ],
          "scatterpolargl": [
           {
            "marker": {
             "colorbar": {
              "outlinewidth": 0,
              "ticks": ""
             }
            },
            "type": "scatterpolargl"
           }
          ],
          "scatterternary": [
           {
            "marker": {
             "colorbar": {
              "outlinewidth": 0,
              "ticks": ""
             }
            },
            "type": "scatterternary"
           }
          ],
          "surface": [
           {
            "colorbar": {
             "outlinewidth": 0,
             "ticks": ""
            },
            "colorscale": [
             [
              0,
              "#0d0887"
             ],
             [
              0.1111111111111111,
              "#46039f"
             ],
             [
              0.2222222222222222,
              "#7201a8"
             ],
             [
              0.3333333333333333,
              "#9c179e"
             ],
             [
              0.4444444444444444,
              "#bd3786"
             ],
             [
              0.5555555555555556,
              "#d8576b"
             ],
             [
              0.6666666666666666,
              "#ed7953"
             ],
             [
              0.7777777777777778,
              "#fb9f3a"
             ],
             [
              0.8888888888888888,
              "#fdca26"
             ],
             [
              1,
              "#f0f921"
             ]
            ],
            "type": "surface"
           }
          ],
          "table": [
           {
            "cells": {
             "fill": {
              "color": "#EBF0F8"
             },
             "line": {
              "color": "white"
             }
            },
            "header": {
             "fill": {
              "color": "#C8D4E3"
             },
             "line": {
              "color": "white"
             }
            },
            "type": "table"
           }
          ]
         },
         "layout": {
          "annotationdefaults": {
           "arrowcolor": "#2a3f5f",
           "arrowhead": 0,
           "arrowwidth": 1
          },
          "autotypenumbers": "strict",
          "coloraxis": {
           "colorbar": {
            "outlinewidth": 0,
            "ticks": ""
           }
          },
          "colorscale": {
           "diverging": [
            [
             0,
             "#8e0152"
            ],
            [
             0.1,
             "#c51b7d"
            ],
            [
             0.2,
             "#de77ae"
            ],
            [
             0.3,
             "#f1b6da"
            ],
            [
             0.4,
             "#fde0ef"
            ],
            [
             0.5,
             "#f7f7f7"
            ],
            [
             0.6,
             "#e6f5d0"
            ],
            [
             0.7,
             "#b8e186"
            ],
            [
             0.8,
             "#7fbc41"
            ],
            [
             0.9,
             "#4d9221"
            ],
            [
             1,
             "#276419"
            ]
           ],
           "sequential": [
            [
             0,
             "#0d0887"
            ],
            [
             0.1111111111111111,
             "#46039f"
            ],
            [
             0.2222222222222222,
             "#7201a8"
            ],
            [
             0.3333333333333333,
             "#9c179e"
            ],
            [
             0.4444444444444444,
             "#bd3786"
            ],
            [
             0.5555555555555556,
             "#d8576b"
            ],
            [
             0.6666666666666666,
             "#ed7953"
            ],
            [
             0.7777777777777778,
             "#fb9f3a"
            ],
            [
             0.8888888888888888,
             "#fdca26"
            ],
            [
             1,
             "#f0f921"
            ]
           ],
           "sequentialminus": [
            [
             0,
             "#0d0887"
            ],
            [
             0.1111111111111111,
             "#46039f"
            ],
            [
             0.2222222222222222,
             "#7201a8"
            ],
            [
             0.3333333333333333,
             "#9c179e"
            ],
            [
             0.4444444444444444,
             "#bd3786"
            ],
            [
             0.5555555555555556,
             "#d8576b"
            ],
            [
             0.6666666666666666,
             "#ed7953"
            ],
            [
             0.7777777777777778,
             "#fb9f3a"
            ],
            [
             0.8888888888888888,
             "#fdca26"
            ],
            [
             1,
             "#f0f921"
            ]
           ]
          },
          "colorway": [
           "#636efa",
           "#EF553B",
           "#00cc96",
           "#ab63fa",
           "#FFA15A",
           "#19d3f3",
           "#FF6692",
           "#B6E880",
           "#FF97FF",
           "#FECB52"
          ],
          "font": {
           "color": "#2a3f5f"
          },
          "geo": {
           "bgcolor": "white",
           "lakecolor": "white",
           "landcolor": "#E5ECF6",
           "showlakes": true,
           "showland": true,
           "subunitcolor": "white"
          },
          "hoverlabel": {
           "align": "left"
          },
          "hovermode": "closest",
          "mapbox": {
           "style": "light"
          },
          "paper_bgcolor": "white",
          "plot_bgcolor": "#E5ECF6",
          "polar": {
           "angularaxis": {
            "gridcolor": "white",
            "linecolor": "white",
            "ticks": ""
           },
           "bgcolor": "#E5ECF6",
           "radialaxis": {
            "gridcolor": "white",
            "linecolor": "white",
            "ticks": ""
           }
          },
          "scene": {
           "xaxis": {
            "backgroundcolor": "#E5ECF6",
            "gridcolor": "white",
            "gridwidth": 2,
            "linecolor": "white",
            "showbackground": true,
            "ticks": "",
            "zerolinecolor": "white"
           },
           "yaxis": {
            "backgroundcolor": "#E5ECF6",
            "gridcolor": "white",
            "gridwidth": 2,
            "linecolor": "white",
            "showbackground": true,
            "ticks": "",
            "zerolinecolor": "white"
           },
           "zaxis": {
            "backgroundcolor": "#E5ECF6",
            "gridcolor": "white",
            "gridwidth": 2,
            "linecolor": "white",
            "showbackground": true,
            "ticks": "",
            "zerolinecolor": "white"
           }
          },
          "shapedefaults": {
           "line": {
            "color": "#2a3f5f"
           }
          },
          "ternary": {
           "aaxis": {
            "gridcolor": "white",
            "linecolor": "white",
            "ticks": ""
           },
           "baxis": {
            "gridcolor": "white",
            "linecolor": "white",
            "ticks": ""
           },
           "bgcolor": "#E5ECF6",
           "caxis": {
            "gridcolor": "white",
            "linecolor": "white",
            "ticks": ""
           }
          },
          "title": {
           "x": 0.05
          },
          "xaxis": {
           "automargin": true,
           "gridcolor": "white",
           "linecolor": "white",
           "ticks": "",
           "title": {
            "standoff": 15
           },
           "zerolinecolor": "white",
           "zerolinewidth": 2
          },
          "yaxis": {
           "automargin": true,
           "gridcolor": "white",
           "linecolor": "white",
           "ticks": "",
           "title": {
            "standoff": 15
           },
           "zerolinecolor": "white",
           "zerolinewidth": 2
          }
         }
        },
        "title": {
         "text": "Puntuacion promedio por reservacion online"
        },
        "xaxis": {
         "anchor": "y",
         "domain": [
          0,
          1
         ],
         "title": {
          "text": "Reservacion online"
         }
        },
        "yaxis": {
         "anchor": "x",
         "domain": [
          0,
          1
         ],
         "title": {
          "text": "Puntuacion promedio"
         }
        }
       }
      }
     },
     "metadata": {},
     "output_type": "display_data"
    },
    {
     "data": {
      "text/html": [
       "<div>\n",
       "<style scoped>\n",
       "    .dataframe tbody tr th:only-of-type {\n",
       "        vertical-align: middle;\n",
       "    }\n",
       "\n",
       "    .dataframe tbody tr th {\n",
       "        vertical-align: top;\n",
       "    }\n",
       "\n",
       "    .dataframe thead th {\n",
       "        text-align: right;\n",
       "    }\n",
       "</style>\n",
       "<table border=\"1\" class=\"dataframe\">\n",
       "  <thead>\n",
       "    <tr style=\"text-align: right;\">\n",
       "      <th></th>\n",
       "      <th>name</th>\n",
       "      <th>phone</th>\n",
       "      <th>email</th>\n",
       "      <th>web</th>\n",
       "      <th>est_type</th>\n",
       "      <th>bus_type</th>\n",
       "      <th>cuisine</th>\n",
       "      <th>cap</th>\n",
       "      <th>promo</th>\n",
       "      <th>rating</th>\n",
       "      <th>reviews</th>\n",
       "      <th>level</th>\n",
       "      <th>fb</th>\n",
       "      <th>ig</th>\n",
       "      <th>tw</th>\n",
       "      <th>menu_breakfast</th>\n",
       "      <th>menu_appetizer</th>\n",
       "      <th>menu_starters</th>\n",
       "      <th>menu_mains</th>\n",
       "      <th>menu_pizza</th>\n",
       "      <th>menu_pasta</th>\n",
       "      <th>menu_seafood</th>\n",
       "      <th>menu_sandwich</th>\n",
       "      <th>menu_sides</th>\n",
       "      <th>menu_salads</th>\n",
       "      <th>menu_soups</th>\n",
       "      <th>menu_desserts</th>\n",
       "      <th>menu_cocktails</th>\n",
       "      <th>menu_wines</th>\n",
       "      <th>menu_alcoholic_drinks</th>\n",
       "      <th>menu_non_alcoholic_drinks</th>\n",
       "      <th>menu_infusions</th>\n",
       "      <th>menu_water</th>\n",
       "      <th>menu_others</th>\n",
       "      <th>hours_open</th>\n",
       "      <th>hours_close</th>\n",
       "      <th>hours_days</th>\n",
       "      <th>reservation_qantity</th>\n",
       "      <th>delivery_qantity</th>\n",
       "      <th>delivery_takeaway</th>\n",
       "      <th>payment_qantity</th>\n",
       "      <th>payment_cash</th>\n",
       "      <th>payment_card</th>\n",
       "      <th>payment_transfer</th>\n",
       "      <th>payment_others</th>\n",
       "      <th>amenities_qantity</th>\n",
       "      <th>loc_street</th>\n",
       "      <th>loc_council</th>\n",
       "      <th>loc_municipe</th>\n",
       "      <th>loc_province</th>\n",
       "      <th>loc_zip</th>\n",
       "      <th>loc_country</th>\n",
       "      <th>delivery_others</th>\n",
       "      <th>reservation_others</th>\n",
       "      <th>delivery_home</th>\n",
       "      <th>reservation_phone</th>\n",
       "      <th>amenities_pet_friendly</th>\n",
       "      <th>amenities_outdoor</th>\n",
       "      <th>loc_x</th>\n",
       "      <th>loc_y</th>\n",
       "      <th>menu_coffee</th>\n",
       "      <th>menu_juices</th>\n",
       "      <th>menu_smoothie</th>\n",
       "      <th>menu_ice_cream_shake</th>\n",
       "      <th>reservation_online</th>\n",
       "      <th>amenities_live_music</th>\n",
       "      <th>amenities_wifi</th>\n",
       "      <th>categoria</th>\n",
       "      <th>clasif_fb</th>\n",
       "      <th>clasif_ig</th>\n",
       "      <th>clasif_tw</th>\n",
       "      <th>clasif_tw2</th>\n",
       "    </tr>\n",
       "  </thead>\n",
       "  <tbody>\n",
       "    <tr>\n",
       "      <th>75</th>\n",
       "      <td>El Bache</td>\n",
       "      <td>None</td>\n",
       "      <td>None</td>\n",
       "      <td>None</td>\n",
       "      <td>restaurant</td>\n",
       "      <td>private</td>\n",
       "      <td>italian</td>\n",
       "      <td>30</td>\n",
       "      <td>False</td>\n",
       "      <td>4.5</td>\n",
       "      <td>75</td>\n",
       "      <td>economic</td>\n",
       "      <td>None</td>\n",
       "      <td>None</td>\n",
       "      <td>None</td>\n",
       "      <td>0</td>\n",
       "      <td>0</td>\n",
       "      <td>0</td>\n",
       "      <td>0</td>\n",
       "      <td>10</td>\n",
       "      <td>4</td>\n",
       "      <td>0</td>\n",
       "      <td>0</td>\n",
       "      <td>0</td>\n",
       "      <td>0</td>\n",
       "      <td>0</td>\n",
       "      <td>0</td>\n",
       "      <td>0</td>\n",
       "      <td>0</td>\n",
       "      <td>0</td>\n",
       "      <td>0</td>\n",
       "      <td>0</td>\n",
       "      <td>0</td>\n",
       "      <td>8</td>\n",
       "      <td>10:30</td>\n",
       "      <td>22:30</td>\n",
       "      <td>[mon, tue, wed, thu, fri]</td>\n",
       "      <td>1</td>\n",
       "      <td>2</td>\n",
       "      <td>takeaway</td>\n",
       "      <td>2</td>\n",
       "      <td>cash</td>\n",
       "      <td>NaN</td>\n",
       "      <td>transfer</td>\n",
       "      <td>NaN</td>\n",
       "      <td>0</td>\n",
       "      <td>Calle 30 entre 95 y 97,Las Brisas</td>\n",
       "      <td>None</td>\n",
       "      <td>Cotorro</td>\n",
       "      <td>La Habana</td>\n",
       "      <td>None</td>\n",
       "      <td>Cuba</td>\n",
       "      <td>NaN</td>\n",
       "      <td>NaN</td>\n",
       "      <td>home</td>\n",
       "      <td>NaN</td>\n",
       "      <td>NaN</td>\n",
       "      <td>NaN</td>\n",
       "      <td>NaN</td>\n",
       "      <td>NaN</td>\n",
       "      <td>NaN</td>\n",
       "      <td>NaN</td>\n",
       "      <td>NaN</td>\n",
       "      <td>NaN</td>\n",
       "      <td>online</td>\n",
       "      <td>NaN</td>\n",
       "      <td>NaN</td>\n",
       "      <td>Sin FB</td>\n",
       "      <td>Sin Facebook</td>\n",
       "      <td>Sin Instagram</td>\n",
       "      <td>Sin Twitter</td>\n",
       "      <td>Sin Twitter</td>\n",
       "    </tr>\n",
       "    <tr>\n",
       "      <th>79</th>\n",
       "      <td>Martínez Club</td>\n",
       "      <td>None</td>\n",
       "      <td>None</td>\n",
       "      <td>None</td>\n",
       "      <td>restaurant</td>\n",
       "      <td>private</td>\n",
       "      <td>cuban</td>\n",
       "      <td>20</td>\n",
       "      <td>False</td>\n",
       "      <td>4.5</td>\n",
       "      <td>75</td>\n",
       "      <td>medium</td>\n",
       "      <td>None</td>\n",
       "      <td>None</td>\n",
       "      <td>None</td>\n",
       "      <td>0</td>\n",
       "      <td>4</td>\n",
       "      <td>0</td>\n",
       "      <td>9</td>\n",
       "      <td>4</td>\n",
       "      <td>2</td>\n",
       "      <td>0</td>\n",
       "      <td>3</td>\n",
       "      <td>0</td>\n",
       "      <td>0</td>\n",
       "      <td>0</td>\n",
       "      <td>0</td>\n",
       "      <td>0</td>\n",
       "      <td>0</td>\n",
       "      <td>0</td>\n",
       "      <td>3</td>\n",
       "      <td>1</td>\n",
       "      <td>0</td>\n",
       "      <td>0</td>\n",
       "      <td>09:00</td>\n",
       "      <td>21:00</td>\n",
       "      <td>[mon, tue, wed, thu, fri, sat, sun]</td>\n",
       "      <td>1</td>\n",
       "      <td>1</td>\n",
       "      <td>NaN</td>\n",
       "      <td>2</td>\n",
       "      <td>cash</td>\n",
       "      <td>NaN</td>\n",
       "      <td>transfer</td>\n",
       "      <td>NaN</td>\n",
       "      <td>1</td>\n",
       "      <td>None</td>\n",
       "      <td>None</td>\n",
       "      <td>Cotorro</td>\n",
       "      <td>La Habana</td>\n",
       "      <td>None</td>\n",
       "      <td>Cuba</td>\n",
       "      <td>NaN</td>\n",
       "      <td>NaN</td>\n",
       "      <td>home</td>\n",
       "      <td>NaN</td>\n",
       "      <td>pet_friendly</td>\n",
       "      <td>NaN</td>\n",
       "      <td>NaN</td>\n",
       "      <td>NaN</td>\n",
       "      <td>NaN</td>\n",
       "      <td>NaN</td>\n",
       "      <td>NaN</td>\n",
       "      <td>NaN</td>\n",
       "      <td>online</td>\n",
       "      <td>NaN</td>\n",
       "      <td>NaN</td>\n",
       "      <td>Sin FB</td>\n",
       "      <td>Sin Facebook</td>\n",
       "      <td>Sin Instagram</td>\n",
       "      <td>Sin Twitter</td>\n",
       "      <td>Sin Twitter</td>\n",
       "    </tr>\n",
       "    <tr>\n",
       "      <th>83</th>\n",
       "      <td>Pal'Karajo</td>\n",
       "      <td>None</td>\n",
       "      <td>None</td>\n",
       "      <td>None</td>\n",
       "      <td>bar</td>\n",
       "      <td>private</td>\n",
       "      <td>cuban</td>\n",
       "      <td>12</td>\n",
       "      <td>False</td>\n",
       "      <td>4.4</td>\n",
       "      <td>75</td>\n",
       "      <td>high</td>\n",
       "      <td>None</td>\n",
       "      <td>None</td>\n",
       "      <td>None</td>\n",
       "      <td>0</td>\n",
       "      <td>1</td>\n",
       "      <td>0</td>\n",
       "      <td>2</td>\n",
       "      <td>0</td>\n",
       "      <td>0</td>\n",
       "      <td>0</td>\n",
       "      <td>5</td>\n",
       "      <td>0</td>\n",
       "      <td>0</td>\n",
       "      <td>0</td>\n",
       "      <td>0</td>\n",
       "      <td>0</td>\n",
       "      <td>0</td>\n",
       "      <td>2</td>\n",
       "      <td>10</td>\n",
       "      <td>5</td>\n",
       "      <td>0</td>\n",
       "      <td>0</td>\n",
       "      <td>10:00</td>\n",
       "      <td>22:00</td>\n",
       "      <td>[mon, tue, wed, thu, fri, sat, sun]</td>\n",
       "      <td>1</td>\n",
       "      <td>1</td>\n",
       "      <td>takeaway</td>\n",
       "      <td>2</td>\n",
       "      <td>cash</td>\n",
       "      <td>NaN</td>\n",
       "      <td>transfer</td>\n",
       "      <td>NaN</td>\n",
       "      <td>1</td>\n",
       "      <td>Avenida 101 Esquina 16</td>\n",
       "      <td>Centro Cotorro</td>\n",
       "      <td>Cotorro</td>\n",
       "      <td>La Habana</td>\n",
       "      <td>None</td>\n",
       "      <td>Cuba</td>\n",
       "      <td>NaN</td>\n",
       "      <td>NaN</td>\n",
       "      <td>NaN</td>\n",
       "      <td>NaN</td>\n",
       "      <td>pet_friendly</td>\n",
       "      <td>NaN</td>\n",
       "      <td>NaN</td>\n",
       "      <td>NaN</td>\n",
       "      <td>NaN</td>\n",
       "      <td>NaN</td>\n",
       "      <td>NaN</td>\n",
       "      <td>NaN</td>\n",
       "      <td>online</td>\n",
       "      <td>NaN</td>\n",
       "      <td>NaN</td>\n",
       "      <td>Sin FB</td>\n",
       "      <td>Sin Facebook</td>\n",
       "      <td>Sin Instagram</td>\n",
       "      <td>Sin Twitter</td>\n",
       "      <td>Sin Twitter</td>\n",
       "    </tr>\n",
       "    <tr>\n",
       "      <th>118</th>\n",
       "      <td>Polo</td>\n",
       "      <td>52411618</td>\n",
       "      <td>None</td>\n",
       "      <td>None</td>\n",
       "      <td>bar</td>\n",
       "      <td>private</td>\n",
       "      <td>others</td>\n",
       "      <td>12</td>\n",
       "      <td>False</td>\n",
       "      <td>4.5</td>\n",
       "      <td>75</td>\n",
       "      <td>medium</td>\n",
       "      <td>None</td>\n",
       "      <td>None</td>\n",
       "      <td>None</td>\n",
       "      <td>0</td>\n",
       "      <td>0</td>\n",
       "      <td>10</td>\n",
       "      <td>25</td>\n",
       "      <td>2</td>\n",
       "      <td>2</td>\n",
       "      <td>0</td>\n",
       "      <td>0</td>\n",
       "      <td>0</td>\n",
       "      <td>0</td>\n",
       "      <td>0</td>\n",
       "      <td>0</td>\n",
       "      <td>0</td>\n",
       "      <td>0</td>\n",
       "      <td>2</td>\n",
       "      <td>9</td>\n",
       "      <td>0</td>\n",
       "      <td>0</td>\n",
       "      <td>0</td>\n",
       "      <td>12:00</td>\n",
       "      <td>00:00</td>\n",
       "      <td>[mon, tue, wed, thu, fri, sat, sun]</td>\n",
       "      <td>2</td>\n",
       "      <td>2</td>\n",
       "      <td>takeaway</td>\n",
       "      <td>2</td>\n",
       "      <td>cash</td>\n",
       "      <td>NaN</td>\n",
       "      <td>transfer</td>\n",
       "      <td>NaN</td>\n",
       "      <td>0</td>\n",
       "      <td>None</td>\n",
       "      <td>None</td>\n",
       "      <td>Guanabacoa</td>\n",
       "      <td>La Habana</td>\n",
       "      <td>None</td>\n",
       "      <td>Cuba</td>\n",
       "      <td>NaN</td>\n",
       "      <td>NaN</td>\n",
       "      <td>home</td>\n",
       "      <td>phone</td>\n",
       "      <td>NaN</td>\n",
       "      <td>NaN</td>\n",
       "      <td>NaN</td>\n",
       "      <td>NaN</td>\n",
       "      <td>NaN</td>\n",
       "      <td>NaN</td>\n",
       "      <td>NaN</td>\n",
       "      <td>NaN</td>\n",
       "      <td>online</td>\n",
       "      <td>NaN</td>\n",
       "      <td>NaN</td>\n",
       "      <td>Sin FB</td>\n",
       "      <td>Sin Facebook</td>\n",
       "      <td>Sin Instagram</td>\n",
       "      <td>Sin Twitter</td>\n",
       "      <td>Sin Twitter</td>\n",
       "    </tr>\n",
       "    <tr>\n",
       "      <th>119</th>\n",
       "      <td>Polo</td>\n",
       "      <td>52411618</td>\n",
       "      <td>None</td>\n",
       "      <td>None</td>\n",
       "      <td>restaurant</td>\n",
       "      <td>private</td>\n",
       "      <td>cuban</td>\n",
       "      <td>12</td>\n",
       "      <td>False</td>\n",
       "      <td>4.4</td>\n",
       "      <td>75</td>\n",
       "      <td>medium</td>\n",
       "      <td>None</td>\n",
       "      <td>None</td>\n",
       "      <td>None</td>\n",
       "      <td>0</td>\n",
       "      <td>0</td>\n",
       "      <td>10</td>\n",
       "      <td>20</td>\n",
       "      <td>2</td>\n",
       "      <td>2</td>\n",
       "      <td>5</td>\n",
       "      <td>0</td>\n",
       "      <td>0</td>\n",
       "      <td>0</td>\n",
       "      <td>0</td>\n",
       "      <td>0</td>\n",
       "      <td>0</td>\n",
       "      <td>0</td>\n",
       "      <td>0</td>\n",
       "      <td>0</td>\n",
       "      <td>0</td>\n",
       "      <td>0</td>\n",
       "      <td>0</td>\n",
       "      <td>12:00</td>\n",
       "      <td>00:00</td>\n",
       "      <td>[mon, tue, wed, thu, fri, sat, sun]</td>\n",
       "      <td>2</td>\n",
       "      <td>1</td>\n",
       "      <td>takeaway</td>\n",
       "      <td>2</td>\n",
       "      <td>cash</td>\n",
       "      <td>NaN</td>\n",
       "      <td>transfer</td>\n",
       "      <td>NaN</td>\n",
       "      <td>0</td>\n",
       "      <td>Cruz Verde</td>\n",
       "      <td>None</td>\n",
       "      <td>Guanabacoa</td>\n",
       "      <td>La Habana</td>\n",
       "      <td>None</td>\n",
       "      <td>Cuba</td>\n",
       "      <td>NaN</td>\n",
       "      <td>NaN</td>\n",
       "      <td>NaN</td>\n",
       "      <td>phone</td>\n",
       "      <td>NaN</td>\n",
       "      <td>NaN</td>\n",
       "      <td>NaN</td>\n",
       "      <td>NaN</td>\n",
       "      <td>NaN</td>\n",
       "      <td>NaN</td>\n",
       "      <td>NaN</td>\n",
       "      <td>NaN</td>\n",
       "      <td>online</td>\n",
       "      <td>NaN</td>\n",
       "      <td>NaN</td>\n",
       "      <td>Sin FB</td>\n",
       "      <td>Sin Facebook</td>\n",
       "      <td>Sin Instagram</td>\n",
       "      <td>Sin Twitter</td>\n",
       "      <td>Sin Twitter</td>\n",
       "    </tr>\n",
       "    <tr>\n",
       "      <th>128</th>\n",
       "      <td>Anillo Habanero</td>\n",
       "      <td>52042710</td>\n",
       "      <td>None</td>\n",
       "      <td>None</td>\n",
       "      <td>restaurant</td>\n",
       "      <td>private</td>\n",
       "      <td>cuban</td>\n",
       "      <td>12</td>\n",
       "      <td>False</td>\n",
       "      <td>4.5</td>\n",
       "      <td>30</td>\n",
       "      <td>medium</td>\n",
       "      <td>None</td>\n",
       "      <td>None</td>\n",
       "      <td>None</td>\n",
       "      <td>0</td>\n",
       "      <td>0</td>\n",
       "      <td>9</td>\n",
       "      <td>4</td>\n",
       "      <td>1</td>\n",
       "      <td>1</td>\n",
       "      <td>2</td>\n",
       "      <td>0</td>\n",
       "      <td>0</td>\n",
       "      <td>0</td>\n",
       "      <td>0</td>\n",
       "      <td>3</td>\n",
       "      <td>0</td>\n",
       "      <td>0</td>\n",
       "      <td>0</td>\n",
       "      <td>0</td>\n",
       "      <td>0</td>\n",
       "      <td>0</td>\n",
       "      <td>0</td>\n",
       "      <td>10:00</td>\n",
       "      <td>23:00</td>\n",
       "      <td>[mon, tue, wed, thu, fri, sat, sun]</td>\n",
       "      <td>2</td>\n",
       "      <td>2</td>\n",
       "      <td>takeaway</td>\n",
       "      <td>3</td>\n",
       "      <td>cash</td>\n",
       "      <td>NaN</td>\n",
       "      <td>transfer</td>\n",
       "      <td>others</td>\n",
       "      <td>2</td>\n",
       "      <td>Primer Anillo de La Habana</td>\n",
       "      <td>None</td>\n",
       "      <td>Guanabacoa</td>\n",
       "      <td>La Habana</td>\n",
       "      <td>None</td>\n",
       "      <td>Cuba</td>\n",
       "      <td>NaN</td>\n",
       "      <td>NaN</td>\n",
       "      <td>home</td>\n",
       "      <td>phone</td>\n",
       "      <td>NaN</td>\n",
       "      <td>outdoor</td>\n",
       "      <td>NaN</td>\n",
       "      <td>NaN</td>\n",
       "      <td>NaN</td>\n",
       "      <td>NaN</td>\n",
       "      <td>NaN</td>\n",
       "      <td>NaN</td>\n",
       "      <td>online</td>\n",
       "      <td>live_music</td>\n",
       "      <td>NaN</td>\n",
       "      <td>Sin FB</td>\n",
       "      <td>Sin Facebook</td>\n",
       "      <td>Sin Instagram</td>\n",
       "      <td>Sin Twitter</td>\n",
       "      <td>Sin Twitter</td>\n",
       "    </tr>\n",
       "    <tr>\n",
       "      <th>144</th>\n",
       "      <td>Kopas</td>\n",
       "      <td>51566616</td>\n",
       "      <td>None</td>\n",
       "      <td>None</td>\n",
       "      <td>restaurant</td>\n",
       "      <td>private</td>\n",
       "      <td>others</td>\n",
       "      <td>50</td>\n",
       "      <td>False</td>\n",
       "      <td>4.3</td>\n",
       "      <td>75</td>\n",
       "      <td>high</td>\n",
       "      <td>None</td>\n",
       "      <td>hopas_bar_restaurant</td>\n",
       "      <td>None</td>\n",
       "      <td>0</td>\n",
       "      <td>0</td>\n",
       "      <td>8</td>\n",
       "      <td>43</td>\n",
       "      <td>0</td>\n",
       "      <td>0</td>\n",
       "      <td>0</td>\n",
       "      <td>0</td>\n",
       "      <td>0</td>\n",
       "      <td>0</td>\n",
       "      <td>0</td>\n",
       "      <td>0</td>\n",
       "      <td>0</td>\n",
       "      <td>0</td>\n",
       "      <td>6</td>\n",
       "      <td>0</td>\n",
       "      <td>0</td>\n",
       "      <td>0</td>\n",
       "      <td>0</td>\n",
       "      <td>10:00</td>\n",
       "      <td>23:30</td>\n",
       "      <td>[mon, tue, wed, thu, fri, sat, sun]</td>\n",
       "      <td>3</td>\n",
       "      <td>2</td>\n",
       "      <td>takeaway</td>\n",
       "      <td>3</td>\n",
       "      <td>cash</td>\n",
       "      <td>card</td>\n",
       "      <td>transfer</td>\n",
       "      <td>NaN</td>\n",
       "      <td>0</td>\n",
       "      <td>Esquina de 5ta Avenida, #482</td>\n",
       "      <td>None</td>\n",
       "      <td>Habana del Este</td>\n",
       "      <td>La Habana</td>\n",
       "      <td>None</td>\n",
       "      <td>Cuba</td>\n",
       "      <td>NaN</td>\n",
       "      <td>others</td>\n",
       "      <td>home</td>\n",
       "      <td>phone</td>\n",
       "      <td>NaN</td>\n",
       "      <td>NaN</td>\n",
       "      <td>NaN</td>\n",
       "      <td>NaN</td>\n",
       "      <td>NaN</td>\n",
       "      <td>NaN</td>\n",
       "      <td>NaN</td>\n",
       "      <td>NaN</td>\n",
       "      <td>online</td>\n",
       "      <td>NaN</td>\n",
       "      <td>NaN</td>\n",
       "      <td>Sin FB</td>\n",
       "      <td>Sin Facebook</td>\n",
       "      <td>Con Instagram</td>\n",
       "      <td>Sin Twitter</td>\n",
       "      <td>Sin Twitter</td>\n",
       "    </tr>\n",
       "    <tr>\n",
       "      <th>156</th>\n",
       "      <td>Trattoria Zia Cecilia</td>\n",
       "      <td>54600285</td>\n",
       "      <td>tractoriaziacecilias@gmail.com</td>\n",
       "      <td>None</td>\n",
       "      <td>restaurant</td>\n",
       "      <td>private</td>\n",
       "      <td>italian</td>\n",
       "      <td>30</td>\n",
       "      <td>False</td>\n",
       "      <td>4.8</td>\n",
       "      <td>75</td>\n",
       "      <td>medium</td>\n",
       "      <td>Trattoriaziacecilias</td>\n",
       "      <td>@trattoriaziacecilias</td>\n",
       "      <td>None</td>\n",
       "      <td>0</td>\n",
       "      <td>0</td>\n",
       "      <td>3</td>\n",
       "      <td>0</td>\n",
       "      <td>13</td>\n",
       "      <td>15</td>\n",
       "      <td>0</td>\n",
       "      <td>0</td>\n",
       "      <td>0</td>\n",
       "      <td>0</td>\n",
       "      <td>0</td>\n",
       "      <td>0</td>\n",
       "      <td>6</td>\n",
       "      <td>3</td>\n",
       "      <td>10</td>\n",
       "      <td>8</td>\n",
       "      <td>0</td>\n",
       "      <td>0</td>\n",
       "      <td>0</td>\n",
       "      <td>12:00</td>\n",
       "      <td>23:00</td>\n",
       "      <td>[mon, tue, wed, thu, fri, sat, sun]</td>\n",
       "      <td>2</td>\n",
       "      <td>2</td>\n",
       "      <td>takeaway</td>\n",
       "      <td>2</td>\n",
       "      <td>cash</td>\n",
       "      <td>NaN</td>\n",
       "      <td>transfer</td>\n",
       "      <td>NaN</td>\n",
       "      <td>0</td>\n",
       "      <td>#503, Calle 482 entre 5ta Avenida y 5ta D, Gua...</td>\n",
       "      <td>None</td>\n",
       "      <td>Habana del Este</td>\n",
       "      <td>La Habana</td>\n",
       "      <td>None</td>\n",
       "      <td>Cuba</td>\n",
       "      <td>NaN</td>\n",
       "      <td>NaN</td>\n",
       "      <td>home</td>\n",
       "      <td>phone</td>\n",
       "      <td>NaN</td>\n",
       "      <td>NaN</td>\n",
       "      <td>NaN</td>\n",
       "      <td>NaN</td>\n",
       "      <td>NaN</td>\n",
       "      <td>NaN</td>\n",
       "      <td>NaN</td>\n",
       "      <td>NaN</td>\n",
       "      <td>online</td>\n",
       "      <td>NaN</td>\n",
       "      <td>NaN</td>\n",
       "      <td>Con FB</td>\n",
       "      <td>Con Facebook</td>\n",
       "      <td>Con Instagram</td>\n",
       "      <td>Sin Twitter</td>\n",
       "      <td>Sin Twitter</td>\n",
       "    </tr>\n",
       "    <tr>\n",
       "      <th>193</th>\n",
       "      <td>Coco Blue</td>\n",
       "      <td>59121916</td>\n",
       "      <td>None</td>\n",
       "      <td>None</td>\n",
       "      <td>bar</td>\n",
       "      <td>private</td>\n",
       "      <td>cuban</td>\n",
       "      <td>12</td>\n",
       "      <td>False</td>\n",
       "      <td>4.5</td>\n",
       "      <td>75</td>\n",
       "      <td>medium</td>\n",
       "      <td>None</td>\n",
       "      <td>None</td>\n",
       "      <td>None</td>\n",
       "      <td>4</td>\n",
       "      <td>0</td>\n",
       "      <td>10</td>\n",
       "      <td>4</td>\n",
       "      <td>0</td>\n",
       "      <td>0</td>\n",
       "      <td>0</td>\n",
       "      <td>0</td>\n",
       "      <td>0</td>\n",
       "      <td>0</td>\n",
       "      <td>0</td>\n",
       "      <td>1</td>\n",
       "      <td>14</td>\n",
       "      <td>0</td>\n",
       "      <td>6</td>\n",
       "      <td>14</td>\n",
       "      <td>0</td>\n",
       "      <td>0</td>\n",
       "      <td>0</td>\n",
       "      <td>10:00</td>\n",
       "      <td>00:30</td>\n",
       "      <td>[thu, fri, sat, sun]</td>\n",
       "      <td>2</td>\n",
       "      <td>1</td>\n",
       "      <td>takeaway</td>\n",
       "      <td>2</td>\n",
       "      <td>cash</td>\n",
       "      <td>NaN</td>\n",
       "      <td>transfer</td>\n",
       "      <td>NaN</td>\n",
       "      <td>0</td>\n",
       "      <td>None</td>\n",
       "      <td>None</td>\n",
       "      <td>Plaza de la Revolucion</td>\n",
       "      <td>La Habana</td>\n",
       "      <td>None</td>\n",
       "      <td>Cuba</td>\n",
       "      <td>NaN</td>\n",
       "      <td>NaN</td>\n",
       "      <td>NaN</td>\n",
       "      <td>phone</td>\n",
       "      <td>NaN</td>\n",
       "      <td>NaN</td>\n",
       "      <td>NaN</td>\n",
       "      <td>NaN</td>\n",
       "      <td>NaN</td>\n",
       "      <td>NaN</td>\n",
       "      <td>NaN</td>\n",
       "      <td>NaN</td>\n",
       "      <td>online</td>\n",
       "      <td>NaN</td>\n",
       "      <td>NaN</td>\n",
       "      <td>Sin FB</td>\n",
       "      <td>Sin Facebook</td>\n",
       "      <td>Sin Instagram</td>\n",
       "      <td>Sin Twitter</td>\n",
       "      <td>Sin Twitter</td>\n",
       "    </tr>\n",
       "    <tr>\n",
       "      <th>199</th>\n",
       "      <td>El Farallón</td>\n",
       "      <td>78305187</td>\n",
       "      <td>farallonrestaurante@gmail.com</td>\n",
       "      <td>None</td>\n",
       "      <td>restaurant</td>\n",
       "      <td>private</td>\n",
       "      <td>italian</td>\n",
       "      <td>12</td>\n",
       "      <td>False</td>\n",
       "      <td>4.4</td>\n",
       "      <td>75</td>\n",
       "      <td>medium</td>\n",
       "      <td>None</td>\n",
       "      <td>https://www.instagram.com/restaurantefarallon/</td>\n",
       "      <td>None</td>\n",
       "      <td>0</td>\n",
       "      <td>18</td>\n",
       "      <td>0</td>\n",
       "      <td>35</td>\n",
       "      <td>18</td>\n",
       "      <td>0</td>\n",
       "      <td>5</td>\n",
       "      <td>0</td>\n",
       "      <td>0</td>\n",
       "      <td>0</td>\n",
       "      <td>0</td>\n",
       "      <td>1</td>\n",
       "      <td>0</td>\n",
       "      <td>0</td>\n",
       "      <td>15</td>\n",
       "      <td>5</td>\n",
       "      <td>0</td>\n",
       "      <td>1</td>\n",
       "      <td>0</td>\n",
       "      <td>12:00</td>\n",
       "      <td>24:00</td>\n",
       "      <td>[mon, tue, wed, thu, fri, sat, sun]</td>\n",
       "      <td>2</td>\n",
       "      <td>2</td>\n",
       "      <td>takeaway</td>\n",
       "      <td>2</td>\n",
       "      <td>cash</td>\n",
       "      <td>NaN</td>\n",
       "      <td>transfer</td>\n",
       "      <td>NaN</td>\n",
       "      <td>0</td>\n",
       "      <td>Calle 22 # 361, esq. 23</td>\n",
       "      <td>Vedado</td>\n",
       "      <td>Plaza de la Revolucion</td>\n",
       "      <td>La Habana</td>\n",
       "      <td>None</td>\n",
       "      <td>Cuba</td>\n",
       "      <td>NaN</td>\n",
       "      <td>NaN</td>\n",
       "      <td>home</td>\n",
       "      <td>phone</td>\n",
       "      <td>NaN</td>\n",
       "      <td>NaN</td>\n",
       "      <td>23.124342</td>\n",
       "      <td>-82.404149</td>\n",
       "      <td>NaN</td>\n",
       "      <td>NaN</td>\n",
       "      <td>NaN</td>\n",
       "      <td>NaN</td>\n",
       "      <td>online</td>\n",
       "      <td>NaN</td>\n",
       "      <td>NaN</td>\n",
       "      <td>Sin FB</td>\n",
       "      <td>Sin Facebook</td>\n",
       "      <td>Con Instagram</td>\n",
       "      <td>Sin Twitter</td>\n",
       "      <td>Sin Twitter</td>\n",
       "    </tr>\n",
       "    <tr>\n",
       "      <th>201</th>\n",
       "      <td>Fonda La Paila</td>\n",
       "      <td>53388837</td>\n",
       "      <td>fondapaila25@gmail.com</td>\n",
       "      <td>https://fondalapaila.com/</td>\n",
       "      <td>restaurant</td>\n",
       "      <td>private</td>\n",
       "      <td>cuban</td>\n",
       "      <td>12</td>\n",
       "      <td>False</td>\n",
       "      <td>4.4</td>\n",
       "      <td>75</td>\n",
       "      <td>medium</td>\n",
       "      <td>https://www.facebook.com/lapaila25ym</td>\n",
       "      <td>https://www.instagram.com/lapaila_25ym/</td>\n",
       "      <td>None</td>\n",
       "      <td>0</td>\n",
       "      <td>17</td>\n",
       "      <td>0</td>\n",
       "      <td>23</td>\n",
       "      <td>0</td>\n",
       "      <td>1</td>\n",
       "      <td>0</td>\n",
       "      <td>0</td>\n",
       "      <td>0</td>\n",
       "      <td>0</td>\n",
       "      <td>0</td>\n",
       "      <td>7</td>\n",
       "      <td>0</td>\n",
       "      <td>0</td>\n",
       "      <td>0</td>\n",
       "      <td>0</td>\n",
       "      <td>0</td>\n",
       "      <td>0</td>\n",
       "      <td>0</td>\n",
       "      <td>12:00</td>\n",
       "      <td>24:00</td>\n",
       "      <td>[mon, tue, wed, thu, fri, sat, sun]</td>\n",
       "      <td>2</td>\n",
       "      <td>2</td>\n",
       "      <td>takeaway</td>\n",
       "      <td>2</td>\n",
       "      <td>cash</td>\n",
       "      <td>NaN</td>\n",
       "      <td>transfer</td>\n",
       "      <td>NaN</td>\n",
       "      <td>0</td>\n",
       "      <td>Calle M e/ 25 y 27</td>\n",
       "      <td>Vedado</td>\n",
       "      <td>Plaza de la Revolucion</td>\n",
       "      <td>La Habana</td>\n",
       "      <td>None</td>\n",
       "      <td>Cuba</td>\n",
       "      <td>NaN</td>\n",
       "      <td>NaN</td>\n",
       "      <td>home</td>\n",
       "      <td>phone</td>\n",
       "      <td>NaN</td>\n",
       "      <td>NaN</td>\n",
       "      <td>23.144895</td>\n",
       "      <td>-82.382637</td>\n",
       "      <td>NaN</td>\n",
       "      <td>NaN</td>\n",
       "      <td>NaN</td>\n",
       "      <td>NaN</td>\n",
       "      <td>online</td>\n",
       "      <td>NaN</td>\n",
       "      <td>NaN</td>\n",
       "      <td>Con FB</td>\n",
       "      <td>Con Facebook</td>\n",
       "      <td>Con Instagram</td>\n",
       "      <td>Sin Twitter</td>\n",
       "      <td>Sin Twitter</td>\n",
       "    </tr>\n",
       "    <tr>\n",
       "      <th>217</th>\n",
       "      <td>Bar Colina</td>\n",
       "      <td>None</td>\n",
       "      <td>None</td>\n",
       "      <td>None</td>\n",
       "      <td>bar</td>\n",
       "      <td>private</td>\n",
       "      <td>italian</td>\n",
       "      <td>200</td>\n",
       "      <td>False</td>\n",
       "      <td>4.5</td>\n",
       "      <td>75</td>\n",
       "      <td>medium</td>\n",
       "      <td>None</td>\n",
       "      <td>None</td>\n",
       "      <td>None</td>\n",
       "      <td>0</td>\n",
       "      <td>6</td>\n",
       "      <td>0</td>\n",
       "      <td>0</td>\n",
       "      <td>2</td>\n",
       "      <td>1</td>\n",
       "      <td>0</td>\n",
       "      <td>0</td>\n",
       "      <td>0</td>\n",
       "      <td>0</td>\n",
       "      <td>0</td>\n",
       "      <td>0</td>\n",
       "      <td>0</td>\n",
       "      <td>0</td>\n",
       "      <td>0</td>\n",
       "      <td>0</td>\n",
       "      <td>0</td>\n",
       "      <td>0</td>\n",
       "      <td>0</td>\n",
       "      <td>11:00</td>\n",
       "      <td>23:00</td>\n",
       "      <td>[mon, tue, wed, thu, fri, sat, sun]</td>\n",
       "      <td>1</td>\n",
       "      <td>0</td>\n",
       "      <td>NaN</td>\n",
       "      <td>2</td>\n",
       "      <td>cash</td>\n",
       "      <td>NaN</td>\n",
       "      <td>transfer</td>\n",
       "      <td>NaN</td>\n",
       "      <td>0</td>\n",
       "      <td>esquina b y calzada de guines reparto merceditas</td>\n",
       "      <td>None</td>\n",
       "      <td>San Miguel del Padron</td>\n",
       "      <td>La Habana</td>\n",
       "      <td>None</td>\n",
       "      <td>Cuba</td>\n",
       "      <td>NaN</td>\n",
       "      <td>NaN</td>\n",
       "      <td>NaN</td>\n",
       "      <td>NaN</td>\n",
       "      <td>NaN</td>\n",
       "      <td>NaN</td>\n",
       "      <td>NaN</td>\n",
       "      <td>NaN</td>\n",
       "      <td>NaN</td>\n",
       "      <td>NaN</td>\n",
       "      <td>NaN</td>\n",
       "      <td>NaN</td>\n",
       "      <td>online</td>\n",
       "      <td>NaN</td>\n",
       "      <td>NaN</td>\n",
       "      <td>Sin FB</td>\n",
       "      <td>Sin Facebook</td>\n",
       "      <td>Sin Instagram</td>\n",
       "      <td>Sin Twitter</td>\n",
       "      <td>Sin Twitter</td>\n",
       "    </tr>\n",
       "    <tr>\n",
       "      <th>218</th>\n",
       "      <td>Buena Vibra</td>\n",
       "      <td>None</td>\n",
       "      <td>None</td>\n",
       "      <td>None</td>\n",
       "      <td>restaurant</td>\n",
       "      <td>private</td>\n",
       "      <td>cuban</td>\n",
       "      <td>20</td>\n",
       "      <td>False</td>\n",
       "      <td>4.5</td>\n",
       "      <td>75</td>\n",
       "      <td>medium</td>\n",
       "      <td>None</td>\n",
       "      <td>None</td>\n",
       "      <td>None</td>\n",
       "      <td>0</td>\n",
       "      <td>5</td>\n",
       "      <td>0</td>\n",
       "      <td>6</td>\n",
       "      <td>0</td>\n",
       "      <td>2</td>\n",
       "      <td>0</td>\n",
       "      <td>1</td>\n",
       "      <td>0</td>\n",
       "      <td>0</td>\n",
       "      <td>0</td>\n",
       "      <td>0</td>\n",
       "      <td>1</td>\n",
       "      <td>0</td>\n",
       "      <td>2</td>\n",
       "      <td>0</td>\n",
       "      <td>0</td>\n",
       "      <td>0</td>\n",
       "      <td>0</td>\n",
       "      <td>12:00</td>\n",
       "      <td>22:00</td>\n",
       "      <td>[mon, tue, wed, thu, fri, sat, sun]</td>\n",
       "      <td>1</td>\n",
       "      <td>1</td>\n",
       "      <td>takeaway</td>\n",
       "      <td>2</td>\n",
       "      <td>cash</td>\n",
       "      <td>NaN</td>\n",
       "      <td>transfer</td>\n",
       "      <td>NaN</td>\n",
       "      <td>0</td>\n",
       "      <td>None</td>\n",
       "      <td>None</td>\n",
       "      <td>San Miguel del Padron</td>\n",
       "      <td>La Habana</td>\n",
       "      <td>None</td>\n",
       "      <td>Cuba</td>\n",
       "      <td>NaN</td>\n",
       "      <td>NaN</td>\n",
       "      <td>NaN</td>\n",
       "      <td>NaN</td>\n",
       "      <td>NaN</td>\n",
       "      <td>NaN</td>\n",
       "      <td>NaN</td>\n",
       "      <td>NaN</td>\n",
       "      <td>NaN</td>\n",
       "      <td>NaN</td>\n",
       "      <td>NaN</td>\n",
       "      <td>NaN</td>\n",
       "      <td>online</td>\n",
       "      <td>NaN</td>\n",
       "      <td>NaN</td>\n",
       "      <td>Sin FB</td>\n",
       "      <td>Sin Facebook</td>\n",
       "      <td>Sin Instagram</td>\n",
       "      <td>Sin Twitter</td>\n",
       "      <td>Sin Twitter</td>\n",
       "    </tr>\n",
       "    <tr>\n",
       "      <th>220</th>\n",
       "      <td>Don Balbino's</td>\n",
       "      <td>None</td>\n",
       "      <td>None</td>\n",
       "      <td>None</td>\n",
       "      <td>bar</td>\n",
       "      <td>private</td>\n",
       "      <td>cuban</td>\n",
       "      <td>50</td>\n",
       "      <td>False</td>\n",
       "      <td>4.4</td>\n",
       "      <td>75</td>\n",
       "      <td>medium</td>\n",
       "      <td>None</td>\n",
       "      <td>None</td>\n",
       "      <td>None</td>\n",
       "      <td>0</td>\n",
       "      <td>12</td>\n",
       "      <td>0</td>\n",
       "      <td>14</td>\n",
       "      <td>1</td>\n",
       "      <td>3</td>\n",
       "      <td>5</td>\n",
       "      <td>9</td>\n",
       "      <td>8</td>\n",
       "      <td>0</td>\n",
       "      <td>0</td>\n",
       "      <td>2</td>\n",
       "      <td>0</td>\n",
       "      <td>0</td>\n",
       "      <td>6</td>\n",
       "      <td>13</td>\n",
       "      <td>0</td>\n",
       "      <td>0</td>\n",
       "      <td>16</td>\n",
       "      <td>08:30</td>\n",
       "      <td>23:00</td>\n",
       "      <td>[mon, tue, wed, thu, fri, sat, sun]</td>\n",
       "      <td>1</td>\n",
       "      <td>1</td>\n",
       "      <td>takeaway</td>\n",
       "      <td>3</td>\n",
       "      <td>cash</td>\n",
       "      <td>NaN</td>\n",
       "      <td>transfer</td>\n",
       "      <td>others</td>\n",
       "      <td>0</td>\n",
       "      <td>Calzada San Miguel del Padrón entre 8va y B</td>\n",
       "      <td>None</td>\n",
       "      <td>San Miguel del Padron</td>\n",
       "      <td>La Habana</td>\n",
       "      <td>None</td>\n",
       "      <td>Cuba</td>\n",
       "      <td>NaN</td>\n",
       "      <td>NaN</td>\n",
       "      <td>NaN</td>\n",
       "      <td>NaN</td>\n",
       "      <td>NaN</td>\n",
       "      <td>NaN</td>\n",
       "      <td>NaN</td>\n",
       "      <td>NaN</td>\n",
       "      <td>NaN</td>\n",
       "      <td>NaN</td>\n",
       "      <td>NaN</td>\n",
       "      <td>NaN</td>\n",
       "      <td>online</td>\n",
       "      <td>NaN</td>\n",
       "      <td>NaN</td>\n",
       "      <td>Sin FB</td>\n",
       "      <td>Sin Facebook</td>\n",
       "      <td>Sin Instagram</td>\n",
       "      <td>Sin Twitter</td>\n",
       "      <td>Sin Twitter</td>\n",
       "    </tr>\n",
       "    <tr>\n",
       "      <th>223</th>\n",
       "      <td>El Tráfico</td>\n",
       "      <td>None</td>\n",
       "      <td>None</td>\n",
       "      <td>None</td>\n",
       "      <td>restaurant</td>\n",
       "      <td>private</td>\n",
       "      <td>others</td>\n",
       "      <td>20</td>\n",
       "      <td>False</td>\n",
       "      <td>4.5</td>\n",
       "      <td>75</td>\n",
       "      <td>luxurious</td>\n",
       "      <td>None</td>\n",
       "      <td>None</td>\n",
       "      <td>None</td>\n",
       "      <td>0</td>\n",
       "      <td>0</td>\n",
       "      <td>0</td>\n",
       "      <td>10</td>\n",
       "      <td>6</td>\n",
       "      <td>3</td>\n",
       "      <td>1</td>\n",
       "      <td>0</td>\n",
       "      <td>5</td>\n",
       "      <td>0</td>\n",
       "      <td>0</td>\n",
       "      <td>0</td>\n",
       "      <td>0</td>\n",
       "      <td>0</td>\n",
       "      <td>0</td>\n",
       "      <td>0</td>\n",
       "      <td>0</td>\n",
       "      <td>0</td>\n",
       "      <td>13</td>\n",
       "      <td>10:00</td>\n",
       "      <td>22:00</td>\n",
       "      <td>[mon, tue, wed, thu, fri, sat, sun]</td>\n",
       "      <td>2</td>\n",
       "      <td>2</td>\n",
       "      <td>takeaway</td>\n",
       "      <td>3</td>\n",
       "      <td>cash</td>\n",
       "      <td>NaN</td>\n",
       "      <td>transfer</td>\n",
       "      <td>others</td>\n",
       "      <td>0</td>\n",
       "      <td>Calzada de Guines entre 90 y 94</td>\n",
       "      <td>None</td>\n",
       "      <td>San Miguel del Padron</td>\n",
       "      <td>La Habana</td>\n",
       "      <td>None</td>\n",
       "      <td>Cuba</td>\n",
       "      <td>others</td>\n",
       "      <td>others</td>\n",
       "      <td>NaN</td>\n",
       "      <td>NaN</td>\n",
       "      <td>NaN</td>\n",
       "      <td>NaN</td>\n",
       "      <td>NaN</td>\n",
       "      <td>NaN</td>\n",
       "      <td>NaN</td>\n",
       "      <td>NaN</td>\n",
       "      <td>NaN</td>\n",
       "      <td>NaN</td>\n",
       "      <td>online</td>\n",
       "      <td>NaN</td>\n",
       "      <td>NaN</td>\n",
       "      <td>Sin FB</td>\n",
       "      <td>Sin Facebook</td>\n",
       "      <td>Sin Instagram</td>\n",
       "      <td>Sin Twitter</td>\n",
       "      <td>Sin Twitter</td>\n",
       "    </tr>\n",
       "    <tr>\n",
       "      <th>225</th>\n",
       "      <td>KY-13</td>\n",
       "      <td>None</td>\n",
       "      <td>None</td>\n",
       "      <td>None</td>\n",
       "      <td>restaurant</td>\n",
       "      <td>private</td>\n",
       "      <td>cuban</td>\n",
       "      <td>24</td>\n",
       "      <td>False</td>\n",
       "      <td>4.5</td>\n",
       "      <td>75</td>\n",
       "      <td>high</td>\n",
       "      <td>None</td>\n",
       "      <td>None</td>\n",
       "      <td>None</td>\n",
       "      <td>0</td>\n",
       "      <td>12</td>\n",
       "      <td>0</td>\n",
       "      <td>15</td>\n",
       "      <td>2</td>\n",
       "      <td>3</td>\n",
       "      <td>10</td>\n",
       "      <td>6</td>\n",
       "      <td>3</td>\n",
       "      <td>1</td>\n",
       "      <td>0</td>\n",
       "      <td>0</td>\n",
       "      <td>0</td>\n",
       "      <td>0</td>\n",
       "      <td>0</td>\n",
       "      <td>0</td>\n",
       "      <td>0</td>\n",
       "      <td>0</td>\n",
       "      <td>18</td>\n",
       "      <td>10:00</td>\n",
       "      <td>23:00</td>\n",
       "      <td>[mon, tue, wed, thu, fri, sat, sun]</td>\n",
       "      <td>1</td>\n",
       "      <td>2</td>\n",
       "      <td>takeaway</td>\n",
       "      <td>2</td>\n",
       "      <td>cash</td>\n",
       "      <td>NaN</td>\n",
       "      <td>transfer</td>\n",
       "      <td>NaN</td>\n",
       "      <td>0</td>\n",
       "      <td>calzada de guines #45 e/ 13 y 23 AMP. San Matias</td>\n",
       "      <td>None</td>\n",
       "      <td>San Miguel del Padron</td>\n",
       "      <td>La Habana</td>\n",
       "      <td>None</td>\n",
       "      <td>Cuba</td>\n",
       "      <td>NaN</td>\n",
       "      <td>NaN</td>\n",
       "      <td>home</td>\n",
       "      <td>NaN</td>\n",
       "      <td>NaN</td>\n",
       "      <td>NaN</td>\n",
       "      <td>NaN</td>\n",
       "      <td>NaN</td>\n",
       "      <td>NaN</td>\n",
       "      <td>NaN</td>\n",
       "      <td>NaN</td>\n",
       "      <td>NaN</td>\n",
       "      <td>online</td>\n",
       "      <td>NaN</td>\n",
       "      <td>NaN</td>\n",
       "      <td>Sin FB</td>\n",
       "      <td>Sin Facebook</td>\n",
       "      <td>Sin Instagram</td>\n",
       "      <td>Sin Twitter</td>\n",
       "      <td>Sin Twitter</td>\n",
       "    </tr>\n",
       "    <tr>\n",
       "      <th>226</th>\n",
       "      <td>La Patrona</td>\n",
       "      <td>None</td>\n",
       "      <td>None</td>\n",
       "      <td>None</td>\n",
       "      <td>restaurant</td>\n",
       "      <td>private</td>\n",
       "      <td>cuban</td>\n",
       "      <td>6</td>\n",
       "      <td>False</td>\n",
       "      <td>4.5</td>\n",
       "      <td>75</td>\n",
       "      <td>medium</td>\n",
       "      <td>None</td>\n",
       "      <td>None</td>\n",
       "      <td>None</td>\n",
       "      <td>0</td>\n",
       "      <td>0</td>\n",
       "      <td>0</td>\n",
       "      <td>9</td>\n",
       "      <td>1</td>\n",
       "      <td>3</td>\n",
       "      <td>0</td>\n",
       "      <td>0</td>\n",
       "      <td>0</td>\n",
       "      <td>0</td>\n",
       "      <td>0</td>\n",
       "      <td>4</td>\n",
       "      <td>0</td>\n",
       "      <td>0</td>\n",
       "      <td>0</td>\n",
       "      <td>3</td>\n",
       "      <td>4</td>\n",
       "      <td>0</td>\n",
       "      <td>0</td>\n",
       "      <td>08:00</td>\n",
       "      <td>00:00</td>\n",
       "      <td>[tue, wed, thu, fri, sat, sun]</td>\n",
       "      <td>1</td>\n",
       "      <td>3</td>\n",
       "      <td>takeaway</td>\n",
       "      <td>2</td>\n",
       "      <td>cash</td>\n",
       "      <td>NaN</td>\n",
       "      <td>transfer</td>\n",
       "      <td>NaN</td>\n",
       "      <td>0</td>\n",
       "      <td>Calzada de Guines en San Francisco de Paula</td>\n",
       "      <td>None</td>\n",
       "      <td>San Miguel del Padron</td>\n",
       "      <td>La Habana</td>\n",
       "      <td>None</td>\n",
       "      <td>Cuba</td>\n",
       "      <td>others</td>\n",
       "      <td>NaN</td>\n",
       "      <td>home</td>\n",
       "      <td>NaN</td>\n",
       "      <td>NaN</td>\n",
       "      <td>NaN</td>\n",
       "      <td>NaN</td>\n",
       "      <td>NaN</td>\n",
       "      <td>NaN</td>\n",
       "      <td>NaN</td>\n",
       "      <td>NaN</td>\n",
       "      <td>NaN</td>\n",
       "      <td>online</td>\n",
       "      <td>NaN</td>\n",
       "      <td>NaN</td>\n",
       "      <td>Sin FB</td>\n",
       "      <td>Sin Facebook</td>\n",
       "      <td>Sin Instagram</td>\n",
       "      <td>Sin Twitter</td>\n",
       "      <td>Sin Twitter</td>\n",
       "    </tr>\n",
       "  </tbody>\n",
       "</table>\n",
       "</div>"
      ],
      "text/plain": [
       "                      name     phone                           email  \\\n",
       "75                El Bache      None                            None   \n",
       "79           Martínez Club      None                            None   \n",
       "83              Pal'Karajo      None                            None   \n",
       "118                   Polo  52411618                            None   \n",
       "119                   Polo  52411618                            None   \n",
       "128        Anillo Habanero  52042710                            None   \n",
       "144                  Kopas  51566616                            None   \n",
       "156  Trattoria Zia Cecilia  54600285  tractoriaziacecilias@gmail.com   \n",
       "193              Coco Blue  59121916                            None   \n",
       "199            El Farallón  78305187   farallonrestaurante@gmail.com   \n",
       "201         Fonda La Paila  53388837          fondapaila25@gmail.com   \n",
       "217             Bar Colina      None                            None   \n",
       "218            Buena Vibra      None                            None   \n",
       "220          Don Balbino's      None                            None   \n",
       "223             El Tráfico      None                            None   \n",
       "225                  KY-13      None                            None   \n",
       "226             La Patrona      None                            None   \n",
       "\n",
       "                           web    est_type bus_type  cuisine  cap  promo  \\\n",
       "75                        None  restaurant  private  italian   30  False   \n",
       "79                        None  restaurant  private    cuban   20  False   \n",
       "83                        None         bar  private    cuban   12  False   \n",
       "118                       None         bar  private   others   12  False   \n",
       "119                       None  restaurant  private    cuban   12  False   \n",
       "128                       None  restaurant  private    cuban   12  False   \n",
       "144                       None  restaurant  private   others   50  False   \n",
       "156                       None  restaurant  private  italian   30  False   \n",
       "193                       None         bar  private    cuban   12  False   \n",
       "199                       None  restaurant  private  italian   12  False   \n",
       "201  https://fondalapaila.com/  restaurant  private    cuban   12  False   \n",
       "217                       None         bar  private  italian  200  False   \n",
       "218                       None  restaurant  private    cuban   20  False   \n",
       "220                       None         bar  private    cuban   50  False   \n",
       "223                       None  restaurant  private   others   20  False   \n",
       "225                       None  restaurant  private    cuban   24  False   \n",
       "226                       None  restaurant  private    cuban    6  False   \n",
       "\n",
       "     rating  reviews      level                                    fb  \\\n",
       "75      4.5       75   economic                                  None   \n",
       "79      4.5       75     medium                                  None   \n",
       "83      4.4       75       high                                  None   \n",
       "118     4.5       75     medium                                  None   \n",
       "119     4.4       75     medium                                  None   \n",
       "128     4.5       30     medium                                  None   \n",
       "144     4.3       75       high                                  None   \n",
       "156     4.8       75     medium                  Trattoriaziacecilias   \n",
       "193     4.5       75     medium                                  None   \n",
       "199     4.4       75     medium                                  None   \n",
       "201     4.4       75     medium  https://www.facebook.com/lapaila25ym   \n",
       "217     4.5       75     medium                                  None   \n",
       "218     4.5       75     medium                                  None   \n",
       "220     4.4       75     medium                                  None   \n",
       "223     4.5       75  luxurious                                  None   \n",
       "225     4.5       75       high                                  None   \n",
       "226     4.5       75     medium                                  None   \n",
       "\n",
       "                                                 ig    tw  menu_breakfast  \\\n",
       "75                                             None  None               0   \n",
       "79                                             None  None               0   \n",
       "83                                             None  None               0   \n",
       "118                                            None  None               0   \n",
       "119                                            None  None               0   \n",
       "128                                            None  None               0   \n",
       "144                            hopas_bar_restaurant  None               0   \n",
       "156                           @trattoriaziacecilias  None               0   \n",
       "193                                            None  None               4   \n",
       "199  https://www.instagram.com/restaurantefarallon/  None               0   \n",
       "201         https://www.instagram.com/lapaila_25ym/  None               0   \n",
       "217                                            None  None               0   \n",
       "218                                            None  None               0   \n",
       "220                                            None  None               0   \n",
       "223                                            None  None               0   \n",
       "225                                            None  None               0   \n",
       "226                                            None  None               0   \n",
       "\n",
       "     menu_appetizer  menu_starters  menu_mains  menu_pizza  menu_pasta  \\\n",
       "75                0              0           0          10           4   \n",
       "79                4              0           9           4           2   \n",
       "83                1              0           2           0           0   \n",
       "118               0             10          25           2           2   \n",
       "119               0             10          20           2           2   \n",
       "128               0              9           4           1           1   \n",
       "144               0              8          43           0           0   \n",
       "156               0              3           0          13          15   \n",
       "193               0             10           4           0           0   \n",
       "199              18              0          35          18           0   \n",
       "201              17              0          23           0           1   \n",
       "217               6              0           0           2           1   \n",
       "218               5              0           6           0           2   \n",
       "220              12              0          14           1           3   \n",
       "223               0              0          10           6           3   \n",
       "225              12              0          15           2           3   \n",
       "226               0              0           9           1           3   \n",
       "\n",
       "     menu_seafood  menu_sandwich  menu_sides  menu_salads  menu_soups  \\\n",
       "75              0              0           0            0           0   \n",
       "79              0              3           0            0           0   \n",
       "83              0              5           0            0           0   \n",
       "118             0              0           0            0           0   \n",
       "119             5              0           0            0           0   \n",
       "128             2              0           0            0           0   \n",
       "144             0              0           0            0           0   \n",
       "156             0              0           0            0           0   \n",
       "193             0              0           0            0           0   \n",
       "199             5              0           0            0           0   \n",
       "201             0              0           0            0           0   \n",
       "217             0              0           0            0           0   \n",
       "218             0              1           0            0           0   \n",
       "220             5              9           8            0           0   \n",
       "223             1              0           5            0           0   \n",
       "225            10              6           3            1           0   \n",
       "226             0              0           0            0           0   \n",
       "\n",
       "     menu_desserts  menu_cocktails  menu_wines  menu_alcoholic_drinks  \\\n",
       "75               0               0           0                      0   \n",
       "79               0               0           0                      0   \n",
       "83               0               0           0                      2   \n",
       "118              0               0           0                      2   \n",
       "119              0               0           0                      0   \n",
       "128              3               0           0                      0   \n",
       "144              0               0           0                      6   \n",
       "156              0               6           3                     10   \n",
       "193              1              14           0                      6   \n",
       "199              1               0           0                     15   \n",
       "201              7               0           0                      0   \n",
       "217              0               0           0                      0   \n",
       "218              0               1           0                      2   \n",
       "220              2               0           0                      6   \n",
       "223              0               0           0                      0   \n",
       "225              0               0           0                      0   \n",
       "226              4               0           0                      0   \n",
       "\n",
       "     menu_non_alcoholic_drinks  menu_infusions  menu_water  menu_others  \\\n",
       "75                           0               0           0            8   \n",
       "79                           3               1           0            0   \n",
       "83                          10               5           0            0   \n",
       "118                          9               0           0            0   \n",
       "119                          0               0           0            0   \n",
       "128                          0               0           0            0   \n",
       "144                          0               0           0            0   \n",
       "156                          8               0           0            0   \n",
       "193                         14               0           0            0   \n",
       "199                          5               0           1            0   \n",
       "201                          0               0           0            0   \n",
       "217                          0               0           0            0   \n",
       "218                          0               0           0            0   \n",
       "220                         13               0           0           16   \n",
       "223                          0               0           0           13   \n",
       "225                          0               0           0           18   \n",
       "226                          3               4           0            0   \n",
       "\n",
       "    hours_open hours_close                           hours_days  \\\n",
       "75       10:30       22:30            [mon, tue, wed, thu, fri]   \n",
       "79       09:00       21:00  [mon, tue, wed, thu, fri, sat, sun]   \n",
       "83       10:00       22:00  [mon, tue, wed, thu, fri, sat, sun]   \n",
       "118      12:00       00:00  [mon, tue, wed, thu, fri, sat, sun]   \n",
       "119      12:00       00:00  [mon, tue, wed, thu, fri, sat, sun]   \n",
       "128      10:00       23:00  [mon, tue, wed, thu, fri, sat, sun]   \n",
       "144      10:00       23:30  [mon, tue, wed, thu, fri, sat, sun]   \n",
       "156      12:00       23:00  [mon, tue, wed, thu, fri, sat, sun]   \n",
       "193      10:00       00:30                 [thu, fri, sat, sun]   \n",
       "199      12:00       24:00  [mon, tue, wed, thu, fri, sat, sun]   \n",
       "201      12:00       24:00  [mon, tue, wed, thu, fri, sat, sun]   \n",
       "217      11:00       23:00  [mon, tue, wed, thu, fri, sat, sun]   \n",
       "218      12:00       22:00  [mon, tue, wed, thu, fri, sat, sun]   \n",
       "220      08:30       23:00  [mon, tue, wed, thu, fri, sat, sun]   \n",
       "223      10:00       22:00  [mon, tue, wed, thu, fri, sat, sun]   \n",
       "225      10:00       23:00  [mon, tue, wed, thu, fri, sat, sun]   \n",
       "226      08:00       00:00       [tue, wed, thu, fri, sat, sun]   \n",
       "\n",
       "     reservation_qantity  delivery_qantity delivery_takeaway  payment_qantity  \\\n",
       "75                     1                 2          takeaway                2   \n",
       "79                     1                 1               NaN                2   \n",
       "83                     1                 1          takeaway                2   \n",
       "118                    2                 2          takeaway                2   \n",
       "119                    2                 1          takeaway                2   \n",
       "128                    2                 2          takeaway                3   \n",
       "144                    3                 2          takeaway                3   \n",
       "156                    2                 2          takeaway                2   \n",
       "193                    2                 1          takeaway                2   \n",
       "199                    2                 2          takeaway                2   \n",
       "201                    2                 2          takeaway                2   \n",
       "217                    1                 0               NaN                2   \n",
       "218                    1                 1          takeaway                2   \n",
       "220                    1                 1          takeaway                3   \n",
       "223                    2                 2          takeaway                3   \n",
       "225                    1                 2          takeaway                2   \n",
       "226                    1                 3          takeaway                2   \n",
       "\n",
       "    payment_cash payment_card payment_transfer payment_others  \\\n",
       "75          cash          NaN         transfer            NaN   \n",
       "79          cash          NaN         transfer            NaN   \n",
       "83          cash          NaN         transfer            NaN   \n",
       "118         cash          NaN         transfer            NaN   \n",
       "119         cash          NaN         transfer            NaN   \n",
       "128         cash          NaN         transfer         others   \n",
       "144         cash         card         transfer            NaN   \n",
       "156         cash          NaN         transfer            NaN   \n",
       "193         cash          NaN         transfer            NaN   \n",
       "199         cash          NaN         transfer            NaN   \n",
       "201         cash          NaN         transfer            NaN   \n",
       "217         cash          NaN         transfer            NaN   \n",
       "218         cash          NaN         transfer            NaN   \n",
       "220         cash          NaN         transfer         others   \n",
       "223         cash          NaN         transfer         others   \n",
       "225         cash          NaN         transfer            NaN   \n",
       "226         cash          NaN         transfer            NaN   \n",
       "\n",
       "     amenities_qantity                                         loc_street  \\\n",
       "75                   0                  Calle 30 entre 95 y 97,Las Brisas   \n",
       "79                   1                                               None   \n",
       "83                   1                             Avenida 101 Esquina 16   \n",
       "118                  0                                               None   \n",
       "119                  0                                         Cruz Verde   \n",
       "128                  2                         Primer Anillo de La Habana   \n",
       "144                  0                       Esquina de 5ta Avenida, #482   \n",
       "156                  0  #503, Calle 482 entre 5ta Avenida y 5ta D, Gua...   \n",
       "193                  0                                               None   \n",
       "199                  0                            Calle 22 # 361, esq. 23   \n",
       "201                  0                                 Calle M e/ 25 y 27   \n",
       "217                  0   esquina b y calzada de guines reparto merceditas   \n",
       "218                  0                                               None   \n",
       "220                  0        Calzada San Miguel del Padrón entre 8va y B   \n",
       "223                  0                    Calzada de Guines entre 90 y 94   \n",
       "225                  0   calzada de guines #45 e/ 13 y 23 AMP. San Matias   \n",
       "226                  0        Calzada de Guines en San Francisco de Paula   \n",
       "\n",
       "        loc_council            loc_municipe loc_province loc_zip loc_country  \\\n",
       "75             None                 Cotorro    La Habana    None        Cuba   \n",
       "79             None                 Cotorro    La Habana    None        Cuba   \n",
       "83   Centro Cotorro                 Cotorro    La Habana    None        Cuba   \n",
       "118            None              Guanabacoa    La Habana    None        Cuba   \n",
       "119            None              Guanabacoa    La Habana    None        Cuba   \n",
       "128            None              Guanabacoa    La Habana    None        Cuba   \n",
       "144            None         Habana del Este    La Habana    None        Cuba   \n",
       "156            None         Habana del Este    La Habana    None        Cuba   \n",
       "193            None  Plaza de la Revolucion    La Habana    None        Cuba   \n",
       "199          Vedado  Plaza de la Revolucion    La Habana    None        Cuba   \n",
       "201          Vedado  Plaza de la Revolucion    La Habana    None        Cuba   \n",
       "217            None   San Miguel del Padron    La Habana    None        Cuba   \n",
       "218            None   San Miguel del Padron    La Habana    None        Cuba   \n",
       "220            None   San Miguel del Padron    La Habana    None        Cuba   \n",
       "223            None   San Miguel del Padron    La Habana    None        Cuba   \n",
       "225            None   San Miguel del Padron    La Habana    None        Cuba   \n",
       "226            None   San Miguel del Padron    La Habana    None        Cuba   \n",
       "\n",
       "    delivery_others reservation_others delivery_home reservation_phone  \\\n",
       "75              NaN                NaN          home               NaN   \n",
       "79              NaN                NaN          home               NaN   \n",
       "83              NaN                NaN           NaN               NaN   \n",
       "118             NaN                NaN          home             phone   \n",
       "119             NaN                NaN           NaN             phone   \n",
       "128             NaN                NaN          home             phone   \n",
       "144             NaN             others          home             phone   \n",
       "156             NaN                NaN          home             phone   \n",
       "193             NaN                NaN           NaN             phone   \n",
       "199             NaN                NaN          home             phone   \n",
       "201             NaN                NaN          home             phone   \n",
       "217             NaN                NaN           NaN               NaN   \n",
       "218             NaN                NaN           NaN               NaN   \n",
       "220             NaN                NaN           NaN               NaN   \n",
       "223          others             others           NaN               NaN   \n",
       "225             NaN                NaN          home               NaN   \n",
       "226          others                NaN          home               NaN   \n",
       "\n",
       "    amenities_pet_friendly amenities_outdoor      loc_x      loc_y  \\\n",
       "75                     NaN               NaN        NaN        NaN   \n",
       "79            pet_friendly               NaN        NaN        NaN   \n",
       "83            pet_friendly               NaN        NaN        NaN   \n",
       "118                    NaN               NaN        NaN        NaN   \n",
       "119                    NaN               NaN        NaN        NaN   \n",
       "128                    NaN           outdoor        NaN        NaN   \n",
       "144                    NaN               NaN        NaN        NaN   \n",
       "156                    NaN               NaN        NaN        NaN   \n",
       "193                    NaN               NaN        NaN        NaN   \n",
       "199                    NaN               NaN  23.124342 -82.404149   \n",
       "201                    NaN               NaN  23.144895 -82.382637   \n",
       "217                    NaN               NaN        NaN        NaN   \n",
       "218                    NaN               NaN        NaN        NaN   \n",
       "220                    NaN               NaN        NaN        NaN   \n",
       "223                    NaN               NaN        NaN        NaN   \n",
       "225                    NaN               NaN        NaN        NaN   \n",
       "226                    NaN               NaN        NaN        NaN   \n",
       "\n",
       "     menu_coffee  menu_juices  menu_smoothie  menu_ice_cream_shake  \\\n",
       "75           NaN          NaN            NaN                   NaN   \n",
       "79           NaN          NaN            NaN                   NaN   \n",
       "83           NaN          NaN            NaN                   NaN   \n",
       "118          NaN          NaN            NaN                   NaN   \n",
       "119          NaN          NaN            NaN                   NaN   \n",
       "128          NaN          NaN            NaN                   NaN   \n",
       "144          NaN          NaN            NaN                   NaN   \n",
       "156          NaN          NaN            NaN                   NaN   \n",
       "193          NaN          NaN            NaN                   NaN   \n",
       "199          NaN          NaN            NaN                   NaN   \n",
       "201          NaN          NaN            NaN                   NaN   \n",
       "217          NaN          NaN            NaN                   NaN   \n",
       "218          NaN          NaN            NaN                   NaN   \n",
       "220          NaN          NaN            NaN                   NaN   \n",
       "223          NaN          NaN            NaN                   NaN   \n",
       "225          NaN          NaN            NaN                   NaN   \n",
       "226          NaN          NaN            NaN                   NaN   \n",
       "\n",
       "    reservation_online amenities_live_music amenities_wifi categoria  \\\n",
       "75              online                  NaN            NaN    Sin FB   \n",
       "79              online                  NaN            NaN    Sin FB   \n",
       "83              online                  NaN            NaN    Sin FB   \n",
       "118             online                  NaN            NaN    Sin FB   \n",
       "119             online                  NaN            NaN    Sin FB   \n",
       "128             online           live_music            NaN    Sin FB   \n",
       "144             online                  NaN            NaN    Sin FB   \n",
       "156             online                  NaN            NaN    Con FB   \n",
       "193             online                  NaN            NaN    Sin FB   \n",
       "199             online                  NaN            NaN    Sin FB   \n",
       "201             online                  NaN            NaN    Con FB   \n",
       "217             online                  NaN            NaN    Sin FB   \n",
       "218             online                  NaN            NaN    Sin FB   \n",
       "220             online                  NaN            NaN    Sin FB   \n",
       "223             online                  NaN            NaN    Sin FB   \n",
       "225             online                  NaN            NaN    Sin FB   \n",
       "226             online                  NaN            NaN    Sin FB   \n",
       "\n",
       "        clasif_fb      clasif_ig    clasif_tw   clasif_tw2  \n",
       "75   Sin Facebook  Sin Instagram  Sin Twitter  Sin Twitter  \n",
       "79   Sin Facebook  Sin Instagram  Sin Twitter  Sin Twitter  \n",
       "83   Sin Facebook  Sin Instagram  Sin Twitter  Sin Twitter  \n",
       "118  Sin Facebook  Sin Instagram  Sin Twitter  Sin Twitter  \n",
       "119  Sin Facebook  Sin Instagram  Sin Twitter  Sin Twitter  \n",
       "128  Sin Facebook  Sin Instagram  Sin Twitter  Sin Twitter  \n",
       "144  Sin Facebook  Con Instagram  Sin Twitter  Sin Twitter  \n",
       "156  Con Facebook  Con Instagram  Sin Twitter  Sin Twitter  \n",
       "193  Sin Facebook  Sin Instagram  Sin Twitter  Sin Twitter  \n",
       "199  Sin Facebook  Con Instagram  Sin Twitter  Sin Twitter  \n",
       "201  Con Facebook  Con Instagram  Sin Twitter  Sin Twitter  \n",
       "217  Sin Facebook  Sin Instagram  Sin Twitter  Sin Twitter  \n",
       "218  Sin Facebook  Sin Instagram  Sin Twitter  Sin Twitter  \n",
       "220  Sin Facebook  Sin Instagram  Sin Twitter  Sin Twitter  \n",
       "223  Sin Facebook  Sin Instagram  Sin Twitter  Sin Twitter  \n",
       "225  Sin Facebook  Sin Instagram  Sin Twitter  Sin Twitter  \n",
       "226  Sin Facebook  Sin Instagram  Sin Twitter  Sin Twitter  "
      ]
     },
     "metadata": {},
     "output_type": "display_data"
    },
    {
     "data": {
      "text/html": [
       "<div>\n",
       "<style scoped>\n",
       "    .dataframe tbody tr th:only-of-type {\n",
       "        vertical-align: middle;\n",
       "    }\n",
       "\n",
       "    .dataframe tbody tr th {\n",
       "        vertical-align: top;\n",
       "    }\n",
       "\n",
       "    .dataframe thead th {\n",
       "        text-align: right;\n",
       "    }\n",
       "</style>\n",
       "<table border=\"1\" class=\"dataframe\">\n",
       "  <thead>\n",
       "    <tr style=\"text-align: right;\">\n",
       "      <th></th>\n",
       "      <th>name</th>\n",
       "      <th>phone</th>\n",
       "      <th>email</th>\n",
       "      <th>web</th>\n",
       "      <th>est_type</th>\n",
       "      <th>bus_type</th>\n",
       "      <th>cuisine</th>\n",
       "      <th>cap</th>\n",
       "      <th>promo</th>\n",
       "      <th>rating</th>\n",
       "      <th>reviews</th>\n",
       "      <th>level</th>\n",
       "      <th>fb</th>\n",
       "      <th>ig</th>\n",
       "      <th>tw</th>\n",
       "      <th>menu_breakfast</th>\n",
       "      <th>menu_appetizer</th>\n",
       "      <th>menu_starters</th>\n",
       "      <th>menu_mains</th>\n",
       "      <th>menu_pizza</th>\n",
       "      <th>menu_pasta</th>\n",
       "      <th>menu_seafood</th>\n",
       "      <th>menu_sandwich</th>\n",
       "      <th>menu_sides</th>\n",
       "      <th>menu_salads</th>\n",
       "      <th>menu_soups</th>\n",
       "      <th>menu_desserts</th>\n",
       "      <th>menu_cocktails</th>\n",
       "      <th>menu_wines</th>\n",
       "      <th>menu_alcoholic_drinks</th>\n",
       "      <th>menu_non_alcoholic_drinks</th>\n",
       "      <th>menu_infusions</th>\n",
       "      <th>menu_water</th>\n",
       "      <th>menu_others</th>\n",
       "      <th>hours_open</th>\n",
       "      <th>hours_close</th>\n",
       "      <th>hours_days</th>\n",
       "      <th>reservation_qantity</th>\n",
       "      <th>delivery_qantity</th>\n",
       "      <th>delivery_takeaway</th>\n",
       "      <th>payment_qantity</th>\n",
       "      <th>payment_cash</th>\n",
       "      <th>payment_card</th>\n",
       "      <th>payment_transfer</th>\n",
       "      <th>payment_others</th>\n",
       "      <th>amenities_qantity</th>\n",
       "      <th>loc_street</th>\n",
       "      <th>loc_council</th>\n",
       "      <th>loc_municipe</th>\n",
       "      <th>loc_province</th>\n",
       "      <th>loc_zip</th>\n",
       "      <th>loc_country</th>\n",
       "      <th>delivery_others</th>\n",
       "      <th>reservation_others</th>\n",
       "      <th>delivery_home</th>\n",
       "      <th>reservation_phone</th>\n",
       "      <th>amenities_pet_friendly</th>\n",
       "      <th>amenities_outdoor</th>\n",
       "      <th>loc_x</th>\n",
       "      <th>loc_y</th>\n",
       "      <th>menu_coffee</th>\n",
       "      <th>menu_juices</th>\n",
       "      <th>menu_smoothie</th>\n",
       "      <th>menu_ice_cream_shake</th>\n",
       "      <th>reservation_online</th>\n",
       "      <th>amenities_live_music</th>\n",
       "      <th>amenities_wifi</th>\n",
       "      <th>categoria</th>\n",
       "      <th>clasif_fb</th>\n",
       "      <th>clasif_ig</th>\n",
       "      <th>clasif_tw</th>\n",
       "      <th>clasif_tw2</th>\n",
       "    </tr>\n",
       "  </thead>\n",
       "  <tbody>\n",
       "    <tr>\n",
       "      <th>14</th>\n",
       "      <td>Dominica Like</td>\n",
       "      <td>53324796</td>\n",
       "      <td>None</td>\n",
       "      <td>None</td>\n",
       "      <td>restaurant</td>\n",
       "      <td>private</td>\n",
       "      <td>italian</td>\n",
       "      <td>12</td>\n",
       "      <td>False</td>\n",
       "      <td>4.4</td>\n",
       "      <td>75</td>\n",
       "      <td>high</td>\n",
       "      <td>None</td>\n",
       "      <td>None</td>\n",
       "      <td>None</td>\n",
       "      <td>0</td>\n",
       "      <td>7</td>\n",
       "      <td>0</td>\n",
       "      <td>10</td>\n",
       "      <td>3</td>\n",
       "      <td>3</td>\n",
       "      <td>3</td>\n",
       "      <td>0</td>\n",
       "      <td>5</td>\n",
       "      <td>0</td>\n",
       "      <td>4</td>\n",
       "      <td>2</td>\n",
       "      <td>26</td>\n",
       "      <td>2</td>\n",
       "      <td>22</td>\n",
       "      <td>12</td>\n",
       "      <td>5</td>\n",
       "      <td>2</td>\n",
       "      <td>0</td>\n",
       "      <td>12:00</td>\n",
       "      <td>24:00</td>\n",
       "      <td>[mon, tue, wed, thu, fri, sat, sun]</td>\n",
       "      <td>1</td>\n",
       "      <td>2</td>\n",
       "      <td>takeaway</td>\n",
       "      <td>3</td>\n",
       "      <td>cash</td>\n",
       "      <td>card</td>\n",
       "      <td>transfer</td>\n",
       "      <td>NaN</td>\n",
       "      <td>0</td>\n",
       "      <td>Calle 11. e/ 6 y 8</td>\n",
       "      <td>None</td>\n",
       "      <td>Boyeros</td>\n",
       "      <td>La Habana</td>\n",
       "      <td>None</td>\n",
       "      <td>Cuba</td>\n",
       "      <td>NaN</td>\n",
       "      <td>NaN</td>\n",
       "      <td>home</td>\n",
       "      <td>phone</td>\n",
       "      <td>NaN</td>\n",
       "      <td>NaN</td>\n",
       "      <td>NaN</td>\n",
       "      <td>NaN</td>\n",
       "      <td>NaN</td>\n",
       "      <td>NaN</td>\n",
       "      <td>NaN</td>\n",
       "      <td>NaN</td>\n",
       "      <td>NaN</td>\n",
       "      <td>NaN</td>\n",
       "      <td>NaN</td>\n",
       "      <td>Sin FB</td>\n",
       "      <td>Sin Facebook</td>\n",
       "      <td>Sin Instagram</td>\n",
       "      <td>Sin Twitter</td>\n",
       "      <td>Sin Twitter</td>\n",
       "    </tr>\n",
       "    <tr>\n",
       "      <th>18</th>\n",
       "      <td>Entabla2</td>\n",
       "      <td>51744817</td>\n",
       "      <td>None</td>\n",
       "      <td>None</td>\n",
       "      <td>restaurant</td>\n",
       "      <td>private</td>\n",
       "      <td>cuban</td>\n",
       "      <td>12</td>\n",
       "      <td>False</td>\n",
       "      <td>4.4</td>\n",
       "      <td>75</td>\n",
       "      <td>medium</td>\n",
       "      <td>https://www.facebook.com/profile.php?id=615584...</td>\n",
       "      <td>https://www.instagram.com/entablados.habana/</td>\n",
       "      <td>None</td>\n",
       "      <td>0</td>\n",
       "      <td>0</td>\n",
       "      <td>13</td>\n",
       "      <td>10</td>\n",
       "      <td>0</td>\n",
       "      <td>0</td>\n",
       "      <td>9</td>\n",
       "      <td>0</td>\n",
       "      <td>3</td>\n",
       "      <td>1</td>\n",
       "      <td>0</td>\n",
       "      <td>1</td>\n",
       "      <td>8</td>\n",
       "      <td>2</td>\n",
       "      <td>10</td>\n",
       "      <td>11</td>\n",
       "      <td>5</td>\n",
       "      <td>1</td>\n",
       "      <td>0</td>\n",
       "      <td>None</td>\n",
       "      <td>None</td>\n",
       "      <td>[mon, tue, wed, thu, fri, sat, sun]</td>\n",
       "      <td>2</td>\n",
       "      <td>2</td>\n",
       "      <td>takeaway</td>\n",
       "      <td>1</td>\n",
       "      <td>cash</td>\n",
       "      <td>NaN</td>\n",
       "      <td>NaN</td>\n",
       "      <td>NaN</td>\n",
       "      <td>1</td>\n",
       "      <td>Carretera Terminal 2, Aeropuerto Internacional...</td>\n",
       "      <td>Calixto Sanchez</td>\n",
       "      <td>Boyeros</td>\n",
       "      <td>La Habana</td>\n",
       "      <td>None</td>\n",
       "      <td>Cuba</td>\n",
       "      <td>others</td>\n",
       "      <td>others</td>\n",
       "      <td>NaN</td>\n",
       "      <td>phone</td>\n",
       "      <td>NaN</td>\n",
       "      <td>outdoor</td>\n",
       "      <td>NaN</td>\n",
       "      <td>NaN</td>\n",
       "      <td>NaN</td>\n",
       "      <td>NaN</td>\n",
       "      <td>NaN</td>\n",
       "      <td>NaN</td>\n",
       "      <td>NaN</td>\n",
       "      <td>NaN</td>\n",
       "      <td>NaN</td>\n",
       "      <td>Con FB</td>\n",
       "      <td>Con Facebook</td>\n",
       "      <td>Con Instagram</td>\n",
       "      <td>Sin Twitter</td>\n",
       "      <td>Sin Twitter</td>\n",
       "    </tr>\n",
       "    <tr>\n",
       "      <th>23</th>\n",
       "      <td>Tanokura</td>\n",
       "      <td>76832173</td>\n",
       "      <td>None</td>\n",
       "      <td>None</td>\n",
       "      <td>restaurant</td>\n",
       "      <td>private</td>\n",
       "      <td>others</td>\n",
       "      <td>30</td>\n",
       "      <td>False</td>\n",
       "      <td>4.1</td>\n",
       "      <td>30</td>\n",
       "      <td>luxurious</td>\n",
       "      <td>Cafe-Restaurant Tanokura</td>\n",
       "      <td>@restaurant_tanokura</td>\n",
       "      <td>None</td>\n",
       "      <td>0</td>\n",
       "      <td>0</td>\n",
       "      <td>26</td>\n",
       "      <td>77</td>\n",
       "      <td>3</td>\n",
       "      <td>2</td>\n",
       "      <td>19</td>\n",
       "      <td>0</td>\n",
       "      <td>25</td>\n",
       "      <td>0</td>\n",
       "      <td>0</td>\n",
       "      <td>7</td>\n",
       "      <td>13</td>\n",
       "      <td>1</td>\n",
       "      <td>23</td>\n",
       "      <td>13</td>\n",
       "      <td>0</td>\n",
       "      <td>3</td>\n",
       "      <td>0</td>\n",
       "      <td>11:00</td>\n",
       "      <td>23:00</td>\n",
       "      <td>[mon, tue, wed, thu, fri, sat, sun]</td>\n",
       "      <td>1</td>\n",
       "      <td>1</td>\n",
       "      <td>takeaway</td>\n",
       "      <td>3</td>\n",
       "      <td>cash</td>\n",
       "      <td>card</td>\n",
       "      <td>NaN</td>\n",
       "      <td>others</td>\n",
       "      <td>0</td>\n",
       "      <td>Calle 403, esquina de Av Rancho Boyeros y Call...</td>\n",
       "      <td>None</td>\n",
       "      <td>Boyeros</td>\n",
       "      <td>La Habana</td>\n",
       "      <td>None</td>\n",
       "      <td>Cuba</td>\n",
       "      <td>NaN</td>\n",
       "      <td>NaN</td>\n",
       "      <td>NaN</td>\n",
       "      <td>phone</td>\n",
       "      <td>NaN</td>\n",
       "      <td>NaN</td>\n",
       "      <td>NaN</td>\n",
       "      <td>NaN</td>\n",
       "      <td>NaN</td>\n",
       "      <td>NaN</td>\n",
       "      <td>NaN</td>\n",
       "      <td>NaN</td>\n",
       "      <td>NaN</td>\n",
       "      <td>NaN</td>\n",
       "      <td>NaN</td>\n",
       "      <td>Con FB</td>\n",
       "      <td>Con Facebook</td>\n",
       "      <td>Con Instagram</td>\n",
       "      <td>Sin Twitter</td>\n",
       "      <td>Sin Twitter</td>\n",
       "    </tr>\n",
       "    <tr>\n",
       "      <th>32</th>\n",
       "      <td>El Biky</td>\n",
       "      <td>78706515</td>\n",
       "      <td>None</td>\n",
       "      <td>elbiky.com</td>\n",
       "      <td>bar</td>\n",
       "      <td>private</td>\n",
       "      <td>cuban</td>\n",
       "      <td>12</td>\n",
       "      <td>False</td>\n",
       "      <td>4.5</td>\n",
       "      <td>30</td>\n",
       "      <td>high</td>\n",
       "      <td>None</td>\n",
       "      <td>None</td>\n",
       "      <td>None</td>\n",
       "      <td>0</td>\n",
       "      <td>0</td>\n",
       "      <td>22</td>\n",
       "      <td>26</td>\n",
       "      <td>1</td>\n",
       "      <td>5</td>\n",
       "      <td>0</td>\n",
       "      <td>0</td>\n",
       "      <td>16</td>\n",
       "      <td>4</td>\n",
       "      <td>0</td>\n",
       "      <td>12</td>\n",
       "      <td>13</td>\n",
       "      <td>3</td>\n",
       "      <td>5</td>\n",
       "      <td>15</td>\n",
       "      <td>8</td>\n",
       "      <td>3</td>\n",
       "      <td>0</td>\n",
       "      <td>08:00</td>\n",
       "      <td>23:00</td>\n",
       "      <td>[mon, tue, wed, thu, fri, sat, sun]</td>\n",
       "      <td>2</td>\n",
       "      <td>3</td>\n",
       "      <td>takeaway</td>\n",
       "      <td>3</td>\n",
       "      <td>cash</td>\n",
       "      <td>card</td>\n",
       "      <td>NaN</td>\n",
       "      <td>others</td>\n",
       "      <td>0</td>\n",
       "      <td>Infanta Nº412 e/ San Lázaro y Concordia</td>\n",
       "      <td>None</td>\n",
       "      <td>Centro Habana</td>\n",
       "      <td>La Habana</td>\n",
       "      <td>None</td>\n",
       "      <td>Cuba</td>\n",
       "      <td>others</td>\n",
       "      <td>others</td>\n",
       "      <td>home</td>\n",
       "      <td>phone</td>\n",
       "      <td>NaN</td>\n",
       "      <td>NaN</td>\n",
       "      <td>NaN</td>\n",
       "      <td>NaN</td>\n",
       "      <td>NaN</td>\n",
       "      <td>NaN</td>\n",
       "      <td>NaN</td>\n",
       "      <td>NaN</td>\n",
       "      <td>NaN</td>\n",
       "      <td>NaN</td>\n",
       "      <td>NaN</td>\n",
       "      <td>Sin FB</td>\n",
       "      <td>Sin Facebook</td>\n",
       "      <td>Sin Instagram</td>\n",
       "      <td>Sin Twitter</td>\n",
       "      <td>Sin Twitter</td>\n",
       "    </tr>\n",
       "    <tr>\n",
       "      <th>71</th>\n",
       "      <td>Don Omar</td>\n",
       "      <td>76820340</td>\n",
       "      <td>None</td>\n",
       "      <td>None</td>\n",
       "      <td>restaurant</td>\n",
       "      <td>private</td>\n",
       "      <td>cuban</td>\n",
       "      <td>12</td>\n",
       "      <td>False</td>\n",
       "      <td>4.5</td>\n",
       "      <td>75</td>\n",
       "      <td>medium</td>\n",
       "      <td>None</td>\n",
       "      <td>None</td>\n",
       "      <td>None</td>\n",
       "      <td>0</td>\n",
       "      <td>12</td>\n",
       "      <td>0</td>\n",
       "      <td>26</td>\n",
       "      <td>9</td>\n",
       "      <td>6</td>\n",
       "      <td>9</td>\n",
       "      <td>0</td>\n",
       "      <td>9</td>\n",
       "      <td>5</td>\n",
       "      <td>2</td>\n",
       "      <td>6</td>\n",
       "      <td>2</td>\n",
       "      <td>0</td>\n",
       "      <td>32</td>\n",
       "      <td>9</td>\n",
       "      <td>4</td>\n",
       "      <td>1</td>\n",
       "      <td>7</td>\n",
       "      <td>None</td>\n",
       "      <td>None</td>\n",
       "      <td>[mon, tue, wed, thu, fri, sat, sun]</td>\n",
       "      <td>1</td>\n",
       "      <td>2</td>\n",
       "      <td>takeaway</td>\n",
       "      <td>3</td>\n",
       "      <td>cash</td>\n",
       "      <td>card</td>\n",
       "      <td>transfer</td>\n",
       "      <td>NaN</td>\n",
       "      <td>1</td>\n",
       "      <td>Calle 22A % 65 y 63</td>\n",
       "      <td>reparto América</td>\n",
       "      <td>Cotorro</td>\n",
       "      <td>La Habana</td>\n",
       "      <td>None</td>\n",
       "      <td>Cuba</td>\n",
       "      <td>NaN</td>\n",
       "      <td>NaN</td>\n",
       "      <td>home</td>\n",
       "      <td>phone</td>\n",
       "      <td>pet_friendly</td>\n",
       "      <td>NaN</td>\n",
       "      <td>NaN</td>\n",
       "      <td>NaN</td>\n",
       "      <td>NaN</td>\n",
       "      <td>NaN</td>\n",
       "      <td>NaN</td>\n",
       "      <td>NaN</td>\n",
       "      <td>NaN</td>\n",
       "      <td>NaN</td>\n",
       "      <td>NaN</td>\n",
       "      <td>Sin FB</td>\n",
       "      <td>Sin Facebook</td>\n",
       "      <td>Sin Instagram</td>\n",
       "      <td>Sin Twitter</td>\n",
       "      <td>Sin Twitter</td>\n",
       "    </tr>\n",
       "    <tr>\n",
       "      <th>88</th>\n",
       "      <td>Casa Godo</td>\n",
       "      <td>76034192</td>\n",
       "      <td>None</td>\n",
       "      <td>None</td>\n",
       "      <td>restaurant</td>\n",
       "      <td>private</td>\n",
       "      <td>cuban</td>\n",
       "      <td>12</td>\n",
       "      <td>False</td>\n",
       "      <td>4.5</td>\n",
       "      <td>75</td>\n",
       "      <td>medium</td>\n",
       "      <td>None</td>\n",
       "      <td>@casa_godo._.oficial</td>\n",
       "      <td>None</td>\n",
       "      <td>0</td>\n",
       "      <td>5</td>\n",
       "      <td>0</td>\n",
       "      <td>8</td>\n",
       "      <td>0</td>\n",
       "      <td>0</td>\n",
       "      <td>6</td>\n",
       "      <td>0</td>\n",
       "      <td>3</td>\n",
       "      <td>1</td>\n",
       "      <td>0</td>\n",
       "      <td>1</td>\n",
       "      <td>0</td>\n",
       "      <td>0</td>\n",
       "      <td>0</td>\n",
       "      <td>0</td>\n",
       "      <td>0</td>\n",
       "      <td>0</td>\n",
       "      <td>0</td>\n",
       "      <td>12:00</td>\n",
       "      <td>23:00</td>\n",
       "      <td>[mon, tue, wed, thu, fri, sat, sun]</td>\n",
       "      <td>1</td>\n",
       "      <td>1</td>\n",
       "      <td>takeaway</td>\n",
       "      <td>3</td>\n",
       "      <td>cash</td>\n",
       "      <td>card</td>\n",
       "      <td>transfer</td>\n",
       "      <td>NaN</td>\n",
       "      <td>0</td>\n",
       "      <td>Ave. Mayía Rodríguez # 358 e/ San Mariano y Vi...</td>\n",
       "      <td>El Mónaco</td>\n",
       "      <td>Diez de Octubre</td>\n",
       "      <td>La Habana</td>\n",
       "      <td>None</td>\n",
       "      <td>Cuba</td>\n",
       "      <td>NaN</td>\n",
       "      <td>NaN</td>\n",
       "      <td>NaN</td>\n",
       "      <td>phone</td>\n",
       "      <td>NaN</td>\n",
       "      <td>NaN</td>\n",
       "      <td>NaN</td>\n",
       "      <td>NaN</td>\n",
       "      <td>NaN</td>\n",
       "      <td>NaN</td>\n",
       "      <td>NaN</td>\n",
       "      <td>NaN</td>\n",
       "      <td>NaN</td>\n",
       "      <td>NaN</td>\n",
       "      <td>NaN</td>\n",
       "      <td>Sin FB</td>\n",
       "      <td>Sin Facebook</td>\n",
       "      <td>Con Instagram</td>\n",
       "      <td>Sin Twitter</td>\n",
       "      <td>Sin Twitter</td>\n",
       "    </tr>\n",
       "    <tr>\n",
       "      <th>99</th>\n",
       "      <td>Lacret 559</td>\n",
       "      <td>52906422</td>\n",
       "      <td>None</td>\n",
       "      <td>None</td>\n",
       "      <td>bar</td>\n",
       "      <td>private</td>\n",
       "      <td>others</td>\n",
       "      <td>12</td>\n",
       "      <td>False</td>\n",
       "      <td>4.5</td>\n",
       "      <td>75</td>\n",
       "      <td>medium</td>\n",
       "      <td>https://www.facebook.com/cateringlacrett559</td>\n",
       "      <td>@bar_lacret559</td>\n",
       "      <td>None</td>\n",
       "      <td>0</td>\n",
       "      <td>16</td>\n",
       "      <td>0</td>\n",
       "      <td>17</td>\n",
       "      <td>23</td>\n",
       "      <td>0</td>\n",
       "      <td>0</td>\n",
       "      <td>0</td>\n",
       "      <td>0</td>\n",
       "      <td>0</td>\n",
       "      <td>0</td>\n",
       "      <td>0</td>\n",
       "      <td>14</td>\n",
       "      <td>0</td>\n",
       "      <td>3</td>\n",
       "      <td>5</td>\n",
       "      <td>0</td>\n",
       "      <td>0</td>\n",
       "      <td>0</td>\n",
       "      <td>12:00</td>\n",
       "      <td>23:00</td>\n",
       "      <td>[mon, tue, wed, thu, fri, sat, sun]</td>\n",
       "      <td>1</td>\n",
       "      <td>2</td>\n",
       "      <td>takeaway</td>\n",
       "      <td>3</td>\n",
       "      <td>cash</td>\n",
       "      <td>card</td>\n",
       "      <td>transfer</td>\n",
       "      <td>NaN</td>\n",
       "      <td>0</td>\n",
       "      <td>Calle Lacret #559 entre Goicuria y Mayía Rodrí...</td>\n",
       "      <td>None</td>\n",
       "      <td>Diez de Octubre</td>\n",
       "      <td>La Habana</td>\n",
       "      <td>None</td>\n",
       "      <td>Cuba</td>\n",
       "      <td>NaN</td>\n",
       "      <td>NaN</td>\n",
       "      <td>home</td>\n",
       "      <td>phone</td>\n",
       "      <td>NaN</td>\n",
       "      <td>NaN</td>\n",
       "      <td>NaN</td>\n",
       "      <td>NaN</td>\n",
       "      <td>NaN</td>\n",
       "      <td>NaN</td>\n",
       "      <td>NaN</td>\n",
       "      <td>NaN</td>\n",
       "      <td>NaN</td>\n",
       "      <td>NaN</td>\n",
       "      <td>NaN</td>\n",
       "      <td>Con FB</td>\n",
       "      <td>Con Facebook</td>\n",
       "      <td>Con Instagram</td>\n",
       "      <td>Sin Twitter</td>\n",
       "      <td>Sin Twitter</td>\n",
       "    </tr>\n",
       "    <tr>\n",
       "      <th>100</th>\n",
       "      <td>Lateral</td>\n",
       "      <td>59525677</td>\n",
       "      <td>None</td>\n",
       "      <td>None</td>\n",
       "      <td>restaurant</td>\n",
       "      <td>private</td>\n",
       "      <td>others</td>\n",
       "      <td>12</td>\n",
       "      <td>False</td>\n",
       "      <td>4.4</td>\n",
       "      <td>75</td>\n",
       "      <td>medium</td>\n",
       "      <td>https://www.facebook.com/307308194105213</td>\n",
       "      <td>@lateral.at</td>\n",
       "      <td>None</td>\n",
       "      <td>0</td>\n",
       "      <td>22</td>\n",
       "      <td>0</td>\n",
       "      <td>40</td>\n",
       "      <td>53</td>\n",
       "      <td>10</td>\n",
       "      <td>0</td>\n",
       "      <td>0</td>\n",
       "      <td>6</td>\n",
       "      <td>1</td>\n",
       "      <td>1</td>\n",
       "      <td>6</td>\n",
       "      <td>41</td>\n",
       "      <td>0</td>\n",
       "      <td>14</td>\n",
       "      <td>13</td>\n",
       "      <td>4</td>\n",
       "      <td>1</td>\n",
       "      <td>16</td>\n",
       "      <td>10:00</td>\n",
       "      <td>23:00</td>\n",
       "      <td>[mon, tue, wed, thu, fri, sat, sun]</td>\n",
       "      <td>2</td>\n",
       "      <td>2</td>\n",
       "      <td>takeaway</td>\n",
       "      <td>2</td>\n",
       "      <td>cash</td>\n",
       "      <td>NaN</td>\n",
       "      <td>transfer</td>\n",
       "      <td>NaN</td>\n",
       "      <td>0</td>\n",
       "      <td>Ave. Acosta #467, esq. Goicuría, Víbora.</td>\n",
       "      <td>None</td>\n",
       "      <td>Diez de Octubre</td>\n",
       "      <td>La Habana</td>\n",
       "      <td>None</td>\n",
       "      <td>Cuba</td>\n",
       "      <td>NaN</td>\n",
       "      <td>others</td>\n",
       "      <td>home</td>\n",
       "      <td>phone</td>\n",
       "      <td>NaN</td>\n",
       "      <td>NaN</td>\n",
       "      <td>NaN</td>\n",
       "      <td>NaN</td>\n",
       "      <td>NaN</td>\n",
       "      <td>NaN</td>\n",
       "      <td>NaN</td>\n",
       "      <td>NaN</td>\n",
       "      <td>NaN</td>\n",
       "      <td>NaN</td>\n",
       "      <td>NaN</td>\n",
       "      <td>Con FB</td>\n",
       "      <td>Con Facebook</td>\n",
       "      <td>Con Instagram</td>\n",
       "      <td>Sin Twitter</td>\n",
       "      <td>Sin Twitter</td>\n",
       "    </tr>\n",
       "    <tr>\n",
       "      <th>103</th>\n",
       "      <td>La Fuente</td>\n",
       "      <td>76908989</td>\n",
       "      <td>None</td>\n",
       "      <td>None</td>\n",
       "      <td>restaurant</td>\n",
       "      <td>private</td>\n",
       "      <td>cuban</td>\n",
       "      <td>12</td>\n",
       "      <td>False</td>\n",
       "      <td>4.5</td>\n",
       "      <td>75</td>\n",
       "      <td>high</td>\n",
       "      <td>None</td>\n",
       "      <td>https://www.instagram.com/lafuentecuba</td>\n",
       "      <td>None</td>\n",
       "      <td>0</td>\n",
       "      <td>14</td>\n",
       "      <td>0</td>\n",
       "      <td>20</td>\n",
       "      <td>3</td>\n",
       "      <td>0</td>\n",
       "      <td>9</td>\n",
       "      <td>0</td>\n",
       "      <td>7</td>\n",
       "      <td>1</td>\n",
       "      <td>5</td>\n",
       "      <td>1</td>\n",
       "      <td>19</td>\n",
       "      <td>0</td>\n",
       "      <td>32</td>\n",
       "      <td>11</td>\n",
       "      <td>7</td>\n",
       "      <td>0</td>\n",
       "      <td>0</td>\n",
       "      <td>11:00</td>\n",
       "      <td>24:00</td>\n",
       "      <td>[mon, tue, wed, thu, fri, sat, sun]</td>\n",
       "      <td>1</td>\n",
       "      <td>1</td>\n",
       "      <td>takeaway</td>\n",
       "      <td>4</td>\n",
       "      <td>cash</td>\n",
       "      <td>card</td>\n",
       "      <td>transfer</td>\n",
       "      <td>others</td>\n",
       "      <td>0</td>\n",
       "      <td>Calle Acosta e/ 5ta y 6ta. Vista Alegre, Víbora</td>\n",
       "      <td>None</td>\n",
       "      <td>Diez de Octubre</td>\n",
       "      <td>La Habana</td>\n",
       "      <td>None</td>\n",
       "      <td>Cuba</td>\n",
       "      <td>NaN</td>\n",
       "      <td>NaN</td>\n",
       "      <td>NaN</td>\n",
       "      <td>phone</td>\n",
       "      <td>NaN</td>\n",
       "      <td>NaN</td>\n",
       "      <td>NaN</td>\n",
       "      <td>NaN</td>\n",
       "      <td>NaN</td>\n",
       "      <td>NaN</td>\n",
       "      <td>NaN</td>\n",
       "      <td>NaN</td>\n",
       "      <td>NaN</td>\n",
       "      <td>NaN</td>\n",
       "      <td>NaN</td>\n",
       "      <td>Sin FB</td>\n",
       "      <td>Sin Facebook</td>\n",
       "      <td>Con Instagram</td>\n",
       "      <td>Sin Twitter</td>\n",
       "      <td>Sin Twitter</td>\n",
       "    </tr>\n",
       "    <tr>\n",
       "      <th>104</th>\n",
       "      <td>La Ronda</td>\n",
       "      <td>76990583</td>\n",
       "      <td>None</td>\n",
       "      <td>None</td>\n",
       "      <td>restaurant</td>\n",
       "      <td>private</td>\n",
       "      <td>cuban</td>\n",
       "      <td>12</td>\n",
       "      <td>False</td>\n",
       "      <td>4.3</td>\n",
       "      <td>75</td>\n",
       "      <td>medium</td>\n",
       "      <td>https://m.facebook.com/restaurante.laronda/</td>\n",
       "      <td>@restaurante.laronda</td>\n",
       "      <td>None</td>\n",
       "      <td>0</td>\n",
       "      <td>14</td>\n",
       "      <td>0</td>\n",
       "      <td>18</td>\n",
       "      <td>0</td>\n",
       "      <td>0</td>\n",
       "      <td>8</td>\n",
       "      <td>0</td>\n",
       "      <td>3</td>\n",
       "      <td>1</td>\n",
       "      <td>0</td>\n",
       "      <td>6</td>\n",
       "      <td>0</td>\n",
       "      <td>0</td>\n",
       "      <td>1</td>\n",
       "      <td>7</td>\n",
       "      <td>0</td>\n",
       "      <td>0</td>\n",
       "      <td>0</td>\n",
       "      <td>12:00</td>\n",
       "      <td>23:00</td>\n",
       "      <td>[mon, tue, wed, thu, fri, sat, sun]</td>\n",
       "      <td>1</td>\n",
       "      <td>2</td>\n",
       "      <td>takeaway</td>\n",
       "      <td>3</td>\n",
       "      <td>cash</td>\n",
       "      <td>card</td>\n",
       "      <td>transfer</td>\n",
       "      <td>NaN</td>\n",
       "      <td>0</td>\n",
       "      <td>Callé Guasabacoa esquina Calzada de Luyanó</td>\n",
       "      <td>None</td>\n",
       "      <td>Diez de Octubre</td>\n",
       "      <td>La Habana</td>\n",
       "      <td>None</td>\n",
       "      <td>Cuba</td>\n",
       "      <td>NaN</td>\n",
       "      <td>NaN</td>\n",
       "      <td>home</td>\n",
       "      <td>phone</td>\n",
       "      <td>NaN</td>\n",
       "      <td>NaN</td>\n",
       "      <td>NaN</td>\n",
       "      <td>NaN</td>\n",
       "      <td>NaN</td>\n",
       "      <td>NaN</td>\n",
       "      <td>NaN</td>\n",
       "      <td>NaN</td>\n",
       "      <td>NaN</td>\n",
       "      <td>NaN</td>\n",
       "      <td>NaN</td>\n",
       "      <td>Con FB</td>\n",
       "      <td>Con Facebook</td>\n",
       "      <td>Con Instagram</td>\n",
       "      <td>Sin Twitter</td>\n",
       "      <td>Sin Twitter</td>\n",
       "    </tr>\n",
       "    <tr>\n",
       "      <th>107</th>\n",
       "      <td>Melao's</td>\n",
       "      <td>76419219</td>\n",
       "      <td>None</td>\n",
       "      <td>None</td>\n",
       "      <td>bar</td>\n",
       "      <td>private</td>\n",
       "      <td>cuban</td>\n",
       "      <td>12</td>\n",
       "      <td>False</td>\n",
       "      <td>4.3</td>\n",
       "      <td>75</td>\n",
       "      <td>high</td>\n",
       "      <td>None</td>\n",
       "      <td>@melaosbarr</td>\n",
       "      <td>None</td>\n",
       "      <td>0</td>\n",
       "      <td>15</td>\n",
       "      <td>0</td>\n",
       "      <td>4</td>\n",
       "      <td>0</td>\n",
       "      <td>0</td>\n",
       "      <td>0</td>\n",
       "      <td>0</td>\n",
       "      <td>5</td>\n",
       "      <td>0</td>\n",
       "      <td>0</td>\n",
       "      <td>0</td>\n",
       "      <td>45</td>\n",
       "      <td>0</td>\n",
       "      <td>35</td>\n",
       "      <td>7</td>\n",
       "      <td>4</td>\n",
       "      <td>3</td>\n",
       "      <td>0</td>\n",
       "      <td>12:00</td>\n",
       "      <td>03:00</td>\n",
       "      <td>[mon, tue, wed, thu, fri, sat, sun]</td>\n",
       "      <td>1</td>\n",
       "      <td>0</td>\n",
       "      <td>NaN</td>\n",
       "      <td>4</td>\n",
       "      <td>cash</td>\n",
       "      <td>card</td>\n",
       "      <td>transfer</td>\n",
       "      <td>others</td>\n",
       "      <td>2</td>\n",
       "      <td>Goicuría 229 e/ Milagros y Libertad</td>\n",
       "      <td>Santo Suárez</td>\n",
       "      <td>Diez de Octubre</td>\n",
       "      <td>La Habana</td>\n",
       "      <td>None</td>\n",
       "      <td>Cuba</td>\n",
       "      <td>NaN</td>\n",
       "      <td>NaN</td>\n",
       "      <td>NaN</td>\n",
       "      <td>phone</td>\n",
       "      <td>pet_friendly</td>\n",
       "      <td>NaN</td>\n",
       "      <td>NaN</td>\n",
       "      <td>NaN</td>\n",
       "      <td>NaN</td>\n",
       "      <td>NaN</td>\n",
       "      <td>NaN</td>\n",
       "      <td>NaN</td>\n",
       "      <td>NaN</td>\n",
       "      <td>live_music</td>\n",
       "      <td>NaN</td>\n",
       "      <td>Sin FB</td>\n",
       "      <td>Sin Facebook</td>\n",
       "      <td>Con Instagram</td>\n",
       "      <td>Sin Twitter</td>\n",
       "      <td>Sin Twitter</td>\n",
       "    </tr>\n",
       "    <tr>\n",
       "      <th>115</th>\n",
       "      <td>Villa Hernandez</td>\n",
       "      <td>53165356</td>\n",
       "      <td>None</td>\n",
       "      <td>None</td>\n",
       "      <td>restaurant</td>\n",
       "      <td>private</td>\n",
       "      <td>others</td>\n",
       "      <td>12</td>\n",
       "      <td>False</td>\n",
       "      <td>4.5</td>\n",
       "      <td>75</td>\n",
       "      <td>high</td>\n",
       "      <td>https://www.facebook.com/villahernandezrestaur...</td>\n",
       "      <td>@villahernandezrestaurant</td>\n",
       "      <td>None</td>\n",
       "      <td>0</td>\n",
       "      <td>19</td>\n",
       "      <td>0</td>\n",
       "      <td>29</td>\n",
       "      <td>15</td>\n",
       "      <td>0</td>\n",
       "      <td>19</td>\n",
       "      <td>0</td>\n",
       "      <td>18</td>\n",
       "      <td>1</td>\n",
       "      <td>0</td>\n",
       "      <td>8</td>\n",
       "      <td>15</td>\n",
       "      <td>2</td>\n",
       "      <td>48</td>\n",
       "      <td>15</td>\n",
       "      <td>6</td>\n",
       "      <td>3</td>\n",
       "      <td>0</td>\n",
       "      <td>12:00</td>\n",
       "      <td>23:00</td>\n",
       "      <td>[mon, tue, wed, thu, fri, sat, sun]</td>\n",
       "      <td>1</td>\n",
       "      <td>2</td>\n",
       "      <td>takeaway</td>\n",
       "      <td>3</td>\n",
       "      <td>cash</td>\n",
       "      <td>card</td>\n",
       "      <td>transfer</td>\n",
       "      <td>NaN</td>\n",
       "      <td>0</td>\n",
       "      <td>Calle San Miguel, # 112 e/ Revolución y Gelabert</td>\n",
       "      <td>Sevillano</td>\n",
       "      <td>Diez de Octubre</td>\n",
       "      <td>La Habana</td>\n",
       "      <td>None</td>\n",
       "      <td>Cuba</td>\n",
       "      <td>NaN</td>\n",
       "      <td>NaN</td>\n",
       "      <td>home</td>\n",
       "      <td>phone</td>\n",
       "      <td>NaN</td>\n",
       "      <td>NaN</td>\n",
       "      <td>NaN</td>\n",
       "      <td>NaN</td>\n",
       "      <td>NaN</td>\n",
       "      <td>NaN</td>\n",
       "      <td>NaN</td>\n",
       "      <td>NaN</td>\n",
       "      <td>NaN</td>\n",
       "      <td>NaN</td>\n",
       "      <td>NaN</td>\n",
       "      <td>Con FB</td>\n",
       "      <td>Con Facebook</td>\n",
       "      <td>Con Instagram</td>\n",
       "      <td>Sin Twitter</td>\n",
       "      <td>Sin Twitter</td>\n",
       "    </tr>\n",
       "    <tr>\n",
       "      <th>118</th>\n",
       "      <td>Polo</td>\n",
       "      <td>52411618</td>\n",
       "      <td>None</td>\n",
       "      <td>None</td>\n",
       "      <td>bar</td>\n",
       "      <td>private</td>\n",
       "      <td>others</td>\n",
       "      <td>12</td>\n",
       "      <td>False</td>\n",
       "      <td>4.5</td>\n",
       "      <td>75</td>\n",
       "      <td>medium</td>\n",
       "      <td>None</td>\n",
       "      <td>None</td>\n",
       "      <td>None</td>\n",
       "      <td>0</td>\n",
       "      <td>0</td>\n",
       "      <td>10</td>\n",
       "      <td>25</td>\n",
       "      <td>2</td>\n",
       "      <td>2</td>\n",
       "      <td>0</td>\n",
       "      <td>0</td>\n",
       "      <td>0</td>\n",
       "      <td>0</td>\n",
       "      <td>0</td>\n",
       "      <td>0</td>\n",
       "      <td>0</td>\n",
       "      <td>0</td>\n",
       "      <td>2</td>\n",
       "      <td>9</td>\n",
       "      <td>0</td>\n",
       "      <td>0</td>\n",
       "      <td>0</td>\n",
       "      <td>12:00</td>\n",
       "      <td>00:00</td>\n",
       "      <td>[mon, tue, wed, thu, fri, sat, sun]</td>\n",
       "      <td>2</td>\n",
       "      <td>2</td>\n",
       "      <td>takeaway</td>\n",
       "      <td>2</td>\n",
       "      <td>cash</td>\n",
       "      <td>NaN</td>\n",
       "      <td>transfer</td>\n",
       "      <td>NaN</td>\n",
       "      <td>0</td>\n",
       "      <td>None</td>\n",
       "      <td>None</td>\n",
       "      <td>Guanabacoa</td>\n",
       "      <td>La Habana</td>\n",
       "      <td>None</td>\n",
       "      <td>Cuba</td>\n",
       "      <td>NaN</td>\n",
       "      <td>NaN</td>\n",
       "      <td>home</td>\n",
       "      <td>phone</td>\n",
       "      <td>NaN</td>\n",
       "      <td>NaN</td>\n",
       "      <td>NaN</td>\n",
       "      <td>NaN</td>\n",
       "      <td>NaN</td>\n",
       "      <td>NaN</td>\n",
       "      <td>NaN</td>\n",
       "      <td>NaN</td>\n",
       "      <td>online</td>\n",
       "      <td>NaN</td>\n",
       "      <td>NaN</td>\n",
       "      <td>Sin FB</td>\n",
       "      <td>Sin Facebook</td>\n",
       "      <td>Sin Instagram</td>\n",
       "      <td>Sin Twitter</td>\n",
       "      <td>Sin Twitter</td>\n",
       "    </tr>\n",
       "    <tr>\n",
       "      <th>119</th>\n",
       "      <td>Polo</td>\n",
       "      <td>52411618</td>\n",
       "      <td>None</td>\n",
       "      <td>None</td>\n",
       "      <td>restaurant</td>\n",
       "      <td>private</td>\n",
       "      <td>cuban</td>\n",
       "      <td>12</td>\n",
       "      <td>False</td>\n",
       "      <td>4.4</td>\n",
       "      <td>75</td>\n",
       "      <td>medium</td>\n",
       "      <td>None</td>\n",
       "      <td>None</td>\n",
       "      <td>None</td>\n",
       "      <td>0</td>\n",
       "      <td>0</td>\n",
       "      <td>10</td>\n",
       "      <td>20</td>\n",
       "      <td>2</td>\n",
       "      <td>2</td>\n",
       "      <td>5</td>\n",
       "      <td>0</td>\n",
       "      <td>0</td>\n",
       "      <td>0</td>\n",
       "      <td>0</td>\n",
       "      <td>0</td>\n",
       "      <td>0</td>\n",
       "      <td>0</td>\n",
       "      <td>0</td>\n",
       "      <td>0</td>\n",
       "      <td>0</td>\n",
       "      <td>0</td>\n",
       "      <td>0</td>\n",
       "      <td>12:00</td>\n",
       "      <td>00:00</td>\n",
       "      <td>[mon, tue, wed, thu, fri, sat, sun]</td>\n",
       "      <td>2</td>\n",
       "      <td>1</td>\n",
       "      <td>takeaway</td>\n",
       "      <td>2</td>\n",
       "      <td>cash</td>\n",
       "      <td>NaN</td>\n",
       "      <td>transfer</td>\n",
       "      <td>NaN</td>\n",
       "      <td>0</td>\n",
       "      <td>Cruz Verde</td>\n",
       "      <td>None</td>\n",
       "      <td>Guanabacoa</td>\n",
       "      <td>La Habana</td>\n",
       "      <td>None</td>\n",
       "      <td>Cuba</td>\n",
       "      <td>NaN</td>\n",
       "      <td>NaN</td>\n",
       "      <td>NaN</td>\n",
       "      <td>phone</td>\n",
       "      <td>NaN</td>\n",
       "      <td>NaN</td>\n",
       "      <td>NaN</td>\n",
       "      <td>NaN</td>\n",
       "      <td>NaN</td>\n",
       "      <td>NaN</td>\n",
       "      <td>NaN</td>\n",
       "      <td>NaN</td>\n",
       "      <td>online</td>\n",
       "      <td>NaN</td>\n",
       "      <td>NaN</td>\n",
       "      <td>Sin FB</td>\n",
       "      <td>Sin Facebook</td>\n",
       "      <td>Sin Instagram</td>\n",
       "      <td>Sin Twitter</td>\n",
       "      <td>Sin Twitter</td>\n",
       "    </tr>\n",
       "    <tr>\n",
       "      <th>127</th>\n",
       "      <td>Restaurante El Pavo</td>\n",
       "      <td>58222469</td>\n",
       "      <td>None</td>\n",
       "      <td>None</td>\n",
       "      <td>restaurant</td>\n",
       "      <td>private</td>\n",
       "      <td>others</td>\n",
       "      <td>12</td>\n",
       "      <td>False</td>\n",
       "      <td>4.3</td>\n",
       "      <td>75</td>\n",
       "      <td>economic</td>\n",
       "      <td>None</td>\n",
       "      <td>None</td>\n",
       "      <td>None</td>\n",
       "      <td>0</td>\n",
       "      <td>0</td>\n",
       "      <td>11</td>\n",
       "      <td>7</td>\n",
       "      <td>8</td>\n",
       "      <td>8</td>\n",
       "      <td>7</td>\n",
       "      <td>0</td>\n",
       "      <td>0</td>\n",
       "      <td>0</td>\n",
       "      <td>0</td>\n",
       "      <td>1</td>\n",
       "      <td>0</td>\n",
       "      <td>0</td>\n",
       "      <td>3</td>\n",
       "      <td>7</td>\n",
       "      <td>0</td>\n",
       "      <td>0</td>\n",
       "      <td>0</td>\n",
       "      <td>12:00</td>\n",
       "      <td>23:00</td>\n",
       "      <td>[mon, tue, wed, thu, fri, sat, sun]</td>\n",
       "      <td>2</td>\n",
       "      <td>1</td>\n",
       "      <td>NaN</td>\n",
       "      <td>2</td>\n",
       "      <td>cash</td>\n",
       "      <td>NaN</td>\n",
       "      <td>transfer</td>\n",
       "      <td>NaN</td>\n",
       "      <td>0</td>\n",
       "      <td>None</td>\n",
       "      <td>None</td>\n",
       "      <td>Guanabacoa</td>\n",
       "      <td>La Habana</td>\n",
       "      <td>None</td>\n",
       "      <td>Cuba</td>\n",
       "      <td>NaN</td>\n",
       "      <td>others</td>\n",
       "      <td>home</td>\n",
       "      <td>phone</td>\n",
       "      <td>NaN</td>\n",
       "      <td>NaN</td>\n",
       "      <td>NaN</td>\n",
       "      <td>NaN</td>\n",
       "      <td>NaN</td>\n",
       "      <td>NaN</td>\n",
       "      <td>NaN</td>\n",
       "      <td>NaN</td>\n",
       "      <td>NaN</td>\n",
       "      <td>NaN</td>\n",
       "      <td>NaN</td>\n",
       "      <td>Sin FB</td>\n",
       "      <td>Sin Facebook</td>\n",
       "      <td>Sin Instagram</td>\n",
       "      <td>Sin Twitter</td>\n",
       "      <td>Sin Twitter</td>\n",
       "    </tr>\n",
       "    <tr>\n",
       "      <th>128</th>\n",
       "      <td>Anillo Habanero</td>\n",
       "      <td>52042710</td>\n",
       "      <td>None</td>\n",
       "      <td>None</td>\n",
       "      <td>restaurant</td>\n",
       "      <td>private</td>\n",
       "      <td>cuban</td>\n",
       "      <td>12</td>\n",
       "      <td>False</td>\n",
       "      <td>4.5</td>\n",
       "      <td>30</td>\n",
       "      <td>medium</td>\n",
       "      <td>None</td>\n",
       "      <td>None</td>\n",
       "      <td>None</td>\n",
       "      <td>0</td>\n",
       "      <td>0</td>\n",
       "      <td>9</td>\n",
       "      <td>4</td>\n",
       "      <td>1</td>\n",
       "      <td>1</td>\n",
       "      <td>2</td>\n",
       "      <td>0</td>\n",
       "      <td>0</td>\n",
       "      <td>0</td>\n",
       "      <td>0</td>\n",
       "      <td>3</td>\n",
       "      <td>0</td>\n",
       "      <td>0</td>\n",
       "      <td>0</td>\n",
       "      <td>0</td>\n",
       "      <td>0</td>\n",
       "      <td>0</td>\n",
       "      <td>0</td>\n",
       "      <td>10:00</td>\n",
       "      <td>23:00</td>\n",
       "      <td>[mon, tue, wed, thu, fri, sat, sun]</td>\n",
       "      <td>2</td>\n",
       "      <td>2</td>\n",
       "      <td>takeaway</td>\n",
       "      <td>3</td>\n",
       "      <td>cash</td>\n",
       "      <td>NaN</td>\n",
       "      <td>transfer</td>\n",
       "      <td>others</td>\n",
       "      <td>2</td>\n",
       "      <td>Primer Anillo de La Habana</td>\n",
       "      <td>None</td>\n",
       "      <td>Guanabacoa</td>\n",
       "      <td>La Habana</td>\n",
       "      <td>None</td>\n",
       "      <td>Cuba</td>\n",
       "      <td>NaN</td>\n",
       "      <td>NaN</td>\n",
       "      <td>home</td>\n",
       "      <td>phone</td>\n",
       "      <td>NaN</td>\n",
       "      <td>outdoor</td>\n",
       "      <td>NaN</td>\n",
       "      <td>NaN</td>\n",
       "      <td>NaN</td>\n",
       "      <td>NaN</td>\n",
       "      <td>NaN</td>\n",
       "      <td>NaN</td>\n",
       "      <td>online</td>\n",
       "      <td>live_music</td>\n",
       "      <td>NaN</td>\n",
       "      <td>Sin FB</td>\n",
       "      <td>Sin Facebook</td>\n",
       "      <td>Sin Instagram</td>\n",
       "      <td>Sin Twitter</td>\n",
       "      <td>Sin Twitter</td>\n",
       "    </tr>\n",
       "    <tr>\n",
       "      <th>131</th>\n",
       "      <td>Al Campestre</td>\n",
       "      <td>53236469</td>\n",
       "      <td>None</td>\n",
       "      <td>None</td>\n",
       "      <td>restaurant</td>\n",
       "      <td>private</td>\n",
       "      <td>others</td>\n",
       "      <td>70</td>\n",
       "      <td>False</td>\n",
       "      <td>3.4</td>\n",
       "      <td>75</td>\n",
       "      <td>medium</td>\n",
       "      <td>Alcampestre.</td>\n",
       "      <td>alcampestre</td>\n",
       "      <td>None</td>\n",
       "      <td>0</td>\n",
       "      <td>0</td>\n",
       "      <td>17</td>\n",
       "      <td>16</td>\n",
       "      <td>3</td>\n",
       "      <td>8</td>\n",
       "      <td>9</td>\n",
       "      <td>0</td>\n",
       "      <td>20</td>\n",
       "      <td>0</td>\n",
       "      <td>0</td>\n",
       "      <td>8</td>\n",
       "      <td>15</td>\n",
       "      <td>0</td>\n",
       "      <td>0</td>\n",
       "      <td>1</td>\n",
       "      <td>0</td>\n",
       "      <td>0</td>\n",
       "      <td>0</td>\n",
       "      <td>09:00</td>\n",
       "      <td>23:00</td>\n",
       "      <td>[mon, tue, wed, thu, fri, sat, sun]</td>\n",
       "      <td>1</td>\n",
       "      <td>2</td>\n",
       "      <td>takeaway</td>\n",
       "      <td>3</td>\n",
       "      <td>cash</td>\n",
       "      <td>card</td>\n",
       "      <td>NaN</td>\n",
       "      <td>others</td>\n",
       "      <td>0</td>\n",
       "      <td>El Intermitente, Via  Blanca, Alamar</td>\n",
       "      <td>None</td>\n",
       "      <td>Habana del Este</td>\n",
       "      <td>La Habana</td>\n",
       "      <td>None</td>\n",
       "      <td>Cuba</td>\n",
       "      <td>NaN</td>\n",
       "      <td>NaN</td>\n",
       "      <td>home</td>\n",
       "      <td>phone</td>\n",
       "      <td>NaN</td>\n",
       "      <td>NaN</td>\n",
       "      <td>NaN</td>\n",
       "      <td>NaN</td>\n",
       "      <td>NaN</td>\n",
       "      <td>NaN</td>\n",
       "      <td>NaN</td>\n",
       "      <td>NaN</td>\n",
       "      <td>NaN</td>\n",
       "      <td>NaN</td>\n",
       "      <td>NaN</td>\n",
       "      <td>Con FB</td>\n",
       "      <td>Con Facebook</td>\n",
       "      <td>Con Instagram</td>\n",
       "      <td>Sin Twitter</td>\n",
       "      <td>Sin Twitter</td>\n",
       "    </tr>\n",
       "    <tr>\n",
       "      <th>134</th>\n",
       "      <td>Chicken_Little</td>\n",
       "      <td>None</td>\n",
       "      <td>None</td>\n",
       "      <td>None</td>\n",
       "      <td>restaurant</td>\n",
       "      <td>private</td>\n",
       "      <td>cuban</td>\n",
       "      <td>38</td>\n",
       "      <td>False</td>\n",
       "      <td>4.5</td>\n",
       "      <td>0</td>\n",
       "      <td>medium</td>\n",
       "      <td>None</td>\n",
       "      <td>None</td>\n",
       "      <td>None</td>\n",
       "      <td>0</td>\n",
       "      <td>0</td>\n",
       "      <td>10</td>\n",
       "      <td>30</td>\n",
       "      <td>0</td>\n",
       "      <td>0</td>\n",
       "      <td>0</td>\n",
       "      <td>0</td>\n",
       "      <td>3</td>\n",
       "      <td>0</td>\n",
       "      <td>0</td>\n",
       "      <td>3</td>\n",
       "      <td>6</td>\n",
       "      <td>0</td>\n",
       "      <td>5</td>\n",
       "      <td>4</td>\n",
       "      <td>0</td>\n",
       "      <td>2</td>\n",
       "      <td>0</td>\n",
       "      <td>09:00</td>\n",
       "      <td>23:00</td>\n",
       "      <td>[mon, tue, wed, thu, fri, sat, sun]</td>\n",
       "      <td>1</td>\n",
       "      <td>2</td>\n",
       "      <td>takeaway</td>\n",
       "      <td>2</td>\n",
       "      <td>cash</td>\n",
       "      <td>NaN</td>\n",
       "      <td>transfer</td>\n",
       "      <td>NaN</td>\n",
       "      <td>1</td>\n",
       "      <td>5ta. B y 5ta. C, 5B15 e 504</td>\n",
       "      <td>None</td>\n",
       "      <td>La Habana del Este</td>\n",
       "      <td>La Habana</td>\n",
       "      <td>None</td>\n",
       "      <td>Cuba</td>\n",
       "      <td>NaN</td>\n",
       "      <td>NaN</td>\n",
       "      <td>home</td>\n",
       "      <td>phone</td>\n",
       "      <td>pet_friendly</td>\n",
       "      <td>NaN</td>\n",
       "      <td>NaN</td>\n",
       "      <td>NaN</td>\n",
       "      <td>NaN</td>\n",
       "      <td>NaN</td>\n",
       "      <td>NaN</td>\n",
       "      <td>NaN</td>\n",
       "      <td>NaN</td>\n",
       "      <td>NaN</td>\n",
       "      <td>NaN</td>\n",
       "      <td>Sin FB</td>\n",
       "      <td>Sin Facebook</td>\n",
       "      <td>Sin Instagram</td>\n",
       "      <td>Sin Twitter</td>\n",
       "      <td>Sin Twitter</td>\n",
       "    </tr>\n",
       "    <tr>\n",
       "      <th>137</th>\n",
       "      <td>Dona Cotolin</td>\n",
       "      <td>77991347</td>\n",
       "      <td>None</td>\n",
       "      <td>None</td>\n",
       "      <td>restaurant</td>\n",
       "      <td>private</td>\n",
       "      <td>cuban</td>\n",
       "      <td>30</td>\n",
       "      <td>False</td>\n",
       "      <td>3.8</td>\n",
       "      <td>75</td>\n",
       "      <td>medium</td>\n",
       "      <td>Comida criolla y cubana todo al carbon Dona Co...</td>\n",
       "      <td>None</td>\n",
       "      <td>None</td>\n",
       "      <td>0</td>\n",
       "      <td>0</td>\n",
       "      <td>10</td>\n",
       "      <td>8</td>\n",
       "      <td>0</td>\n",
       "      <td>0</td>\n",
       "      <td>11</td>\n",
       "      <td>0</td>\n",
       "      <td>4</td>\n",
       "      <td>0</td>\n",
       "      <td>0</td>\n",
       "      <td>3</td>\n",
       "      <td>16</td>\n",
       "      <td>2</td>\n",
       "      <td>22</td>\n",
       "      <td>6</td>\n",
       "      <td>0</td>\n",
       "      <td>1</td>\n",
       "      <td>0</td>\n",
       "      <td>11:00</td>\n",
       "      <td>22:00</td>\n",
       "      <td>[mon, tue, wed, thu, fri, sat, sun]</td>\n",
       "      <td>1</td>\n",
       "      <td>2</td>\n",
       "      <td>takeaway</td>\n",
       "      <td>2</td>\n",
       "      <td>cash</td>\n",
       "      <td>NaN</td>\n",
       "      <td>transfer</td>\n",
       "      <td>NaN</td>\n",
       "      <td>0</td>\n",
       "      <td>Calle 482 entre 5ta Avenida y 5ta D, Guanabo</td>\n",
       "      <td>None</td>\n",
       "      <td>Habana del Este</td>\n",
       "      <td>La Habana</td>\n",
       "      <td>None</td>\n",
       "      <td>Cuba</td>\n",
       "      <td>NaN</td>\n",
       "      <td>NaN</td>\n",
       "      <td>home</td>\n",
       "      <td>phone</td>\n",
       "      <td>NaN</td>\n",
       "      <td>NaN</td>\n",
       "      <td>NaN</td>\n",
       "      <td>NaN</td>\n",
       "      <td>NaN</td>\n",
       "      <td>NaN</td>\n",
       "      <td>NaN</td>\n",
       "      <td>NaN</td>\n",
       "      <td>NaN</td>\n",
       "      <td>NaN</td>\n",
       "      <td>NaN</td>\n",
       "      <td>Con FB</td>\n",
       "      <td>Con Facebook</td>\n",
       "      <td>Sin Instagram</td>\n",
       "      <td>Sin Twitter</td>\n",
       "      <td>Sin Twitter</td>\n",
       "    </tr>\n",
       "    <tr>\n",
       "      <th>143</th>\n",
       "      <td>Jackafe</td>\n",
       "      <td>77636363</td>\n",
       "      <td>None</td>\n",
       "      <td>None</td>\n",
       "      <td>restaurant</td>\n",
       "      <td>private</td>\n",
       "      <td>others</td>\n",
       "      <td>40</td>\n",
       "      <td>False</td>\n",
       "      <td>4.9</td>\n",
       "      <td>30</td>\n",
       "      <td>medium</td>\n",
       "      <td>JacKafe (Facebook)</td>\n",
       "      <td>None</td>\n",
       "      <td>None</td>\n",
       "      <td>0</td>\n",
       "      <td>0</td>\n",
       "      <td>15</td>\n",
       "      <td>13</td>\n",
       "      <td>2</td>\n",
       "      <td>0</td>\n",
       "      <td>5</td>\n",
       "      <td>0</td>\n",
       "      <td>15</td>\n",
       "      <td>1</td>\n",
       "      <td>0</td>\n",
       "      <td>0</td>\n",
       "      <td>0</td>\n",
       "      <td>0</td>\n",
       "      <td>2</td>\n",
       "      <td>4</td>\n",
       "      <td>6</td>\n",
       "      <td>1</td>\n",
       "      <td>0</td>\n",
       "      <td>12:00</td>\n",
       "      <td>09:00</td>\n",
       "      <td>[mon, tue, wed, thu, fri, sat, sun]</td>\n",
       "      <td>1</td>\n",
       "      <td>2</td>\n",
       "      <td>takeaway</td>\n",
       "      <td>2</td>\n",
       "      <td>cash</td>\n",
       "      <td>card</td>\n",
       "      <td>NaN</td>\n",
       "      <td>NaN</td>\n",
       "      <td>0</td>\n",
       "      <td>Calle 164B, #3B01, Esquina 3ra B, Mercado de l...</td>\n",
       "      <td>None</td>\n",
       "      <td>Habana del Este</td>\n",
       "      <td>La Habana</td>\n",
       "      <td>None</td>\n",
       "      <td>Cuba</td>\n",
       "      <td>NaN</td>\n",
       "      <td>NaN</td>\n",
       "      <td>home</td>\n",
       "      <td>phone</td>\n",
       "      <td>NaN</td>\n",
       "      <td>NaN</td>\n",
       "      <td>NaN</td>\n",
       "      <td>NaN</td>\n",
       "      <td>NaN</td>\n",
       "      <td>NaN</td>\n",
       "      <td>NaN</td>\n",
       "      <td>NaN</td>\n",
       "      <td>NaN</td>\n",
       "      <td>NaN</td>\n",
       "      <td>NaN</td>\n",
       "      <td>Con FB</td>\n",
       "      <td>Con Facebook</td>\n",
       "      <td>Sin Instagram</td>\n",
       "      <td>Sin Twitter</td>\n",
       "      <td>Sin Twitter</td>\n",
       "    </tr>\n",
       "    <tr>\n",
       "      <th>144</th>\n",
       "      <td>Kopas</td>\n",
       "      <td>51566616</td>\n",
       "      <td>None</td>\n",
       "      <td>None</td>\n",
       "      <td>restaurant</td>\n",
       "      <td>private</td>\n",
       "      <td>others</td>\n",
       "      <td>50</td>\n",
       "      <td>False</td>\n",
       "      <td>4.3</td>\n",
       "      <td>75</td>\n",
       "      <td>high</td>\n",
       "      <td>None</td>\n",
       "      <td>hopas_bar_restaurant</td>\n",
       "      <td>None</td>\n",
       "      <td>0</td>\n",
       "      <td>0</td>\n",
       "      <td>8</td>\n",
       "      <td>43</td>\n",
       "      <td>0</td>\n",
       "      <td>0</td>\n",
       "      <td>0</td>\n",
       "      <td>0</td>\n",
       "      <td>0</td>\n",
       "      <td>0</td>\n",
       "      <td>0</td>\n",
       "      <td>0</td>\n",
       "      <td>0</td>\n",
       "      <td>0</td>\n",
       "      <td>6</td>\n",
       "      <td>0</td>\n",
       "      <td>0</td>\n",
       "      <td>0</td>\n",
       "      <td>0</td>\n",
       "      <td>10:00</td>\n",
       "      <td>23:30</td>\n",
       "      <td>[mon, tue, wed, thu, fri, sat, sun]</td>\n",
       "      <td>3</td>\n",
       "      <td>2</td>\n",
       "      <td>takeaway</td>\n",
       "      <td>3</td>\n",
       "      <td>cash</td>\n",
       "      <td>card</td>\n",
       "      <td>transfer</td>\n",
       "      <td>NaN</td>\n",
       "      <td>0</td>\n",
       "      <td>Esquina de 5ta Avenida, #482</td>\n",
       "      <td>None</td>\n",
       "      <td>Habana del Este</td>\n",
       "      <td>La Habana</td>\n",
       "      <td>None</td>\n",
       "      <td>Cuba</td>\n",
       "      <td>NaN</td>\n",
       "      <td>others</td>\n",
       "      <td>home</td>\n",
       "      <td>phone</td>\n",
       "      <td>NaN</td>\n",
       "      <td>NaN</td>\n",
       "      <td>NaN</td>\n",
       "      <td>NaN</td>\n",
       "      <td>NaN</td>\n",
       "      <td>NaN</td>\n",
       "      <td>NaN</td>\n",
       "      <td>NaN</td>\n",
       "      <td>online</td>\n",
       "      <td>NaN</td>\n",
       "      <td>NaN</td>\n",
       "      <td>Sin FB</td>\n",
       "      <td>Sin Facebook</td>\n",
       "      <td>Con Instagram</td>\n",
       "      <td>Sin Twitter</td>\n",
       "      <td>Sin Twitter</td>\n",
       "    </tr>\n",
       "    <tr>\n",
       "      <th>156</th>\n",
       "      <td>Trattoria Zia Cecilia</td>\n",
       "      <td>54600285</td>\n",
       "      <td>tractoriaziacecilias@gmail.com</td>\n",
       "      <td>None</td>\n",
       "      <td>restaurant</td>\n",
       "      <td>private</td>\n",
       "      <td>italian</td>\n",
       "      <td>30</td>\n",
       "      <td>False</td>\n",
       "      <td>4.8</td>\n",
       "      <td>75</td>\n",
       "      <td>medium</td>\n",
       "      <td>Trattoriaziacecilias</td>\n",
       "      <td>@trattoriaziacecilias</td>\n",
       "      <td>None</td>\n",
       "      <td>0</td>\n",
       "      <td>0</td>\n",
       "      <td>3</td>\n",
       "      <td>0</td>\n",
       "      <td>13</td>\n",
       "      <td>15</td>\n",
       "      <td>0</td>\n",
       "      <td>0</td>\n",
       "      <td>0</td>\n",
       "      <td>0</td>\n",
       "      <td>0</td>\n",
       "      <td>0</td>\n",
       "      <td>6</td>\n",
       "      <td>3</td>\n",
       "      <td>10</td>\n",
       "      <td>8</td>\n",
       "      <td>0</td>\n",
       "      <td>0</td>\n",
       "      <td>0</td>\n",
       "      <td>12:00</td>\n",
       "      <td>23:00</td>\n",
       "      <td>[mon, tue, wed, thu, fri, sat, sun]</td>\n",
       "      <td>2</td>\n",
       "      <td>2</td>\n",
       "      <td>takeaway</td>\n",
       "      <td>2</td>\n",
       "      <td>cash</td>\n",
       "      <td>NaN</td>\n",
       "      <td>transfer</td>\n",
       "      <td>NaN</td>\n",
       "      <td>0</td>\n",
       "      <td>#503, Calle 482 entre 5ta Avenida y 5ta D, Gua...</td>\n",
       "      <td>None</td>\n",
       "      <td>Habana del Este</td>\n",
       "      <td>La Habana</td>\n",
       "      <td>None</td>\n",
       "      <td>Cuba</td>\n",
       "      <td>NaN</td>\n",
       "      <td>NaN</td>\n",
       "      <td>home</td>\n",
       "      <td>phone</td>\n",
       "      <td>NaN</td>\n",
       "      <td>NaN</td>\n",
       "      <td>NaN</td>\n",
       "      <td>NaN</td>\n",
       "      <td>NaN</td>\n",
       "      <td>NaN</td>\n",
       "      <td>NaN</td>\n",
       "      <td>NaN</td>\n",
       "      <td>online</td>\n",
       "      <td>NaN</td>\n",
       "      <td>NaN</td>\n",
       "      <td>Con FB</td>\n",
       "      <td>Con Facebook</td>\n",
       "      <td>Con Instagram</td>\n",
       "      <td>Sin Twitter</td>\n",
       "      <td>Sin Twitter</td>\n",
       "    </tr>\n",
       "    <tr>\n",
       "      <th>186</th>\n",
       "      <td>Villarino</td>\n",
       "      <td>72077867</td>\n",
       "      <td>None</td>\n",
       "      <td>http://linktr.ee/restaurantevillarino</td>\n",
       "      <td>bar</td>\n",
       "      <td>private</td>\n",
       "      <td>cuban</td>\n",
       "      <td>12</td>\n",
       "      <td>False</td>\n",
       "      <td>5.0</td>\n",
       "      <td>0</td>\n",
       "      <td>medium</td>\n",
       "      <td>Restaurante Club Villarino</td>\n",
       "      <td>@villarino.restaurantehabana</td>\n",
       "      <td>None</td>\n",
       "      <td>0</td>\n",
       "      <td>7</td>\n",
       "      <td>0</td>\n",
       "      <td>4</td>\n",
       "      <td>13</td>\n",
       "      <td>5</td>\n",
       "      <td>0</td>\n",
       "      <td>0</td>\n",
       "      <td>0</td>\n",
       "      <td>0</td>\n",
       "      <td>0</td>\n",
       "      <td>0</td>\n",
       "      <td>2</td>\n",
       "      <td>1</td>\n",
       "      <td>2</td>\n",
       "      <td>8</td>\n",
       "      <td>0</td>\n",
       "      <td>2</td>\n",
       "      <td>0</td>\n",
       "      <td>12:00</td>\n",
       "      <td>22:00</td>\n",
       "      <td>[mon, tue, wed, thu, fri, sat, sun]</td>\n",
       "      <td>1</td>\n",
       "      <td>2</td>\n",
       "      <td>takeaway</td>\n",
       "      <td>2</td>\n",
       "      <td>cash</td>\n",
       "      <td>NaN</td>\n",
       "      <td>transfer</td>\n",
       "      <td>NaN</td>\n",
       "      <td>0</td>\n",
       "      <td>None</td>\n",
       "      <td>None</td>\n",
       "      <td>Playa</td>\n",
       "      <td>La Habana</td>\n",
       "      <td>None</td>\n",
       "      <td>Cuba</td>\n",
       "      <td>NaN</td>\n",
       "      <td>NaN</td>\n",
       "      <td>home</td>\n",
       "      <td>phone</td>\n",
       "      <td>NaN</td>\n",
       "      <td>NaN</td>\n",
       "      <td>23.103419</td>\n",
       "      <td>-82.418346</td>\n",
       "      <td>NaN</td>\n",
       "      <td>NaN</td>\n",
       "      <td>NaN</td>\n",
       "      <td>NaN</td>\n",
       "      <td>NaN</td>\n",
       "      <td>NaN</td>\n",
       "      <td>NaN</td>\n",
       "      <td>Con FB</td>\n",
       "      <td>Con Facebook</td>\n",
       "      <td>Con Instagram</td>\n",
       "      <td>Sin Twitter</td>\n",
       "      <td>Sin Twitter</td>\n",
       "    </tr>\n",
       "    <tr>\n",
       "      <th>187</th>\n",
       "      <td>Asia Cuba</td>\n",
       "      <td>50956929</td>\n",
       "      <td>None</td>\n",
       "      <td>None</td>\n",
       "      <td>restaurant</td>\n",
       "      <td>private</td>\n",
       "      <td>others</td>\n",
       "      <td>40</td>\n",
       "      <td>False</td>\n",
       "      <td>5.0</td>\n",
       "      <td>75</td>\n",
       "      <td>medium</td>\n",
       "      <td>None</td>\n",
       "      <td>None</td>\n",
       "      <td>None</td>\n",
       "      <td>0</td>\n",
       "      <td>0</td>\n",
       "      <td>7</td>\n",
       "      <td>10</td>\n",
       "      <td>0</td>\n",
       "      <td>0</td>\n",
       "      <td>0</td>\n",
       "      <td>0</td>\n",
       "      <td>0</td>\n",
       "      <td>0</td>\n",
       "      <td>0</td>\n",
       "      <td>4</td>\n",
       "      <td>28</td>\n",
       "      <td>0</td>\n",
       "      <td>19</td>\n",
       "      <td>2</td>\n",
       "      <td>0</td>\n",
       "      <td>0</td>\n",
       "      <td>0</td>\n",
       "      <td>07:30</td>\n",
       "      <td>23:00</td>\n",
       "      <td>[mon, tue, thu, fri, sat, sun]</td>\n",
       "      <td>1</td>\n",
       "      <td>1</td>\n",
       "      <td>takeaway</td>\n",
       "      <td>2</td>\n",
       "      <td>cash</td>\n",
       "      <td>NaN</td>\n",
       "      <td>transfer</td>\n",
       "      <td>NaN</td>\n",
       "      <td>1</td>\n",
       "      <td>Calle 6 ##562 entre 23 y 25</td>\n",
       "      <td>Vedado</td>\n",
       "      <td>Plaza de la Revolucion</td>\n",
       "      <td>La Habana</td>\n",
       "      <td>None</td>\n",
       "      <td>Cuba</td>\n",
       "      <td>NaN</td>\n",
       "      <td>NaN</td>\n",
       "      <td>NaN</td>\n",
       "      <td>phone</td>\n",
       "      <td>NaN</td>\n",
       "      <td>NaN</td>\n",
       "      <td>NaN</td>\n",
       "      <td>NaN</td>\n",
       "      <td>NaN</td>\n",
       "      <td>NaN</td>\n",
       "      <td>NaN</td>\n",
       "      <td>NaN</td>\n",
       "      <td>NaN</td>\n",
       "      <td>NaN</td>\n",
       "      <td>wifi</td>\n",
       "      <td>Sin FB</td>\n",
       "      <td>Sin Facebook</td>\n",
       "      <td>Sin Instagram</td>\n",
       "      <td>Sin Twitter</td>\n",
       "      <td>Sin Twitter</td>\n",
       "    </tr>\n",
       "    <tr>\n",
       "      <th>189</th>\n",
       "      <td>Bodegón del Asado</td>\n",
       "      <td>78375201</td>\n",
       "      <td>None</td>\n",
       "      <td>None</td>\n",
       "      <td>restaurant</td>\n",
       "      <td>private</td>\n",
       "      <td>cuban</td>\n",
       "      <td>50</td>\n",
       "      <td>False</td>\n",
       "      <td>4.5</td>\n",
       "      <td>75</td>\n",
       "      <td>economic</td>\n",
       "      <td>None</td>\n",
       "      <td>None</td>\n",
       "      <td>None</td>\n",
       "      <td>0</td>\n",
       "      <td>0</td>\n",
       "      <td>14</td>\n",
       "      <td>19</td>\n",
       "      <td>5</td>\n",
       "      <td>1</td>\n",
       "      <td>0</td>\n",
       "      <td>3</td>\n",
       "      <td>6</td>\n",
       "      <td>0</td>\n",
       "      <td>0</td>\n",
       "      <td>7</td>\n",
       "      <td>19</td>\n",
       "      <td>1</td>\n",
       "      <td>36</td>\n",
       "      <td>6</td>\n",
       "      <td>6</td>\n",
       "      <td>0</td>\n",
       "      <td>2</td>\n",
       "      <td>None</td>\n",
       "      <td>None</td>\n",
       "      <td>[]</td>\n",
       "      <td>1</td>\n",
       "      <td>2</td>\n",
       "      <td>takeaway</td>\n",
       "      <td>2</td>\n",
       "      <td>cash</td>\n",
       "      <td>NaN</td>\n",
       "      <td>transfer</td>\n",
       "      <td>NaN</td>\n",
       "      <td>1</td>\n",
       "      <td>Calle 24, No 418, e / 23 y 25, Vedado</td>\n",
       "      <td>None</td>\n",
       "      <td>Plaza de la Revolucion</td>\n",
       "      <td>La Habana</td>\n",
       "      <td>None</td>\n",
       "      <td>Cuba</td>\n",
       "      <td>NaN</td>\n",
       "      <td>NaN</td>\n",
       "      <td>home</td>\n",
       "      <td>phone</td>\n",
       "      <td>pet_friendly</td>\n",
       "      <td>NaN</td>\n",
       "      <td>NaN</td>\n",
       "      <td>NaN</td>\n",
       "      <td>NaN</td>\n",
       "      <td>NaN</td>\n",
       "      <td>NaN</td>\n",
       "      <td>NaN</td>\n",
       "      <td>NaN</td>\n",
       "      <td>NaN</td>\n",
       "      <td>NaN</td>\n",
       "      <td>Sin FB</td>\n",
       "      <td>Sin Facebook</td>\n",
       "      <td>Sin Instagram</td>\n",
       "      <td>Sin Twitter</td>\n",
       "      <td>Sin Twitter</td>\n",
       "    </tr>\n",
       "    <tr>\n",
       "      <th>193</th>\n",
       "      <td>Coco Blue</td>\n",
       "      <td>59121916</td>\n",
       "      <td>None</td>\n",
       "      <td>None</td>\n",
       "      <td>bar</td>\n",
       "      <td>private</td>\n",
       "      <td>cuban</td>\n",
       "      <td>12</td>\n",
       "      <td>False</td>\n",
       "      <td>4.5</td>\n",
       "      <td>75</td>\n",
       "      <td>medium</td>\n",
       "      <td>None</td>\n",
       "      <td>None</td>\n",
       "      <td>None</td>\n",
       "      <td>4</td>\n",
       "      <td>0</td>\n",
       "      <td>10</td>\n",
       "      <td>4</td>\n",
       "      <td>0</td>\n",
       "      <td>0</td>\n",
       "      <td>0</td>\n",
       "      <td>0</td>\n",
       "      <td>0</td>\n",
       "      <td>0</td>\n",
       "      <td>0</td>\n",
       "      <td>1</td>\n",
       "      <td>14</td>\n",
       "      <td>0</td>\n",
       "      <td>6</td>\n",
       "      <td>14</td>\n",
       "      <td>0</td>\n",
       "      <td>0</td>\n",
       "      <td>0</td>\n",
       "      <td>10:00</td>\n",
       "      <td>00:30</td>\n",
       "      <td>[thu, fri, sat, sun]</td>\n",
       "      <td>2</td>\n",
       "      <td>1</td>\n",
       "      <td>takeaway</td>\n",
       "      <td>2</td>\n",
       "      <td>cash</td>\n",
       "      <td>NaN</td>\n",
       "      <td>transfer</td>\n",
       "      <td>NaN</td>\n",
       "      <td>0</td>\n",
       "      <td>None</td>\n",
       "      <td>None</td>\n",
       "      <td>Plaza de la Revolucion</td>\n",
       "      <td>La Habana</td>\n",
       "      <td>None</td>\n",
       "      <td>Cuba</td>\n",
       "      <td>NaN</td>\n",
       "      <td>NaN</td>\n",
       "      <td>NaN</td>\n",
       "      <td>phone</td>\n",
       "      <td>NaN</td>\n",
       "      <td>NaN</td>\n",
       "      <td>NaN</td>\n",
       "      <td>NaN</td>\n",
       "      <td>NaN</td>\n",
       "      <td>NaN</td>\n",
       "      <td>NaN</td>\n",
       "      <td>NaN</td>\n",
       "      <td>online</td>\n",
       "      <td>NaN</td>\n",
       "      <td>NaN</td>\n",
       "      <td>Sin FB</td>\n",
       "      <td>Sin Facebook</td>\n",
       "      <td>Sin Instagram</td>\n",
       "      <td>Sin Twitter</td>\n",
       "      <td>Sin Twitter</td>\n",
       "    </tr>\n",
       "    <tr>\n",
       "      <th>199</th>\n",
       "      <td>El Farallón</td>\n",
       "      <td>78305187</td>\n",
       "      <td>farallonrestaurante@gmail.com</td>\n",
       "      <td>None</td>\n",
       "      <td>restaurant</td>\n",
       "      <td>private</td>\n",
       "      <td>italian</td>\n",
       "      <td>12</td>\n",
       "      <td>False</td>\n",
       "      <td>4.4</td>\n",
       "      <td>75</td>\n",
       "      <td>medium</td>\n",
       "      <td>None</td>\n",
       "      <td>https://www.instagram.com/restaurantefarallon/</td>\n",
       "      <td>None</td>\n",
       "      <td>0</td>\n",
       "      <td>18</td>\n",
       "      <td>0</td>\n",
       "      <td>35</td>\n",
       "      <td>18</td>\n",
       "      <td>0</td>\n",
       "      <td>5</td>\n",
       "      <td>0</td>\n",
       "      <td>0</td>\n",
       "      <td>0</td>\n",
       "      <td>0</td>\n",
       "      <td>1</td>\n",
       "      <td>0</td>\n",
       "      <td>0</td>\n",
       "      <td>15</td>\n",
       "      <td>5</td>\n",
       "      <td>0</td>\n",
       "      <td>1</td>\n",
       "      <td>0</td>\n",
       "      <td>12:00</td>\n",
       "      <td>24:00</td>\n",
       "      <td>[mon, tue, wed, thu, fri, sat, sun]</td>\n",
       "      <td>2</td>\n",
       "      <td>2</td>\n",
       "      <td>takeaway</td>\n",
       "      <td>2</td>\n",
       "      <td>cash</td>\n",
       "      <td>NaN</td>\n",
       "      <td>transfer</td>\n",
       "      <td>NaN</td>\n",
       "      <td>0</td>\n",
       "      <td>Calle 22 # 361, esq. 23</td>\n",
       "      <td>Vedado</td>\n",
       "      <td>Plaza de la Revolucion</td>\n",
       "      <td>La Habana</td>\n",
       "      <td>None</td>\n",
       "      <td>Cuba</td>\n",
       "      <td>NaN</td>\n",
       "      <td>NaN</td>\n",
       "      <td>home</td>\n",
       "      <td>phone</td>\n",
       "      <td>NaN</td>\n",
       "      <td>NaN</td>\n",
       "      <td>23.124342</td>\n",
       "      <td>-82.404149</td>\n",
       "      <td>NaN</td>\n",
       "      <td>NaN</td>\n",
       "      <td>NaN</td>\n",
       "      <td>NaN</td>\n",
       "      <td>online</td>\n",
       "      <td>NaN</td>\n",
       "      <td>NaN</td>\n",
       "      <td>Sin FB</td>\n",
       "      <td>Sin Facebook</td>\n",
       "      <td>Con Instagram</td>\n",
       "      <td>Sin Twitter</td>\n",
       "      <td>Sin Twitter</td>\n",
       "    </tr>\n",
       "    <tr>\n",
       "      <th>200</th>\n",
       "      <td>Esquina D-Fraile</td>\n",
       "      <td>52932497</td>\n",
       "      <td>None</td>\n",
       "      <td>None</td>\n",
       "      <td>restaurant</td>\n",
       "      <td>private</td>\n",
       "      <td>others</td>\n",
       "      <td>150</td>\n",
       "      <td>False</td>\n",
       "      <td>5.0</td>\n",
       "      <td>75</td>\n",
       "      <td>medium</td>\n",
       "      <td>None</td>\n",
       "      <td>None</td>\n",
       "      <td>None</td>\n",
       "      <td>0</td>\n",
       "      <td>0</td>\n",
       "      <td>16</td>\n",
       "      <td>17</td>\n",
       "      <td>11</td>\n",
       "      <td>7</td>\n",
       "      <td>0</td>\n",
       "      <td>1</td>\n",
       "      <td>8</td>\n",
       "      <td>0</td>\n",
       "      <td>0</td>\n",
       "      <td>6</td>\n",
       "      <td>21</td>\n",
       "      <td>2</td>\n",
       "      <td>5</td>\n",
       "      <td>10</td>\n",
       "      <td>1</td>\n",
       "      <td>0</td>\n",
       "      <td>1</td>\n",
       "      <td>12:00</td>\n",
       "      <td>00:00</td>\n",
       "      <td>[mon, tue, wed, thu, fri, sat, sun]</td>\n",
       "      <td>1</td>\n",
       "      <td>0</td>\n",
       "      <td>NaN</td>\n",
       "      <td>2</td>\n",
       "      <td>cash</td>\n",
       "      <td>NaN</td>\n",
       "      <td>transfer</td>\n",
       "      <td>NaN</td>\n",
       "      <td>0</td>\n",
       "      <td>Calle D entre 1era y 3era</td>\n",
       "      <td>None</td>\n",
       "      <td>Plaza de la Revolucion</td>\n",
       "      <td>La Habana</td>\n",
       "      <td>None</td>\n",
       "      <td>Cuba</td>\n",
       "      <td>NaN</td>\n",
       "      <td>NaN</td>\n",
       "      <td>NaN</td>\n",
       "      <td>phone</td>\n",
       "      <td>NaN</td>\n",
       "      <td>NaN</td>\n",
       "      <td>NaN</td>\n",
       "      <td>NaN</td>\n",
       "      <td>NaN</td>\n",
       "      <td>NaN</td>\n",
       "      <td>NaN</td>\n",
       "      <td>NaN</td>\n",
       "      <td>NaN</td>\n",
       "      <td>NaN</td>\n",
       "      <td>NaN</td>\n",
       "      <td>Sin FB</td>\n",
       "      <td>Sin Facebook</td>\n",
       "      <td>Sin Instagram</td>\n",
       "      <td>Sin Twitter</td>\n",
       "      <td>Sin Twitter</td>\n",
       "    </tr>\n",
       "    <tr>\n",
       "      <th>201</th>\n",
       "      <td>Fonda La Paila</td>\n",
       "      <td>53388837</td>\n",
       "      <td>fondapaila25@gmail.com</td>\n",
       "      <td>https://fondalapaila.com/</td>\n",
       "      <td>restaurant</td>\n",
       "      <td>private</td>\n",
       "      <td>cuban</td>\n",
       "      <td>12</td>\n",
       "      <td>False</td>\n",
       "      <td>4.4</td>\n",
       "      <td>75</td>\n",
       "      <td>medium</td>\n",
       "      <td>https://www.facebook.com/lapaila25ym</td>\n",
       "      <td>https://www.instagram.com/lapaila_25ym/</td>\n",
       "      <td>None</td>\n",
       "      <td>0</td>\n",
       "      <td>17</td>\n",
       "      <td>0</td>\n",
       "      <td>23</td>\n",
       "      <td>0</td>\n",
       "      <td>1</td>\n",
       "      <td>0</td>\n",
       "      <td>0</td>\n",
       "      <td>0</td>\n",
       "      <td>0</td>\n",
       "      <td>0</td>\n",
       "      <td>7</td>\n",
       "      <td>0</td>\n",
       "      <td>0</td>\n",
       "      <td>0</td>\n",
       "      <td>0</td>\n",
       "      <td>0</td>\n",
       "      <td>0</td>\n",
       "      <td>0</td>\n",
       "      <td>12:00</td>\n",
       "      <td>24:00</td>\n",
       "      <td>[mon, tue, wed, thu, fri, sat, sun]</td>\n",
       "      <td>2</td>\n",
       "      <td>2</td>\n",
       "      <td>takeaway</td>\n",
       "      <td>2</td>\n",
       "      <td>cash</td>\n",
       "      <td>NaN</td>\n",
       "      <td>transfer</td>\n",
       "      <td>NaN</td>\n",
       "      <td>0</td>\n",
       "      <td>Calle M e/ 25 y 27</td>\n",
       "      <td>Vedado</td>\n",
       "      <td>Plaza de la Revolucion</td>\n",
       "      <td>La Habana</td>\n",
       "      <td>None</td>\n",
       "      <td>Cuba</td>\n",
       "      <td>NaN</td>\n",
       "      <td>NaN</td>\n",
       "      <td>home</td>\n",
       "      <td>phone</td>\n",
       "      <td>NaN</td>\n",
       "      <td>NaN</td>\n",
       "      <td>23.144895</td>\n",
       "      <td>-82.382637</td>\n",
       "      <td>NaN</td>\n",
       "      <td>NaN</td>\n",
       "      <td>NaN</td>\n",
       "      <td>NaN</td>\n",
       "      <td>online</td>\n",
       "      <td>NaN</td>\n",
       "      <td>NaN</td>\n",
       "      <td>Con FB</td>\n",
       "      <td>Con Facebook</td>\n",
       "      <td>Con Instagram</td>\n",
       "      <td>Sin Twitter</td>\n",
       "      <td>Sin Twitter</td>\n",
       "    </tr>\n",
       "    <tr>\n",
       "      <th>208</th>\n",
       "      <td>Mar Adentro</td>\n",
       "      <td>78332060</td>\n",
       "      <td>maradentrohabana@gmail.com</td>\n",
       "      <td>https://bio.site/maradentro</td>\n",
       "      <td>restaurant</td>\n",
       "      <td>private</td>\n",
       "      <td>cuban</td>\n",
       "      <td>12</td>\n",
       "      <td>False</td>\n",
       "      <td>4.5</td>\n",
       "      <td>75</td>\n",
       "      <td>high</td>\n",
       "      <td>https://www.facebook.com/maradentrohabana</td>\n",
       "      <td>https://www.instagram.com/maradentrohabana</td>\n",
       "      <td>None</td>\n",
       "      <td>3</td>\n",
       "      <td>16</td>\n",
       "      <td>0</td>\n",
       "      <td>9</td>\n",
       "      <td>0</td>\n",
       "      <td>0</td>\n",
       "      <td>3</td>\n",
       "      <td>0</td>\n",
       "      <td>7</td>\n",
       "      <td>0</td>\n",
       "      <td>0</td>\n",
       "      <td>6</td>\n",
       "      <td>0</td>\n",
       "      <td>0</td>\n",
       "      <td>0</td>\n",
       "      <td>16</td>\n",
       "      <td>0</td>\n",
       "      <td>2</td>\n",
       "      <td>0</td>\n",
       "      <td>09:00</td>\n",
       "      <td>00:30</td>\n",
       "      <td>[mon, tue, wed, thu, fri, sat, sun]</td>\n",
       "      <td>1</td>\n",
       "      <td>2</td>\n",
       "      <td>takeaway</td>\n",
       "      <td>2</td>\n",
       "      <td>cash</td>\n",
       "      <td>card</td>\n",
       "      <td>NaN</td>\n",
       "      <td>NaN</td>\n",
       "      <td>0</td>\n",
       "      <td>Calle C, #15, entre 1ª y 3ª</td>\n",
       "      <td>None</td>\n",
       "      <td>Plaza de la Revolucion</td>\n",
       "      <td>La Habana</td>\n",
       "      <td>None</td>\n",
       "      <td>Cuba</td>\n",
       "      <td>NaN</td>\n",
       "      <td>NaN</td>\n",
       "      <td>home</td>\n",
       "      <td>phone</td>\n",
       "      <td>NaN</td>\n",
       "      <td>NaN</td>\n",
       "      <td>23.142434</td>\n",
       "      <td>-82.399233</td>\n",
       "      <td>NaN</td>\n",
       "      <td>NaN</td>\n",
       "      <td>NaN</td>\n",
       "      <td>NaN</td>\n",
       "      <td>NaN</td>\n",
       "      <td>NaN</td>\n",
       "      <td>NaN</td>\n",
       "      <td>Con FB</td>\n",
       "      <td>Con Facebook</td>\n",
       "      <td>Con Instagram</td>\n",
       "      <td>Sin Twitter</td>\n",
       "      <td>Sin Twitter</td>\n",
       "    </tr>\n",
       "    <tr>\n",
       "      <th>215</th>\n",
       "      <td>Vita Nuova</td>\n",
       "      <td>78329774</td>\n",
       "      <td>None</td>\n",
       "      <td>None</td>\n",
       "      <td>bar</td>\n",
       "      <td>private</td>\n",
       "      <td>italian</td>\n",
       "      <td>40</td>\n",
       "      <td>False</td>\n",
       "      <td>4.6</td>\n",
       "      <td>75</td>\n",
       "      <td>medium</td>\n",
       "      <td>None</td>\n",
       "      <td>None</td>\n",
       "      <td>None</td>\n",
       "      <td>0</td>\n",
       "      <td>0</td>\n",
       "      <td>15</td>\n",
       "      <td>26</td>\n",
       "      <td>9</td>\n",
       "      <td>9</td>\n",
       "      <td>0</td>\n",
       "      <td>14</td>\n",
       "      <td>6</td>\n",
       "      <td>1</td>\n",
       "      <td>4</td>\n",
       "      <td>7</td>\n",
       "      <td>36</td>\n",
       "      <td>11</td>\n",
       "      <td>33</td>\n",
       "      <td>8</td>\n",
       "      <td>10</td>\n",
       "      <td>3</td>\n",
       "      <td>0</td>\n",
       "      <td>11:00</td>\n",
       "      <td>00:00</td>\n",
       "      <td>[mon, tue, wed, thu, fri, sat, sun]</td>\n",
       "      <td>1</td>\n",
       "      <td>0</td>\n",
       "      <td>NaN</td>\n",
       "      <td>2</td>\n",
       "      <td>cash</td>\n",
       "      <td>NaN</td>\n",
       "      <td>transfer</td>\n",
       "      <td>NaN</td>\n",
       "      <td>1</td>\n",
       "      <td>Calle L esquina 21, Vedado</td>\n",
       "      <td>None</td>\n",
       "      <td>Plaza de la Revolucion</td>\n",
       "      <td>La Habana</td>\n",
       "      <td>None</td>\n",
       "      <td>Cuba</td>\n",
       "      <td>NaN</td>\n",
       "      <td>NaN</td>\n",
       "      <td>NaN</td>\n",
       "      <td>phone</td>\n",
       "      <td>NaN</td>\n",
       "      <td>NaN</td>\n",
       "      <td>NaN</td>\n",
       "      <td>NaN</td>\n",
       "      <td>NaN</td>\n",
       "      <td>NaN</td>\n",
       "      <td>NaN</td>\n",
       "      <td>NaN</td>\n",
       "      <td>NaN</td>\n",
       "      <td>NaN</td>\n",
       "      <td>wifi</td>\n",
       "      <td>Sin FB</td>\n",
       "      <td>Sin Facebook</td>\n",
       "      <td>Sin Instagram</td>\n",
       "      <td>Sin Twitter</td>\n",
       "      <td>Sin Twitter</td>\n",
       "    </tr>\n",
       "    <tr>\n",
       "      <th>222</th>\n",
       "      <td>El Pecado</td>\n",
       "      <td>76795921</td>\n",
       "      <td>None</td>\n",
       "      <td>None</td>\n",
       "      <td>restaurant</td>\n",
       "      <td>private</td>\n",
       "      <td>others</td>\n",
       "      <td>12</td>\n",
       "      <td>False</td>\n",
       "      <td>4.5</td>\n",
       "      <td>75</td>\n",
       "      <td>medium</td>\n",
       "      <td>None</td>\n",
       "      <td>None</td>\n",
       "      <td>None</td>\n",
       "      <td>0</td>\n",
       "      <td>11</td>\n",
       "      <td>0</td>\n",
       "      <td>18</td>\n",
       "      <td>0</td>\n",
       "      <td>0</td>\n",
       "      <td>0</td>\n",
       "      <td>0</td>\n",
       "      <td>0</td>\n",
       "      <td>0</td>\n",
       "      <td>0</td>\n",
       "      <td>0</td>\n",
       "      <td>0</td>\n",
       "      <td>0</td>\n",
       "      <td>0</td>\n",
       "      <td>0</td>\n",
       "      <td>0</td>\n",
       "      <td>0</td>\n",
       "      <td>0</td>\n",
       "      <td>11:00</td>\n",
       "      <td>23:00</td>\n",
       "      <td>[mon, tue, wed, thu, fri, sat, sun]</td>\n",
       "      <td>1</td>\n",
       "      <td>1</td>\n",
       "      <td>NaN</td>\n",
       "      <td>2</td>\n",
       "      <td>cash</td>\n",
       "      <td>NaN</td>\n",
       "      <td>transfer</td>\n",
       "      <td>NaN</td>\n",
       "      <td>0</td>\n",
       "      <td>calle Matos #152 % Fernanda y Central, La Fern...</td>\n",
       "      <td>None</td>\n",
       "      <td>San Miguel del Padron</td>\n",
       "      <td>La Habana</td>\n",
       "      <td>None</td>\n",
       "      <td>Cuba</td>\n",
       "      <td>NaN</td>\n",
       "      <td>NaN</td>\n",
       "      <td>home</td>\n",
       "      <td>phone</td>\n",
       "      <td>NaN</td>\n",
       "      <td>NaN</td>\n",
       "      <td>NaN</td>\n",
       "      <td>NaN</td>\n",
       "      <td>NaN</td>\n",
       "      <td>NaN</td>\n",
       "      <td>NaN</td>\n",
       "      <td>NaN</td>\n",
       "      <td>NaN</td>\n",
       "      <td>NaN</td>\n",
       "      <td>NaN</td>\n",
       "      <td>Sin FB</td>\n",
       "      <td>Sin Facebook</td>\n",
       "      <td>Sin Instagram</td>\n",
       "      <td>Sin Twitter</td>\n",
       "      <td>Sin Twitter</td>\n",
       "    </tr>\n",
       "  </tbody>\n",
       "</table>\n",
       "</div>"
      ],
      "text/plain": [
       "                      name     phone                           email  \\\n",
       "14           Dominica Like  53324796                            None   \n",
       "18                Entabla2  51744817                            None   \n",
       "23                Tanokura  76832173                            None   \n",
       "32                 El Biky  78706515                            None   \n",
       "71                Don Omar  76820340                            None   \n",
       "88               Casa Godo  76034192                            None   \n",
       "99              Lacret 559  52906422                            None   \n",
       "100                Lateral  59525677                            None   \n",
       "103              La Fuente  76908989                            None   \n",
       "104               La Ronda  76990583                            None   \n",
       "107                Melao's  76419219                            None   \n",
       "115        Villa Hernandez  53165356                            None   \n",
       "118                   Polo  52411618                            None   \n",
       "119                   Polo  52411618                            None   \n",
       "127    Restaurante El Pavo  58222469                            None   \n",
       "128        Anillo Habanero  52042710                            None   \n",
       "131           Al Campestre  53236469                            None   \n",
       "134         Chicken_Little      None                            None   \n",
       "137           Dona Cotolin  77991347                            None   \n",
       "143                Jackafe  77636363                            None   \n",
       "144                  Kopas  51566616                            None   \n",
       "156  Trattoria Zia Cecilia  54600285  tractoriaziacecilias@gmail.com   \n",
       "186              Villarino  72077867                            None   \n",
       "187              Asia Cuba  50956929                            None   \n",
       "189      Bodegón del Asado  78375201                            None   \n",
       "193              Coco Blue  59121916                            None   \n",
       "199            El Farallón  78305187   farallonrestaurante@gmail.com   \n",
       "200      Esquina D-Fraile   52932497                            None   \n",
       "201         Fonda La Paila  53388837          fondapaila25@gmail.com   \n",
       "208            Mar Adentro  78332060      maradentrohabana@gmail.com   \n",
       "215             Vita Nuova  78329774                            None   \n",
       "222              El Pecado  76795921                            None   \n",
       "\n",
       "                                       web    est_type bus_type  cuisine  cap  \\\n",
       "14                                    None  restaurant  private  italian   12   \n",
       "18                                    None  restaurant  private    cuban   12   \n",
       "23                                    None  restaurant  private   others   30   \n",
       "32                              elbiky.com         bar  private    cuban   12   \n",
       "71                                    None  restaurant  private    cuban   12   \n",
       "88                                    None  restaurant  private    cuban   12   \n",
       "99                                    None         bar  private   others   12   \n",
       "100                                   None  restaurant  private   others   12   \n",
       "103                                   None  restaurant  private    cuban   12   \n",
       "104                                   None  restaurant  private    cuban   12   \n",
       "107                                   None         bar  private    cuban   12   \n",
       "115                                   None  restaurant  private   others   12   \n",
       "118                                   None         bar  private   others   12   \n",
       "119                                   None  restaurant  private    cuban   12   \n",
       "127                                   None  restaurant  private   others   12   \n",
       "128                                   None  restaurant  private    cuban   12   \n",
       "131                                   None  restaurant  private   others   70   \n",
       "134                                   None  restaurant  private    cuban   38   \n",
       "137                                   None  restaurant  private    cuban   30   \n",
       "143                                   None  restaurant  private   others   40   \n",
       "144                                   None  restaurant  private   others   50   \n",
       "156                                   None  restaurant  private  italian   30   \n",
       "186  http://linktr.ee/restaurantevillarino         bar  private    cuban   12   \n",
       "187                                   None  restaurant  private   others   40   \n",
       "189                                   None  restaurant  private    cuban   50   \n",
       "193                                   None         bar  private    cuban   12   \n",
       "199                                   None  restaurant  private  italian   12   \n",
       "200                                   None  restaurant  private   others  150   \n",
       "201              https://fondalapaila.com/  restaurant  private    cuban   12   \n",
       "208            https://bio.site/maradentro  restaurant  private    cuban   12   \n",
       "215                                   None         bar  private  italian   40   \n",
       "222                                   None  restaurant  private   others   12   \n",
       "\n",
       "     promo  rating  reviews      level  \\\n",
       "14   False     4.4       75       high   \n",
       "18   False     4.4       75     medium   \n",
       "23   False     4.1       30  luxurious   \n",
       "32   False     4.5       30       high   \n",
       "71   False     4.5       75     medium   \n",
       "88   False     4.5       75     medium   \n",
       "99   False     4.5       75     medium   \n",
       "100  False     4.4       75     medium   \n",
       "103  False     4.5       75       high   \n",
       "104  False     4.3       75     medium   \n",
       "107  False     4.3       75       high   \n",
       "115  False     4.5       75       high   \n",
       "118  False     4.5       75     medium   \n",
       "119  False     4.4       75     medium   \n",
       "127  False     4.3       75   economic   \n",
       "128  False     4.5       30     medium   \n",
       "131  False     3.4       75     medium   \n",
       "134  False     4.5        0     medium   \n",
       "137  False     3.8       75     medium   \n",
       "143  False     4.9       30     medium   \n",
       "144  False     4.3       75       high   \n",
       "156  False     4.8       75     medium   \n",
       "186  False     5.0        0     medium   \n",
       "187  False     5.0       75     medium   \n",
       "189  False     4.5       75   economic   \n",
       "193  False     4.5       75     medium   \n",
       "199  False     4.4       75     medium   \n",
       "200  False     5.0       75     medium   \n",
       "201  False     4.4       75     medium   \n",
       "208  False     4.5       75       high   \n",
       "215  False     4.6       75     medium   \n",
       "222  False     4.5       75     medium   \n",
       "\n",
       "                                                    fb  \\\n",
       "14                                                None   \n",
       "18   https://www.facebook.com/profile.php?id=615584...   \n",
       "23                            Cafe-Restaurant Tanokura   \n",
       "32                                                None   \n",
       "71                                                None   \n",
       "88                                                None   \n",
       "99         https://www.facebook.com/cateringlacrett559   \n",
       "100           https://www.facebook.com/307308194105213   \n",
       "103                                               None   \n",
       "104        https://m.facebook.com/restaurante.laronda/   \n",
       "107                                               None   \n",
       "115  https://www.facebook.com/villahernandezrestaur...   \n",
       "118                                               None   \n",
       "119                                               None   \n",
       "127                                               None   \n",
       "128                                               None   \n",
       "131                                       Alcampestre.   \n",
       "134                                               None   \n",
       "137  Comida criolla y cubana todo al carbon Dona Co...   \n",
       "143                                 JacKafe (Facebook)   \n",
       "144                                               None   \n",
       "156                               Trattoriaziacecilias   \n",
       "186                         Restaurante Club Villarino   \n",
       "187                                               None   \n",
       "189                                               None   \n",
       "193                                               None   \n",
       "199                                               None   \n",
       "200                                               None   \n",
       "201               https://www.facebook.com/lapaila25ym   \n",
       "208          https://www.facebook.com/maradentrohabana   \n",
       "215                                               None   \n",
       "222                                               None   \n",
       "\n",
       "                                                 ig    tw  menu_breakfast  \\\n",
       "14                                             None  None               0   \n",
       "18     https://www.instagram.com/entablados.habana/  None               0   \n",
       "23                             @restaurant_tanokura  None               0   \n",
       "32                                             None  None               0   \n",
       "71                                             None  None               0   \n",
       "88                             @casa_godo._.oficial  None               0   \n",
       "99                                   @bar_lacret559  None               0   \n",
       "100                                     @lateral.at  None               0   \n",
       "103          https://www.instagram.com/lafuentecuba  None               0   \n",
       "104                            @restaurante.laronda  None               0   \n",
       "107                                     @melaosbarr  None               0   \n",
       "115                       @villahernandezrestaurant  None               0   \n",
       "118                                            None  None               0   \n",
       "119                                            None  None               0   \n",
       "127                                            None  None               0   \n",
       "128                                            None  None               0   \n",
       "131                                     alcampestre  None               0   \n",
       "134                                            None  None               0   \n",
       "137                                            None  None               0   \n",
       "143                                            None  None               0   \n",
       "144                            hopas_bar_restaurant  None               0   \n",
       "156                           @trattoriaziacecilias  None               0   \n",
       "186                    @villarino.restaurantehabana  None               0   \n",
       "187                                            None  None               0   \n",
       "189                                            None  None               0   \n",
       "193                                            None  None               4   \n",
       "199  https://www.instagram.com/restaurantefarallon/  None               0   \n",
       "200                                            None  None               0   \n",
       "201         https://www.instagram.com/lapaila_25ym/  None               0   \n",
       "208      https://www.instagram.com/maradentrohabana  None               3   \n",
       "215                                            None  None               0   \n",
       "222                                            None  None               0   \n",
       "\n",
       "     menu_appetizer  menu_starters  menu_mains  menu_pizza  menu_pasta  \\\n",
       "14                7              0          10           3           3   \n",
       "18                0             13          10           0           0   \n",
       "23                0             26          77           3           2   \n",
       "32                0             22          26           1           5   \n",
       "71               12              0          26           9           6   \n",
       "88                5              0           8           0           0   \n",
       "99               16              0          17          23           0   \n",
       "100              22              0          40          53          10   \n",
       "103              14              0          20           3           0   \n",
       "104              14              0          18           0           0   \n",
       "107              15              0           4           0           0   \n",
       "115              19              0          29          15           0   \n",
       "118               0             10          25           2           2   \n",
       "119               0             10          20           2           2   \n",
       "127               0             11           7           8           8   \n",
       "128               0              9           4           1           1   \n",
       "131               0             17          16           3           8   \n",
       "134               0             10          30           0           0   \n",
       "137               0             10           8           0           0   \n",
       "143               0             15          13           2           0   \n",
       "144               0              8          43           0           0   \n",
       "156               0              3           0          13          15   \n",
       "186               7              0           4          13           5   \n",
       "187               0              7          10           0           0   \n",
       "189               0             14          19           5           1   \n",
       "193               0             10           4           0           0   \n",
       "199              18              0          35          18           0   \n",
       "200               0             16          17          11           7   \n",
       "201              17              0          23           0           1   \n",
       "208              16              0           9           0           0   \n",
       "215               0             15          26           9           9   \n",
       "222              11              0          18           0           0   \n",
       "\n",
       "     menu_seafood  menu_sandwich  menu_sides  menu_salads  menu_soups  \\\n",
       "14              3              0           5            0           4   \n",
       "18              9              0           3            1           0   \n",
       "23             19              0          25            0           0   \n",
       "32              0              0          16            4           0   \n",
       "71              9              0           9            5           2   \n",
       "88              6              0           3            1           0   \n",
       "99              0              0           0            0           0   \n",
       "100             0              0           6            1           1   \n",
       "103             9              0           7            1           5   \n",
       "104             8              0           3            1           0   \n",
       "107             0              0           5            0           0   \n",
       "115            19              0          18            1           0   \n",
       "118             0              0           0            0           0   \n",
       "119             5              0           0            0           0   \n",
       "127             7              0           0            0           0   \n",
       "128             2              0           0            0           0   \n",
       "131             9              0          20            0           0   \n",
       "134             0              0           3            0           0   \n",
       "137            11              0           4            0           0   \n",
       "143             5              0          15            1           0   \n",
       "144             0              0           0            0           0   \n",
       "156             0              0           0            0           0   \n",
       "186             0              0           0            0           0   \n",
       "187             0              0           0            0           0   \n",
       "189             0              3           6            0           0   \n",
       "193             0              0           0            0           0   \n",
       "199             5              0           0            0           0   \n",
       "200             0              1           8            0           0   \n",
       "201             0              0           0            0           0   \n",
       "208             3              0           7            0           0   \n",
       "215             0             14           6            1           4   \n",
       "222             0              0           0            0           0   \n",
       "\n",
       "     menu_desserts  menu_cocktails  menu_wines  menu_alcoholic_drinks  \\\n",
       "14               2              26           2                     22   \n",
       "18               1               8           2                     10   \n",
       "23               7              13           1                     23   \n",
       "32              12              13           3                      5   \n",
       "71               6               2           0                     32   \n",
       "88               1               0           0                      0   \n",
       "99               0              14           0                      3   \n",
       "100              6              41           0                     14   \n",
       "103              1              19           0                     32   \n",
       "104              6               0           0                      1   \n",
       "107              0              45           0                     35   \n",
       "115              8              15           2                     48   \n",
       "118              0               0           0                      2   \n",
       "119              0               0           0                      0   \n",
       "127              1               0           0                      3   \n",
       "128              3               0           0                      0   \n",
       "131              8              15           0                      0   \n",
       "134              3               6           0                      5   \n",
       "137              3              16           2                     22   \n",
       "143              0               0           0                      2   \n",
       "144              0               0           0                      6   \n",
       "156              0               6           3                     10   \n",
       "186              0               2           1                      2   \n",
       "187              4              28           0                     19   \n",
       "189              7              19           1                     36   \n",
       "193              1              14           0                      6   \n",
       "199              1               0           0                     15   \n",
       "200              6              21           2                      5   \n",
       "201              7               0           0                      0   \n",
       "208              6               0           0                      0   \n",
       "215              7              36          11                     33   \n",
       "222              0               0           0                      0   \n",
       "\n",
       "     menu_non_alcoholic_drinks  menu_infusions  menu_water  menu_others  \\\n",
       "14                          12               5           2            0   \n",
       "18                          11               5           1            0   \n",
       "23                          13               0           3            0   \n",
       "32                          15               8           3            0   \n",
       "71                           9               4           1            7   \n",
       "88                           0               0           0            0   \n",
       "99                           5               0           0            0   \n",
       "100                         13               4           1           16   \n",
       "103                         11               7           0            0   \n",
       "104                          7               0           0            0   \n",
       "107                          7               4           3            0   \n",
       "115                         15               6           3            0   \n",
       "118                          9               0           0            0   \n",
       "119                          0               0           0            0   \n",
       "127                          7               0           0            0   \n",
       "128                          0               0           0            0   \n",
       "131                          1               0           0            0   \n",
       "134                          4               0           2            0   \n",
       "137                          6               0           1            0   \n",
       "143                          4               6           1            0   \n",
       "144                          0               0           0            0   \n",
       "156                          8               0           0            0   \n",
       "186                          8               0           2            0   \n",
       "187                          2               0           0            0   \n",
       "189                          6               6           0            2   \n",
       "193                         14               0           0            0   \n",
       "199                          5               0           1            0   \n",
       "200                         10               1           0            1   \n",
       "201                          0               0           0            0   \n",
       "208                         16               0           2            0   \n",
       "215                          8              10           3            0   \n",
       "222                          0               0           0            0   \n",
       "\n",
       "    hours_open hours_close                           hours_days  \\\n",
       "14       12:00       24:00  [mon, tue, wed, thu, fri, sat, sun]   \n",
       "18        None        None  [mon, tue, wed, thu, fri, sat, sun]   \n",
       "23       11:00       23:00  [mon, tue, wed, thu, fri, sat, sun]   \n",
       "32       08:00       23:00  [mon, tue, wed, thu, fri, sat, sun]   \n",
       "71        None        None  [mon, tue, wed, thu, fri, sat, sun]   \n",
       "88       12:00       23:00  [mon, tue, wed, thu, fri, sat, sun]   \n",
       "99       12:00       23:00  [mon, tue, wed, thu, fri, sat, sun]   \n",
       "100      10:00       23:00  [mon, tue, wed, thu, fri, sat, sun]   \n",
       "103      11:00       24:00  [mon, tue, wed, thu, fri, sat, sun]   \n",
       "104      12:00       23:00  [mon, tue, wed, thu, fri, sat, sun]   \n",
       "107      12:00       03:00  [mon, tue, wed, thu, fri, sat, sun]   \n",
       "115      12:00       23:00  [mon, tue, wed, thu, fri, sat, sun]   \n",
       "118      12:00       00:00  [mon, tue, wed, thu, fri, sat, sun]   \n",
       "119      12:00       00:00  [mon, tue, wed, thu, fri, sat, sun]   \n",
       "127      12:00       23:00  [mon, tue, wed, thu, fri, sat, sun]   \n",
       "128      10:00       23:00  [mon, tue, wed, thu, fri, sat, sun]   \n",
       "131      09:00       23:00  [mon, tue, wed, thu, fri, sat, sun]   \n",
       "134      09:00       23:00  [mon, tue, wed, thu, fri, sat, sun]   \n",
       "137      11:00       22:00  [mon, tue, wed, thu, fri, sat, sun]   \n",
       "143      12:00       09:00  [mon, tue, wed, thu, fri, sat, sun]   \n",
       "144      10:00       23:30  [mon, tue, wed, thu, fri, sat, sun]   \n",
       "156      12:00       23:00  [mon, tue, wed, thu, fri, sat, sun]   \n",
       "186      12:00       22:00  [mon, tue, wed, thu, fri, sat, sun]   \n",
       "187      07:30       23:00       [mon, tue, thu, fri, sat, sun]   \n",
       "189       None        None                                   []   \n",
       "193      10:00       00:30                 [thu, fri, sat, sun]   \n",
       "199      12:00       24:00  [mon, tue, wed, thu, fri, sat, sun]   \n",
       "200      12:00       00:00  [mon, tue, wed, thu, fri, sat, sun]   \n",
       "201      12:00       24:00  [mon, tue, wed, thu, fri, sat, sun]   \n",
       "208      09:00       00:30  [mon, tue, wed, thu, fri, sat, sun]   \n",
       "215      11:00       00:00  [mon, tue, wed, thu, fri, sat, sun]   \n",
       "222      11:00       23:00  [mon, tue, wed, thu, fri, sat, sun]   \n",
       "\n",
       "     reservation_qantity  delivery_qantity delivery_takeaway  payment_qantity  \\\n",
       "14                     1                 2          takeaway                3   \n",
       "18                     2                 2          takeaway                1   \n",
       "23                     1                 1          takeaway                3   \n",
       "32                     2                 3          takeaway                3   \n",
       "71                     1                 2          takeaway                3   \n",
       "88                     1                 1          takeaway                3   \n",
       "99                     1                 2          takeaway                3   \n",
       "100                    2                 2          takeaway                2   \n",
       "103                    1                 1          takeaway                4   \n",
       "104                    1                 2          takeaway                3   \n",
       "107                    1                 0               NaN                4   \n",
       "115                    1                 2          takeaway                3   \n",
       "118                    2                 2          takeaway                2   \n",
       "119                    2                 1          takeaway                2   \n",
       "127                    2                 1               NaN                2   \n",
       "128                    2                 2          takeaway                3   \n",
       "131                    1                 2          takeaway                3   \n",
       "134                    1                 2          takeaway                2   \n",
       "137                    1                 2          takeaway                2   \n",
       "143                    1                 2          takeaway                2   \n",
       "144                    3                 2          takeaway                3   \n",
       "156                    2                 2          takeaway                2   \n",
       "186                    1                 2          takeaway                2   \n",
       "187                    1                 1          takeaway                2   \n",
       "189                    1                 2          takeaway                2   \n",
       "193                    2                 1          takeaway                2   \n",
       "199                    2                 2          takeaway                2   \n",
       "200                    1                 0               NaN                2   \n",
       "201                    2                 2          takeaway                2   \n",
       "208                    1                 2          takeaway                2   \n",
       "215                    1                 0               NaN                2   \n",
       "222                    1                 1               NaN                2   \n",
       "\n",
       "    payment_cash payment_card payment_transfer payment_others  \\\n",
       "14          cash         card         transfer            NaN   \n",
       "18          cash          NaN              NaN            NaN   \n",
       "23          cash         card              NaN         others   \n",
       "32          cash         card              NaN         others   \n",
       "71          cash         card         transfer            NaN   \n",
       "88          cash         card         transfer            NaN   \n",
       "99          cash         card         transfer            NaN   \n",
       "100         cash          NaN         transfer            NaN   \n",
       "103         cash         card         transfer         others   \n",
       "104         cash         card         transfer            NaN   \n",
       "107         cash         card         transfer         others   \n",
       "115         cash         card         transfer            NaN   \n",
       "118         cash          NaN         transfer            NaN   \n",
       "119         cash          NaN         transfer            NaN   \n",
       "127         cash          NaN         transfer            NaN   \n",
       "128         cash          NaN         transfer         others   \n",
       "131         cash         card              NaN         others   \n",
       "134         cash          NaN         transfer            NaN   \n",
       "137         cash          NaN         transfer            NaN   \n",
       "143         cash         card              NaN            NaN   \n",
       "144         cash         card         transfer            NaN   \n",
       "156         cash          NaN         transfer            NaN   \n",
       "186         cash          NaN         transfer            NaN   \n",
       "187         cash          NaN         transfer            NaN   \n",
       "189         cash          NaN         transfer            NaN   \n",
       "193         cash          NaN         transfer            NaN   \n",
       "199         cash          NaN         transfer            NaN   \n",
       "200         cash          NaN         transfer            NaN   \n",
       "201         cash          NaN         transfer            NaN   \n",
       "208         cash         card              NaN            NaN   \n",
       "215         cash          NaN         transfer            NaN   \n",
       "222         cash          NaN         transfer            NaN   \n",
       "\n",
       "     amenities_qantity                                         loc_street  \\\n",
       "14                   0                                 Calle 11. e/ 6 y 8   \n",
       "18                   1  Carretera Terminal 2, Aeropuerto Internacional...   \n",
       "23                   0  Calle 403, esquina de Av Rancho Boyeros y Call...   \n",
       "32                   0            Infanta Nº412 e/ San Lázaro y Concordia   \n",
       "71                   1                                Calle 22A % 65 y 63   \n",
       "88                   0  Ave. Mayía Rodríguez # 358 e/ San Mariano y Vi...   \n",
       "99                   0  Calle Lacret #559 entre Goicuria y Mayía Rodrí...   \n",
       "100                  0           Ave. Acosta #467, esq. Goicuría, Víbora.   \n",
       "103                  0    Calle Acosta e/ 5ta y 6ta. Vista Alegre, Víbora   \n",
       "104                  0         Callé Guasabacoa esquina Calzada de Luyanó   \n",
       "107                  2                Goicuría 229 e/ Milagros y Libertad   \n",
       "115                  0   Calle San Miguel, # 112 e/ Revolución y Gelabert   \n",
       "118                  0                                               None   \n",
       "119                  0                                         Cruz Verde   \n",
       "127                  0                                               None   \n",
       "128                  2                         Primer Anillo de La Habana   \n",
       "131                  0               El Intermitente, Via  Blanca, Alamar   \n",
       "134                  1                        5ta. B y 5ta. C, 5B15 e 504   \n",
       "137                  0       Calle 482 entre 5ta Avenida y 5ta D, Guanabo   \n",
       "143                  0  Calle 164B, #3B01, Esquina 3ra B, Mercado de l...   \n",
       "144                  0                       Esquina de 5ta Avenida, #482   \n",
       "156                  0  #503, Calle 482 entre 5ta Avenida y 5ta D, Gua...   \n",
       "186                  0                                               None   \n",
       "187                  1                        Calle 6 ##562 entre 23 y 25   \n",
       "189                  1              Calle 24, No 418, e / 23 y 25, Vedado   \n",
       "193                  0                                               None   \n",
       "199                  0                            Calle 22 # 361, esq. 23   \n",
       "200                  0                          Calle D entre 1era y 3era   \n",
       "201                  0                                 Calle M e/ 25 y 27   \n",
       "208                  0                        Calle C, #15, entre 1ª y 3ª   \n",
       "215                  1                         Calle L esquina 21, Vedado   \n",
       "222                  0  calle Matos #152 % Fernanda y Central, La Fern...   \n",
       "\n",
       "         loc_council            loc_municipe loc_province loc_zip loc_country  \\\n",
       "14              None                 Boyeros    La Habana    None        Cuba   \n",
       "18   Calixto Sanchez                 Boyeros    La Habana    None        Cuba   \n",
       "23              None                 Boyeros    La Habana    None        Cuba   \n",
       "32              None           Centro Habana    La Habana    None        Cuba   \n",
       "71   reparto América                 Cotorro    La Habana    None        Cuba   \n",
       "88         El Mónaco         Diez de Octubre    La Habana    None        Cuba   \n",
       "99              None         Diez de Octubre    La Habana    None        Cuba   \n",
       "100             None         Diez de Octubre    La Habana    None        Cuba   \n",
       "103             None         Diez de Octubre    La Habana    None        Cuba   \n",
       "104             None         Diez de Octubre    La Habana    None        Cuba   \n",
       "107     Santo Suárez         Diez de Octubre    La Habana    None        Cuba   \n",
       "115        Sevillano         Diez de Octubre    La Habana    None        Cuba   \n",
       "118             None              Guanabacoa    La Habana    None        Cuba   \n",
       "119             None              Guanabacoa    La Habana    None        Cuba   \n",
       "127             None              Guanabacoa    La Habana    None        Cuba   \n",
       "128             None              Guanabacoa    La Habana    None        Cuba   \n",
       "131             None         Habana del Este    La Habana    None        Cuba   \n",
       "134             None      La Habana del Este    La Habana    None        Cuba   \n",
       "137             None         Habana del Este    La Habana    None        Cuba   \n",
       "143             None         Habana del Este    La Habana    None        Cuba   \n",
       "144             None         Habana del Este    La Habana    None        Cuba   \n",
       "156             None         Habana del Este    La Habana    None        Cuba   \n",
       "186             None                   Playa    La Habana    None        Cuba   \n",
       "187           Vedado  Plaza de la Revolucion    La Habana    None        Cuba   \n",
       "189             None  Plaza de la Revolucion    La Habana    None        Cuba   \n",
       "193             None  Plaza de la Revolucion    La Habana    None        Cuba   \n",
       "199           Vedado  Plaza de la Revolucion    La Habana    None        Cuba   \n",
       "200             None  Plaza de la Revolucion    La Habana    None        Cuba   \n",
       "201           Vedado  Plaza de la Revolucion    La Habana    None        Cuba   \n",
       "208             None  Plaza de la Revolucion    La Habana    None        Cuba   \n",
       "215             None  Plaza de la Revolucion    La Habana    None        Cuba   \n",
       "222             None   San Miguel del Padron    La Habana    None        Cuba   \n",
       "\n",
       "    delivery_others reservation_others delivery_home reservation_phone  \\\n",
       "14              NaN                NaN          home             phone   \n",
       "18           others             others           NaN             phone   \n",
       "23              NaN                NaN           NaN             phone   \n",
       "32           others             others          home             phone   \n",
       "71              NaN                NaN          home             phone   \n",
       "88              NaN                NaN           NaN             phone   \n",
       "99              NaN                NaN          home             phone   \n",
       "100             NaN             others          home             phone   \n",
       "103             NaN                NaN           NaN             phone   \n",
       "104             NaN                NaN          home             phone   \n",
       "107             NaN                NaN           NaN             phone   \n",
       "115             NaN                NaN          home             phone   \n",
       "118             NaN                NaN          home             phone   \n",
       "119             NaN                NaN           NaN             phone   \n",
       "127             NaN             others          home             phone   \n",
       "128             NaN                NaN          home             phone   \n",
       "131             NaN                NaN          home             phone   \n",
       "134             NaN                NaN          home             phone   \n",
       "137             NaN                NaN          home             phone   \n",
       "143             NaN                NaN          home             phone   \n",
       "144             NaN             others          home             phone   \n",
       "156             NaN                NaN          home             phone   \n",
       "186             NaN                NaN          home             phone   \n",
       "187             NaN                NaN           NaN             phone   \n",
       "189             NaN                NaN          home             phone   \n",
       "193             NaN                NaN           NaN             phone   \n",
       "199             NaN                NaN          home             phone   \n",
       "200             NaN                NaN           NaN             phone   \n",
       "201             NaN                NaN          home             phone   \n",
       "208             NaN                NaN          home             phone   \n",
       "215             NaN                NaN           NaN             phone   \n",
       "222             NaN                NaN          home             phone   \n",
       "\n",
       "    amenities_pet_friendly amenities_outdoor      loc_x      loc_y  \\\n",
       "14                     NaN               NaN        NaN        NaN   \n",
       "18                     NaN           outdoor        NaN        NaN   \n",
       "23                     NaN               NaN        NaN        NaN   \n",
       "32                     NaN               NaN        NaN        NaN   \n",
       "71            pet_friendly               NaN        NaN        NaN   \n",
       "88                     NaN               NaN        NaN        NaN   \n",
       "99                     NaN               NaN        NaN        NaN   \n",
       "100                    NaN               NaN        NaN        NaN   \n",
       "103                    NaN               NaN        NaN        NaN   \n",
       "104                    NaN               NaN        NaN        NaN   \n",
       "107           pet_friendly               NaN        NaN        NaN   \n",
       "115                    NaN               NaN        NaN        NaN   \n",
       "118                    NaN               NaN        NaN        NaN   \n",
       "119                    NaN               NaN        NaN        NaN   \n",
       "127                    NaN               NaN        NaN        NaN   \n",
       "128                    NaN           outdoor        NaN        NaN   \n",
       "131                    NaN               NaN        NaN        NaN   \n",
       "134           pet_friendly               NaN        NaN        NaN   \n",
       "137                    NaN               NaN        NaN        NaN   \n",
       "143                    NaN               NaN        NaN        NaN   \n",
       "144                    NaN               NaN        NaN        NaN   \n",
       "156                    NaN               NaN        NaN        NaN   \n",
       "186                    NaN               NaN  23.103419 -82.418346   \n",
       "187                    NaN               NaN        NaN        NaN   \n",
       "189           pet_friendly               NaN        NaN        NaN   \n",
       "193                    NaN               NaN        NaN        NaN   \n",
       "199                    NaN               NaN  23.124342 -82.404149   \n",
       "200                    NaN               NaN        NaN        NaN   \n",
       "201                    NaN               NaN  23.144895 -82.382637   \n",
       "208                    NaN               NaN  23.142434 -82.399233   \n",
       "215                    NaN               NaN        NaN        NaN   \n",
       "222                    NaN               NaN        NaN        NaN   \n",
       "\n",
       "     menu_coffee  menu_juices  menu_smoothie  menu_ice_cream_shake  \\\n",
       "14           NaN          NaN            NaN                   NaN   \n",
       "18           NaN          NaN            NaN                   NaN   \n",
       "23           NaN          NaN            NaN                   NaN   \n",
       "32           NaN          NaN            NaN                   NaN   \n",
       "71           NaN          NaN            NaN                   NaN   \n",
       "88           NaN          NaN            NaN                   NaN   \n",
       "99           NaN          NaN            NaN                   NaN   \n",
       "100          NaN          NaN            NaN                   NaN   \n",
       "103          NaN          NaN            NaN                   NaN   \n",
       "104          NaN          NaN            NaN                   NaN   \n",
       "107          NaN          NaN            NaN                   NaN   \n",
       "115          NaN          NaN            NaN                   NaN   \n",
       "118          NaN          NaN            NaN                   NaN   \n",
       "119          NaN          NaN            NaN                   NaN   \n",
       "127          NaN          NaN            NaN                   NaN   \n",
       "128          NaN          NaN            NaN                   NaN   \n",
       "131          NaN          NaN            NaN                   NaN   \n",
       "134          NaN          NaN            NaN                   NaN   \n",
       "137          NaN          NaN            NaN                   NaN   \n",
       "143          NaN          NaN            NaN                   NaN   \n",
       "144          NaN          NaN            NaN                   NaN   \n",
       "156          NaN          NaN            NaN                   NaN   \n",
       "186          NaN          NaN            NaN                   NaN   \n",
       "187          NaN          NaN            NaN                   NaN   \n",
       "189          NaN          NaN            NaN                   NaN   \n",
       "193          NaN          NaN            NaN                   NaN   \n",
       "199          NaN          NaN            NaN                   NaN   \n",
       "200          NaN          NaN            NaN                   NaN   \n",
       "201          NaN          NaN            NaN                   NaN   \n",
       "208          NaN          NaN            NaN                   NaN   \n",
       "215          NaN          NaN            NaN                   NaN   \n",
       "222          NaN          NaN            NaN                   NaN   \n",
       "\n",
       "    reservation_online amenities_live_music amenities_wifi categoria  \\\n",
       "14                 NaN                  NaN            NaN    Sin FB   \n",
       "18                 NaN                  NaN            NaN    Con FB   \n",
       "23                 NaN                  NaN            NaN    Con FB   \n",
       "32                 NaN                  NaN            NaN    Sin FB   \n",
       "71                 NaN                  NaN            NaN    Sin FB   \n",
       "88                 NaN                  NaN            NaN    Sin FB   \n",
       "99                 NaN                  NaN            NaN    Con FB   \n",
       "100                NaN                  NaN            NaN    Con FB   \n",
       "103                NaN                  NaN            NaN    Sin FB   \n",
       "104                NaN                  NaN            NaN    Con FB   \n",
       "107                NaN           live_music            NaN    Sin FB   \n",
       "115                NaN                  NaN            NaN    Con FB   \n",
       "118             online                  NaN            NaN    Sin FB   \n",
       "119             online                  NaN            NaN    Sin FB   \n",
       "127                NaN                  NaN            NaN    Sin FB   \n",
       "128             online           live_music            NaN    Sin FB   \n",
       "131                NaN                  NaN            NaN    Con FB   \n",
       "134                NaN                  NaN            NaN    Sin FB   \n",
       "137                NaN                  NaN            NaN    Con FB   \n",
       "143                NaN                  NaN            NaN    Con FB   \n",
       "144             online                  NaN            NaN    Sin FB   \n",
       "156             online                  NaN            NaN    Con FB   \n",
       "186                NaN                  NaN            NaN    Con FB   \n",
       "187                NaN                  NaN           wifi    Sin FB   \n",
       "189                NaN                  NaN            NaN    Sin FB   \n",
       "193             online                  NaN            NaN    Sin FB   \n",
       "199             online                  NaN            NaN    Sin FB   \n",
       "200                NaN                  NaN            NaN    Sin FB   \n",
       "201             online                  NaN            NaN    Con FB   \n",
       "208                NaN                  NaN            NaN    Con FB   \n",
       "215                NaN                  NaN           wifi    Sin FB   \n",
       "222                NaN                  NaN            NaN    Sin FB   \n",
       "\n",
       "        clasif_fb      clasif_ig    clasif_tw   clasif_tw2  \n",
       "14   Sin Facebook  Sin Instagram  Sin Twitter  Sin Twitter  \n",
       "18   Con Facebook  Con Instagram  Sin Twitter  Sin Twitter  \n",
       "23   Con Facebook  Con Instagram  Sin Twitter  Sin Twitter  \n",
       "32   Sin Facebook  Sin Instagram  Sin Twitter  Sin Twitter  \n",
       "71   Sin Facebook  Sin Instagram  Sin Twitter  Sin Twitter  \n",
       "88   Sin Facebook  Con Instagram  Sin Twitter  Sin Twitter  \n",
       "99   Con Facebook  Con Instagram  Sin Twitter  Sin Twitter  \n",
       "100  Con Facebook  Con Instagram  Sin Twitter  Sin Twitter  \n",
       "103  Sin Facebook  Con Instagram  Sin Twitter  Sin Twitter  \n",
       "104  Con Facebook  Con Instagram  Sin Twitter  Sin Twitter  \n",
       "107  Sin Facebook  Con Instagram  Sin Twitter  Sin Twitter  \n",
       "115  Con Facebook  Con Instagram  Sin Twitter  Sin Twitter  \n",
       "118  Sin Facebook  Sin Instagram  Sin Twitter  Sin Twitter  \n",
       "119  Sin Facebook  Sin Instagram  Sin Twitter  Sin Twitter  \n",
       "127  Sin Facebook  Sin Instagram  Sin Twitter  Sin Twitter  \n",
       "128  Sin Facebook  Sin Instagram  Sin Twitter  Sin Twitter  \n",
       "131  Con Facebook  Con Instagram  Sin Twitter  Sin Twitter  \n",
       "134  Sin Facebook  Sin Instagram  Sin Twitter  Sin Twitter  \n",
       "137  Con Facebook  Sin Instagram  Sin Twitter  Sin Twitter  \n",
       "143  Con Facebook  Sin Instagram  Sin Twitter  Sin Twitter  \n",
       "144  Sin Facebook  Con Instagram  Sin Twitter  Sin Twitter  \n",
       "156  Con Facebook  Con Instagram  Sin Twitter  Sin Twitter  \n",
       "186  Con Facebook  Con Instagram  Sin Twitter  Sin Twitter  \n",
       "187  Sin Facebook  Sin Instagram  Sin Twitter  Sin Twitter  \n",
       "189  Sin Facebook  Sin Instagram  Sin Twitter  Sin Twitter  \n",
       "193  Sin Facebook  Sin Instagram  Sin Twitter  Sin Twitter  \n",
       "199  Sin Facebook  Con Instagram  Sin Twitter  Sin Twitter  \n",
       "200  Sin Facebook  Sin Instagram  Sin Twitter  Sin Twitter  \n",
       "201  Con Facebook  Con Instagram  Sin Twitter  Sin Twitter  \n",
       "208  Con Facebook  Con Instagram  Sin Twitter  Sin Twitter  \n",
       "215  Sin Facebook  Sin Instagram  Sin Twitter  Sin Twitter  \n",
       "222  Sin Facebook  Sin Instagram  Sin Twitter  Sin Twitter  "
      ]
     },
     "metadata": {},
     "output_type": "display_data"
    },
    {
     "data": {
      "text/html": [
       "<div>\n",
       "<style scoped>\n",
       "    .dataframe tbody tr th:only-of-type {\n",
       "        vertical-align: middle;\n",
       "    }\n",
       "\n",
       "    .dataframe tbody tr th {\n",
       "        vertical-align: top;\n",
       "    }\n",
       "\n",
       "    .dataframe thead th {\n",
       "        text-align: right;\n",
       "    }\n",
       "</style>\n",
       "<table border=\"1\" class=\"dataframe\">\n",
       "  <thead>\n",
       "    <tr style=\"text-align: right;\">\n",
       "      <th></th>\n",
       "      <th>name</th>\n",
       "      <th>phone</th>\n",
       "      <th>email</th>\n",
       "      <th>web</th>\n",
       "      <th>est_type</th>\n",
       "      <th>bus_type</th>\n",
       "      <th>cuisine</th>\n",
       "      <th>cap</th>\n",
       "      <th>promo</th>\n",
       "      <th>rating</th>\n",
       "      <th>reviews</th>\n",
       "      <th>level</th>\n",
       "      <th>fb</th>\n",
       "      <th>ig</th>\n",
       "      <th>tw</th>\n",
       "      <th>menu_breakfast</th>\n",
       "      <th>menu_appetizer</th>\n",
       "      <th>menu_starters</th>\n",
       "      <th>menu_mains</th>\n",
       "      <th>menu_pizza</th>\n",
       "      <th>menu_pasta</th>\n",
       "      <th>menu_seafood</th>\n",
       "      <th>menu_sandwich</th>\n",
       "      <th>menu_sides</th>\n",
       "      <th>menu_salads</th>\n",
       "      <th>menu_soups</th>\n",
       "      <th>menu_desserts</th>\n",
       "      <th>menu_cocktails</th>\n",
       "      <th>menu_wines</th>\n",
       "      <th>menu_alcoholic_drinks</th>\n",
       "      <th>menu_non_alcoholic_drinks</th>\n",
       "      <th>menu_infusions</th>\n",
       "      <th>menu_water</th>\n",
       "      <th>menu_others</th>\n",
       "      <th>hours_open</th>\n",
       "      <th>hours_close</th>\n",
       "      <th>hours_days</th>\n",
       "      <th>reservation_qantity</th>\n",
       "      <th>delivery_qantity</th>\n",
       "      <th>delivery_takeaway</th>\n",
       "      <th>payment_qantity</th>\n",
       "      <th>payment_cash</th>\n",
       "      <th>payment_card</th>\n",
       "      <th>payment_transfer</th>\n",
       "      <th>payment_others</th>\n",
       "      <th>amenities_qantity</th>\n",
       "      <th>loc_street</th>\n",
       "      <th>loc_council</th>\n",
       "      <th>loc_municipe</th>\n",
       "      <th>loc_province</th>\n",
       "      <th>loc_zip</th>\n",
       "      <th>loc_country</th>\n",
       "      <th>delivery_others</th>\n",
       "      <th>reservation_others</th>\n",
       "      <th>delivery_home</th>\n",
       "      <th>reservation_phone</th>\n",
       "      <th>amenities_pet_friendly</th>\n",
       "      <th>amenities_outdoor</th>\n",
       "      <th>loc_x</th>\n",
       "      <th>loc_y</th>\n",
       "      <th>menu_coffee</th>\n",
       "      <th>menu_juices</th>\n",
       "      <th>menu_smoothie</th>\n",
       "      <th>menu_ice_cream_shake</th>\n",
       "      <th>reservation_online</th>\n",
       "      <th>amenities_live_music</th>\n",
       "      <th>amenities_wifi</th>\n",
       "      <th>categoria</th>\n",
       "      <th>clasif_fb</th>\n",
       "      <th>clasif_ig</th>\n",
       "      <th>clasif_tw</th>\n",
       "      <th>clasif_tw2</th>\n",
       "    </tr>\n",
       "  </thead>\n",
       "  <tbody>\n",
       "    <tr>\n",
       "      <th>5</th>\n",
       "      <td>Don Burguer</td>\n",
       "      <td>56073379</td>\n",
       "      <td>None</td>\n",
       "      <td>None</td>\n",
       "      <td>restaurant</td>\n",
       "      <td>private</td>\n",
       "      <td>cuban</td>\n",
       "      <td>12</td>\n",
       "      <td>False</td>\n",
       "      <td>4.4</td>\n",
       "      <td>75</td>\n",
       "      <td>medium</td>\n",
       "      <td>Don Burguer JJ</td>\n",
       "      <td>@donburguercuba</td>\n",
       "      <td>None</td>\n",
       "      <td>0</td>\n",
       "      <td>10</td>\n",
       "      <td>0</td>\n",
       "      <td>17</td>\n",
       "      <td>0</td>\n",
       "      <td>0</td>\n",
       "      <td>0</td>\n",
       "      <td>0</td>\n",
       "      <td>11</td>\n",
       "      <td>0</td>\n",
       "      <td>0</td>\n",
       "      <td>8</td>\n",
       "      <td>0</td>\n",
       "      <td>0</td>\n",
       "      <td>0</td>\n",
       "      <td>6</td>\n",
       "      <td>0</td>\n",
       "      <td>0</td>\n",
       "      <td>0</td>\n",
       "      <td>10:00</td>\n",
       "      <td>23:00</td>\n",
       "      <td>[mon, tue, wed, thu, fri, sat, sun]</td>\n",
       "      <td>1</td>\n",
       "      <td>1</td>\n",
       "      <td>NaN</td>\n",
       "      <td>3</td>\n",
       "      <td>cash</td>\n",
       "      <td>NaN</td>\n",
       "      <td>transfer</td>\n",
       "      <td>others</td>\n",
       "      <td>0</td>\n",
       "      <td>Calzada de 10 de Octubre, entre  Aranguren y S...</td>\n",
       "      <td>La Palma</td>\n",
       "      <td>Arroyo Naranjo</td>\n",
       "      <td>La Habana</td>\n",
       "      <td>None</td>\n",
       "      <td>Cuba</td>\n",
       "      <td>others</td>\n",
       "      <td>others</td>\n",
       "      <td>NaN</td>\n",
       "      <td>NaN</td>\n",
       "      <td>NaN</td>\n",
       "      <td>NaN</td>\n",
       "      <td>NaN</td>\n",
       "      <td>NaN</td>\n",
       "      <td>NaN</td>\n",
       "      <td>NaN</td>\n",
       "      <td>NaN</td>\n",
       "      <td>NaN</td>\n",
       "      <td>NaN</td>\n",
       "      <td>NaN</td>\n",
       "      <td>NaN</td>\n",
       "      <td>Con FB</td>\n",
       "      <td>Con Facebook</td>\n",
       "      <td>Con Instagram</td>\n",
       "      <td>Sin Twitter</td>\n",
       "      <td>Sin Twitter</td>\n",
       "    </tr>\n",
       "    <tr>\n",
       "      <th>6</th>\n",
       "      <td>El Triangulo</td>\n",
       "      <td>None</td>\n",
       "      <td>None</td>\n",
       "      <td>None</td>\n",
       "      <td>restaurant</td>\n",
       "      <td>private</td>\n",
       "      <td>cuban</td>\n",
       "      <td>12</td>\n",
       "      <td>False</td>\n",
       "      <td>4.5</td>\n",
       "      <td>75</td>\n",
       "      <td>medium</td>\n",
       "      <td>None</td>\n",
       "      <td>None</td>\n",
       "      <td>None</td>\n",
       "      <td>0</td>\n",
       "      <td>4</td>\n",
       "      <td>0</td>\n",
       "      <td>1</td>\n",
       "      <td>0</td>\n",
       "      <td>0</td>\n",
       "      <td>0</td>\n",
       "      <td>0</td>\n",
       "      <td>0</td>\n",
       "      <td>0</td>\n",
       "      <td>0</td>\n",
       "      <td>0</td>\n",
       "      <td>0</td>\n",
       "      <td>0</td>\n",
       "      <td>4</td>\n",
       "      <td>5</td>\n",
       "      <td>0</td>\n",
       "      <td>0</td>\n",
       "      <td>0</td>\n",
       "      <td>08:00</td>\n",
       "      <td>24:00</td>\n",
       "      <td>[mon, tue, wed, thu, fri, sat, sun]</td>\n",
       "      <td>1</td>\n",
       "      <td>1</td>\n",
       "      <td>NaN</td>\n",
       "      <td>3</td>\n",
       "      <td>cash</td>\n",
       "      <td>NaN</td>\n",
       "      <td>transfer</td>\n",
       "      <td>others</td>\n",
       "      <td>0</td>\n",
       "      <td>Esquina Calzada de 10 de octubre y Calzada de ...</td>\n",
       "      <td>La Palma</td>\n",
       "      <td>Arroyo Naranjo</td>\n",
       "      <td>La Habana</td>\n",
       "      <td>None</td>\n",
       "      <td>Cuba</td>\n",
       "      <td>others</td>\n",
       "      <td>others</td>\n",
       "      <td>NaN</td>\n",
       "      <td>NaN</td>\n",
       "      <td>NaN</td>\n",
       "      <td>NaN</td>\n",
       "      <td>NaN</td>\n",
       "      <td>NaN</td>\n",
       "      <td>NaN</td>\n",
       "      <td>NaN</td>\n",
       "      <td>NaN</td>\n",
       "      <td>NaN</td>\n",
       "      <td>NaN</td>\n",
       "      <td>NaN</td>\n",
       "      <td>NaN</td>\n",
       "      <td>Sin FB</td>\n",
       "      <td>Sin Facebook</td>\n",
       "      <td>Sin Instagram</td>\n",
       "      <td>Sin Twitter</td>\n",
       "      <td>Sin Twitter</td>\n",
       "    </tr>\n",
       "    <tr>\n",
       "      <th>10</th>\n",
       "      <td>Magic's Cream &amp; Burguer</td>\n",
       "      <td>None</td>\n",
       "      <td>None</td>\n",
       "      <td>None</td>\n",
       "      <td>restaurant</td>\n",
       "      <td>private</td>\n",
       "      <td>cuban</td>\n",
       "      <td>12</td>\n",
       "      <td>False</td>\n",
       "      <td>4.5</td>\n",
       "      <td>75</td>\n",
       "      <td>medium</td>\n",
       "      <td>None</td>\n",
       "      <td>None</td>\n",
       "      <td>None</td>\n",
       "      <td>0</td>\n",
       "      <td>7</td>\n",
       "      <td>0</td>\n",
       "      <td>4</td>\n",
       "      <td>0</td>\n",
       "      <td>0</td>\n",
       "      <td>0</td>\n",
       "      <td>0</td>\n",
       "      <td>0</td>\n",
       "      <td>0</td>\n",
       "      <td>0</td>\n",
       "      <td>5</td>\n",
       "      <td>5</td>\n",
       "      <td>2</td>\n",
       "      <td>12</td>\n",
       "      <td>4</td>\n",
       "      <td>0</td>\n",
       "      <td>0</td>\n",
       "      <td>0</td>\n",
       "      <td>11:00</td>\n",
       "      <td>22:00</td>\n",
       "      <td>[mon, tue, wed, thu, fri, sat, sun]</td>\n",
       "      <td>1</td>\n",
       "      <td>1</td>\n",
       "      <td>NaN</td>\n",
       "      <td>2</td>\n",
       "      <td>cash</td>\n",
       "      <td>NaN</td>\n",
       "      <td>transfer</td>\n",
       "      <td>NaN</td>\n",
       "      <td>0</td>\n",
       "      <td>Calzada de 10 de Octubre, % Santa Amalia y Arnao</td>\n",
       "      <td>None</td>\n",
       "      <td>Arroyo Naranjo</td>\n",
       "      <td>La Habana</td>\n",
       "      <td>None</td>\n",
       "      <td>Cuba</td>\n",
       "      <td>others</td>\n",
       "      <td>others</td>\n",
       "      <td>NaN</td>\n",
       "      <td>NaN</td>\n",
       "      <td>NaN</td>\n",
       "      <td>NaN</td>\n",
       "      <td>NaN</td>\n",
       "      <td>NaN</td>\n",
       "      <td>NaN</td>\n",
       "      <td>NaN</td>\n",
       "      <td>NaN</td>\n",
       "      <td>NaN</td>\n",
       "      <td>NaN</td>\n",
       "      <td>NaN</td>\n",
       "      <td>NaN</td>\n",
       "      <td>Sin FB</td>\n",
       "      <td>Sin Facebook</td>\n",
       "      <td>Sin Instagram</td>\n",
       "      <td>Sin Twitter</td>\n",
       "      <td>Sin Twitter</td>\n",
       "    </tr>\n",
       "    <tr>\n",
       "      <th>18</th>\n",
       "      <td>Entabla2</td>\n",
       "      <td>51744817</td>\n",
       "      <td>None</td>\n",
       "      <td>None</td>\n",
       "      <td>restaurant</td>\n",
       "      <td>private</td>\n",
       "      <td>cuban</td>\n",
       "      <td>12</td>\n",
       "      <td>False</td>\n",
       "      <td>4.4</td>\n",
       "      <td>75</td>\n",
       "      <td>medium</td>\n",
       "      <td>https://www.facebook.com/profile.php?id=615584...</td>\n",
       "      <td>https://www.instagram.com/entablados.habana/</td>\n",
       "      <td>None</td>\n",
       "      <td>0</td>\n",
       "      <td>0</td>\n",
       "      <td>13</td>\n",
       "      <td>10</td>\n",
       "      <td>0</td>\n",
       "      <td>0</td>\n",
       "      <td>9</td>\n",
       "      <td>0</td>\n",
       "      <td>3</td>\n",
       "      <td>1</td>\n",
       "      <td>0</td>\n",
       "      <td>1</td>\n",
       "      <td>8</td>\n",
       "      <td>2</td>\n",
       "      <td>10</td>\n",
       "      <td>11</td>\n",
       "      <td>5</td>\n",
       "      <td>1</td>\n",
       "      <td>0</td>\n",
       "      <td>None</td>\n",
       "      <td>None</td>\n",
       "      <td>[mon, tue, wed, thu, fri, sat, sun]</td>\n",
       "      <td>2</td>\n",
       "      <td>2</td>\n",
       "      <td>takeaway</td>\n",
       "      <td>1</td>\n",
       "      <td>cash</td>\n",
       "      <td>NaN</td>\n",
       "      <td>NaN</td>\n",
       "      <td>NaN</td>\n",
       "      <td>1</td>\n",
       "      <td>Carretera Terminal 2, Aeropuerto Internacional...</td>\n",
       "      <td>Calixto Sanchez</td>\n",
       "      <td>Boyeros</td>\n",
       "      <td>La Habana</td>\n",
       "      <td>None</td>\n",
       "      <td>Cuba</td>\n",
       "      <td>others</td>\n",
       "      <td>others</td>\n",
       "      <td>NaN</td>\n",
       "      <td>phone</td>\n",
       "      <td>NaN</td>\n",
       "      <td>outdoor</td>\n",
       "      <td>NaN</td>\n",
       "      <td>NaN</td>\n",
       "      <td>NaN</td>\n",
       "      <td>NaN</td>\n",
       "      <td>NaN</td>\n",
       "      <td>NaN</td>\n",
       "      <td>NaN</td>\n",
       "      <td>NaN</td>\n",
       "      <td>NaN</td>\n",
       "      <td>Con FB</td>\n",
       "      <td>Con Facebook</td>\n",
       "      <td>Con Instagram</td>\n",
       "      <td>Sin Twitter</td>\n",
       "      <td>Sin Twitter</td>\n",
       "    </tr>\n",
       "    <tr>\n",
       "      <th>25</th>\n",
       "      <td>VenaVento</td>\n",
       "      <td>52743762</td>\n",
       "      <td>None</td>\n",
       "      <td>None</td>\n",
       "      <td>restaurant</td>\n",
       "      <td>private</td>\n",
       "      <td>cuban</td>\n",
       "      <td>12</td>\n",
       "      <td>False</td>\n",
       "      <td>4.5</td>\n",
       "      <td>75</td>\n",
       "      <td>economic</td>\n",
       "      <td>URL de la página de Facebook</td>\n",
       "      <td>None</td>\n",
       "      <td>None</td>\n",
       "      <td>0</td>\n",
       "      <td>7</td>\n",
       "      <td>0</td>\n",
       "      <td>38</td>\n",
       "      <td>0</td>\n",
       "      <td>0</td>\n",
       "      <td>0</td>\n",
       "      <td>0</td>\n",
       "      <td>7</td>\n",
       "      <td>0</td>\n",
       "      <td>0</td>\n",
       "      <td>10</td>\n",
       "      <td>0</td>\n",
       "      <td>0</td>\n",
       "      <td>4</td>\n",
       "      <td>6</td>\n",
       "      <td>7</td>\n",
       "      <td>0</td>\n",
       "      <td>0</td>\n",
       "      <td>12:00</td>\n",
       "      <td>24:00</td>\n",
       "      <td>[mon, tue, wed, thu, fri, sat, sun]</td>\n",
       "      <td>1</td>\n",
       "      <td>1</td>\n",
       "      <td>NaN</td>\n",
       "      <td>3</td>\n",
       "      <td>cash</td>\n",
       "      <td>NaN</td>\n",
       "      <td>transfer</td>\n",
       "      <td>others</td>\n",
       "      <td>0</td>\n",
       "      <td>Calle 10, esq. Vento</td>\n",
       "      <td>None</td>\n",
       "      <td>Boyeros</td>\n",
       "      <td>La Habana</td>\n",
       "      <td>None</td>\n",
       "      <td>Cuba</td>\n",
       "      <td>others</td>\n",
       "      <td>others</td>\n",
       "      <td>NaN</td>\n",
       "      <td>NaN</td>\n",
       "      <td>NaN</td>\n",
       "      <td>NaN</td>\n",
       "      <td>NaN</td>\n",
       "      <td>NaN</td>\n",
       "      <td>NaN</td>\n",
       "      <td>NaN</td>\n",
       "      <td>NaN</td>\n",
       "      <td>NaN</td>\n",
       "      <td>NaN</td>\n",
       "      <td>NaN</td>\n",
       "      <td>NaN</td>\n",
       "      <td>Con FB</td>\n",
       "      <td>Con Facebook</td>\n",
       "      <td>Sin Instagram</td>\n",
       "      <td>Sin Twitter</td>\n",
       "      <td>Sin Twitter</td>\n",
       "    </tr>\n",
       "    <tr>\n",
       "      <th>32</th>\n",
       "      <td>El Biky</td>\n",
       "      <td>78706515</td>\n",
       "      <td>None</td>\n",
       "      <td>elbiky.com</td>\n",
       "      <td>bar</td>\n",
       "      <td>private</td>\n",
       "      <td>cuban</td>\n",
       "      <td>12</td>\n",
       "      <td>False</td>\n",
       "      <td>4.5</td>\n",
       "      <td>30</td>\n",
       "      <td>high</td>\n",
       "      <td>None</td>\n",
       "      <td>None</td>\n",
       "      <td>None</td>\n",
       "      <td>0</td>\n",
       "      <td>0</td>\n",
       "      <td>22</td>\n",
       "      <td>26</td>\n",
       "      <td>1</td>\n",
       "      <td>5</td>\n",
       "      <td>0</td>\n",
       "      <td>0</td>\n",
       "      <td>16</td>\n",
       "      <td>4</td>\n",
       "      <td>0</td>\n",
       "      <td>12</td>\n",
       "      <td>13</td>\n",
       "      <td>3</td>\n",
       "      <td>5</td>\n",
       "      <td>15</td>\n",
       "      <td>8</td>\n",
       "      <td>3</td>\n",
       "      <td>0</td>\n",
       "      <td>08:00</td>\n",
       "      <td>23:00</td>\n",
       "      <td>[mon, tue, wed, thu, fri, sat, sun]</td>\n",
       "      <td>2</td>\n",
       "      <td>3</td>\n",
       "      <td>takeaway</td>\n",
       "      <td>3</td>\n",
       "      <td>cash</td>\n",
       "      <td>card</td>\n",
       "      <td>NaN</td>\n",
       "      <td>others</td>\n",
       "      <td>0</td>\n",
       "      <td>Infanta Nº412 e/ San Lázaro y Concordia</td>\n",
       "      <td>None</td>\n",
       "      <td>Centro Habana</td>\n",
       "      <td>La Habana</td>\n",
       "      <td>None</td>\n",
       "      <td>Cuba</td>\n",
       "      <td>others</td>\n",
       "      <td>others</td>\n",
       "      <td>home</td>\n",
       "      <td>phone</td>\n",
       "      <td>NaN</td>\n",
       "      <td>NaN</td>\n",
       "      <td>NaN</td>\n",
       "      <td>NaN</td>\n",
       "      <td>NaN</td>\n",
       "      <td>NaN</td>\n",
       "      <td>NaN</td>\n",
       "      <td>NaN</td>\n",
       "      <td>NaN</td>\n",
       "      <td>NaN</td>\n",
       "      <td>NaN</td>\n",
       "      <td>Sin FB</td>\n",
       "      <td>Sin Facebook</td>\n",
       "      <td>Sin Instagram</td>\n",
       "      <td>Sin Twitter</td>\n",
       "      <td>Sin Twitter</td>\n",
       "    </tr>\n",
       "    <tr>\n",
       "      <th>34</th>\n",
       "      <td>El cuarto de Tula</td>\n",
       "      <td>None</td>\n",
       "      <td>None</td>\n",
       "      <td>None</td>\n",
       "      <td>restaurant</td>\n",
       "      <td>private</td>\n",
       "      <td>others</td>\n",
       "      <td>12</td>\n",
       "      <td>False</td>\n",
       "      <td>4.5</td>\n",
       "      <td>75</td>\n",
       "      <td>medium</td>\n",
       "      <td>None</td>\n",
       "      <td>None</td>\n",
       "      <td>None</td>\n",
       "      <td>2</td>\n",
       "      <td>0</td>\n",
       "      <td>10</td>\n",
       "      <td>25</td>\n",
       "      <td>0</td>\n",
       "      <td>7</td>\n",
       "      <td>7</td>\n",
       "      <td>0</td>\n",
       "      <td>7</td>\n",
       "      <td>2</td>\n",
       "      <td>0</td>\n",
       "      <td>2</td>\n",
       "      <td>50</td>\n",
       "      <td>1</td>\n",
       "      <td>56</td>\n",
       "      <td>8</td>\n",
       "      <td>5</td>\n",
       "      <td>3</td>\n",
       "      <td>0</td>\n",
       "      <td>08:00</td>\n",
       "      <td>23:00</td>\n",
       "      <td>[mon, tue, wed, thu, fri, sat, sun]</td>\n",
       "      <td>1</td>\n",
       "      <td>1</td>\n",
       "      <td>NaN</td>\n",
       "      <td>4</td>\n",
       "      <td>cash</td>\n",
       "      <td>card</td>\n",
       "      <td>transfer</td>\n",
       "      <td>others</td>\n",
       "      <td>0</td>\n",
       "      <td>San Lazaro entre San Fransico y Espada</td>\n",
       "      <td>None</td>\n",
       "      <td>Centro Habana</td>\n",
       "      <td>La Habana</td>\n",
       "      <td>None</td>\n",
       "      <td>Cuba</td>\n",
       "      <td>others</td>\n",
       "      <td>others</td>\n",
       "      <td>NaN</td>\n",
       "      <td>NaN</td>\n",
       "      <td>NaN</td>\n",
       "      <td>NaN</td>\n",
       "      <td>NaN</td>\n",
       "      <td>NaN</td>\n",
       "      <td>NaN</td>\n",
       "      <td>NaN</td>\n",
       "      <td>NaN</td>\n",
       "      <td>NaN</td>\n",
       "      <td>NaN</td>\n",
       "      <td>NaN</td>\n",
       "      <td>NaN</td>\n",
       "      <td>Sin FB</td>\n",
       "      <td>Sin Facebook</td>\n",
       "      <td>Sin Instagram</td>\n",
       "      <td>Sin Twitter</td>\n",
       "      <td>Sin Twitter</td>\n",
       "    </tr>\n",
       "    <tr>\n",
       "      <th>45</th>\n",
       "      <td>Fin de Siglo</td>\n",
       "      <td>None</td>\n",
       "      <td>None</td>\n",
       "      <td>None</td>\n",
       "      <td>bar</td>\n",
       "      <td>private</td>\n",
       "      <td>cuban</td>\n",
       "      <td>12</td>\n",
       "      <td>False</td>\n",
       "      <td>5.0</td>\n",
       "      <td>75</td>\n",
       "      <td>medium</td>\n",
       "      <td>Fin de Siglo</td>\n",
       "      <td>None</td>\n",
       "      <td>None</td>\n",
       "      <td>0</td>\n",
       "      <td>4</td>\n",
       "      <td>0</td>\n",
       "      <td>0</td>\n",
       "      <td>8</td>\n",
       "      <td>7</td>\n",
       "      <td>0</td>\n",
       "      <td>0</td>\n",
       "      <td>6</td>\n",
       "      <td>0</td>\n",
       "      <td>0</td>\n",
       "      <td>0</td>\n",
       "      <td>10</td>\n",
       "      <td>0</td>\n",
       "      <td>20</td>\n",
       "      <td>1</td>\n",
       "      <td>0</td>\n",
       "      <td>0</td>\n",
       "      <td>0</td>\n",
       "      <td>10:00</td>\n",
       "      <td>22:00</td>\n",
       "      <td>[mon, tue, wed, thu, fri, sat, sun]</td>\n",
       "      <td>1</td>\n",
       "      <td>1</td>\n",
       "      <td>NaN</td>\n",
       "      <td>2</td>\n",
       "      <td>cash</td>\n",
       "      <td>NaN</td>\n",
       "      <td>transfer</td>\n",
       "      <td>NaN</td>\n",
       "      <td>0</td>\n",
       "      <td>None</td>\n",
       "      <td>None</td>\n",
       "      <td>Centro Habana</td>\n",
       "      <td>La Habana</td>\n",
       "      <td>None</td>\n",
       "      <td>Cuba</td>\n",
       "      <td>others</td>\n",
       "      <td>others</td>\n",
       "      <td>NaN</td>\n",
       "      <td>NaN</td>\n",
       "      <td>NaN</td>\n",
       "      <td>NaN</td>\n",
       "      <td>23.136227</td>\n",
       "      <td>-82.362069</td>\n",
       "      <td>NaN</td>\n",
       "      <td>NaN</td>\n",
       "      <td>NaN</td>\n",
       "      <td>NaN</td>\n",
       "      <td>NaN</td>\n",
       "      <td>NaN</td>\n",
       "      <td>NaN</td>\n",
       "      <td>Con FB</td>\n",
       "      <td>Con Facebook</td>\n",
       "      <td>Sin Instagram</td>\n",
       "      <td>Sin Twitter</td>\n",
       "      <td>Sin Twitter</td>\n",
       "    </tr>\n",
       "    <tr>\n",
       "      <th>47</th>\n",
       "      <td>Hamburgo</td>\n",
       "      <td>None</td>\n",
       "      <td>None</td>\n",
       "      <td>None</td>\n",
       "      <td>restaurant</td>\n",
       "      <td>private</td>\n",
       "      <td>others</td>\n",
       "      <td>12</td>\n",
       "      <td>False</td>\n",
       "      <td>4.5</td>\n",
       "      <td>75</td>\n",
       "      <td>economic</td>\n",
       "      <td>None</td>\n",
       "      <td>None</td>\n",
       "      <td>None</td>\n",
       "      <td>0</td>\n",
       "      <td>0</td>\n",
       "      <td>0</td>\n",
       "      <td>4</td>\n",
       "      <td>0</td>\n",
       "      <td>0</td>\n",
       "      <td>0</td>\n",
       "      <td>0</td>\n",
       "      <td>7</td>\n",
       "      <td>0</td>\n",
       "      <td>0</td>\n",
       "      <td>0</td>\n",
       "      <td>0</td>\n",
       "      <td>0</td>\n",
       "      <td>0</td>\n",
       "      <td>0</td>\n",
       "      <td>0</td>\n",
       "      <td>0</td>\n",
       "      <td>0</td>\n",
       "      <td>09:00</td>\n",
       "      <td>19:00</td>\n",
       "      <td>[mon, tue, wed, thu, fri, sat, sun]</td>\n",
       "      <td>1</td>\n",
       "      <td>1</td>\n",
       "      <td>NaN</td>\n",
       "      <td>2</td>\n",
       "      <td>cash</td>\n",
       "      <td>NaN</td>\n",
       "      <td>transfer</td>\n",
       "      <td>NaN</td>\n",
       "      <td>0</td>\n",
       "      <td>None</td>\n",
       "      <td>None</td>\n",
       "      <td>Centro Habana</td>\n",
       "      <td>La Habana</td>\n",
       "      <td>None</td>\n",
       "      <td>Cuba</td>\n",
       "      <td>others</td>\n",
       "      <td>others</td>\n",
       "      <td>NaN</td>\n",
       "      <td>NaN</td>\n",
       "      <td>NaN</td>\n",
       "      <td>NaN</td>\n",
       "      <td>23.131236</td>\n",
       "      <td>-82.376301</td>\n",
       "      <td>NaN</td>\n",
       "      <td>NaN</td>\n",
       "      <td>NaN</td>\n",
       "      <td>NaN</td>\n",
       "      <td>NaN</td>\n",
       "      <td>NaN</td>\n",
       "      <td>NaN</td>\n",
       "      <td>Sin FB</td>\n",
       "      <td>Sin Facebook</td>\n",
       "      <td>Sin Instagram</td>\n",
       "      <td>Sin Twitter</td>\n",
       "      <td>Sin Twitter</td>\n",
       "    </tr>\n",
       "    <tr>\n",
       "      <th>50</th>\n",
       "      <td>La Juliana</td>\n",
       "      <td>78661823</td>\n",
       "      <td>None</td>\n",
       "      <td>None</td>\n",
       "      <td>restaurant</td>\n",
       "      <td>private</td>\n",
       "      <td>cuban</td>\n",
       "      <td>12</td>\n",
       "      <td>False</td>\n",
       "      <td>4.5</td>\n",
       "      <td>75</td>\n",
       "      <td>medium</td>\n",
       "      <td>https://www.facebook.com/La Juliana</td>\n",
       "      <td>https://www.instagram.com/@lajulianarestaurant</td>\n",
       "      <td>None</td>\n",
       "      <td>0</td>\n",
       "      <td>27</td>\n",
       "      <td>0</td>\n",
       "      <td>30</td>\n",
       "      <td>20</td>\n",
       "      <td>10</td>\n",
       "      <td>0</td>\n",
       "      <td>0</td>\n",
       "      <td>0</td>\n",
       "      <td>0</td>\n",
       "      <td>0</td>\n",
       "      <td>5</td>\n",
       "      <td>0</td>\n",
       "      <td>0</td>\n",
       "      <td>0</td>\n",
       "      <td>9</td>\n",
       "      <td>0</td>\n",
       "      <td>0</td>\n",
       "      <td>0</td>\n",
       "      <td>10:00</td>\n",
       "      <td>24:00</td>\n",
       "      <td>[mon, tue, wed, thu, fri, sat, sun]</td>\n",
       "      <td>1</td>\n",
       "      <td>2</td>\n",
       "      <td>takeaway</td>\n",
       "      <td>2</td>\n",
       "      <td>cash</td>\n",
       "      <td>NaN</td>\n",
       "      <td>transfer</td>\n",
       "      <td>NaN</td>\n",
       "      <td>1</td>\n",
       "      <td>None</td>\n",
       "      <td>None</td>\n",
       "      <td>Centro Habana</td>\n",
       "      <td>La Habana</td>\n",
       "      <td>None</td>\n",
       "      <td>Cuba</td>\n",
       "      <td>NaN</td>\n",
       "      <td>others</td>\n",
       "      <td>home</td>\n",
       "      <td>NaN</td>\n",
       "      <td>pet_friendly</td>\n",
       "      <td>NaN</td>\n",
       "      <td>23.135543</td>\n",
       "      <td>-82.364457</td>\n",
       "      <td>NaN</td>\n",
       "      <td>NaN</td>\n",
       "      <td>NaN</td>\n",
       "      <td>NaN</td>\n",
       "      <td>NaN</td>\n",
       "      <td>NaN</td>\n",
       "      <td>NaN</td>\n",
       "      <td>Con FB</td>\n",
       "      <td>Con Facebook</td>\n",
       "      <td>Con Instagram</td>\n",
       "      <td>Sin Twitter</td>\n",
       "      <td>Sin Twitter</td>\n",
       "    </tr>\n",
       "    <tr>\n",
       "      <th>51</th>\n",
       "      <td>Mimosa</td>\n",
       "      <td>78671790</td>\n",
       "      <td>mercadomimosa2024@gmail.com</td>\n",
       "      <td>https://mercadomimosa.com/</td>\n",
       "      <td>restaurant</td>\n",
       "      <td>private</td>\n",
       "      <td>italian</td>\n",
       "      <td>12</td>\n",
       "      <td>False</td>\n",
       "      <td>4.4</td>\n",
       "      <td>75</td>\n",
       "      <td>medium</td>\n",
       "      <td>La Mimosa</td>\n",
       "      <td>@restaurantemimosa</td>\n",
       "      <td>None</td>\n",
       "      <td>0</td>\n",
       "      <td>15</td>\n",
       "      <td>0</td>\n",
       "      <td>10</td>\n",
       "      <td>26</td>\n",
       "      <td>28</td>\n",
       "      <td>5</td>\n",
       "      <td>0</td>\n",
       "      <td>13</td>\n",
       "      <td>0</td>\n",
       "      <td>9</td>\n",
       "      <td>8</td>\n",
       "      <td>18</td>\n",
       "      <td>3</td>\n",
       "      <td>43</td>\n",
       "      <td>11</td>\n",
       "      <td>9</td>\n",
       "      <td>2</td>\n",
       "      <td>0</td>\n",
       "      <td>12:00</td>\n",
       "      <td>23:00</td>\n",
       "      <td>[mon, tue, wed, thu, fri, sat, sun]</td>\n",
       "      <td>1</td>\n",
       "      <td>2</td>\n",
       "      <td>takeaway</td>\n",
       "      <td>2</td>\n",
       "      <td>cash</td>\n",
       "      <td>NaN</td>\n",
       "      <td>transfer</td>\n",
       "      <td>NaN</td>\n",
       "      <td>0</td>\n",
       "      <td>None</td>\n",
       "      <td>None</td>\n",
       "      <td>Centro Habana</td>\n",
       "      <td>La Habana</td>\n",
       "      <td>None</td>\n",
       "      <td>Cuba</td>\n",
       "      <td>NaN</td>\n",
       "      <td>others</td>\n",
       "      <td>home</td>\n",
       "      <td>NaN</td>\n",
       "      <td>NaN</td>\n",
       "      <td>NaN</td>\n",
       "      <td>23.134370</td>\n",
       "      <td>-82.368259</td>\n",
       "      <td>NaN</td>\n",
       "      <td>NaN</td>\n",
       "      <td>NaN</td>\n",
       "      <td>NaN</td>\n",
       "      <td>NaN</td>\n",
       "      <td>NaN</td>\n",
       "      <td>NaN</td>\n",
       "      <td>Con FB</td>\n",
       "      <td>Con Facebook</td>\n",
       "      <td>Con Instagram</td>\n",
       "      <td>Sin Twitter</td>\n",
       "      <td>Sin Twitter</td>\n",
       "    </tr>\n",
       "    <tr>\n",
       "      <th>52</th>\n",
       "      <td>Mundo Pizza</td>\n",
       "      <td>53372715</td>\n",
       "      <td>None</td>\n",
       "      <td>None</td>\n",
       "      <td>restaurant</td>\n",
       "      <td>private</td>\n",
       "      <td>others</td>\n",
       "      <td>12</td>\n",
       "      <td>False</td>\n",
       "      <td>4.6</td>\n",
       "      <td>60</td>\n",
       "      <td>medium</td>\n",
       "      <td>None</td>\n",
       "      <td>None</td>\n",
       "      <td>None</td>\n",
       "      <td>0</td>\n",
       "      <td>0</td>\n",
       "      <td>4</td>\n",
       "      <td>0</td>\n",
       "      <td>6</td>\n",
       "      <td>4</td>\n",
       "      <td>0</td>\n",
       "      <td>0</td>\n",
       "      <td>0</td>\n",
       "      <td>0</td>\n",
       "      <td>0</td>\n",
       "      <td>3</td>\n",
       "      <td>0</td>\n",
       "      <td>0</td>\n",
       "      <td>1</td>\n",
       "      <td>5</td>\n",
       "      <td>0</td>\n",
       "      <td>0</td>\n",
       "      <td>0</td>\n",
       "      <td>12:00</td>\n",
       "      <td>22:00</td>\n",
       "      <td>[mon, tue, wed, thu, fri, sat, sun]</td>\n",
       "      <td>1</td>\n",
       "      <td>2</td>\n",
       "      <td>takeaway</td>\n",
       "      <td>2</td>\n",
       "      <td>cash</td>\n",
       "      <td>NaN</td>\n",
       "      <td>transfer</td>\n",
       "      <td>NaN</td>\n",
       "      <td>0</td>\n",
       "      <td>None</td>\n",
       "      <td>None</td>\n",
       "      <td>Centro Habana</td>\n",
       "      <td>La Habana</td>\n",
       "      <td>None</td>\n",
       "      <td>Cuba</td>\n",
       "      <td>NaN</td>\n",
       "      <td>others</td>\n",
       "      <td>home</td>\n",
       "      <td>NaN</td>\n",
       "      <td>NaN</td>\n",
       "      <td>NaN</td>\n",
       "      <td>NaN</td>\n",
       "      <td>NaN</td>\n",
       "      <td>NaN</td>\n",
       "      <td>NaN</td>\n",
       "      <td>NaN</td>\n",
       "      <td>NaN</td>\n",
       "      <td>NaN</td>\n",
       "      <td>NaN</td>\n",
       "      <td>NaN</td>\n",
       "      <td>Sin FB</td>\n",
       "      <td>Sin Facebook</td>\n",
       "      <td>Sin Instagram</td>\n",
       "      <td>Sin Twitter</td>\n",
       "      <td>Sin Twitter</td>\n",
       "    </tr>\n",
       "    <tr>\n",
       "      <th>63</th>\n",
       "      <td>Jorgito's Pizzas</td>\n",
       "      <td>54031349</td>\n",
       "      <td>None</td>\n",
       "      <td>None</td>\n",
       "      <td>restaurant</td>\n",
       "      <td>private</td>\n",
       "      <td>others</td>\n",
       "      <td>12</td>\n",
       "      <td>False</td>\n",
       "      <td>4.0</td>\n",
       "      <td>30</td>\n",
       "      <td>high</td>\n",
       "      <td>None</td>\n",
       "      <td>None</td>\n",
       "      <td>None</td>\n",
       "      <td>0</td>\n",
       "      <td>0</td>\n",
       "      <td>0</td>\n",
       "      <td>0</td>\n",
       "      <td>14</td>\n",
       "      <td>1</td>\n",
       "      <td>0</td>\n",
       "      <td>0</td>\n",
       "      <td>0</td>\n",
       "      <td>0</td>\n",
       "      <td>0</td>\n",
       "      <td>0</td>\n",
       "      <td>0</td>\n",
       "      <td>0</td>\n",
       "      <td>0</td>\n",
       "      <td>0</td>\n",
       "      <td>0</td>\n",
       "      <td>0</td>\n",
       "      <td>16</td>\n",
       "      <td>11:00</td>\n",
       "      <td>23:00</td>\n",
       "      <td>[mon, tue, wed, thu, fri, sat, sun]</td>\n",
       "      <td>1</td>\n",
       "      <td>1</td>\n",
       "      <td>NaN</td>\n",
       "      <td>3</td>\n",
       "      <td>cash</td>\n",
       "      <td>card</td>\n",
       "      <td>NaN</td>\n",
       "      <td>others</td>\n",
       "      <td>0</td>\n",
       "      <td>Pedroso entre Infanta y Cruz del Pader</td>\n",
       "      <td>None</td>\n",
       "      <td>Centro Habana</td>\n",
       "      <td>La Habana</td>\n",
       "      <td>None</td>\n",
       "      <td>Cuba</td>\n",
       "      <td>NaN</td>\n",
       "      <td>others</td>\n",
       "      <td>home</td>\n",
       "      <td>NaN</td>\n",
       "      <td>NaN</td>\n",
       "      <td>NaN</td>\n",
       "      <td>NaN</td>\n",
       "      <td>NaN</td>\n",
       "      <td>NaN</td>\n",
       "      <td>NaN</td>\n",
       "      <td>NaN</td>\n",
       "      <td>NaN</td>\n",
       "      <td>NaN</td>\n",
       "      <td>NaN</td>\n",
       "      <td>NaN</td>\n",
       "      <td>Sin FB</td>\n",
       "      <td>Sin Facebook</td>\n",
       "      <td>Sin Instagram</td>\n",
       "      <td>Sin Twitter</td>\n",
       "      <td>Sin Twitter</td>\n",
       "    </tr>\n",
       "    <tr>\n",
       "      <th>70</th>\n",
       "      <td>Crystal</td>\n",
       "      <td>76823333</td>\n",
       "      <td>None</td>\n",
       "      <td>None</td>\n",
       "      <td>restaurant</td>\n",
       "      <td>private</td>\n",
       "      <td>cuban</td>\n",
       "      <td>12</td>\n",
       "      <td>False</td>\n",
       "      <td>4.5</td>\n",
       "      <td>75</td>\n",
       "      <td>medium</td>\n",
       "      <td>Restaurante Cafe Crystal</td>\n",
       "      <td>@cafecrystalcuba</td>\n",
       "      <td>None</td>\n",
       "      <td>0</td>\n",
       "      <td>13</td>\n",
       "      <td>0</td>\n",
       "      <td>13</td>\n",
       "      <td>2</td>\n",
       "      <td>1</td>\n",
       "      <td>9</td>\n",
       "      <td>0</td>\n",
       "      <td>9</td>\n",
       "      <td>4</td>\n",
       "      <td>0</td>\n",
       "      <td>4</td>\n",
       "      <td>4</td>\n",
       "      <td>2</td>\n",
       "      <td>3</td>\n",
       "      <td>7</td>\n",
       "      <td>4</td>\n",
       "      <td>1</td>\n",
       "      <td>17</td>\n",
       "      <td>11:00</td>\n",
       "      <td>24:00</td>\n",
       "      <td>[mon, tue, wed, thu, fri, sat, sun]</td>\n",
       "      <td>1</td>\n",
       "      <td>1</td>\n",
       "      <td>NaN</td>\n",
       "      <td>3</td>\n",
       "      <td>cash</td>\n",
       "      <td>NaN</td>\n",
       "      <td>transfer</td>\n",
       "      <td>others</td>\n",
       "      <td>0</td>\n",
       "      <td>Avenida 101 entre 18 y 20</td>\n",
       "      <td>centro</td>\n",
       "      <td>Cotorro</td>\n",
       "      <td>La Habana</td>\n",
       "      <td>None</td>\n",
       "      <td>Cuba</td>\n",
       "      <td>NaN</td>\n",
       "      <td>others</td>\n",
       "      <td>home</td>\n",
       "      <td>NaN</td>\n",
       "      <td>NaN</td>\n",
       "      <td>NaN</td>\n",
       "      <td>NaN</td>\n",
       "      <td>NaN</td>\n",
       "      <td>NaN</td>\n",
       "      <td>NaN</td>\n",
       "      <td>NaN</td>\n",
       "      <td>NaN</td>\n",
       "      <td>NaN</td>\n",
       "      <td>NaN</td>\n",
       "      <td>NaN</td>\n",
       "      <td>Con FB</td>\n",
       "      <td>Con Facebook</td>\n",
       "      <td>Con Instagram</td>\n",
       "      <td>Sin Twitter</td>\n",
       "      <td>Sin Twitter</td>\n",
       "    </tr>\n",
       "    <tr>\n",
       "      <th>76</th>\n",
       "      <td>La libra</td>\n",
       "      <td>53010844</td>\n",
       "      <td>None</td>\n",
       "      <td>None</td>\n",
       "      <td>restaurant</td>\n",
       "      <td>private</td>\n",
       "      <td>cuban</td>\n",
       "      <td>12</td>\n",
       "      <td>False</td>\n",
       "      <td>4.5</td>\n",
       "      <td>75</td>\n",
       "      <td>economic</td>\n",
       "      <td>None</td>\n",
       "      <td>None</td>\n",
       "      <td>None</td>\n",
       "      <td>0</td>\n",
       "      <td>2</td>\n",
       "      <td>0</td>\n",
       "      <td>2</td>\n",
       "      <td>0</td>\n",
       "      <td>0</td>\n",
       "      <td>0</td>\n",
       "      <td>0</td>\n",
       "      <td>2</td>\n",
       "      <td>0</td>\n",
       "      <td>0</td>\n",
       "      <td>2</td>\n",
       "      <td>0</td>\n",
       "      <td>0</td>\n",
       "      <td>0</td>\n",
       "      <td>2</td>\n",
       "      <td>0</td>\n",
       "      <td>0</td>\n",
       "      <td>0</td>\n",
       "      <td>11:00</td>\n",
       "      <td>24:00</td>\n",
       "      <td>[mon, tue, wed, thu, fri, sat, sun]</td>\n",
       "      <td>1</td>\n",
       "      <td>1</td>\n",
       "      <td>NaN</td>\n",
       "      <td>3</td>\n",
       "      <td>cash</td>\n",
       "      <td>NaN</td>\n",
       "      <td>transfer</td>\n",
       "      <td>others</td>\n",
       "      <td>0</td>\n",
       "      <td>calle 105 entre 20 y 26</td>\n",
       "      <td>None</td>\n",
       "      <td>Cotorro</td>\n",
       "      <td>La Habana</td>\n",
       "      <td>None</td>\n",
       "      <td>Cuba</td>\n",
       "      <td>others</td>\n",
       "      <td>others</td>\n",
       "      <td>NaN</td>\n",
       "      <td>NaN</td>\n",
       "      <td>NaN</td>\n",
       "      <td>NaN</td>\n",
       "      <td>NaN</td>\n",
       "      <td>NaN</td>\n",
       "      <td>NaN</td>\n",
       "      <td>NaN</td>\n",
       "      <td>NaN</td>\n",
       "      <td>NaN</td>\n",
       "      <td>NaN</td>\n",
       "      <td>NaN</td>\n",
       "      <td>NaN</td>\n",
       "      <td>Sin FB</td>\n",
       "      <td>Sin Facebook</td>\n",
       "      <td>Sin Instagram</td>\n",
       "      <td>Sin Twitter</td>\n",
       "      <td>Sin Twitter</td>\n",
       "    </tr>\n",
       "    <tr>\n",
       "      <th>86</th>\n",
       "      <td>Bar Pacto Secreto</td>\n",
       "      <td>76388121</td>\n",
       "      <td>None</td>\n",
       "      <td>None</td>\n",
       "      <td>bar</td>\n",
       "      <td>private</td>\n",
       "      <td>cuban</td>\n",
       "      <td>12</td>\n",
       "      <td>False</td>\n",
       "      <td>4.5</td>\n",
       "      <td>75</td>\n",
       "      <td>medium</td>\n",
       "      <td>https://www.facebook.com/profile.php?id=100091...</td>\n",
       "      <td>None</td>\n",
       "      <td>None</td>\n",
       "      <td>0</td>\n",
       "      <td>9</td>\n",
       "      <td>0</td>\n",
       "      <td>4</td>\n",
       "      <td>0</td>\n",
       "      <td>0</td>\n",
       "      <td>0</td>\n",
       "      <td>0</td>\n",
       "      <td>7</td>\n",
       "      <td>0</td>\n",
       "      <td>0</td>\n",
       "      <td>0</td>\n",
       "      <td>24</td>\n",
       "      <td>0</td>\n",
       "      <td>46</td>\n",
       "      <td>8</td>\n",
       "      <td>0</td>\n",
       "      <td>1</td>\n",
       "      <td>0</td>\n",
       "      <td>12:00</td>\n",
       "      <td>03:00</td>\n",
       "      <td>[mon, tue, wed, thu, fri, sat, sun]</td>\n",
       "      <td>1</td>\n",
       "      <td>2</td>\n",
       "      <td>takeaway</td>\n",
       "      <td>3</td>\n",
       "      <td>cash</td>\n",
       "      <td>card</td>\n",
       "      <td>transfer</td>\n",
       "      <td>NaN</td>\n",
       "      <td>0</td>\n",
       "      <td>Calzada de 10 de Octubre #417 entre Calzada de...</td>\n",
       "      <td>None</td>\n",
       "      <td>Diez de Octubre</td>\n",
       "      <td>La Habana</td>\n",
       "      <td>None</td>\n",
       "      <td>Cuba</td>\n",
       "      <td>NaN</td>\n",
       "      <td>others</td>\n",
       "      <td>home</td>\n",
       "      <td>NaN</td>\n",
       "      <td>NaN</td>\n",
       "      <td>NaN</td>\n",
       "      <td>NaN</td>\n",
       "      <td>NaN</td>\n",
       "      <td>NaN</td>\n",
       "      <td>NaN</td>\n",
       "      <td>NaN</td>\n",
       "      <td>NaN</td>\n",
       "      <td>NaN</td>\n",
       "      <td>NaN</td>\n",
       "      <td>NaN</td>\n",
       "      <td>Con FB</td>\n",
       "      <td>Con Facebook</td>\n",
       "      <td>Sin Instagram</td>\n",
       "      <td>Sin Twitter</td>\n",
       "      <td>Sin Twitter</td>\n",
       "    </tr>\n",
       "    <tr>\n",
       "      <th>95</th>\n",
       "      <td>Joe's Burger</td>\n",
       "      <td>76400715</td>\n",
       "      <td>None</td>\n",
       "      <td>None</td>\n",
       "      <td>restaurant</td>\n",
       "      <td>private</td>\n",
       "      <td>cuban</td>\n",
       "      <td>12</td>\n",
       "      <td>False</td>\n",
       "      <td>4.3</td>\n",
       "      <td>75</td>\n",
       "      <td>high</td>\n",
       "      <td>None</td>\n",
       "      <td>@joes_burguer00</td>\n",
       "      <td>None</td>\n",
       "      <td>0</td>\n",
       "      <td>0</td>\n",
       "      <td>0</td>\n",
       "      <td>5</td>\n",
       "      <td>0</td>\n",
       "      <td>0</td>\n",
       "      <td>0</td>\n",
       "      <td>0</td>\n",
       "      <td>9</td>\n",
       "      <td>0</td>\n",
       "      <td>0</td>\n",
       "      <td>1</td>\n",
       "      <td>0</td>\n",
       "      <td>0</td>\n",
       "      <td>1</td>\n",
       "      <td>3</td>\n",
       "      <td>0</td>\n",
       "      <td>0</td>\n",
       "      <td>0</td>\n",
       "      <td>08:00</td>\n",
       "      <td>22:00</td>\n",
       "      <td>[mon, tue, wed, thu, fri, sat, sun]</td>\n",
       "      <td>1</td>\n",
       "      <td>2</td>\n",
       "      <td>takeaway</td>\n",
       "      <td>3</td>\n",
       "      <td>cash</td>\n",
       "      <td>NaN</td>\n",
       "      <td>transfer</td>\n",
       "      <td>others</td>\n",
       "      <td>0</td>\n",
       "      <td>Esquina Mayia Rodriguez y Aranguren</td>\n",
       "      <td>None</td>\n",
       "      <td>Diez de Octubre</td>\n",
       "      <td>La Habana</td>\n",
       "      <td>None</td>\n",
       "      <td>Cuba</td>\n",
       "      <td>others</td>\n",
       "      <td>others</td>\n",
       "      <td>NaN</td>\n",
       "      <td>NaN</td>\n",
       "      <td>NaN</td>\n",
       "      <td>NaN</td>\n",
       "      <td>NaN</td>\n",
       "      <td>NaN</td>\n",
       "      <td>NaN</td>\n",
       "      <td>NaN</td>\n",
       "      <td>NaN</td>\n",
       "      <td>NaN</td>\n",
       "      <td>NaN</td>\n",
       "      <td>NaN</td>\n",
       "      <td>NaN</td>\n",
       "      <td>Sin FB</td>\n",
       "      <td>Sin Facebook</td>\n",
       "      <td>Con Instagram</td>\n",
       "      <td>Sin Twitter</td>\n",
       "      <td>Sin Twitter</td>\n",
       "    </tr>\n",
       "    <tr>\n",
       "      <th>96</th>\n",
       "      <td>Kafe DVD</td>\n",
       "      <td>None</td>\n",
       "      <td>None</td>\n",
       "      <td>None</td>\n",
       "      <td>restaurant</td>\n",
       "      <td>private</td>\n",
       "      <td>cuban</td>\n",
       "      <td>12</td>\n",
       "      <td>False</td>\n",
       "      <td>4.5</td>\n",
       "      <td>75</td>\n",
       "      <td>medium</td>\n",
       "      <td>https://www.facebook.com/kfedvd/?locale=zh_HK</td>\n",
       "      <td>None</td>\n",
       "      <td>None</td>\n",
       "      <td>0</td>\n",
       "      <td>14</td>\n",
       "      <td>0</td>\n",
       "      <td>14</td>\n",
       "      <td>2</td>\n",
       "      <td>0</td>\n",
       "      <td>0</td>\n",
       "      <td>0</td>\n",
       "      <td>0</td>\n",
       "      <td>0</td>\n",
       "      <td>0</td>\n",
       "      <td>0</td>\n",
       "      <td>0</td>\n",
       "      <td>0</td>\n",
       "      <td>1</td>\n",
       "      <td>4</td>\n",
       "      <td>0</td>\n",
       "      <td>0</td>\n",
       "      <td>0</td>\n",
       "      <td>00:00</td>\n",
       "      <td>24:00</td>\n",
       "      <td>[mon, tue, wed, thu, fri, sat, sun]</td>\n",
       "      <td>1</td>\n",
       "      <td>1</td>\n",
       "      <td>NaN</td>\n",
       "      <td>2</td>\n",
       "      <td>cash</td>\n",
       "      <td>NaN</td>\n",
       "      <td>transfer</td>\n",
       "      <td>NaN</td>\n",
       "      <td>0</td>\n",
       "      <td>San Francisco entre 10 de Octubre y Delicias</td>\n",
       "      <td>None</td>\n",
       "      <td>Diez de Octubre</td>\n",
       "      <td>La Habana</td>\n",
       "      <td>None</td>\n",
       "      <td>Cuba</td>\n",
       "      <td>others</td>\n",
       "      <td>others</td>\n",
       "      <td>NaN</td>\n",
       "      <td>NaN</td>\n",
       "      <td>NaN</td>\n",
       "      <td>NaN</td>\n",
       "      <td>NaN</td>\n",
       "      <td>NaN</td>\n",
       "      <td>NaN</td>\n",
       "      <td>NaN</td>\n",
       "      <td>NaN</td>\n",
       "      <td>NaN</td>\n",
       "      <td>NaN</td>\n",
       "      <td>NaN</td>\n",
       "      <td>NaN</td>\n",
       "      <td>Con FB</td>\n",
       "      <td>Con Facebook</td>\n",
       "      <td>Sin Instagram</td>\n",
       "      <td>Sin Twitter</td>\n",
       "      <td>Sin Twitter</td>\n",
       "    </tr>\n",
       "    <tr>\n",
       "      <th>97</th>\n",
       "      <td>Kimera</td>\n",
       "      <td>76419083</td>\n",
       "      <td>None</td>\n",
       "      <td>None</td>\n",
       "      <td>bar</td>\n",
       "      <td>private</td>\n",
       "      <td>cuban</td>\n",
       "      <td>12</td>\n",
       "      <td>False</td>\n",
       "      <td>4.5</td>\n",
       "      <td>75</td>\n",
       "      <td>high</td>\n",
       "      <td>None</td>\n",
       "      <td>https://www.instagram.com/@kimera.bar.cafeteria</td>\n",
       "      <td>None</td>\n",
       "      <td>0</td>\n",
       "      <td>14</td>\n",
       "      <td>0</td>\n",
       "      <td>16</td>\n",
       "      <td>11</td>\n",
       "      <td>5</td>\n",
       "      <td>0</td>\n",
       "      <td>0</td>\n",
       "      <td>0</td>\n",
       "      <td>0</td>\n",
       "      <td>0</td>\n",
       "      <td>3</td>\n",
       "      <td>17</td>\n",
       "      <td>0</td>\n",
       "      <td>1</td>\n",
       "      <td>8</td>\n",
       "      <td>5</td>\n",
       "      <td>0</td>\n",
       "      <td>0</td>\n",
       "      <td>12:00</td>\n",
       "      <td>01:00</td>\n",
       "      <td>[mon, tue, wed, thu, fri, sat, sun]</td>\n",
       "      <td>1</td>\n",
       "      <td>1</td>\n",
       "      <td>NaN</td>\n",
       "      <td>3</td>\n",
       "      <td>cash</td>\n",
       "      <td>NaN</td>\n",
       "      <td>transfer</td>\n",
       "      <td>others</td>\n",
       "      <td>0</td>\n",
       "      <td>#311, Calle Lacret entre Juan Bruno Zallas y C...</td>\n",
       "      <td>Santos Suarez</td>\n",
       "      <td>Diez de Octubre</td>\n",
       "      <td>La Habana</td>\n",
       "      <td>None</td>\n",
       "      <td>Cuba</td>\n",
       "      <td>others</td>\n",
       "      <td>others</td>\n",
       "      <td>NaN</td>\n",
       "      <td>NaN</td>\n",
       "      <td>NaN</td>\n",
       "      <td>NaN</td>\n",
       "      <td>NaN</td>\n",
       "      <td>NaN</td>\n",
       "      <td>NaN</td>\n",
       "      <td>NaN</td>\n",
       "      <td>NaN</td>\n",
       "      <td>NaN</td>\n",
       "      <td>NaN</td>\n",
       "      <td>NaN</td>\n",
       "      <td>NaN</td>\n",
       "      <td>Sin FB</td>\n",
       "      <td>Sin Facebook</td>\n",
       "      <td>Con Instagram</td>\n",
       "      <td>Sin Twitter</td>\n",
       "      <td>Sin Twitter</td>\n",
       "    </tr>\n",
       "    <tr>\n",
       "      <th>100</th>\n",
       "      <td>Lateral</td>\n",
       "      <td>59525677</td>\n",
       "      <td>None</td>\n",
       "      <td>None</td>\n",
       "      <td>restaurant</td>\n",
       "      <td>private</td>\n",
       "      <td>others</td>\n",
       "      <td>12</td>\n",
       "      <td>False</td>\n",
       "      <td>4.4</td>\n",
       "      <td>75</td>\n",
       "      <td>medium</td>\n",
       "      <td>https://www.facebook.com/307308194105213</td>\n",
       "      <td>@lateral.at</td>\n",
       "      <td>None</td>\n",
       "      <td>0</td>\n",
       "      <td>22</td>\n",
       "      <td>0</td>\n",
       "      <td>40</td>\n",
       "      <td>53</td>\n",
       "      <td>10</td>\n",
       "      <td>0</td>\n",
       "      <td>0</td>\n",
       "      <td>6</td>\n",
       "      <td>1</td>\n",
       "      <td>1</td>\n",
       "      <td>6</td>\n",
       "      <td>41</td>\n",
       "      <td>0</td>\n",
       "      <td>14</td>\n",
       "      <td>13</td>\n",
       "      <td>4</td>\n",
       "      <td>1</td>\n",
       "      <td>16</td>\n",
       "      <td>10:00</td>\n",
       "      <td>23:00</td>\n",
       "      <td>[mon, tue, wed, thu, fri, sat, sun]</td>\n",
       "      <td>2</td>\n",
       "      <td>2</td>\n",
       "      <td>takeaway</td>\n",
       "      <td>2</td>\n",
       "      <td>cash</td>\n",
       "      <td>NaN</td>\n",
       "      <td>transfer</td>\n",
       "      <td>NaN</td>\n",
       "      <td>0</td>\n",
       "      <td>Ave. Acosta #467, esq. Goicuría, Víbora.</td>\n",
       "      <td>None</td>\n",
       "      <td>Diez de Octubre</td>\n",
       "      <td>La Habana</td>\n",
       "      <td>None</td>\n",
       "      <td>Cuba</td>\n",
       "      <td>NaN</td>\n",
       "      <td>others</td>\n",
       "      <td>home</td>\n",
       "      <td>phone</td>\n",
       "      <td>NaN</td>\n",
       "      <td>NaN</td>\n",
       "      <td>NaN</td>\n",
       "      <td>NaN</td>\n",
       "      <td>NaN</td>\n",
       "      <td>NaN</td>\n",
       "      <td>NaN</td>\n",
       "      <td>NaN</td>\n",
       "      <td>NaN</td>\n",
       "      <td>NaN</td>\n",
       "      <td>NaN</td>\n",
       "      <td>Con FB</td>\n",
       "      <td>Con Facebook</td>\n",
       "      <td>Con Instagram</td>\n",
       "      <td>Sin Twitter</td>\n",
       "      <td>Sin Twitter</td>\n",
       "    </tr>\n",
       "    <tr>\n",
       "      <th>116</th>\n",
       "      <td>El Faro</td>\n",
       "      <td>None</td>\n",
       "      <td>None</td>\n",
       "      <td>None</td>\n",
       "      <td>bar</td>\n",
       "      <td>private</td>\n",
       "      <td>cuban</td>\n",
       "      <td>12</td>\n",
       "      <td>False</td>\n",
       "      <td>3.7</td>\n",
       "      <td>0</td>\n",
       "      <td>medium</td>\n",
       "      <td>None</td>\n",
       "      <td>None</td>\n",
       "      <td>None</td>\n",
       "      <td>0</td>\n",
       "      <td>0</td>\n",
       "      <td>6</td>\n",
       "      <td>5</td>\n",
       "      <td>7</td>\n",
       "      <td>2</td>\n",
       "      <td>0</td>\n",
       "      <td>0</td>\n",
       "      <td>0</td>\n",
       "      <td>0</td>\n",
       "      <td>0</td>\n",
       "      <td>0</td>\n",
       "      <td>0</td>\n",
       "      <td>0</td>\n",
       "      <td>0</td>\n",
       "      <td>0</td>\n",
       "      <td>0</td>\n",
       "      <td>0</td>\n",
       "      <td>0</td>\n",
       "      <td>09:00</td>\n",
       "      <td>23:00</td>\n",
       "      <td>[mon, tue, wed, thu, fri, sat, sun]</td>\n",
       "      <td>1</td>\n",
       "      <td>0</td>\n",
       "      <td>NaN</td>\n",
       "      <td>2</td>\n",
       "      <td>cash</td>\n",
       "      <td>NaN</td>\n",
       "      <td>transfer</td>\n",
       "      <td>NaN</td>\n",
       "      <td>0</td>\n",
       "      <td>None</td>\n",
       "      <td>None</td>\n",
       "      <td>Guanabacoa</td>\n",
       "      <td>La Habana</td>\n",
       "      <td>None</td>\n",
       "      <td>Cuba</td>\n",
       "      <td>NaN</td>\n",
       "      <td>others</td>\n",
       "      <td>NaN</td>\n",
       "      <td>NaN</td>\n",
       "      <td>NaN</td>\n",
       "      <td>NaN</td>\n",
       "      <td>NaN</td>\n",
       "      <td>NaN</td>\n",
       "      <td>NaN</td>\n",
       "      <td>NaN</td>\n",
       "      <td>NaN</td>\n",
       "      <td>NaN</td>\n",
       "      <td>NaN</td>\n",
       "      <td>NaN</td>\n",
       "      <td>NaN</td>\n",
       "      <td>Sin FB</td>\n",
       "      <td>Sin Facebook</td>\n",
       "      <td>Sin Instagram</td>\n",
       "      <td>Sin Twitter</td>\n",
       "      <td>Sin Twitter</td>\n",
       "    </tr>\n",
       "    <tr>\n",
       "      <th>121</th>\n",
       "      <td>El Faro</td>\n",
       "      <td>59477689</td>\n",
       "      <td>None</td>\n",
       "      <td>None</td>\n",
       "      <td>restaurant</td>\n",
       "      <td>private</td>\n",
       "      <td>cuban</td>\n",
       "      <td>12</td>\n",
       "      <td>False</td>\n",
       "      <td>3.7</td>\n",
       "      <td>30</td>\n",
       "      <td>economic</td>\n",
       "      <td>None</td>\n",
       "      <td>None</td>\n",
       "      <td>None</td>\n",
       "      <td>0</td>\n",
       "      <td>0</td>\n",
       "      <td>6</td>\n",
       "      <td>5</td>\n",
       "      <td>7</td>\n",
       "      <td>2</td>\n",
       "      <td>0</td>\n",
       "      <td>0</td>\n",
       "      <td>0</td>\n",
       "      <td>0</td>\n",
       "      <td>0</td>\n",
       "      <td>0</td>\n",
       "      <td>0</td>\n",
       "      <td>0</td>\n",
       "      <td>0</td>\n",
       "      <td>0</td>\n",
       "      <td>0</td>\n",
       "      <td>0</td>\n",
       "      <td>0</td>\n",
       "      <td>09:00</td>\n",
       "      <td>23:00</td>\n",
       "      <td>[mon, tue, wed, thu, fri, sat, sun]</td>\n",
       "      <td>1</td>\n",
       "      <td>0</td>\n",
       "      <td>NaN</td>\n",
       "      <td>2</td>\n",
       "      <td>cash</td>\n",
       "      <td>NaN</td>\n",
       "      <td>transfer</td>\n",
       "      <td>NaN</td>\n",
       "      <td>0</td>\n",
       "      <td>Maximo Gomez</td>\n",
       "      <td>None</td>\n",
       "      <td>Guanabacoa</td>\n",
       "      <td>La Habana</td>\n",
       "      <td>None</td>\n",
       "      <td>Cuba</td>\n",
       "      <td>NaN</td>\n",
       "      <td>others</td>\n",
       "      <td>NaN</td>\n",
       "      <td>NaN</td>\n",
       "      <td>NaN</td>\n",
       "      <td>NaN</td>\n",
       "      <td>NaN</td>\n",
       "      <td>NaN</td>\n",
       "      <td>NaN</td>\n",
       "      <td>NaN</td>\n",
       "      <td>NaN</td>\n",
       "      <td>NaN</td>\n",
       "      <td>NaN</td>\n",
       "      <td>NaN</td>\n",
       "      <td>NaN</td>\n",
       "      <td>Sin FB</td>\n",
       "      <td>Sin Facebook</td>\n",
       "      <td>Sin Instagram</td>\n",
       "      <td>Sin Twitter</td>\n",
       "      <td>Sin Twitter</td>\n",
       "    </tr>\n",
       "    <tr>\n",
       "      <th>127</th>\n",
       "      <td>Restaurante El Pavo</td>\n",
       "      <td>58222469</td>\n",
       "      <td>None</td>\n",
       "      <td>None</td>\n",
       "      <td>restaurant</td>\n",
       "      <td>private</td>\n",
       "      <td>others</td>\n",
       "      <td>12</td>\n",
       "      <td>False</td>\n",
       "      <td>4.3</td>\n",
       "      <td>75</td>\n",
       "      <td>economic</td>\n",
       "      <td>None</td>\n",
       "      <td>None</td>\n",
       "      <td>None</td>\n",
       "      <td>0</td>\n",
       "      <td>0</td>\n",
       "      <td>11</td>\n",
       "      <td>7</td>\n",
       "      <td>8</td>\n",
       "      <td>8</td>\n",
       "      <td>7</td>\n",
       "      <td>0</td>\n",
       "      <td>0</td>\n",
       "      <td>0</td>\n",
       "      <td>0</td>\n",
       "      <td>1</td>\n",
       "      <td>0</td>\n",
       "      <td>0</td>\n",
       "      <td>3</td>\n",
       "      <td>7</td>\n",
       "      <td>0</td>\n",
       "      <td>0</td>\n",
       "      <td>0</td>\n",
       "      <td>12:00</td>\n",
       "      <td>23:00</td>\n",
       "      <td>[mon, tue, wed, thu, fri, sat, sun]</td>\n",
       "      <td>2</td>\n",
       "      <td>1</td>\n",
       "      <td>NaN</td>\n",
       "      <td>2</td>\n",
       "      <td>cash</td>\n",
       "      <td>NaN</td>\n",
       "      <td>transfer</td>\n",
       "      <td>NaN</td>\n",
       "      <td>0</td>\n",
       "      <td>None</td>\n",
       "      <td>None</td>\n",
       "      <td>Guanabacoa</td>\n",
       "      <td>La Habana</td>\n",
       "      <td>None</td>\n",
       "      <td>Cuba</td>\n",
       "      <td>NaN</td>\n",
       "      <td>others</td>\n",
       "      <td>home</td>\n",
       "      <td>phone</td>\n",
       "      <td>NaN</td>\n",
       "      <td>NaN</td>\n",
       "      <td>NaN</td>\n",
       "      <td>NaN</td>\n",
       "      <td>NaN</td>\n",
       "      <td>NaN</td>\n",
       "      <td>NaN</td>\n",
       "      <td>NaN</td>\n",
       "      <td>NaN</td>\n",
       "      <td>NaN</td>\n",
       "      <td>NaN</td>\n",
       "      <td>Sin FB</td>\n",
       "      <td>Sin Facebook</td>\n",
       "      <td>Sin Instagram</td>\n",
       "      <td>Sin Twitter</td>\n",
       "      <td>Sin Twitter</td>\n",
       "    </tr>\n",
       "    <tr>\n",
       "      <th>132</th>\n",
       "      <td>Allegro</td>\n",
       "      <td>7661010</td>\n",
       "      <td>None</td>\n",
       "      <td>None</td>\n",
       "      <td>restaurant</td>\n",
       "      <td>state</td>\n",
       "      <td>italian</td>\n",
       "      <td>20</td>\n",
       "      <td>False</td>\n",
       "      <td>4.0</td>\n",
       "      <td>75</td>\n",
       "      <td>medium</td>\n",
       "      <td>None</td>\n",
       "      <td>None</td>\n",
       "      <td>None</td>\n",
       "      <td>0</td>\n",
       "      <td>0</td>\n",
       "      <td>3</td>\n",
       "      <td>3</td>\n",
       "      <td>4</td>\n",
       "      <td>0</td>\n",
       "      <td>0</td>\n",
       "      <td>0</td>\n",
       "      <td>0</td>\n",
       "      <td>0</td>\n",
       "      <td>0</td>\n",
       "      <td>0</td>\n",
       "      <td>0</td>\n",
       "      <td>0</td>\n",
       "      <td>0</td>\n",
       "      <td>0</td>\n",
       "      <td>0</td>\n",
       "      <td>0</td>\n",
       "      <td>0</td>\n",
       "      <td>12:00</td>\n",
       "      <td>21:00</td>\n",
       "      <td>[mon, tue, wed, thu, fri, sat, sun]</td>\n",
       "      <td>1</td>\n",
       "      <td>1</td>\n",
       "      <td>NaN</td>\n",
       "      <td>2</td>\n",
       "      <td>cash</td>\n",
       "      <td>card</td>\n",
       "      <td>NaN</td>\n",
       "      <td>NaN</td>\n",
       "      <td>0</td>\n",
       "      <td>Paseo de la Villa, Villa Panamericana</td>\n",
       "      <td>None</td>\n",
       "      <td>Habana del Este</td>\n",
       "      <td>La Habana</td>\n",
       "      <td>None</td>\n",
       "      <td>Cuba</td>\n",
       "      <td>others</td>\n",
       "      <td>others</td>\n",
       "      <td>NaN</td>\n",
       "      <td>NaN</td>\n",
       "      <td>NaN</td>\n",
       "      <td>NaN</td>\n",
       "      <td>NaN</td>\n",
       "      <td>NaN</td>\n",
       "      <td>NaN</td>\n",
       "      <td>NaN</td>\n",
       "      <td>NaN</td>\n",
       "      <td>NaN</td>\n",
       "      <td>NaN</td>\n",
       "      <td>NaN</td>\n",
       "      <td>NaN</td>\n",
       "      <td>Sin FB</td>\n",
       "      <td>Sin Facebook</td>\n",
       "      <td>Sin Instagram</td>\n",
       "      <td>Sin Twitter</td>\n",
       "      <td>Sin Twitter</td>\n",
       "    </tr>\n",
       "    <tr>\n",
       "      <th>133</th>\n",
       "      <td>Beer para creer</td>\n",
       "      <td>None</td>\n",
       "      <td>None</td>\n",
       "      <td>None</td>\n",
       "      <td>bar</td>\n",
       "      <td>private</td>\n",
       "      <td>others</td>\n",
       "      <td>15</td>\n",
       "      <td>False</td>\n",
       "      <td>4.5</td>\n",
       "      <td>75</td>\n",
       "      <td>medium</td>\n",
       "      <td>None</td>\n",
       "      <td>None</td>\n",
       "      <td>None</td>\n",
       "      <td>0</td>\n",
       "      <td>0</td>\n",
       "      <td>6</td>\n",
       "      <td>20</td>\n",
       "      <td>2</td>\n",
       "      <td>0</td>\n",
       "      <td>0</td>\n",
       "      <td>0</td>\n",
       "      <td>8</td>\n",
       "      <td>0</td>\n",
       "      <td>0</td>\n",
       "      <td>0</td>\n",
       "      <td>0</td>\n",
       "      <td>0</td>\n",
       "      <td>0</td>\n",
       "      <td>0</td>\n",
       "      <td>0</td>\n",
       "      <td>0</td>\n",
       "      <td>0</td>\n",
       "      <td>10:00</td>\n",
       "      <td>21:00</td>\n",
       "      <td>[mon, tue, wed, thu, fri, sat, sun]</td>\n",
       "      <td>1</td>\n",
       "      <td>1</td>\n",
       "      <td>NaN</td>\n",
       "      <td>3</td>\n",
       "      <td>cash</td>\n",
       "      <td>card</td>\n",
       "      <td>NaN</td>\n",
       "      <td>others</td>\n",
       "      <td>0</td>\n",
       "      <td>Centro comercial Falcon, Alamar</td>\n",
       "      <td>None</td>\n",
       "      <td>Habana del Este</td>\n",
       "      <td>La Habana</td>\n",
       "      <td>None</td>\n",
       "      <td>Cuba</td>\n",
       "      <td>others</td>\n",
       "      <td>others</td>\n",
       "      <td>NaN</td>\n",
       "      <td>NaN</td>\n",
       "      <td>NaN</td>\n",
       "      <td>NaN</td>\n",
       "      <td>NaN</td>\n",
       "      <td>NaN</td>\n",
       "      <td>NaN</td>\n",
       "      <td>NaN</td>\n",
       "      <td>NaN</td>\n",
       "      <td>NaN</td>\n",
       "      <td>NaN</td>\n",
       "      <td>NaN</td>\n",
       "      <td>NaN</td>\n",
       "      <td>Sin FB</td>\n",
       "      <td>Sin Facebook</td>\n",
       "      <td>Sin Instagram</td>\n",
       "      <td>Sin Twitter</td>\n",
       "      <td>Sin Twitter</td>\n",
       "    </tr>\n",
       "    <tr>\n",
       "      <th>135</th>\n",
       "      <td>Los Doce Apostoles</td>\n",
       "      <td>77937733</td>\n",
       "      <td>None</td>\n",
       "      <td>None</td>\n",
       "      <td>restaurant</td>\n",
       "      <td>state</td>\n",
       "      <td>cuban</td>\n",
       "      <td>60</td>\n",
       "      <td>False</td>\n",
       "      <td>4.5</td>\n",
       "      <td>75</td>\n",
       "      <td>medium</td>\n",
       "      <td>Restaurante Doce Apostoles</td>\n",
       "      <td>None</td>\n",
       "      <td>None</td>\n",
       "      <td>0</td>\n",
       "      <td>0</td>\n",
       "      <td>6</td>\n",
       "      <td>8</td>\n",
       "      <td>0</td>\n",
       "      <td>0</td>\n",
       "      <td>0</td>\n",
       "      <td>0</td>\n",
       "      <td>0</td>\n",
       "      <td>0</td>\n",
       "      <td>0</td>\n",
       "      <td>0</td>\n",
       "      <td>0</td>\n",
       "      <td>1</td>\n",
       "      <td>7</td>\n",
       "      <td>4</td>\n",
       "      <td>0</td>\n",
       "      <td>0</td>\n",
       "      <td>0</td>\n",
       "      <td>12:00</td>\n",
       "      <td>24:00</td>\n",
       "      <td>[mon, tue, wed, thu, fri, sat, sun]</td>\n",
       "      <td>1</td>\n",
       "      <td>1</td>\n",
       "      <td>NaN</td>\n",
       "      <td>1</td>\n",
       "      <td>NaN</td>\n",
       "      <td>card</td>\n",
       "      <td>NaN</td>\n",
       "      <td>NaN</td>\n",
       "      <td>0</td>\n",
       "      <td>Complejo Morro Cabana,Via Monumental</td>\n",
       "      <td>None</td>\n",
       "      <td>Habana del Este</td>\n",
       "      <td>La Habana</td>\n",
       "      <td>None</td>\n",
       "      <td>Cuba</td>\n",
       "      <td>others</td>\n",
       "      <td>others</td>\n",
       "      <td>NaN</td>\n",
       "      <td>NaN</td>\n",
       "      <td>NaN</td>\n",
       "      <td>NaN</td>\n",
       "      <td>NaN</td>\n",
       "      <td>NaN</td>\n",
       "      <td>NaN</td>\n",
       "      <td>NaN</td>\n",
       "      <td>NaN</td>\n",
       "      <td>NaN</td>\n",
       "      <td>NaN</td>\n",
       "      <td>NaN</td>\n",
       "      <td>NaN</td>\n",
       "      <td>Con FB</td>\n",
       "      <td>Con Facebook</td>\n",
       "      <td>Sin Instagram</td>\n",
       "      <td>Sin Twitter</td>\n",
       "      <td>Sin Twitter</td>\n",
       "    </tr>\n",
       "    <tr>\n",
       "      <th>139</th>\n",
       "      <td>El Chanchullero</td>\n",
       "      <td>None</td>\n",
       "      <td>None</td>\n",
       "      <td>None</td>\n",
       "      <td>restaurant</td>\n",
       "      <td>private</td>\n",
       "      <td>cuban</td>\n",
       "      <td>30</td>\n",
       "      <td>False</td>\n",
       "      <td>4.7</td>\n",
       "      <td>75</td>\n",
       "      <td>medium</td>\n",
       "      <td>https://www.facebook.com/El Chanchullero de Al...</td>\n",
       "      <td>https://www.instagram.com/@chanchullerobar.zona6</td>\n",
       "      <td>None</td>\n",
       "      <td>0</td>\n",
       "      <td>4</td>\n",
       "      <td>0</td>\n",
       "      <td>6</td>\n",
       "      <td>0</td>\n",
       "      <td>0</td>\n",
       "      <td>4</td>\n",
       "      <td>0</td>\n",
       "      <td>0</td>\n",
       "      <td>0</td>\n",
       "      <td>0</td>\n",
       "      <td>1</td>\n",
       "      <td>11</td>\n",
       "      <td>2</td>\n",
       "      <td>9</td>\n",
       "      <td>5</td>\n",
       "      <td>0</td>\n",
       "      <td>2</td>\n",
       "      <td>0</td>\n",
       "      <td>12:00</td>\n",
       "      <td>00:00</td>\n",
       "      <td>[mon, tue, wed, thu, fri, sat, sun]</td>\n",
       "      <td>1</td>\n",
       "      <td>2</td>\n",
       "      <td>takeaway</td>\n",
       "      <td>3</td>\n",
       "      <td>cash</td>\n",
       "      <td>card</td>\n",
       "      <td>NaN</td>\n",
       "      <td>others</td>\n",
       "      <td>1</td>\n",
       "      <td>#162D entre Calle 5G y Calle 162, zona 6, Alamar</td>\n",
       "      <td>None</td>\n",
       "      <td>Habana del Este</td>\n",
       "      <td>La Habana</td>\n",
       "      <td>None</td>\n",
       "      <td>Cuba</td>\n",
       "      <td>NaN</td>\n",
       "      <td>others</td>\n",
       "      <td>home</td>\n",
       "      <td>NaN</td>\n",
       "      <td>pet_friendly</td>\n",
       "      <td>NaN</td>\n",
       "      <td>NaN</td>\n",
       "      <td>NaN</td>\n",
       "      <td>NaN</td>\n",
       "      <td>NaN</td>\n",
       "      <td>NaN</td>\n",
       "      <td>NaN</td>\n",
       "      <td>NaN</td>\n",
       "      <td>NaN</td>\n",
       "      <td>NaN</td>\n",
       "      <td>Con FB</td>\n",
       "      <td>Con Facebook</td>\n",
       "      <td>Con Instagram</td>\n",
       "      <td>Sin Twitter</td>\n",
       "      <td>Sin Twitter</td>\n",
       "    </tr>\n",
       "    <tr>\n",
       "      <th>144</th>\n",
       "      <td>Kopas</td>\n",
       "      <td>51566616</td>\n",
       "      <td>None</td>\n",
       "      <td>None</td>\n",
       "      <td>restaurant</td>\n",
       "      <td>private</td>\n",
       "      <td>others</td>\n",
       "      <td>50</td>\n",
       "      <td>False</td>\n",
       "      <td>4.3</td>\n",
       "      <td>75</td>\n",
       "      <td>high</td>\n",
       "      <td>None</td>\n",
       "      <td>hopas_bar_restaurant</td>\n",
       "      <td>None</td>\n",
       "      <td>0</td>\n",
       "      <td>0</td>\n",
       "      <td>8</td>\n",
       "      <td>43</td>\n",
       "      <td>0</td>\n",
       "      <td>0</td>\n",
       "      <td>0</td>\n",
       "      <td>0</td>\n",
       "      <td>0</td>\n",
       "      <td>0</td>\n",
       "      <td>0</td>\n",
       "      <td>0</td>\n",
       "      <td>0</td>\n",
       "      <td>0</td>\n",
       "      <td>6</td>\n",
       "      <td>0</td>\n",
       "      <td>0</td>\n",
       "      <td>0</td>\n",
       "      <td>0</td>\n",
       "      <td>10:00</td>\n",
       "      <td>23:30</td>\n",
       "      <td>[mon, tue, wed, thu, fri, sat, sun]</td>\n",
       "      <td>3</td>\n",
       "      <td>2</td>\n",
       "      <td>takeaway</td>\n",
       "      <td>3</td>\n",
       "      <td>cash</td>\n",
       "      <td>card</td>\n",
       "      <td>transfer</td>\n",
       "      <td>NaN</td>\n",
       "      <td>0</td>\n",
       "      <td>Esquina de 5ta Avenida, #482</td>\n",
       "      <td>None</td>\n",
       "      <td>Habana del Este</td>\n",
       "      <td>La Habana</td>\n",
       "      <td>None</td>\n",
       "      <td>Cuba</td>\n",
       "      <td>NaN</td>\n",
       "      <td>others</td>\n",
       "      <td>home</td>\n",
       "      <td>phone</td>\n",
       "      <td>NaN</td>\n",
       "      <td>NaN</td>\n",
       "      <td>NaN</td>\n",
       "      <td>NaN</td>\n",
       "      <td>NaN</td>\n",
       "      <td>NaN</td>\n",
       "      <td>NaN</td>\n",
       "      <td>NaN</td>\n",
       "      <td>online</td>\n",
       "      <td>NaN</td>\n",
       "      <td>NaN</td>\n",
       "      <td>Sin FB</td>\n",
       "      <td>Sin Facebook</td>\n",
       "      <td>Con Instagram</td>\n",
       "      <td>Sin Twitter</td>\n",
       "      <td>Sin Twitter</td>\n",
       "    </tr>\n",
       "    <tr>\n",
       "      <th>158</th>\n",
       "      <td>Amalfi</td>\n",
       "      <td>None</td>\n",
       "      <td>None</td>\n",
       "      <td>None</td>\n",
       "      <td>bar</td>\n",
       "      <td>private</td>\n",
       "      <td>italian</td>\n",
       "      <td>12</td>\n",
       "      <td>False</td>\n",
       "      <td>5.0</td>\n",
       "      <td>0</td>\n",
       "      <td>medium</td>\n",
       "      <td>Amalfi</td>\n",
       "      <td>@amalfi_havana_restaurant</td>\n",
       "      <td>None</td>\n",
       "      <td>0</td>\n",
       "      <td>11</td>\n",
       "      <td>0</td>\n",
       "      <td>4</td>\n",
       "      <td>10</td>\n",
       "      <td>15</td>\n",
       "      <td>0</td>\n",
       "      <td>0</td>\n",
       "      <td>0</td>\n",
       "      <td>4</td>\n",
       "      <td>0</td>\n",
       "      <td>6</td>\n",
       "      <td>13</td>\n",
       "      <td>2</td>\n",
       "      <td>1</td>\n",
       "      <td>4</td>\n",
       "      <td>0</td>\n",
       "      <td>2</td>\n",
       "      <td>0</td>\n",
       "      <td>12:00</td>\n",
       "      <td>22:30</td>\n",
       "      <td>[mon, tue, wed, thu, fri, sat, sun]</td>\n",
       "      <td>1</td>\n",
       "      <td>1</td>\n",
       "      <td>NaN</td>\n",
       "      <td>2</td>\n",
       "      <td>cash</td>\n",
       "      <td>NaN</td>\n",
       "      <td>transfer</td>\n",
       "      <td>NaN</td>\n",
       "      <td>1</td>\n",
       "      <td>None</td>\n",
       "      <td>None</td>\n",
       "      <td>Playa</td>\n",
       "      <td>La Habana</td>\n",
       "      <td>None</td>\n",
       "      <td>Cuba</td>\n",
       "      <td>NaN</td>\n",
       "      <td>others</td>\n",
       "      <td>home</td>\n",
       "      <td>NaN</td>\n",
       "      <td>pet_friendly</td>\n",
       "      <td>NaN</td>\n",
       "      <td>23.118858</td>\n",
       "      <td>-82.429521</td>\n",
       "      <td>NaN</td>\n",
       "      <td>NaN</td>\n",
       "      <td>NaN</td>\n",
       "      <td>NaN</td>\n",
       "      <td>NaN</td>\n",
       "      <td>NaN</td>\n",
       "      <td>NaN</td>\n",
       "      <td>Con FB</td>\n",
       "      <td>Con Facebook</td>\n",
       "      <td>Con Instagram</td>\n",
       "      <td>Sin Twitter</td>\n",
       "      <td>Sin Twitter</td>\n",
       "    </tr>\n",
       "    <tr>\n",
       "      <th>160</th>\n",
       "      <td>Bom Apetite</td>\n",
       "      <td>72033634</td>\n",
       "      <td>None</td>\n",
       "      <td>None</td>\n",
       "      <td>restaurant</td>\n",
       "      <td>private</td>\n",
       "      <td>cuban</td>\n",
       "      <td>12</td>\n",
       "      <td>False</td>\n",
       "      <td>3.5</td>\n",
       "      <td>75</td>\n",
       "      <td>medium</td>\n",
       "      <td>RESTAURANT BOM APETITE</td>\n",
       "      <td>@bom_apetite_1ra_y_70</td>\n",
       "      <td>None</td>\n",
       "      <td>4</td>\n",
       "      <td>44</td>\n",
       "      <td>0</td>\n",
       "      <td>44</td>\n",
       "      <td>18</td>\n",
       "      <td>13</td>\n",
       "      <td>22</td>\n",
       "      <td>0</td>\n",
       "      <td>10</td>\n",
       "      <td>0</td>\n",
       "      <td>3</td>\n",
       "      <td>0</td>\n",
       "      <td>0</td>\n",
       "      <td>0</td>\n",
       "      <td>0</td>\n",
       "      <td>0</td>\n",
       "      <td>0</td>\n",
       "      <td>0</td>\n",
       "      <td>0</td>\n",
       "      <td>09:00</td>\n",
       "      <td>04:00</td>\n",
       "      <td>[mon, tue, wed, thu, fri, sat, sun]</td>\n",
       "      <td>1</td>\n",
       "      <td>2</td>\n",
       "      <td>takeaway</td>\n",
       "      <td>2</td>\n",
       "      <td>cash</td>\n",
       "      <td>NaN</td>\n",
       "      <td>transfer</td>\n",
       "      <td>NaN</td>\n",
       "      <td>0</td>\n",
       "      <td>None</td>\n",
       "      <td>None</td>\n",
       "      <td>Playa</td>\n",
       "      <td>La Habana</td>\n",
       "      <td>None</td>\n",
       "      <td>Cuba</td>\n",
       "      <td>NaN</td>\n",
       "      <td>others</td>\n",
       "      <td>home</td>\n",
       "      <td>NaN</td>\n",
       "      <td>NaN</td>\n",
       "      <td>NaN</td>\n",
       "      <td>23.113345</td>\n",
       "      <td>-82.439841</td>\n",
       "      <td>NaN</td>\n",
       "      <td>NaN</td>\n",
       "      <td>NaN</td>\n",
       "      <td>NaN</td>\n",
       "      <td>NaN</td>\n",
       "      <td>NaN</td>\n",
       "      <td>NaN</td>\n",
       "      <td>Con FB</td>\n",
       "      <td>Con Facebook</td>\n",
       "      <td>Con Instagram</td>\n",
       "      <td>Sin Twitter</td>\n",
       "      <td>Sin Twitter</td>\n",
       "    </tr>\n",
       "    <tr>\n",
       "      <th>162</th>\n",
       "      <td>Café Clington</td>\n",
       "      <td>None</td>\n",
       "      <td>None</td>\n",
       "      <td>None</td>\n",
       "      <td>restaurant</td>\n",
       "      <td>private</td>\n",
       "      <td>others</td>\n",
       "      <td>12</td>\n",
       "      <td>False</td>\n",
       "      <td>4.5</td>\n",
       "      <td>75</td>\n",
       "      <td>economic</td>\n",
       "      <td>None</td>\n",
       "      <td>https://www.instagram.com/@cafe_clington_</td>\n",
       "      <td>None</td>\n",
       "      <td>2</td>\n",
       "      <td>14</td>\n",
       "      <td>0</td>\n",
       "      <td>22</td>\n",
       "      <td>0</td>\n",
       "      <td>0</td>\n",
       "      <td>0</td>\n",
       "      <td>0</td>\n",
       "      <td>0</td>\n",
       "      <td>0</td>\n",
       "      <td>0</td>\n",
       "      <td>21</td>\n",
       "      <td>0</td>\n",
       "      <td>0</td>\n",
       "      <td>6</td>\n",
       "      <td>7</td>\n",
       "      <td>0</td>\n",
       "      <td>4</td>\n",
       "      <td>2</td>\n",
       "      <td>08:00</td>\n",
       "      <td>18:00</td>\n",
       "      <td>[mon, tue, wed, thu, fri, sat, sun]</td>\n",
       "      <td>1</td>\n",
       "      <td>1</td>\n",
       "      <td>NaN</td>\n",
       "      <td>2</td>\n",
       "      <td>cash</td>\n",
       "      <td>NaN</td>\n",
       "      <td>transfer</td>\n",
       "      <td>NaN</td>\n",
       "      <td>0</td>\n",
       "      <td>None</td>\n",
       "      <td>None</td>\n",
       "      <td>Playa</td>\n",
       "      <td>La Habana</td>\n",
       "      <td>None</td>\n",
       "      <td>Cuba</td>\n",
       "      <td>others</td>\n",
       "      <td>others</td>\n",
       "      <td>NaN</td>\n",
       "      <td>NaN</td>\n",
       "      <td>NaN</td>\n",
       "      <td>NaN</td>\n",
       "      <td>23.115259</td>\n",
       "      <td>-82.434188</td>\n",
       "      <td>7.0</td>\n",
       "      <td>NaN</td>\n",
       "      <td>NaN</td>\n",
       "      <td>NaN</td>\n",
       "      <td>NaN</td>\n",
       "      <td>NaN</td>\n",
       "      <td>NaN</td>\n",
       "      <td>Sin FB</td>\n",
       "      <td>Sin Facebook</td>\n",
       "      <td>Con Instagram</td>\n",
       "      <td>Sin Twitter</td>\n",
       "      <td>Sin Twitter</td>\n",
       "    </tr>\n",
       "    <tr>\n",
       "      <th>170</th>\n",
       "      <td>Home Deli</td>\n",
       "      <td>None</td>\n",
       "      <td>None</td>\n",
       "      <td>https://homedelimercado.com</td>\n",
       "      <td>restaurant</td>\n",
       "      <td>private</td>\n",
       "      <td>italian</td>\n",
       "      <td>12</td>\n",
       "      <td>False</td>\n",
       "      <td>3.7</td>\n",
       "      <td>75</td>\n",
       "      <td>economic</td>\n",
       "      <td>Home Deli</td>\n",
       "      <td>@homedelicuba</td>\n",
       "      <td>None</td>\n",
       "      <td>0</td>\n",
       "      <td>3</td>\n",
       "      <td>0</td>\n",
       "      <td>0</td>\n",
       "      <td>2</td>\n",
       "      <td>0</td>\n",
       "      <td>0</td>\n",
       "      <td>5</td>\n",
       "      <td>6</td>\n",
       "      <td>0</td>\n",
       "      <td>0</td>\n",
       "      <td>1</td>\n",
       "      <td>0</td>\n",
       "      <td>0</td>\n",
       "      <td>3</td>\n",
       "      <td>2</td>\n",
       "      <td>4</td>\n",
       "      <td>0</td>\n",
       "      <td>0</td>\n",
       "      <td>09:00</td>\n",
       "      <td>21:00</td>\n",
       "      <td>[mon, tue, wed, thu, fri, sat, sun]</td>\n",
       "      <td>1</td>\n",
       "      <td>2</td>\n",
       "      <td>takeaway</td>\n",
       "      <td>2</td>\n",
       "      <td>cash</td>\n",
       "      <td>NaN</td>\n",
       "      <td>transfer</td>\n",
       "      <td>NaN</td>\n",
       "      <td>1</td>\n",
       "      <td>None</td>\n",
       "      <td>None</td>\n",
       "      <td>Playa</td>\n",
       "      <td>La Habana</td>\n",
       "      <td>None</td>\n",
       "      <td>Cuba</td>\n",
       "      <td>NaN</td>\n",
       "      <td>others</td>\n",
       "      <td>home</td>\n",
       "      <td>NaN</td>\n",
       "      <td>pet_friendly</td>\n",
       "      <td>NaN</td>\n",
       "      <td>23.102014</td>\n",
       "      <td>-82.430685</td>\n",
       "      <td>NaN</td>\n",
       "      <td>NaN</td>\n",
       "      <td>NaN</td>\n",
       "      <td>NaN</td>\n",
       "      <td>NaN</td>\n",
       "      <td>NaN</td>\n",
       "      <td>NaN</td>\n",
       "      <td>Con FB</td>\n",
       "      <td>Con Facebook</td>\n",
       "      <td>Con Instagram</td>\n",
       "      <td>Sin Twitter</td>\n",
       "      <td>Sin Twitter</td>\n",
       "    </tr>\n",
       "    <tr>\n",
       "      <th>202</th>\n",
       "      <td>Fuumiyaki</td>\n",
       "      <td>52832188</td>\n",
       "      <td>None</td>\n",
       "      <td>https://www.fuumiyaki.com/</td>\n",
       "      <td>restaurant</td>\n",
       "      <td>private</td>\n",
       "      <td>japanese</td>\n",
       "      <td>12</td>\n",
       "      <td>False</td>\n",
       "      <td>4.2</td>\n",
       "      <td>75</td>\n",
       "      <td>high</td>\n",
       "      <td>https://www.facebook.com/fuumiyaki.cuba/</td>\n",
       "      <td>https://www.instagram.com/fuumiyaki/?hl=es</td>\n",
       "      <td>None</td>\n",
       "      <td>0</td>\n",
       "      <td>10</td>\n",
       "      <td>0</td>\n",
       "      <td>37</td>\n",
       "      <td>0</td>\n",
       "      <td>0</td>\n",
       "      <td>0</td>\n",
       "      <td>0</td>\n",
       "      <td>0</td>\n",
       "      <td>0</td>\n",
       "      <td>0</td>\n",
       "      <td>2</td>\n",
       "      <td>18</td>\n",
       "      <td>2</td>\n",
       "      <td>13</td>\n",
       "      <td>5</td>\n",
       "      <td>3</td>\n",
       "      <td>0</td>\n",
       "      <td>0</td>\n",
       "      <td>12:00</td>\n",
       "      <td>23:50</td>\n",
       "      <td>[mon, tue, wed, thu, fri, sat, sun]</td>\n",
       "      <td>1</td>\n",
       "      <td>2</td>\n",
       "      <td>NaN</td>\n",
       "      <td>3</td>\n",
       "      <td>cash</td>\n",
       "      <td>NaN</td>\n",
       "      <td>transfer</td>\n",
       "      <td>others</td>\n",
       "      <td>0</td>\n",
       "      <td>Ave 26/23 y 25, Vedado</td>\n",
       "      <td>None</td>\n",
       "      <td>Plaza de la Revolucion</td>\n",
       "      <td>La Habana</td>\n",
       "      <td>None</td>\n",
       "      <td>Cuba</td>\n",
       "      <td>others</td>\n",
       "      <td>others</td>\n",
       "      <td>home</td>\n",
       "      <td>NaN</td>\n",
       "      <td>NaN</td>\n",
       "      <td>NaN</td>\n",
       "      <td>23.122261</td>\n",
       "      <td>-82.405080</td>\n",
       "      <td>NaN</td>\n",
       "      <td>NaN</td>\n",
       "      <td>NaN</td>\n",
       "      <td>NaN</td>\n",
       "      <td>NaN</td>\n",
       "      <td>NaN</td>\n",
       "      <td>NaN</td>\n",
       "      <td>Con FB</td>\n",
       "      <td>Con Facebook</td>\n",
       "      <td>Con Instagram</td>\n",
       "      <td>Sin Twitter</td>\n",
       "      <td>Sin Twitter</td>\n",
       "    </tr>\n",
       "    <tr>\n",
       "      <th>207</th>\n",
       "      <td>Doña Lis Pizza</td>\n",
       "      <td>5510909</td>\n",
       "      <td>None</td>\n",
       "      <td>None</td>\n",
       "      <td>bar</td>\n",
       "      <td>private</td>\n",
       "      <td>others</td>\n",
       "      <td>12</td>\n",
       "      <td>False</td>\n",
       "      <td>4.5</td>\n",
       "      <td>30</td>\n",
       "      <td>medium</td>\n",
       "      <td>None</td>\n",
       "      <td>None</td>\n",
       "      <td>None</td>\n",
       "      <td>0</td>\n",
       "      <td>0</td>\n",
       "      <td>9</td>\n",
       "      <td>16</td>\n",
       "      <td>4</td>\n",
       "      <td>3</td>\n",
       "      <td>0</td>\n",
       "      <td>0</td>\n",
       "      <td>0</td>\n",
       "      <td>0</td>\n",
       "      <td>0</td>\n",
       "      <td>2</td>\n",
       "      <td>0</td>\n",
       "      <td>0</td>\n",
       "      <td>5</td>\n",
       "      <td>9</td>\n",
       "      <td>0</td>\n",
       "      <td>1</td>\n",
       "      <td>0</td>\n",
       "      <td>10:30</td>\n",
       "      <td>24:00</td>\n",
       "      <td>[mon, tue, wed, thu, fri, sat, sun]</td>\n",
       "      <td>1</td>\n",
       "      <td>0</td>\n",
       "      <td>NaN</td>\n",
       "      <td>2</td>\n",
       "      <td>cash</td>\n",
       "      <td>NaN</td>\n",
       "      <td>transfer</td>\n",
       "      <td>NaN</td>\n",
       "      <td>0</td>\n",
       "      <td>1169 A Neptuno</td>\n",
       "      <td>None</td>\n",
       "      <td>Plaza de la Revolucion</td>\n",
       "      <td>La Habana</td>\n",
       "      <td>None</td>\n",
       "      <td>Cuba</td>\n",
       "      <td>NaN</td>\n",
       "      <td>others</td>\n",
       "      <td>NaN</td>\n",
       "      <td>NaN</td>\n",
       "      <td>NaN</td>\n",
       "      <td>NaN</td>\n",
       "      <td>NaN</td>\n",
       "      <td>NaN</td>\n",
       "      <td>NaN</td>\n",
       "      <td>NaN</td>\n",
       "      <td>NaN</td>\n",
       "      <td>NaN</td>\n",
       "      <td>NaN</td>\n",
       "      <td>NaN</td>\n",
       "      <td>NaN</td>\n",
       "      <td>Sin FB</td>\n",
       "      <td>Sin Facebook</td>\n",
       "      <td>Sin Instagram</td>\n",
       "      <td>Sin Twitter</td>\n",
       "      <td>Sin Twitter</td>\n",
       "    </tr>\n",
       "    <tr>\n",
       "      <th>219</th>\n",
       "      <td>Café Toscano</td>\n",
       "      <td>None</td>\n",
       "      <td>None</td>\n",
       "      <td>None</td>\n",
       "      <td>restaurant</td>\n",
       "      <td>private</td>\n",
       "      <td>cuban</td>\n",
       "      <td>12</td>\n",
       "      <td>False</td>\n",
       "      <td>4.5</td>\n",
       "      <td>75</td>\n",
       "      <td>high</td>\n",
       "      <td>None</td>\n",
       "      <td>None</td>\n",
       "      <td>None</td>\n",
       "      <td>0</td>\n",
       "      <td>3</td>\n",
       "      <td>0</td>\n",
       "      <td>5</td>\n",
       "      <td>8</td>\n",
       "      <td>2</td>\n",
       "      <td>0</td>\n",
       "      <td>0</td>\n",
       "      <td>0</td>\n",
       "      <td>0</td>\n",
       "      <td>0</td>\n",
       "      <td>0</td>\n",
       "      <td>0</td>\n",
       "      <td>0</td>\n",
       "      <td>0</td>\n",
       "      <td>0</td>\n",
       "      <td>0</td>\n",
       "      <td>0</td>\n",
       "      <td>0</td>\n",
       "      <td>08:00</td>\n",
       "      <td>22:00</td>\n",
       "      <td>[mon, tue, wed, thu, fri, sat, sun]</td>\n",
       "      <td>1</td>\n",
       "      <td>1</td>\n",
       "      <td>takeaway</td>\n",
       "      <td>2</td>\n",
       "      <td>cash</td>\n",
       "      <td>NaN</td>\n",
       "      <td>transfer</td>\n",
       "      <td>NaN</td>\n",
       "      <td>1</td>\n",
       "      <td>Calzada de Guines</td>\n",
       "      <td>None</td>\n",
       "      <td>San Miguel del Padron</td>\n",
       "      <td>La Habana</td>\n",
       "      <td>None</td>\n",
       "      <td>Cuba</td>\n",
       "      <td>NaN</td>\n",
       "      <td>others</td>\n",
       "      <td>NaN</td>\n",
       "      <td>NaN</td>\n",
       "      <td>pet_friendly</td>\n",
       "      <td>NaN</td>\n",
       "      <td>NaN</td>\n",
       "      <td>NaN</td>\n",
       "      <td>NaN</td>\n",
       "      <td>NaN</td>\n",
       "      <td>NaN</td>\n",
       "      <td>NaN</td>\n",
       "      <td>NaN</td>\n",
       "      <td>NaN</td>\n",
       "      <td>NaN</td>\n",
       "      <td>Sin FB</td>\n",
       "      <td>Sin Facebook</td>\n",
       "      <td>Sin Instagram</td>\n",
       "      <td>Sin Twitter</td>\n",
       "      <td>Sin Twitter</td>\n",
       "    </tr>\n",
       "    <tr>\n",
       "      <th>223</th>\n",
       "      <td>El Tráfico</td>\n",
       "      <td>None</td>\n",
       "      <td>None</td>\n",
       "      <td>None</td>\n",
       "      <td>restaurant</td>\n",
       "      <td>private</td>\n",
       "      <td>others</td>\n",
       "      <td>20</td>\n",
       "      <td>False</td>\n",
       "      <td>4.5</td>\n",
       "      <td>75</td>\n",
       "      <td>luxurious</td>\n",
       "      <td>None</td>\n",
       "      <td>None</td>\n",
       "      <td>None</td>\n",
       "      <td>0</td>\n",
       "      <td>0</td>\n",
       "      <td>0</td>\n",
       "      <td>10</td>\n",
       "      <td>6</td>\n",
       "      <td>3</td>\n",
       "      <td>1</td>\n",
       "      <td>0</td>\n",
       "      <td>5</td>\n",
       "      <td>0</td>\n",
       "      <td>0</td>\n",
       "      <td>0</td>\n",
       "      <td>0</td>\n",
       "      <td>0</td>\n",
       "      <td>0</td>\n",
       "      <td>0</td>\n",
       "      <td>0</td>\n",
       "      <td>0</td>\n",
       "      <td>13</td>\n",
       "      <td>10:00</td>\n",
       "      <td>22:00</td>\n",
       "      <td>[mon, tue, wed, thu, fri, sat, sun]</td>\n",
       "      <td>2</td>\n",
       "      <td>2</td>\n",
       "      <td>takeaway</td>\n",
       "      <td>3</td>\n",
       "      <td>cash</td>\n",
       "      <td>NaN</td>\n",
       "      <td>transfer</td>\n",
       "      <td>others</td>\n",
       "      <td>0</td>\n",
       "      <td>Calzada de Guines entre 90 y 94</td>\n",
       "      <td>None</td>\n",
       "      <td>San Miguel del Padron</td>\n",
       "      <td>La Habana</td>\n",
       "      <td>None</td>\n",
       "      <td>Cuba</td>\n",
       "      <td>others</td>\n",
       "      <td>others</td>\n",
       "      <td>NaN</td>\n",
       "      <td>NaN</td>\n",
       "      <td>NaN</td>\n",
       "      <td>NaN</td>\n",
       "      <td>NaN</td>\n",
       "      <td>NaN</td>\n",
       "      <td>NaN</td>\n",
       "      <td>NaN</td>\n",
       "      <td>NaN</td>\n",
       "      <td>NaN</td>\n",
       "      <td>online</td>\n",
       "      <td>NaN</td>\n",
       "      <td>NaN</td>\n",
       "      <td>Sin FB</td>\n",
       "      <td>Sin Facebook</td>\n",
       "      <td>Sin Instagram</td>\n",
       "      <td>Sin Twitter</td>\n",
       "      <td>Sin Twitter</td>\n",
       "    </tr>\n",
       "  </tbody>\n",
       "</table>\n",
       "</div>"
      ],
      "text/plain": [
       "                        name     phone                        email  \\\n",
       "5                Don Burguer  56073379                         None   \n",
       "6               El Triangulo      None                         None   \n",
       "10   Magic's Cream & Burguer      None                         None   \n",
       "18                  Entabla2  51744817                         None   \n",
       "25                 VenaVento  52743762                         None   \n",
       "32                   El Biky  78706515                         None   \n",
       "34         El cuarto de Tula      None                         None   \n",
       "45              Fin de Siglo      None                         None   \n",
       "47                  Hamburgo      None                         None   \n",
       "50                La Juliana  78661823                         None   \n",
       "51                    Mimosa  78671790  mercadomimosa2024@gmail.com   \n",
       "52               Mundo Pizza  53372715                         None   \n",
       "63          Jorgito's Pizzas  54031349                         None   \n",
       "70                   Crystal  76823333                         None   \n",
       "76                  La libra  53010844                         None   \n",
       "86         Bar Pacto Secreto  76388121                         None   \n",
       "95              Joe's Burger  76400715                         None   \n",
       "96                  Kafe DVD      None                         None   \n",
       "97                    Kimera  76419083                         None   \n",
       "100                  Lateral  59525677                         None   \n",
       "116                  El Faro      None                         None   \n",
       "121                  El Faro  59477689                         None   \n",
       "127      Restaurante El Pavo  58222469                         None   \n",
       "132                  Allegro   7661010                         None   \n",
       "133          Beer para creer      None                         None   \n",
       "135       Los Doce Apostoles  77937733                         None   \n",
       "139          El Chanchullero      None                         None   \n",
       "144                    Kopas  51566616                         None   \n",
       "158                   Amalfi      None                         None   \n",
       "160              Bom Apetite  72033634                         None   \n",
       "162            Café Clington      None                         None   \n",
       "170                Home Deli      None                         None   \n",
       "202                Fuumiyaki  52832188                         None   \n",
       "207           Doña Lis Pizza   5510909                         None   \n",
       "219             Café Toscano      None                         None   \n",
       "223               El Tráfico      None                         None   \n",
       "\n",
       "                             web    est_type bus_type   cuisine  cap  promo  \\\n",
       "5                           None  restaurant  private     cuban   12  False   \n",
       "6                           None  restaurant  private     cuban   12  False   \n",
       "10                          None  restaurant  private     cuban   12  False   \n",
       "18                          None  restaurant  private     cuban   12  False   \n",
       "25                          None  restaurant  private     cuban   12  False   \n",
       "32                    elbiky.com         bar  private     cuban   12  False   \n",
       "34                          None  restaurant  private    others   12  False   \n",
       "45                          None         bar  private     cuban   12  False   \n",
       "47                          None  restaurant  private    others   12  False   \n",
       "50                          None  restaurant  private     cuban   12  False   \n",
       "51    https://mercadomimosa.com/  restaurant  private   italian   12  False   \n",
       "52                          None  restaurant  private    others   12  False   \n",
       "63                          None  restaurant  private    others   12  False   \n",
       "70                          None  restaurant  private     cuban   12  False   \n",
       "76                          None  restaurant  private     cuban   12  False   \n",
       "86                          None         bar  private     cuban   12  False   \n",
       "95                          None  restaurant  private     cuban   12  False   \n",
       "96                          None  restaurant  private     cuban   12  False   \n",
       "97                          None         bar  private     cuban   12  False   \n",
       "100                         None  restaurant  private    others   12  False   \n",
       "116                         None         bar  private     cuban   12  False   \n",
       "121                         None  restaurant  private     cuban   12  False   \n",
       "127                         None  restaurant  private    others   12  False   \n",
       "132                         None  restaurant    state   italian   20  False   \n",
       "133                         None         bar  private    others   15  False   \n",
       "135                         None  restaurant    state     cuban   60  False   \n",
       "139                         None  restaurant  private     cuban   30  False   \n",
       "144                         None  restaurant  private    others   50  False   \n",
       "158                         None         bar  private   italian   12  False   \n",
       "160                         None  restaurant  private     cuban   12  False   \n",
       "162                         None  restaurant  private    others   12  False   \n",
       "170  https://homedelimercado.com  restaurant  private   italian   12  False   \n",
       "202   https://www.fuumiyaki.com/  restaurant  private  japanese   12  False   \n",
       "207                         None         bar  private    others   12  False   \n",
       "219                         None  restaurant  private     cuban   12  False   \n",
       "223                         None  restaurant  private    others   20  False   \n",
       "\n",
       "     rating  reviews      level  \\\n",
       "5       4.4       75     medium   \n",
       "6       4.5       75     medium   \n",
       "10      4.5       75     medium   \n",
       "18      4.4       75     medium   \n",
       "25      4.5       75   economic   \n",
       "32      4.5       30       high   \n",
       "34      4.5       75     medium   \n",
       "45      5.0       75     medium   \n",
       "47      4.5       75   economic   \n",
       "50      4.5       75     medium   \n",
       "51      4.4       75     medium   \n",
       "52      4.6       60     medium   \n",
       "63      4.0       30       high   \n",
       "70      4.5       75     medium   \n",
       "76      4.5       75   economic   \n",
       "86      4.5       75     medium   \n",
       "95      4.3       75       high   \n",
       "96      4.5       75     medium   \n",
       "97      4.5       75       high   \n",
       "100     4.4       75     medium   \n",
       "116     3.7        0     medium   \n",
       "121     3.7       30   economic   \n",
       "127     4.3       75   economic   \n",
       "132     4.0       75     medium   \n",
       "133     4.5       75     medium   \n",
       "135     4.5       75     medium   \n",
       "139     4.7       75     medium   \n",
       "144     4.3       75       high   \n",
       "158     5.0        0     medium   \n",
       "160     3.5       75     medium   \n",
       "162     4.5       75   economic   \n",
       "170     3.7       75   economic   \n",
       "202     4.2       75       high   \n",
       "207     4.5       30     medium   \n",
       "219     4.5       75       high   \n",
       "223     4.5       75  luxurious   \n",
       "\n",
       "                                                    fb  \\\n",
       "5                                       Don Burguer JJ   \n",
       "6                                                 None   \n",
       "10                                                None   \n",
       "18   https://www.facebook.com/profile.php?id=615584...   \n",
       "25                        URL de la página de Facebook   \n",
       "32                                                None   \n",
       "34                                                None   \n",
       "45                                        Fin de Siglo   \n",
       "47                                                None   \n",
       "50                 https://www.facebook.com/La Juliana   \n",
       "51                                           La Mimosa   \n",
       "52                                                None   \n",
       "63                                                None   \n",
       "70                            Restaurante Cafe Crystal   \n",
       "76                                                None   \n",
       "86   https://www.facebook.com/profile.php?id=100091...   \n",
       "95                                                None   \n",
       "96       https://www.facebook.com/kfedvd/?locale=zh_HK   \n",
       "97                                                None   \n",
       "100           https://www.facebook.com/307308194105213   \n",
       "116                                               None   \n",
       "121                                               None   \n",
       "127                                               None   \n",
       "132                                               None   \n",
       "133                                               None   \n",
       "135                         Restaurante Doce Apostoles   \n",
       "139  https://www.facebook.com/El Chanchullero de Al...   \n",
       "144                                               None   \n",
       "158                                             Amalfi   \n",
       "160                             RESTAURANT BOM APETITE   \n",
       "162                                               None   \n",
       "170                                          Home Deli   \n",
       "202           https://www.facebook.com/fuumiyaki.cuba/   \n",
       "207                                               None   \n",
       "219                                               None   \n",
       "223                                               None   \n",
       "\n",
       "                                                   ig    tw  menu_breakfast  \\\n",
       "5                                     @donburguercuba  None               0   \n",
       "6                                                None  None               0   \n",
       "10                                               None  None               0   \n",
       "18       https://www.instagram.com/entablados.habana/  None               0   \n",
       "25                                               None  None               0   \n",
       "32                                               None  None               0   \n",
       "34                                               None  None               2   \n",
       "45                                               None  None               0   \n",
       "47                                               None  None               0   \n",
       "50     https://www.instagram.com/@lajulianarestaurant  None               0   \n",
       "51                                 @restaurantemimosa  None               0   \n",
       "52                                               None  None               0   \n",
       "63                                               None  None               0   \n",
       "70                                   @cafecrystalcuba  None               0   \n",
       "76                                               None  None               0   \n",
       "86                                               None  None               0   \n",
       "95                                    @joes_burguer00  None               0   \n",
       "96                                               None  None               0   \n",
       "97    https://www.instagram.com/@kimera.bar.cafeteria  None               0   \n",
       "100                                       @lateral.at  None               0   \n",
       "116                                              None  None               0   \n",
       "121                                              None  None               0   \n",
       "127                                              None  None               0   \n",
       "132                                              None  None               0   \n",
       "133                                              None  None               0   \n",
       "135                                              None  None               0   \n",
       "139  https://www.instagram.com/@chanchullerobar.zona6  None               0   \n",
       "144                              hopas_bar_restaurant  None               0   \n",
       "158                         @amalfi_havana_restaurant  None               0   \n",
       "160                             @bom_apetite_1ra_y_70  None               4   \n",
       "162         https://www.instagram.com/@cafe_clington_  None               2   \n",
       "170                                     @homedelicuba  None               0   \n",
       "202        https://www.instagram.com/fuumiyaki/?hl=es  None               0   \n",
       "207                                              None  None               0   \n",
       "219                                              None  None               0   \n",
       "223                                              None  None               0   \n",
       "\n",
       "     menu_appetizer  menu_starters  menu_mains  menu_pizza  menu_pasta  \\\n",
       "5                10              0          17           0           0   \n",
       "6                 4              0           1           0           0   \n",
       "10                7              0           4           0           0   \n",
       "18                0             13          10           0           0   \n",
       "25                7              0          38           0           0   \n",
       "32                0             22          26           1           5   \n",
       "34                0             10          25           0           7   \n",
       "45                4              0           0           8           7   \n",
       "47                0              0           4           0           0   \n",
       "50               27              0          30          20          10   \n",
       "51               15              0          10          26          28   \n",
       "52                0              4           0           6           4   \n",
       "63                0              0           0          14           1   \n",
       "70               13              0          13           2           1   \n",
       "76                2              0           2           0           0   \n",
       "86                9              0           4           0           0   \n",
       "95                0              0           5           0           0   \n",
       "96               14              0          14           2           0   \n",
       "97               14              0          16          11           5   \n",
       "100              22              0          40          53          10   \n",
       "116               0              6           5           7           2   \n",
       "121               0              6           5           7           2   \n",
       "127               0             11           7           8           8   \n",
       "132               0              3           3           4           0   \n",
       "133               0              6          20           2           0   \n",
       "135               0              6           8           0           0   \n",
       "139               4              0           6           0           0   \n",
       "144               0              8          43           0           0   \n",
       "158              11              0           4          10          15   \n",
       "160              44              0          44          18          13   \n",
       "162              14              0          22           0           0   \n",
       "170               3              0           0           2           0   \n",
       "202              10              0          37           0           0   \n",
       "207               0              9          16           4           3   \n",
       "219               3              0           5           8           2   \n",
       "223               0              0          10           6           3   \n",
       "\n",
       "     menu_seafood  menu_sandwich  menu_sides  menu_salads  menu_soups  \\\n",
       "5               0              0          11            0           0   \n",
       "6               0              0           0            0           0   \n",
       "10              0              0           0            0           0   \n",
       "18              9              0           3            1           0   \n",
       "25              0              0           7            0           0   \n",
       "32              0              0          16            4           0   \n",
       "34              7              0           7            2           0   \n",
       "45              0              0           6            0           0   \n",
       "47              0              0           7            0           0   \n",
       "50              0              0           0            0           0   \n",
       "51              5              0          13            0           9   \n",
       "52              0              0           0            0           0   \n",
       "63              0              0           0            0           0   \n",
       "70              9              0           9            4           0   \n",
       "76              0              0           2            0           0   \n",
       "86              0              0           7            0           0   \n",
       "95              0              0           9            0           0   \n",
       "96              0              0           0            0           0   \n",
       "97              0              0           0            0           0   \n",
       "100             0              0           6            1           1   \n",
       "116             0              0           0            0           0   \n",
       "121             0              0           0            0           0   \n",
       "127             7              0           0            0           0   \n",
       "132             0              0           0            0           0   \n",
       "133             0              0           8            0           0   \n",
       "135             0              0           0            0           0   \n",
       "139             4              0           0            0           0   \n",
       "144             0              0           0            0           0   \n",
       "158             0              0           0            4           0   \n",
       "160            22              0          10            0           3   \n",
       "162             0              0           0            0           0   \n",
       "170             0              5           6            0           0   \n",
       "202             0              0           0            0           0   \n",
       "207             0              0           0            0           0   \n",
       "219             0              0           0            0           0   \n",
       "223             1              0           5            0           0   \n",
       "\n",
       "     menu_desserts  menu_cocktails  menu_wines  menu_alcoholic_drinks  \\\n",
       "5                8               0           0                      0   \n",
       "6                0               0           0                      4   \n",
       "10               5               5           2                     12   \n",
       "18               1               8           2                     10   \n",
       "25              10               0           0                      4   \n",
       "32              12              13           3                      5   \n",
       "34               2              50           1                     56   \n",
       "45               0              10           0                     20   \n",
       "47               0               0           0                      0   \n",
       "50               5               0           0                      0   \n",
       "51               8              18           3                     43   \n",
       "52               3               0           0                      1   \n",
       "63               0               0           0                      0   \n",
       "70               4               4           2                      3   \n",
       "76               2               0           0                      0   \n",
       "86               0              24           0                     46   \n",
       "95               1               0           0                      1   \n",
       "96               0               0           0                      1   \n",
       "97               3              17           0                      1   \n",
       "100              6              41           0                     14   \n",
       "116              0               0           0                      0   \n",
       "121              0               0           0                      0   \n",
       "127              1               0           0                      3   \n",
       "132              0               0           0                      0   \n",
       "133              0               0           0                      0   \n",
       "135              0               0           1                      7   \n",
       "139              1              11           2                      9   \n",
       "144              0               0           0                      6   \n",
       "158              6              13           2                      1   \n",
       "160              0               0           0                      0   \n",
       "162             21               0           0                      6   \n",
       "170              1               0           0                      3   \n",
       "202              2              18           2                     13   \n",
       "207              2               0           0                      5   \n",
       "219              0               0           0                      0   \n",
       "223              0               0           0                      0   \n",
       "\n",
       "     menu_non_alcoholic_drinks  menu_infusions  menu_water  menu_others  \\\n",
       "5                            6               0           0            0   \n",
       "6                            5               0           0            0   \n",
       "10                           4               0           0            0   \n",
       "18                          11               5           1            0   \n",
       "25                           6               7           0            0   \n",
       "32                          15               8           3            0   \n",
       "34                           8               5           3            0   \n",
       "45                           1               0           0            0   \n",
       "47                           0               0           0            0   \n",
       "50                           9               0           0            0   \n",
       "51                          11               9           2            0   \n",
       "52                           5               0           0            0   \n",
       "63                           0               0           0           16   \n",
       "70                           7               4           1           17   \n",
       "76                           2               0           0            0   \n",
       "86                           8               0           1            0   \n",
       "95                           3               0           0            0   \n",
       "96                           4               0           0            0   \n",
       "97                           8               5           0            0   \n",
       "100                         13               4           1           16   \n",
       "116                          0               0           0            0   \n",
       "121                          0               0           0            0   \n",
       "127                          7               0           0            0   \n",
       "132                          0               0           0            0   \n",
       "133                          0               0           0            0   \n",
       "135                          4               0           0            0   \n",
       "139                          5               0           2            0   \n",
       "144                          0               0           0            0   \n",
       "158                          4               0           2            0   \n",
       "160                          0               0           0            0   \n",
       "162                          7               0           4            2   \n",
       "170                          2               4           0            0   \n",
       "202                          5               3           0            0   \n",
       "207                          9               0           1            0   \n",
       "219                          0               0           0            0   \n",
       "223                          0               0           0           13   \n",
       "\n",
       "    hours_open hours_close                           hours_days  \\\n",
       "5        10:00       23:00  [mon, tue, wed, thu, fri, sat, sun]   \n",
       "6        08:00       24:00  [mon, tue, wed, thu, fri, sat, sun]   \n",
       "10       11:00       22:00  [mon, tue, wed, thu, fri, sat, sun]   \n",
       "18        None        None  [mon, tue, wed, thu, fri, sat, sun]   \n",
       "25       12:00       24:00  [mon, tue, wed, thu, fri, sat, sun]   \n",
       "32       08:00       23:00  [mon, tue, wed, thu, fri, sat, sun]   \n",
       "34       08:00       23:00  [mon, tue, wed, thu, fri, sat, sun]   \n",
       "45       10:00       22:00  [mon, tue, wed, thu, fri, sat, sun]   \n",
       "47       09:00       19:00  [mon, tue, wed, thu, fri, sat, sun]   \n",
       "50       10:00       24:00  [mon, tue, wed, thu, fri, sat, sun]   \n",
       "51       12:00       23:00  [mon, tue, wed, thu, fri, sat, sun]   \n",
       "52       12:00       22:00  [mon, tue, wed, thu, fri, sat, sun]   \n",
       "63       11:00       23:00  [mon, tue, wed, thu, fri, sat, sun]   \n",
       "70       11:00       24:00  [mon, tue, wed, thu, fri, sat, sun]   \n",
       "76       11:00       24:00  [mon, tue, wed, thu, fri, sat, sun]   \n",
       "86       12:00       03:00  [mon, tue, wed, thu, fri, sat, sun]   \n",
       "95       08:00       22:00  [mon, tue, wed, thu, fri, sat, sun]   \n",
       "96       00:00       24:00  [mon, tue, wed, thu, fri, sat, sun]   \n",
       "97       12:00       01:00  [mon, tue, wed, thu, fri, sat, sun]   \n",
       "100      10:00       23:00  [mon, tue, wed, thu, fri, sat, sun]   \n",
       "116      09:00       23:00  [mon, tue, wed, thu, fri, sat, sun]   \n",
       "121      09:00       23:00  [mon, tue, wed, thu, fri, sat, sun]   \n",
       "127      12:00       23:00  [mon, tue, wed, thu, fri, sat, sun]   \n",
       "132      12:00       21:00  [mon, tue, wed, thu, fri, sat, sun]   \n",
       "133      10:00       21:00  [mon, tue, wed, thu, fri, sat, sun]   \n",
       "135      12:00       24:00  [mon, tue, wed, thu, fri, sat, sun]   \n",
       "139      12:00       00:00  [mon, tue, wed, thu, fri, sat, sun]   \n",
       "144      10:00       23:30  [mon, tue, wed, thu, fri, sat, sun]   \n",
       "158      12:00       22:30  [mon, tue, wed, thu, fri, sat, sun]   \n",
       "160      09:00       04:00  [mon, tue, wed, thu, fri, sat, sun]   \n",
       "162      08:00       18:00  [mon, tue, wed, thu, fri, sat, sun]   \n",
       "170      09:00       21:00  [mon, tue, wed, thu, fri, sat, sun]   \n",
       "202      12:00       23:50  [mon, tue, wed, thu, fri, sat, sun]   \n",
       "207      10:30       24:00  [mon, tue, wed, thu, fri, sat, sun]   \n",
       "219      08:00       22:00  [mon, tue, wed, thu, fri, sat, sun]   \n",
       "223      10:00       22:00  [mon, tue, wed, thu, fri, sat, sun]   \n",
       "\n",
       "     reservation_qantity  delivery_qantity delivery_takeaway  payment_qantity  \\\n",
       "5                      1                 1               NaN                3   \n",
       "6                      1                 1               NaN                3   \n",
       "10                     1                 1               NaN                2   \n",
       "18                     2                 2          takeaway                1   \n",
       "25                     1                 1               NaN                3   \n",
       "32                     2                 3          takeaway                3   \n",
       "34                     1                 1               NaN                4   \n",
       "45                     1                 1               NaN                2   \n",
       "47                     1                 1               NaN                2   \n",
       "50                     1                 2          takeaway                2   \n",
       "51                     1                 2          takeaway                2   \n",
       "52                     1                 2          takeaway                2   \n",
       "63                     1                 1               NaN                3   \n",
       "70                     1                 1               NaN                3   \n",
       "76                     1                 1               NaN                3   \n",
       "86                     1                 2          takeaway                3   \n",
       "95                     1                 2          takeaway                3   \n",
       "96                     1                 1               NaN                2   \n",
       "97                     1                 1               NaN                3   \n",
       "100                    2                 2          takeaway                2   \n",
       "116                    1                 0               NaN                2   \n",
       "121                    1                 0               NaN                2   \n",
       "127                    2                 1               NaN                2   \n",
       "132                    1                 1               NaN                2   \n",
       "133                    1                 1               NaN                3   \n",
       "135                    1                 1               NaN                1   \n",
       "139                    1                 2          takeaway                3   \n",
       "144                    3                 2          takeaway                3   \n",
       "158                    1                 1               NaN                2   \n",
       "160                    1                 2          takeaway                2   \n",
       "162                    1                 1               NaN                2   \n",
       "170                    1                 2          takeaway                2   \n",
       "202                    1                 2               NaN                3   \n",
       "207                    1                 0               NaN                2   \n",
       "219                    1                 1          takeaway                2   \n",
       "223                    2                 2          takeaway                3   \n",
       "\n",
       "    payment_cash payment_card payment_transfer payment_others  \\\n",
       "5           cash          NaN         transfer         others   \n",
       "6           cash          NaN         transfer         others   \n",
       "10          cash          NaN         transfer            NaN   \n",
       "18          cash          NaN              NaN            NaN   \n",
       "25          cash          NaN         transfer         others   \n",
       "32          cash         card              NaN         others   \n",
       "34          cash         card         transfer         others   \n",
       "45          cash          NaN         transfer            NaN   \n",
       "47          cash          NaN         transfer            NaN   \n",
       "50          cash          NaN         transfer            NaN   \n",
       "51          cash          NaN         transfer            NaN   \n",
       "52          cash          NaN         transfer            NaN   \n",
       "63          cash         card              NaN         others   \n",
       "70          cash          NaN         transfer         others   \n",
       "76          cash          NaN         transfer         others   \n",
       "86          cash         card         transfer            NaN   \n",
       "95          cash          NaN         transfer         others   \n",
       "96          cash          NaN         transfer            NaN   \n",
       "97          cash          NaN         transfer         others   \n",
       "100         cash          NaN         transfer            NaN   \n",
       "116         cash          NaN         transfer            NaN   \n",
       "121         cash          NaN         transfer            NaN   \n",
       "127         cash          NaN         transfer            NaN   \n",
       "132         cash         card              NaN            NaN   \n",
       "133         cash         card              NaN         others   \n",
       "135          NaN         card              NaN            NaN   \n",
       "139         cash         card              NaN         others   \n",
       "144         cash         card         transfer            NaN   \n",
       "158         cash          NaN         transfer            NaN   \n",
       "160         cash          NaN         transfer            NaN   \n",
       "162         cash          NaN         transfer            NaN   \n",
       "170         cash          NaN         transfer            NaN   \n",
       "202         cash          NaN         transfer         others   \n",
       "207         cash          NaN         transfer            NaN   \n",
       "219         cash          NaN         transfer            NaN   \n",
       "223         cash          NaN         transfer         others   \n",
       "\n",
       "     amenities_qantity                                         loc_street  \\\n",
       "5                    0  Calzada de 10 de Octubre, entre  Aranguren y S...   \n",
       "6                    0  Esquina Calzada de 10 de octubre y Calzada de ...   \n",
       "10                   0   Calzada de 10 de Octubre, % Santa Amalia y Arnao   \n",
       "18                   1  Carretera Terminal 2, Aeropuerto Internacional...   \n",
       "25                   0                               Calle 10, esq. Vento   \n",
       "32                   0            Infanta Nº412 e/ San Lázaro y Concordia   \n",
       "34                   0             San Lazaro entre San Fransico y Espada   \n",
       "45                   0                                               None   \n",
       "47                   0                                               None   \n",
       "50                   1                                               None   \n",
       "51                   0                                               None   \n",
       "52                   0                                               None   \n",
       "63                   0             Pedroso entre Infanta y Cruz del Pader   \n",
       "70                   0                          Avenida 101 entre 18 y 20   \n",
       "76                   0                            calle 105 entre 20 y 26   \n",
       "86                   0  Calzada de 10 de Octubre #417 entre Calzada de...   \n",
       "95                   0                Esquina Mayia Rodriguez y Aranguren   \n",
       "96                   0       San Francisco entre 10 de Octubre y Delicias   \n",
       "97                   0  #311, Calle Lacret entre Juan Bruno Zallas y C...   \n",
       "100                  0           Ave. Acosta #467, esq. Goicuría, Víbora.   \n",
       "116                  0                                               None   \n",
       "121                  0                                       Maximo Gomez   \n",
       "127                  0                                               None   \n",
       "132                  0              Paseo de la Villa, Villa Panamericana   \n",
       "133                  0                    Centro comercial Falcon, Alamar   \n",
       "135                  0               Complejo Morro Cabana,Via Monumental   \n",
       "139                  1   #162D entre Calle 5G y Calle 162, zona 6, Alamar   \n",
       "144                  0                       Esquina de 5ta Avenida, #482   \n",
       "158                  1                                               None   \n",
       "160                  0                                               None   \n",
       "162                  0                                               None   \n",
       "170                  1                                               None   \n",
       "202                  0                             Ave 26/23 y 25, Vedado   \n",
       "207                  0                                     1169 A Neptuno   \n",
       "219                  1                                  Calzada de Guines   \n",
       "223                  0                    Calzada de Guines entre 90 y 94   \n",
       "\n",
       "         loc_council            loc_municipe loc_province loc_zip loc_country  \\\n",
       "5           La Palma          Arroyo Naranjo    La Habana    None        Cuba   \n",
       "6           La Palma          Arroyo Naranjo    La Habana    None        Cuba   \n",
       "10              None          Arroyo Naranjo    La Habana    None        Cuba   \n",
       "18   Calixto Sanchez                 Boyeros    La Habana    None        Cuba   \n",
       "25              None                 Boyeros    La Habana    None        Cuba   \n",
       "32              None           Centro Habana    La Habana    None        Cuba   \n",
       "34              None           Centro Habana    La Habana    None        Cuba   \n",
       "45              None           Centro Habana    La Habana    None        Cuba   \n",
       "47              None           Centro Habana    La Habana    None        Cuba   \n",
       "50              None           Centro Habana    La Habana    None        Cuba   \n",
       "51              None           Centro Habana    La Habana    None        Cuba   \n",
       "52              None           Centro Habana    La Habana    None        Cuba   \n",
       "63              None           Centro Habana    La Habana    None        Cuba   \n",
       "70            centro                 Cotorro    La Habana    None        Cuba   \n",
       "76              None                 Cotorro    La Habana    None        Cuba   \n",
       "86              None         Diez de Octubre    La Habana    None        Cuba   \n",
       "95              None         Diez de Octubre    La Habana    None        Cuba   \n",
       "96              None         Diez de Octubre    La Habana    None        Cuba   \n",
       "97     Santos Suarez         Diez de Octubre    La Habana    None        Cuba   \n",
       "100             None         Diez de Octubre    La Habana    None        Cuba   \n",
       "116             None              Guanabacoa    La Habana    None        Cuba   \n",
       "121             None              Guanabacoa    La Habana    None        Cuba   \n",
       "127             None              Guanabacoa    La Habana    None        Cuba   \n",
       "132             None         Habana del Este    La Habana    None        Cuba   \n",
       "133             None         Habana del Este    La Habana    None        Cuba   \n",
       "135             None         Habana del Este    La Habana    None        Cuba   \n",
       "139             None         Habana del Este    La Habana    None        Cuba   \n",
       "144             None         Habana del Este    La Habana    None        Cuba   \n",
       "158             None                   Playa    La Habana    None        Cuba   \n",
       "160             None                   Playa    La Habana    None        Cuba   \n",
       "162             None                   Playa    La Habana    None        Cuba   \n",
       "170             None                   Playa    La Habana    None        Cuba   \n",
       "202             None  Plaza de la Revolucion    La Habana    None        Cuba   \n",
       "207             None  Plaza de la Revolucion    La Habana    None        Cuba   \n",
       "219             None   San Miguel del Padron    La Habana    None        Cuba   \n",
       "223             None   San Miguel del Padron    La Habana    None        Cuba   \n",
       "\n",
       "    delivery_others reservation_others delivery_home reservation_phone  \\\n",
       "5            others             others           NaN               NaN   \n",
       "6            others             others           NaN               NaN   \n",
       "10           others             others           NaN               NaN   \n",
       "18           others             others           NaN             phone   \n",
       "25           others             others           NaN               NaN   \n",
       "32           others             others          home             phone   \n",
       "34           others             others           NaN               NaN   \n",
       "45           others             others           NaN               NaN   \n",
       "47           others             others           NaN               NaN   \n",
       "50              NaN             others          home               NaN   \n",
       "51              NaN             others          home               NaN   \n",
       "52              NaN             others          home               NaN   \n",
       "63              NaN             others          home               NaN   \n",
       "70              NaN             others          home               NaN   \n",
       "76           others             others           NaN               NaN   \n",
       "86              NaN             others          home               NaN   \n",
       "95           others             others           NaN               NaN   \n",
       "96           others             others           NaN               NaN   \n",
       "97           others             others           NaN               NaN   \n",
       "100             NaN             others          home             phone   \n",
       "116             NaN             others           NaN               NaN   \n",
       "121             NaN             others           NaN               NaN   \n",
       "127             NaN             others          home             phone   \n",
       "132          others             others           NaN               NaN   \n",
       "133          others             others           NaN               NaN   \n",
       "135          others             others           NaN               NaN   \n",
       "139             NaN             others          home               NaN   \n",
       "144             NaN             others          home             phone   \n",
       "158             NaN             others          home               NaN   \n",
       "160             NaN             others          home               NaN   \n",
       "162          others             others           NaN               NaN   \n",
       "170             NaN             others          home               NaN   \n",
       "202          others             others          home               NaN   \n",
       "207             NaN             others           NaN               NaN   \n",
       "219             NaN             others           NaN               NaN   \n",
       "223          others             others           NaN               NaN   \n",
       "\n",
       "    amenities_pet_friendly amenities_outdoor      loc_x      loc_y  \\\n",
       "5                      NaN               NaN        NaN        NaN   \n",
       "6                      NaN               NaN        NaN        NaN   \n",
       "10                     NaN               NaN        NaN        NaN   \n",
       "18                     NaN           outdoor        NaN        NaN   \n",
       "25                     NaN               NaN        NaN        NaN   \n",
       "32                     NaN               NaN        NaN        NaN   \n",
       "34                     NaN               NaN        NaN        NaN   \n",
       "45                     NaN               NaN  23.136227 -82.362069   \n",
       "47                     NaN               NaN  23.131236 -82.376301   \n",
       "50            pet_friendly               NaN  23.135543 -82.364457   \n",
       "51                     NaN               NaN  23.134370 -82.368259   \n",
       "52                     NaN               NaN        NaN        NaN   \n",
       "63                     NaN               NaN        NaN        NaN   \n",
       "70                     NaN               NaN        NaN        NaN   \n",
       "76                     NaN               NaN        NaN        NaN   \n",
       "86                     NaN               NaN        NaN        NaN   \n",
       "95                     NaN               NaN        NaN        NaN   \n",
       "96                     NaN               NaN        NaN        NaN   \n",
       "97                     NaN               NaN        NaN        NaN   \n",
       "100                    NaN               NaN        NaN        NaN   \n",
       "116                    NaN               NaN        NaN        NaN   \n",
       "121                    NaN               NaN        NaN        NaN   \n",
       "127                    NaN               NaN        NaN        NaN   \n",
       "132                    NaN               NaN        NaN        NaN   \n",
       "133                    NaN               NaN        NaN        NaN   \n",
       "135                    NaN               NaN        NaN        NaN   \n",
       "139           pet_friendly               NaN        NaN        NaN   \n",
       "144                    NaN               NaN        NaN        NaN   \n",
       "158           pet_friendly               NaN  23.118858 -82.429521   \n",
       "160                    NaN               NaN  23.113345 -82.439841   \n",
       "162                    NaN               NaN  23.115259 -82.434188   \n",
       "170           pet_friendly               NaN  23.102014 -82.430685   \n",
       "202                    NaN               NaN  23.122261 -82.405080   \n",
       "207                    NaN               NaN        NaN        NaN   \n",
       "219           pet_friendly               NaN        NaN        NaN   \n",
       "223                    NaN               NaN        NaN        NaN   \n",
       "\n",
       "     menu_coffee  menu_juices  menu_smoothie  menu_ice_cream_shake  \\\n",
       "5            NaN          NaN            NaN                   NaN   \n",
       "6            NaN          NaN            NaN                   NaN   \n",
       "10           NaN          NaN            NaN                   NaN   \n",
       "18           NaN          NaN            NaN                   NaN   \n",
       "25           NaN          NaN            NaN                   NaN   \n",
       "32           NaN          NaN            NaN                   NaN   \n",
       "34           NaN          NaN            NaN                   NaN   \n",
       "45           NaN          NaN            NaN                   NaN   \n",
       "47           NaN          NaN            NaN                   NaN   \n",
       "50           NaN          NaN            NaN                   NaN   \n",
       "51           NaN          NaN            NaN                   NaN   \n",
       "52           NaN          NaN            NaN                   NaN   \n",
       "63           NaN          NaN            NaN                   NaN   \n",
       "70           NaN          NaN            NaN                   NaN   \n",
       "76           NaN          NaN            NaN                   NaN   \n",
       "86           NaN          NaN            NaN                   NaN   \n",
       "95           NaN          NaN            NaN                   NaN   \n",
       "96           NaN          NaN            NaN                   NaN   \n",
       "97           NaN          NaN            NaN                   NaN   \n",
       "100          NaN          NaN            NaN                   NaN   \n",
       "116          NaN          NaN            NaN                   NaN   \n",
       "121          NaN          NaN            NaN                   NaN   \n",
       "127          NaN          NaN            NaN                   NaN   \n",
       "132          NaN          NaN            NaN                   NaN   \n",
       "133          NaN          NaN            NaN                   NaN   \n",
       "135          NaN          NaN            NaN                   NaN   \n",
       "139          NaN          NaN            NaN                   NaN   \n",
       "144          NaN          NaN            NaN                   NaN   \n",
       "158          NaN          NaN            NaN                   NaN   \n",
       "160          NaN          NaN            NaN                   NaN   \n",
       "162          7.0          NaN            NaN                   NaN   \n",
       "170          NaN          NaN            NaN                   NaN   \n",
       "202          NaN          NaN            NaN                   NaN   \n",
       "207          NaN          NaN            NaN                   NaN   \n",
       "219          NaN          NaN            NaN                   NaN   \n",
       "223          NaN          NaN            NaN                   NaN   \n",
       "\n",
       "    reservation_online amenities_live_music amenities_wifi categoria  \\\n",
       "5                  NaN                  NaN            NaN    Con FB   \n",
       "6                  NaN                  NaN            NaN    Sin FB   \n",
       "10                 NaN                  NaN            NaN    Sin FB   \n",
       "18                 NaN                  NaN            NaN    Con FB   \n",
       "25                 NaN                  NaN            NaN    Con FB   \n",
       "32                 NaN                  NaN            NaN    Sin FB   \n",
       "34                 NaN                  NaN            NaN    Sin FB   \n",
       "45                 NaN                  NaN            NaN    Con FB   \n",
       "47                 NaN                  NaN            NaN    Sin FB   \n",
       "50                 NaN                  NaN            NaN    Con FB   \n",
       "51                 NaN                  NaN            NaN    Con FB   \n",
       "52                 NaN                  NaN            NaN    Sin FB   \n",
       "63                 NaN                  NaN            NaN    Sin FB   \n",
       "70                 NaN                  NaN            NaN    Con FB   \n",
       "76                 NaN                  NaN            NaN    Sin FB   \n",
       "86                 NaN                  NaN            NaN    Con FB   \n",
       "95                 NaN                  NaN            NaN    Sin FB   \n",
       "96                 NaN                  NaN            NaN    Con FB   \n",
       "97                 NaN                  NaN            NaN    Sin FB   \n",
       "100                NaN                  NaN            NaN    Con FB   \n",
       "116                NaN                  NaN            NaN    Sin FB   \n",
       "121                NaN                  NaN            NaN    Sin FB   \n",
       "127                NaN                  NaN            NaN    Sin FB   \n",
       "132                NaN                  NaN            NaN    Sin FB   \n",
       "133                NaN                  NaN            NaN    Sin FB   \n",
       "135                NaN                  NaN            NaN    Con FB   \n",
       "139                NaN                  NaN            NaN    Con FB   \n",
       "144             online                  NaN            NaN    Sin FB   \n",
       "158                NaN                  NaN            NaN    Con FB   \n",
       "160                NaN                  NaN            NaN    Con FB   \n",
       "162                NaN                  NaN            NaN    Sin FB   \n",
       "170                NaN                  NaN            NaN    Con FB   \n",
       "202                NaN                  NaN            NaN    Con FB   \n",
       "207                NaN                  NaN            NaN    Sin FB   \n",
       "219                NaN                  NaN            NaN    Sin FB   \n",
       "223             online                  NaN            NaN    Sin FB   \n",
       "\n",
       "        clasif_fb      clasif_ig    clasif_tw   clasif_tw2  \n",
       "5    Con Facebook  Con Instagram  Sin Twitter  Sin Twitter  \n",
       "6    Sin Facebook  Sin Instagram  Sin Twitter  Sin Twitter  \n",
       "10   Sin Facebook  Sin Instagram  Sin Twitter  Sin Twitter  \n",
       "18   Con Facebook  Con Instagram  Sin Twitter  Sin Twitter  \n",
       "25   Con Facebook  Sin Instagram  Sin Twitter  Sin Twitter  \n",
       "32   Sin Facebook  Sin Instagram  Sin Twitter  Sin Twitter  \n",
       "34   Sin Facebook  Sin Instagram  Sin Twitter  Sin Twitter  \n",
       "45   Con Facebook  Sin Instagram  Sin Twitter  Sin Twitter  \n",
       "47   Sin Facebook  Sin Instagram  Sin Twitter  Sin Twitter  \n",
       "50   Con Facebook  Con Instagram  Sin Twitter  Sin Twitter  \n",
       "51   Con Facebook  Con Instagram  Sin Twitter  Sin Twitter  \n",
       "52   Sin Facebook  Sin Instagram  Sin Twitter  Sin Twitter  \n",
       "63   Sin Facebook  Sin Instagram  Sin Twitter  Sin Twitter  \n",
       "70   Con Facebook  Con Instagram  Sin Twitter  Sin Twitter  \n",
       "76   Sin Facebook  Sin Instagram  Sin Twitter  Sin Twitter  \n",
       "86   Con Facebook  Sin Instagram  Sin Twitter  Sin Twitter  \n",
       "95   Sin Facebook  Con Instagram  Sin Twitter  Sin Twitter  \n",
       "96   Con Facebook  Sin Instagram  Sin Twitter  Sin Twitter  \n",
       "97   Sin Facebook  Con Instagram  Sin Twitter  Sin Twitter  \n",
       "100  Con Facebook  Con Instagram  Sin Twitter  Sin Twitter  \n",
       "116  Sin Facebook  Sin Instagram  Sin Twitter  Sin Twitter  \n",
       "121  Sin Facebook  Sin Instagram  Sin Twitter  Sin Twitter  \n",
       "127  Sin Facebook  Sin Instagram  Sin Twitter  Sin Twitter  \n",
       "132  Sin Facebook  Sin Instagram  Sin Twitter  Sin Twitter  \n",
       "133  Sin Facebook  Sin Instagram  Sin Twitter  Sin Twitter  \n",
       "135  Con Facebook  Sin Instagram  Sin Twitter  Sin Twitter  \n",
       "139  Con Facebook  Con Instagram  Sin Twitter  Sin Twitter  \n",
       "144  Sin Facebook  Con Instagram  Sin Twitter  Sin Twitter  \n",
       "158  Con Facebook  Con Instagram  Sin Twitter  Sin Twitter  \n",
       "160  Con Facebook  Con Instagram  Sin Twitter  Sin Twitter  \n",
       "162  Sin Facebook  Con Instagram  Sin Twitter  Sin Twitter  \n",
       "170  Con Facebook  Con Instagram  Sin Twitter  Sin Twitter  \n",
       "202  Con Facebook  Con Instagram  Sin Twitter  Sin Twitter  \n",
       "207  Sin Facebook  Sin Instagram  Sin Twitter  Sin Twitter  \n",
       "219  Sin Facebook  Sin Instagram  Sin Twitter  Sin Twitter  \n",
       "223  Sin Facebook  Sin Instagram  Sin Twitter  Sin Twitter  "
      ]
     },
     "metadata": {},
     "output_type": "display_data"
    }
   ],
   "source": [
    "df_reservation_online = df[df['reservation_online'].notna()]\n",
    "df_reservation_phone = df[df['reservation_phone'].notna()]\n",
    "df_reservation_others = df[df['reservation_others'].notna()]\n",
    "\n",
    "df_reservation = pd.DataFrame(\n",
    "    {\n",
    "        'Método de Reserva': ['Online', 'Teléfono', 'Otros'],\n",
    "        'Media de Puntuacion': [\n",
    "            df_reservation_online['rating'].mean(),\n",
    "            df_reservation_phone['rating'].mean(),\n",
    "            df_reservation_others['rating'].mean()\n",
    "        ],\n",
    "        'Cantidad de Puntuacion': [\n",
    "            df_reservation_online['reviews'].sum(),\n",
    "            df_reservation_phone['reviews'].sum(),\n",
    "            df_reservation_others['reviews'].sum()\n",
    "        ],\n",
    "        'reservation_counts': [df_reservation_online['reservation_online'].count(), df_reservation_phone['reservation_phone'].count(), df_reservation_others['reservation_others'].count()]\n",
    "    }\n",
    ")\n",
    "\n",
    "fig_rating = px.bar(\n",
    "    df_reservation,\n",
    "    x='Método de Reserva',\n",
    "    y='Media de Puntuacion',\n",
    "    title='Media de puntuacion por Método de Reserva',\n",
    "    hover_data=['reservation_counts', 'Cantidad de Puntuacion'],\n",
    "    height=350\n",
    ")\n",
    "\n",
    "fig_reviews = px.bar(\n",
    "    df_reservation,\n",
    "    x='Método de Reserva',\n",
    "    y='Cantidad de Puntuacion',\n",
    "    title='Cantidad de Puntuacion por Método de Reserva',\n",
    "    hover_data=['reservation_counts', 'Media de Puntuacion'],\n",
    "    height=350\n",
    ")\n",
    "\n",
    "# Mostrar los gráficos\n",
    "fig_rating.show()\n",
    "fig_reviews.show()"
   ]
  },
  {
   "cell_type": "code",
   "execution_count": null,
   "id": "6a23b869",
   "metadata": {},
   "outputs": [
    {
     "data": {
      "application/vnd.plotly.v1+json": {
       "config": {
        "plotlyServerURL": "https://plot.ly"
       },
       "data": [
        {
         "alignmentgroup": "True",
         "hovertemplate": "Método de Reserva=%{x}<br>Media de Rating=%{y}<extra></extra>",
         "legendgroup": "",
         "marker": {
          "color": "#636efa",
          "pattern": {
           "shape": ""
          }
         },
         "name": "",
         "offsetgroup": "",
         "orientation": "v",
         "showlegend": false,
         "textposition": "auto",
         "type": "bar",
         "x": [
          "Online",
          "Teléfono",
          "Otros"
         ],
         "xaxis": "x",
         "y": [
          4.476470588235294,
          4.459375,
          4.377777777777777
         ],
         "yaxis": "y"
        }
       ],
       "layout": {
        "barmode": "relative",
        "height": 400,
        "legend": {
         "tracegroupgap": 0
        },
        "template": {
         "data": {
          "bar": [
           {
            "error_x": {
             "color": "#2a3f5f"
            },
            "error_y": {
             "color": "#2a3f5f"
            },
            "marker": {
             "line": {
              "color": "#E5ECF6",
              "width": 0.5
             },
             "pattern": {
              "fillmode": "overlay",
              "size": 10,
              "solidity": 0.2
             }
            },
            "type": "bar"
           }
          ],
          "barpolar": [
           {
            "marker": {
             "line": {
              "color": "#E5ECF6",
              "width": 0.5
             },
             "pattern": {
              "fillmode": "overlay",
              "size": 10,
              "solidity": 0.2
             }
            },
            "type": "barpolar"
           }
          ],
          "carpet": [
           {
            "aaxis": {
             "endlinecolor": "#2a3f5f",
             "gridcolor": "white",
             "linecolor": "white",
             "minorgridcolor": "white",
             "startlinecolor": "#2a3f5f"
            },
            "baxis": {
             "endlinecolor": "#2a3f5f",
             "gridcolor": "white",
             "linecolor": "white",
             "minorgridcolor": "white",
             "startlinecolor": "#2a3f5f"
            },
            "type": "carpet"
           }
          ],
          "choropleth": [
           {
            "colorbar": {
             "outlinewidth": 0,
             "ticks": ""
            },
            "type": "choropleth"
           }
          ],
          "contour": [
           {
            "colorbar": {
             "outlinewidth": 0,
             "ticks": ""
            },
            "colorscale": [
             [
              0,
              "#0d0887"
             ],
             [
              0.1111111111111111,
              "#46039f"
             ],
             [
              0.2222222222222222,
              "#7201a8"
             ],
             [
              0.3333333333333333,
              "#9c179e"
             ],
             [
              0.4444444444444444,
              "#bd3786"
             ],
             [
              0.5555555555555556,
              "#d8576b"
             ],
             [
              0.6666666666666666,
              "#ed7953"
             ],
             [
              0.7777777777777778,
              "#fb9f3a"
             ],
             [
              0.8888888888888888,
              "#fdca26"
             ],
             [
              1,
              "#f0f921"
             ]
            ],
            "type": "contour"
           }
          ],
          "contourcarpet": [
           {
            "colorbar": {
             "outlinewidth": 0,
             "ticks": ""
            },
            "type": "contourcarpet"
           }
          ],
          "heatmap": [
           {
            "colorbar": {
             "outlinewidth": 0,
             "ticks": ""
            },
            "colorscale": [
             [
              0,
              "#0d0887"
             ],
             [
              0.1111111111111111,
              "#46039f"
             ],
             [
              0.2222222222222222,
              "#7201a8"
             ],
             [
              0.3333333333333333,
              "#9c179e"
             ],
             [
              0.4444444444444444,
              "#bd3786"
             ],
             [
              0.5555555555555556,
              "#d8576b"
             ],
             [
              0.6666666666666666,
              "#ed7953"
             ],
             [
              0.7777777777777778,
              "#fb9f3a"
             ],
             [
              0.8888888888888888,
              "#fdca26"
             ],
             [
              1,
              "#f0f921"
             ]
            ],
            "type": "heatmap"
           }
          ],
          "heatmapgl": [
           {
            "colorbar": {
             "outlinewidth": 0,
             "ticks": ""
            },
            "colorscale": [
             [
              0,
              "#0d0887"
             ],
             [
              0.1111111111111111,
              "#46039f"
             ],
             [
              0.2222222222222222,
              "#7201a8"
             ],
             [
              0.3333333333333333,
              "#9c179e"
             ],
             [
              0.4444444444444444,
              "#bd3786"
             ],
             [
              0.5555555555555556,
              "#d8576b"
             ],
             [
              0.6666666666666666,
              "#ed7953"
             ],
             [
              0.7777777777777778,
              "#fb9f3a"
             ],
             [
              0.8888888888888888,
              "#fdca26"
             ],
             [
              1,
              "#f0f921"
             ]
            ],
            "type": "heatmapgl"
           }
          ],
          "histogram": [
           {
            "marker": {
             "pattern": {
              "fillmode": "overlay",
              "size": 10,
              "solidity": 0.2
             }
            },
            "type": "histogram"
           }
          ],
          "histogram2d": [
           {
            "colorbar": {
             "outlinewidth": 0,
             "ticks": ""
            },
            "colorscale": [
             [
              0,
              "#0d0887"
             ],
             [
              0.1111111111111111,
              "#46039f"
             ],
             [
              0.2222222222222222,
              "#7201a8"
             ],
             [
              0.3333333333333333,
              "#9c179e"
             ],
             [
              0.4444444444444444,
              "#bd3786"
             ],
             [
              0.5555555555555556,
              "#d8576b"
             ],
             [
              0.6666666666666666,
              "#ed7953"
             ],
             [
              0.7777777777777778,
              "#fb9f3a"
             ],
             [
              0.8888888888888888,
              "#fdca26"
             ],
             [
              1,
              "#f0f921"
             ]
            ],
            "type": "histogram2d"
           }
          ],
          "histogram2dcontour": [
           {
            "colorbar": {
             "outlinewidth": 0,
             "ticks": ""
            },
            "colorscale": [
             [
              0,
              "#0d0887"
             ],
             [
              0.1111111111111111,
              "#46039f"
             ],
             [
              0.2222222222222222,
              "#7201a8"
             ],
             [
              0.3333333333333333,
              "#9c179e"
             ],
             [
              0.4444444444444444,
              "#bd3786"
             ],
             [
              0.5555555555555556,
              "#d8576b"
             ],
             [
              0.6666666666666666,
              "#ed7953"
             ],
             [
              0.7777777777777778,
              "#fb9f3a"
             ],
             [
              0.8888888888888888,
              "#fdca26"
             ],
             [
              1,
              "#f0f921"
             ]
            ],
            "type": "histogram2dcontour"
           }
          ],
          "mesh3d": [
           {
            "colorbar": {
             "outlinewidth": 0,
             "ticks": ""
            },
            "type": "mesh3d"
           }
          ],
          "parcoords": [
           {
            "line": {
             "colorbar": {
              "outlinewidth": 0,
              "ticks": ""
             }
            },
            "type": "parcoords"
           }
          ],
          "pie": [
           {
            "automargin": true,
            "type": "pie"
           }
          ],
          "scatter": [
           {
            "fillpattern": {
             "fillmode": "overlay",
             "size": 10,
             "solidity": 0.2
            },
            "type": "scatter"
           }
          ],
          "scatter3d": [
           {
            "line": {
             "colorbar": {
              "outlinewidth": 0,
              "ticks": ""
             }
            },
            "marker": {
             "colorbar": {
              "outlinewidth": 0,
              "ticks": ""
             }
            },
            "type": "scatter3d"
           }
          ],
          "scattercarpet": [
           {
            "marker": {
             "colorbar": {
              "outlinewidth": 0,
              "ticks": ""
             }
            },
            "type": "scattercarpet"
           }
          ],
          "scattergeo": [
           {
            "marker": {
             "colorbar": {
              "outlinewidth": 0,
              "ticks": ""
             }
            },
            "type": "scattergeo"
           }
          ],
          "scattergl": [
           {
            "marker": {
             "colorbar": {
              "outlinewidth": 0,
              "ticks": ""
             }
            },
            "type": "scattergl"
           }
          ],
          "scattermapbox": [
           {
            "marker": {
             "colorbar": {
              "outlinewidth": 0,
              "ticks": ""
             }
            },
            "type": "scattermapbox"
           }
          ],
          "scatterpolar": [
           {
            "marker": {
             "colorbar": {
              "outlinewidth": 0,
              "ticks": ""
             }
            },
            "type": "scatterpolar"
           }
          ],
          "scatterpolargl": [
           {
            "marker": {
             "colorbar": {
              "outlinewidth": 0,
              "ticks": ""
             }
            },
            "type": "scatterpolargl"
           }
          ],
          "scatterternary": [
           {
            "marker": {
             "colorbar": {
              "outlinewidth": 0,
              "ticks": ""
             }
            },
            "type": "scatterternary"
           }
          ],
          "surface": [
           {
            "colorbar": {
             "outlinewidth": 0,
             "ticks": ""
            },
            "colorscale": [
             [
              0,
              "#0d0887"
             ],
             [
              0.1111111111111111,
              "#46039f"
             ],
             [
              0.2222222222222222,
              "#7201a8"
             ],
             [
              0.3333333333333333,
              "#9c179e"
             ],
             [
              0.4444444444444444,
              "#bd3786"
             ],
             [
              0.5555555555555556,
              "#d8576b"
             ],
             [
              0.6666666666666666,
              "#ed7953"
             ],
             [
              0.7777777777777778,
              "#fb9f3a"
             ],
             [
              0.8888888888888888,
              "#fdca26"
             ],
             [
              1,
              "#f0f921"
             ]
            ],
            "type": "surface"
           }
          ],
          "table": [
           {
            "cells": {
             "fill": {
              "color": "#EBF0F8"
             },
             "line": {
              "color": "white"
             }
            },
            "header": {
             "fill": {
              "color": "#C8D4E3"
             },
             "line": {
              "color": "white"
             }
            },
            "type": "table"
           }
          ]
         },
         "layout": {
          "annotationdefaults": {
           "arrowcolor": "#2a3f5f",
           "arrowhead": 0,
           "arrowwidth": 1
          },
          "autotypenumbers": "strict",
          "coloraxis": {
           "colorbar": {
            "outlinewidth": 0,
            "ticks": ""
           }
          },
          "colorscale": {
           "diverging": [
            [
             0,
             "#8e0152"
            ],
            [
             0.1,
             "#c51b7d"
            ],
            [
             0.2,
             "#de77ae"
            ],
            [
             0.3,
             "#f1b6da"
            ],
            [
             0.4,
             "#fde0ef"
            ],
            [
             0.5,
             "#f7f7f7"
            ],
            [
             0.6,
             "#e6f5d0"
            ],
            [
             0.7,
             "#b8e186"
            ],
            [
             0.8,
             "#7fbc41"
            ],
            [
             0.9,
             "#4d9221"
            ],
            [
             1,
             "#276419"
            ]
           ],
           "sequential": [
            [
             0,
             "#0d0887"
            ],
            [
             0.1111111111111111,
             "#46039f"
            ],
            [
             0.2222222222222222,
             "#7201a8"
            ],
            [
             0.3333333333333333,
             "#9c179e"
            ],
            [
             0.4444444444444444,
             "#bd3786"
            ],
            [
             0.5555555555555556,
             "#d8576b"
            ],
            [
             0.6666666666666666,
             "#ed7953"
            ],
            [
             0.7777777777777778,
             "#fb9f3a"
            ],
            [
             0.8888888888888888,
             "#fdca26"
            ],
            [
             1,
             "#f0f921"
            ]
           ],
           "sequentialminus": [
            [
             0,
             "#0d0887"
            ],
            [
             0.1111111111111111,
             "#46039f"
            ],
            [
             0.2222222222222222,
             "#7201a8"
            ],
            [
             0.3333333333333333,
             "#9c179e"
            ],
            [
             0.4444444444444444,
             "#bd3786"
            ],
            [
             0.5555555555555556,
             "#d8576b"
            ],
            [
             0.6666666666666666,
             "#ed7953"
            ],
            [
             0.7777777777777778,
             "#fb9f3a"
            ],
            [
             0.8888888888888888,
             "#fdca26"
            ],
            [
             1,
             "#f0f921"
            ]
           ]
          },
          "colorway": [
           "#636efa",
           "#EF553B",
           "#00cc96",
           "#ab63fa",
           "#FFA15A",
           "#19d3f3",
           "#FF6692",
           "#B6E880",
           "#FF97FF",
           "#FECB52"
          ],
          "font": {
           "color": "#2a3f5f"
          },
          "geo": {
           "bgcolor": "white",
           "lakecolor": "white",
           "landcolor": "#E5ECF6",
           "showlakes": true,
           "showland": true,
           "subunitcolor": "white"
          },
          "hoverlabel": {
           "align": "left"
          },
          "hovermode": "closest",
          "mapbox": {
           "style": "light"
          },
          "paper_bgcolor": "white",
          "plot_bgcolor": "#E5ECF6",
          "polar": {
           "angularaxis": {
            "gridcolor": "white",
            "linecolor": "white",
            "ticks": ""
           },
           "bgcolor": "#E5ECF6",
           "radialaxis": {
            "gridcolor": "white",
            "linecolor": "white",
            "ticks": ""
           }
          },
          "scene": {
           "xaxis": {
            "backgroundcolor": "#E5ECF6",
            "gridcolor": "white",
            "gridwidth": 2,
            "linecolor": "white",
            "showbackground": true,
            "ticks": "",
            "zerolinecolor": "white"
           },
           "yaxis": {
            "backgroundcolor": "#E5ECF6",
            "gridcolor": "white",
            "gridwidth": 2,
            "linecolor": "white",
            "showbackground": true,
            "ticks": "",
            "zerolinecolor": "white"
           },
           "zaxis": {
            "backgroundcolor": "#E5ECF6",
            "gridcolor": "white",
            "gridwidth": 2,
            "linecolor": "white",
            "showbackground": true,
            "ticks": "",
            "zerolinecolor": "white"
           }
          },
          "shapedefaults": {
           "line": {
            "color": "#2a3f5f"
           }
          },
          "ternary": {
           "aaxis": {
            "gridcolor": "white",
            "linecolor": "white",
            "ticks": ""
           },
           "baxis": {
            "gridcolor": "white",
            "linecolor": "white",
            "ticks": ""
           },
           "bgcolor": "#E5ECF6",
           "caxis": {
            "gridcolor": "white",
            "linecolor": "white",
            "ticks": ""
           }
          },
          "title": {
           "x": 0.05
          },
          "xaxis": {
           "automargin": true,
           "gridcolor": "white",
           "linecolor": "white",
           "ticks": "",
           "title": {
            "standoff": 15
           },
           "zerolinecolor": "white",
           "zerolinewidth": 2
          },
          "yaxis": {
           "automargin": true,
           "gridcolor": "white",
           "linecolor": "white",
           "ticks": "",
           "title": {
            "standoff": 15
           },
           "zerolinecolor": "white",
           "zerolinewidth": 2
          }
         }
        },
        "title": {
         "text": "Media de Rating por Método de Reserva"
        },
        "width": 800,
        "xaxis": {
         "anchor": "y",
         "domain": [
          0,
          1
         ],
         "title": {
          "text": "Método de Reserva"
         }
        },
        "yaxis": {
         "anchor": "x",
         "domain": [
          0,
          1
         ],
         "title": {
          "text": "Media de Rating"
         }
        }
       }
      }
     },
     "metadata": {},
     "output_type": "display_data"
    },
    {
     "data": {
      "application/vnd.plotly.v1+json": {
       "config": {
        "plotlyServerURL": "https://plot.ly"
       },
       "data": [
        {
         "alignmentgroup": "True",
         "hovertemplate": "Método de Reserva=%{x}<br>Cantidad de Reseñas=%{y}<extra></extra>",
         "legendgroup": "",
         "marker": {
          "color": "#636efa",
          "pattern": {
           "shape": ""
          }
         },
         "name": "",
         "offsetgroup": "",
         "orientation": "v",
         "showlegend": false,
         "textposition": "auto",
         "type": "bar",
         "x": [
          "Online",
          "Teléfono",
          "Otros"
         ],
         "xaxis": "x",
         "y": [
          1230,
          2070,
          2355
         ],
         "yaxis": "y"
        }
       ],
       "layout": {
        "barmode": "relative",
        "height": 400,
        "legend": {
         "tracegroupgap": 0
        },
        "template": {
         "data": {
          "bar": [
           {
            "error_x": {
             "color": "#2a3f5f"
            },
            "error_y": {
             "color": "#2a3f5f"
            },
            "marker": {
             "line": {
              "color": "#E5ECF6",
              "width": 0.5
             },
             "pattern": {
              "fillmode": "overlay",
              "size": 10,
              "solidity": 0.2
             }
            },
            "type": "bar"
           }
          ],
          "barpolar": [
           {
            "marker": {
             "line": {
              "color": "#E5ECF6",
              "width": 0.5
             },
             "pattern": {
              "fillmode": "overlay",
              "size": 10,
              "solidity": 0.2
             }
            },
            "type": "barpolar"
           }
          ],
          "carpet": [
           {
            "aaxis": {
             "endlinecolor": "#2a3f5f",
             "gridcolor": "white",
             "linecolor": "white",
             "minorgridcolor": "white",
             "startlinecolor": "#2a3f5f"
            },
            "baxis": {
             "endlinecolor": "#2a3f5f",
             "gridcolor": "white",
             "linecolor": "white",
             "minorgridcolor": "white",
             "startlinecolor": "#2a3f5f"
            },
            "type": "carpet"
           }
          ],
          "choropleth": [
           {
            "colorbar": {
             "outlinewidth": 0,
             "ticks": ""
            },
            "type": "choropleth"
           }
          ],
          "contour": [
           {
            "colorbar": {
             "outlinewidth": 0,
             "ticks": ""
            },
            "colorscale": [
             [
              0,
              "#0d0887"
             ],
             [
              0.1111111111111111,
              "#46039f"
             ],
             [
              0.2222222222222222,
              "#7201a8"
             ],
             [
              0.3333333333333333,
              "#9c179e"
             ],
             [
              0.4444444444444444,
              "#bd3786"
             ],
             [
              0.5555555555555556,
              "#d8576b"
             ],
             [
              0.6666666666666666,
              "#ed7953"
             ],
             [
              0.7777777777777778,
              "#fb9f3a"
             ],
             [
              0.8888888888888888,
              "#fdca26"
             ],
             [
              1,
              "#f0f921"
             ]
            ],
            "type": "contour"
           }
          ],
          "contourcarpet": [
           {
            "colorbar": {
             "outlinewidth": 0,
             "ticks": ""
            },
            "type": "contourcarpet"
           }
          ],
          "heatmap": [
           {
            "colorbar": {
             "outlinewidth": 0,
             "ticks": ""
            },
            "colorscale": [
             [
              0,
              "#0d0887"
             ],
             [
              0.1111111111111111,
              "#46039f"
             ],
             [
              0.2222222222222222,
              "#7201a8"
             ],
             [
              0.3333333333333333,
              "#9c179e"
             ],
             [
              0.4444444444444444,
              "#bd3786"
             ],
             [
              0.5555555555555556,
              "#d8576b"
             ],
             [
              0.6666666666666666,
              "#ed7953"
             ],
             [
              0.7777777777777778,
              "#fb9f3a"
             ],
             [
              0.8888888888888888,
              "#fdca26"
             ],
             [
              1,
              "#f0f921"
             ]
            ],
            "type": "heatmap"
           }
          ],
          "heatmapgl": [
           {
            "colorbar": {
             "outlinewidth": 0,
             "ticks": ""
            },
            "colorscale": [
             [
              0,
              "#0d0887"
             ],
             [
              0.1111111111111111,
              "#46039f"
             ],
             [
              0.2222222222222222,
              "#7201a8"
             ],
             [
              0.3333333333333333,
              "#9c179e"
             ],
             [
              0.4444444444444444,
              "#bd3786"
             ],
             [
              0.5555555555555556,
              "#d8576b"
             ],
             [
              0.6666666666666666,
              "#ed7953"
             ],
             [
              0.7777777777777778,
              "#fb9f3a"
             ],
             [
              0.8888888888888888,
              "#fdca26"
             ],
             [
              1,
              "#f0f921"
             ]
            ],
            "type": "heatmapgl"
           }
          ],
          "histogram": [
           {
            "marker": {
             "pattern": {
              "fillmode": "overlay",
              "size": 10,
              "solidity": 0.2
             }
            },
            "type": "histogram"
           }
          ],
          "histogram2d": [
           {
            "colorbar": {
             "outlinewidth": 0,
             "ticks": ""
            },
            "colorscale": [
             [
              0,
              "#0d0887"
             ],
             [
              0.1111111111111111,
              "#46039f"
             ],
             [
              0.2222222222222222,
              "#7201a8"
             ],
             [
              0.3333333333333333,
              "#9c179e"
             ],
             [
              0.4444444444444444,
              "#bd3786"
             ],
             [
              0.5555555555555556,
              "#d8576b"
             ],
             [
              0.6666666666666666,
              "#ed7953"
             ],
             [
              0.7777777777777778,
              "#fb9f3a"
             ],
             [
              0.8888888888888888,
              "#fdca26"
             ],
             [
              1,
              "#f0f921"
             ]
            ],
            "type": "histogram2d"
           }
          ],
          "histogram2dcontour": [
           {
            "colorbar": {
             "outlinewidth": 0,
             "ticks": ""
            },
            "colorscale": [
             [
              0,
              "#0d0887"
             ],
             [
              0.1111111111111111,
              "#46039f"
             ],
             [
              0.2222222222222222,
              "#7201a8"
             ],
             [
              0.3333333333333333,
              "#9c179e"
             ],
             [
              0.4444444444444444,
              "#bd3786"
             ],
             [
              0.5555555555555556,
              "#d8576b"
             ],
             [
              0.6666666666666666,
              "#ed7953"
             ],
             [
              0.7777777777777778,
              "#fb9f3a"
             ],
             [
              0.8888888888888888,
              "#fdca26"
             ],
             [
              1,
              "#f0f921"
             ]
            ],
            "type": "histogram2dcontour"
           }
          ],
          "mesh3d": [
           {
            "colorbar": {
             "outlinewidth": 0,
             "ticks": ""
            },
            "type": "mesh3d"
           }
          ],
          "parcoords": [
           {
            "line": {
             "colorbar": {
              "outlinewidth": 0,
              "ticks": ""
             }
            },
            "type": "parcoords"
           }
          ],
          "pie": [
           {
            "automargin": true,
            "type": "pie"
           }
          ],
          "scatter": [
           {
            "fillpattern": {
             "fillmode": "overlay",
             "size": 10,
             "solidity": 0.2
            },
            "type": "scatter"
           }
          ],
          "scatter3d": [
           {
            "line": {
             "colorbar": {
              "outlinewidth": 0,
              "ticks": ""
             }
            },
            "marker": {
             "colorbar": {
              "outlinewidth": 0,
              "ticks": ""
             }
            },
            "type": "scatter3d"
           }
          ],
          "scattercarpet": [
           {
            "marker": {
             "colorbar": {
              "outlinewidth": 0,
              "ticks": ""
             }
            },
            "type": "scattercarpet"
           }
          ],
          "scattergeo": [
           {
            "marker": {
             "colorbar": {
              "outlinewidth": 0,
              "ticks": ""
             }
            },
            "type": "scattergeo"
           }
          ],
          "scattergl": [
           {
            "marker": {
             "colorbar": {
              "outlinewidth": 0,
              "ticks": ""
             }
            },
            "type": "scattergl"
           }
          ],
          "scattermapbox": [
           {
            "marker": {
             "colorbar": {
              "outlinewidth": 0,
              "ticks": ""
             }
            },
            "type": "scattermapbox"
           }
          ],
          "scatterpolar": [
           {
            "marker": {
             "colorbar": {
              "outlinewidth": 0,
              "ticks": ""
             }
            },
            "type": "scatterpolar"
           }
          ],
          "scatterpolargl": [
           {
            "marker": {
             "colorbar": {
              "outlinewidth": 0,
              "ticks": ""
             }
            },
            "type": "scatterpolargl"
           }
          ],
          "scatterternary": [
           {
            "marker": {
             "colorbar": {
              "outlinewidth": 0,
              "ticks": ""
             }
            },
            "type": "scatterternary"
           }
          ],
          "surface": [
           {
            "colorbar": {
             "outlinewidth": 0,
             "ticks": ""
            },
            "colorscale": [
             [
              0,
              "#0d0887"
             ],
             [
              0.1111111111111111,
              "#46039f"
             ],
             [
              0.2222222222222222,
              "#7201a8"
             ],
             [
              0.3333333333333333,
              "#9c179e"
             ],
             [
              0.4444444444444444,
              "#bd3786"
             ],
             [
              0.5555555555555556,
              "#d8576b"
             ],
             [
              0.6666666666666666,
              "#ed7953"
             ],
             [
              0.7777777777777778,
              "#fb9f3a"
             ],
             [
              0.8888888888888888,
              "#fdca26"
             ],
             [
              1,
              "#f0f921"
             ]
            ],
            "type": "surface"
           }
          ],
          "table": [
           {
            "cells": {
             "fill": {
              "color": "#EBF0F8"
             },
             "line": {
              "color": "white"
             }
            },
            "header": {
             "fill": {
              "color": "#C8D4E3"
             },
             "line": {
              "color": "white"
             }
            },
            "type": "table"
           }
          ]
         },
         "layout": {
          "annotationdefaults": {
           "arrowcolor": "#2a3f5f",
           "arrowhead": 0,
           "arrowwidth": 1
          },
          "autotypenumbers": "strict",
          "coloraxis": {
           "colorbar": {
            "outlinewidth": 0,
            "ticks": ""
           }
          },
          "colorscale": {
           "diverging": [
            [
             0,
             "#8e0152"
            ],
            [
             0.1,
             "#c51b7d"
            ],
            [
             0.2,
             "#de77ae"
            ],
            [
             0.3,
             "#f1b6da"
            ],
            [
             0.4,
             "#fde0ef"
            ],
            [
             0.5,
             "#f7f7f7"
            ],
            [
             0.6,
             "#e6f5d0"
            ],
            [
             0.7,
             "#b8e186"
            ],
            [
             0.8,
             "#7fbc41"
            ],
            [
             0.9,
             "#4d9221"
            ],
            [
             1,
             "#276419"
            ]
           ],
           "sequential": [
            [
             0,
             "#0d0887"
            ],
            [
             0.1111111111111111,
             "#46039f"
            ],
            [
             0.2222222222222222,
             "#7201a8"
            ],
            [
             0.3333333333333333,
             "#9c179e"
            ],
            [
             0.4444444444444444,
             "#bd3786"
            ],
            [
             0.5555555555555556,
             "#d8576b"
            ],
            [
             0.6666666666666666,
             "#ed7953"
            ],
            [
             0.7777777777777778,
             "#fb9f3a"
            ],
            [
             0.8888888888888888,
             "#fdca26"
            ],
            [
             1,
             "#f0f921"
            ]
           ],
           "sequentialminus": [
            [
             0,
             "#0d0887"
            ],
            [
             0.1111111111111111,
             "#46039f"
            ],
            [
             0.2222222222222222,
             "#7201a8"
            ],
            [
             0.3333333333333333,
             "#9c179e"
            ],
            [
             0.4444444444444444,
             "#bd3786"
            ],
            [
             0.5555555555555556,
             "#d8576b"
            ],
            [
             0.6666666666666666,
             "#ed7953"
            ],
            [
             0.7777777777777778,
             "#fb9f3a"
            ],
            [
             0.8888888888888888,
             "#fdca26"
            ],
            [
             1,
             "#f0f921"
            ]
           ]
          },
          "colorway": [
           "#636efa",
           "#EF553B",
           "#00cc96",
           "#ab63fa",
           "#FFA15A",
           "#19d3f3",
           "#FF6692",
           "#B6E880",
           "#FF97FF",
           "#FECB52"
          ],
          "font": {
           "color": "#2a3f5f"
          },
          "geo": {
           "bgcolor": "white",
           "lakecolor": "white",
           "landcolor": "#E5ECF6",
           "showlakes": true,
           "showland": true,
           "subunitcolor": "white"
          },
          "hoverlabel": {
           "align": "left"
          },
          "hovermode": "closest",
          "mapbox": {
           "style": "light"
          },
          "paper_bgcolor": "white",
          "plot_bgcolor": "#E5ECF6",
          "polar": {
           "angularaxis": {
            "gridcolor": "white",
            "linecolor": "white",
            "ticks": ""
           },
           "bgcolor": "#E5ECF6",
           "radialaxis": {
            "gridcolor": "white",
            "linecolor": "white",
            "ticks": ""
           }
          },
          "scene": {
           "xaxis": {
            "backgroundcolor": "#E5ECF6",
            "gridcolor": "white",
            "gridwidth": 2,
            "linecolor": "white",
            "showbackground": true,
            "ticks": "",
            "zerolinecolor": "white"
           },
           "yaxis": {
            "backgroundcolor": "#E5ECF6",
            "gridcolor": "white",
            "gridwidth": 2,
            "linecolor": "white",
            "showbackground": true,
            "ticks": "",
            "zerolinecolor": "white"
           },
           "zaxis": {
            "backgroundcolor": "#E5ECF6",
            "gridcolor": "white",
            "gridwidth": 2,
            "linecolor": "white",
            "showbackground": true,
            "ticks": "",
            "zerolinecolor": "white"
           }
          },
          "shapedefaults": {
           "line": {
            "color": "#2a3f5f"
           }
          },
          "ternary": {
           "aaxis": {
            "gridcolor": "white",
            "linecolor": "white",
            "ticks": ""
           },
           "baxis": {
            "gridcolor": "white",
            "linecolor": "white",
            "ticks": ""
           },
           "bgcolor": "#E5ECF6",
           "caxis": {
            "gridcolor": "white",
            "linecolor": "white",
            "ticks": ""
           }
          },
          "title": {
           "x": 0.05
          },
          "xaxis": {
           "automargin": true,
           "gridcolor": "white",
           "linecolor": "white",
           "ticks": "",
           "title": {
            "standoff": 15
           },
           "zerolinecolor": "white",
           "zerolinewidth": 2
          },
          "yaxis": {
           "automargin": true,
           "gridcolor": "white",
           "linecolor": "white",
           "ticks": "",
           "title": {
            "standoff": 15
           },
           "zerolinecolor": "white",
           "zerolinewidth": 2
          }
         }
        },
        "title": {
         "text": "Cantidad de Reseñas por Método de Reserva"
        },
        "width": 800,
        "xaxis": {
         "anchor": "y",
         "domain": [
          0,
          1
         ],
         "title": {
          "text": "Método de Reserva"
         }
        },
        "yaxis": {
         "anchor": "x",
         "domain": [
          0,
          1
         ],
         "title": {
          "text": "Cantidad de Reseñas"
         }
        }
       }
      }
     },
     "metadata": {},
     "output_type": "display_data"
    }
   ],
   "source": [
    "\n"
   ]
  }
 ],
 "metadata": {
  "kernelspec": {
   "display_name": "Python 3",
   "language": "python",
   "name": "python3"
  },
  "language_info": {
   "codemirror_mode": {
    "name": "ipython",
    "version": 3
   },
   "file_extension": ".py",
   "mimetype": "text/x-python",
   "name": "python",
   "nbconvert_exporter": "python",
   "pygments_lexer": "ipython3",
   "version": "3.12.3"
  }
 },
 "nbformat": 4,
 "nbformat_minor": 5
}
